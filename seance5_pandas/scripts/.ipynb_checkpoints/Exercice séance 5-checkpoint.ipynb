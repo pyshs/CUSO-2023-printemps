{
 "cells": [
  {
   "cell_type": "markdown",
   "id": "c152a31e",
   "metadata": {},
   "source": [
    "# Exercices séance 5"
   ]
  },
  {
   "cell_type": "markdown",
   "id": "245c7060",
   "metadata": {},
   "source": [
    "On utilise le jeu de données vu dans la séance 5"
   ]
  },
  {
   "cell_type": "markdown",
   "id": "3c02fd3d",
   "metadata": {},
   "source": [
    "## Exercice 1 : manipulations\n",
    "\n",
    "Avec Pandas, faire quelques manipulations\n",
    "\n",
    "- combien de répondants ont publié leur premier article avant 1980 ?\n",
    "- regarder la distribution de genre (proportion homme/femme) pour les répondants qui appartiennent aux sciences sociales (variable `disciplines_9niv`)\n",
    "- faire un diagramme circulaire avec la variable `sexe`\n",
    "- faire un histogramme avec la variable `annee_premiere_publi`"
   ]
  },
  {
   "cell_type": "markdown",
   "id": "619b0647",
   "metadata": {},
   "source": [
    "## Exercice 2 : tableau croisé\n",
    "\n",
    "La méthode crosstab de Pandas permet de faire un tableau croisé\n",
    "\n",
    "- faite le tableau croisé entre la variable discipline et la variable genre\n",
    "- calculez les pourcentages par ligne\n",
    "- regarder la représentation produite par plot"
   ]
  },
  {
   "cell_type": "markdown",
   "id": "d532a147",
   "metadata": {},
   "source": [
    "## Exercice 3 : recodage\n",
    "\n",
    "- recoder la variable quantitative `annee_premiere_publi` en variable qualitative de trois intervalles avec comme séparateur 1980 et 2010.\n",
    "- recoder la variable discipline pour créer une catégorie SHS qui regroupe les sciences humaines et les sciences sociales\n",
    "- recoder la variable `Systeme_exploitation` en trois variables vrai/faux pour chaque système d'exploitation"
   ]
  },
  {
   "cell_type": "markdown",
   "id": "1a299d59",
   "metadata": {},
   "source": [
    "## Exercice 4 : visualisation avancée\n",
    "\n",
    "Proposer une visualisation qui permet de regarder la distribution de l'âge des répondants en fonction du système d'exploitation qu'ils utilisent"
   ]
  },
  {
   "cell_type": "markdown",
   "id": "a5ee4756",
   "metadata": {},
   "source": [
    "## Exercice Bonus : la méthode groupby\n",
    "\n",
    "Regardez la documentation de la méthode groupby d'un tableau Pandas et utilisez là pour calculer l'âge moyen de première publication par discipline en une seule ligne de code."
   ]
  }
 ],
 "metadata": {
  "kernelspec": {
   "display_name": "Python 3 (ipykernel)",
   "language": "python",
   "name": "python3"
  },
  "language_info": {
   "codemirror_mode": {
    "name": "ipython",
    "version": 3
   },
   "file_extension": ".py",
   "mimetype": "text/x-python",
   "name": "python",
   "nbconvert_exporter": "python",
   "pygments_lexer": "ipython3",
   "version": "3.9.12"
  }
 },
 "nbformat": 4,
 "nbformat_minor": 5
}
