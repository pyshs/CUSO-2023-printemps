{
 "cells": [
  {
   "cell_type": "markdown",
   "id": "9878dec0",
   "metadata": {},
   "source": [
    "# Utiliser Pandas : Enquête sur la science ouverte\n",
    "\n",
    "Reproduction\n",
    "\n",
    "Mariannig Le Béchec - Aline Bouchard - Philippe Charrier - Claire Denecker - Gabriel Gallezot - Stéphanie Rennes\n",
    "\n",
    "- Rapport : https://hal.archives-ouvertes.fr/hal-03545512v1\n",
    "- Données : https://zenodo.org/record/5827206\n"
   ]
  },
  {
   "cell_type": "code",
   "execution_count": 1,
   "id": "76fd3d3d",
   "metadata": {},
   "outputs": [],
   "source": [
    "import pandas as pd"
   ]
  },
  {
   "cell_type": "markdown",
   "id": "c52d6439",
   "metadata": {},
   "source": [
    "## Charger les données"
   ]
  },
  {
   "cell_type": "markdown",
   "id": "f73184a5",
   "metadata": {},
   "source": [
    "### Directement en ligne"
   ]
  },
  {
   "cell_type": "code",
   "execution_count": 3,
   "id": "542f25b0",
   "metadata": {},
   "outputs": [],
   "source": [
    "url = \"https://zenodo.org/record/5827206/files/SOSP_Export_base%20de%20donn%C3%A9es%20diffusable.csv\"\n",
    "data = pd.read_csv(url)"
   ]
  },
  {
   "cell_type": "markdown",
   "id": "3d9e1eb4",
   "metadata": {},
   "source": [
    "### Après téléchargement"
   ]
  },
  {
   "cell_type": "code",
   "execution_count": 6,
   "id": "e1ba6e7d",
   "metadata": {},
   "outputs": [],
   "source": [
    "data= pd.read_csv(\"../../../../../../Téléchargements/SOSP_Export_base de données diffusable.csv\")"
   ]
  },
  {
   "cell_type": "markdown",
   "id": "6a604163",
   "metadata": {},
   "source": [
    "On a les données brutes\n",
    "\n",
    "- Nettoyage et transformation des données\n",
    "- Exploration des données (statistiques)\n",
    "- Finalisation"
   ]
  },
  {
   "cell_type": "markdown",
   "id": "8d09f27f",
   "metadata": {},
   "source": [
    "## Nettoyage et la transformation"
   ]
  },
  {
   "cell_type": "code",
   "execution_count": 11,
   "id": "38469050",
   "metadata": {},
   "outputs": [
    {
     "data": {
      "text/plain": [
       "(1089, 131)"
      ]
     },
     "execution_count": 11,
     "metadata": {},
     "output_type": "execute_result"
    }
   ],
   "source": [
    "data.shape"
   ]
  },
  {
   "cell_type": "markdown",
   "id": "a3d34acc",
   "metadata": {},
   "source": [
    "Une variable : le sexe"
   ]
  },
  {
   "cell_type": "markdown",
   "id": "5b437007",
   "metadata": {},
   "source": [
    "Connaitre les modalités d'une colonne"
   ]
  },
  {
   "cell_type": "code",
   "execution_count": 20,
   "id": "2c71fc86",
   "metadata": {},
   "outputs": [
    {
     "data": {
      "text/plain": [
       "array(['un homme', 'une femme', 'je ne souhaite pas répondre'],\n",
       "      dtype=object)"
      ]
     },
     "execution_count": 20,
     "metadata": {},
     "output_type": "execute_result"
    }
   ],
   "source": [
    "data[\"sexe\"].unique()"
   ]
  },
  {
   "cell_type": "markdown",
   "id": "3ed577d9",
   "metadata": {},
   "source": [
    "Est-ce qu'il y a des valeurs manquantes ?"
   ]
  },
  {
   "cell_type": "code",
   "execution_count": 21,
   "id": "ad426058",
   "metadata": {},
   "outputs": [
    {
     "data": {
      "text/plain": [
       "0"
      ]
     },
     "execution_count": 21,
     "metadata": {},
     "output_type": "execute_result"
    }
   ],
   "source": [
    "data[\"sexe\"].isna().sum() # Vrai = 1 ; Faux = 0 et on somme les réponses"
   ]
  },
  {
   "cell_type": "markdown",
   "id": "0f32291e",
   "metadata": {},
   "source": [
    "Distribution (valeur absolue)"
   ]
  },
  {
   "cell_type": "code",
   "execution_count": 25,
   "id": "4c1ed175",
   "metadata": {},
   "outputs": [
    {
     "data": {
      "text/plain": [
       "sexe\n",
       "un homme                       0.518825\n",
       "une femme                      0.440771\n",
       "je ne souhaite pas répondre    0.040404\n",
       "Name: count, dtype: float64"
      ]
     },
     "execution_count": 25,
     "metadata": {},
     "output_type": "execute_result"
    }
   ],
   "source": [
    "data[\"sexe\"].value_counts()/len(data)"
   ]
  },
  {
   "cell_type": "code",
   "execution_count": 29,
   "id": "a1439fca",
   "metadata": {},
   "outputs": [
    {
     "data": {
      "text/plain": [
       "sexe\n",
       "un homme                       0.518825\n",
       "une femme                      0.440771\n",
       "je ne souhaite pas répondre    0.040404\n",
       "Name: proportion, dtype: float64"
      ]
     },
     "execution_count": 29,
     "metadata": {},
     "output_type": "execute_result"
    }
   ],
   "source": [
    "data[\"sexe\"].value_counts(normalize=True)"
   ]
  },
  {
   "cell_type": "markdown",
   "id": "2abf737f",
   "metadata": {},
   "source": [
    "Prennons une variable numérique : l'année de leur première publicatoin"
   ]
  },
  {
   "cell_type": "code",
   "execution_count": 31,
   "id": "6f2666cf",
   "metadata": {},
   "outputs": [
    {
     "data": {
      "text/plain": [
       "0"
      ]
     },
     "execution_count": 31,
     "metadata": {},
     "output_type": "execute_result"
    }
   ],
   "source": [
    "data[\"annee_premiere_publi\"].isna().sum()"
   ]
  },
  {
   "cell_type": "code",
   "execution_count": 32,
   "id": "99308db8",
   "metadata": {},
   "outputs": [
    {
     "data": {
      "text/plain": [
       "2004.030303030303"
      ]
     },
     "execution_count": 32,
     "metadata": {},
     "output_type": "execute_result"
    }
   ],
   "source": [
    "data[\"annee_premiere_publi\"].mean()"
   ]
  },
  {
   "cell_type": "code",
   "execution_count": 34,
   "id": "67136752",
   "metadata": {},
   "outputs": [
    {
     "data": {
      "text/plain": [
       "11.362671081996828"
      ]
     },
     "execution_count": 34,
     "metadata": {},
     "output_type": "execute_result"
    }
   ],
   "source": [
    "data[\"annee_premiere_publi\"].std()"
   ]
  },
  {
   "cell_type": "code",
   "execution_count": 35,
   "id": "3f38e791",
   "metadata": {},
   "outputs": [
    {
     "data": {
      "text/plain": [
       "count    1089.000000\n",
       "mean     2004.030303\n",
       "std        11.362671\n",
       "min      1968.000000\n",
       "25%      1996.000000\n",
       "50%      2005.000000\n",
       "75%      2014.000000\n",
       "max      2020.000000\n",
       "Name: annee_premiere_publi, dtype: float64"
      ]
     },
     "execution_count": 35,
     "metadata": {},
     "output_type": "execute_result"
    }
   ],
   "source": [
    "data[\"annee_premiere_publi\"].describe()"
   ]
  },
  {
   "cell_type": "code",
   "execution_count": 37,
   "id": "abe51a7b",
   "metadata": {},
   "outputs": [
    {
     "data": {
      "text/plain": [
       "18.96969696969697"
      ]
     },
     "execution_count": 37,
     "metadata": {},
     "output_type": "execute_result"
    }
   ],
   "source": [
    "(2023 - data[\"annee_premiere_publi\"]).mean()"
   ]
  },
  {
   "cell_type": "markdown",
   "id": "3e42afd2",
   "metadata": {},
   "source": [
    "Si maintenant on voulait si les gens sont plus ou moins jeunes par rapport à la moyenne"
   ]
  },
  {
   "cell_type": "code",
   "execution_count": 41,
   "id": "65cb0cbd",
   "metadata": {},
   "outputs": [
    {
     "data": {
      "text/plain": [
       "0       -9.030303\n",
       "1        0.969697\n",
       "2        1.969697\n",
       "3      -15.030303\n",
       "4       10.969697\n",
       "          ...    \n",
       "1084    -0.030303\n",
       "1085   -17.030303\n",
       "1086   -12.030303\n",
       "1087   -22.030303\n",
       "1088     6.969697\n",
       "Name: annee_premiere_publi, Length: 1089, dtype: float64"
      ]
     },
     "execution_count": 41,
     "metadata": {},
     "output_type": "execute_result"
    }
   ],
   "source": [
    "data[\"annee_premiere_publi\"] - data[\"annee_premiere_publi\"].mean()"
   ]
  },
  {
   "cell_type": "markdown",
   "id": "30a64615",
   "metadata": {},
   "source": [
    "Visualisation plus ou moins rapide"
   ]
  },
  {
   "cell_type": "code",
   "execution_count": 47,
   "id": "2f78b21e",
   "metadata": {},
   "outputs": [
    {
     "data": {
      "text/plain": [
       "<AxesSubplot:title={'center':'Distribution des genres'}, ylabel='sexe'>"
      ]
     },
     "execution_count": 47,
     "metadata": {},
     "output_type": "execute_result"
    },
    {
     "data": {
      "image/png": "[encoded data removed]",
      "text/plain": [
       "<Figure size 216x216 with 1 Axes>"
      ]
     },
     "metadata": {
      "needs_background": "light"
     },
     "output_type": "display_data"
    }
   ],
   "source": [
    "data[\"sexe\"].value_counts().plot(kind=\"barh\",\n",
    "                                 title=\"Distribution des genres\",\n",
    "                                 figsize=(3,3))"
   ]
  },
  {
   "cell_type": "markdown",
   "id": "b328e456",
   "metadata": {},
   "source": [
    "Pour sauvegarder, on charge matplotlib"
   ]
  },
  {
   "cell_type": "code",
   "execution_count": 52,
   "id": "21f96d7c",
   "metadata": {},
   "outputs": [
    {
     "data": {
      "image/png": "[encoded data removed]",
      "text/plain": [
       "<Figure size 432x216 with 1 Axes>"
      ]
     },
     "metadata": {
      "needs_background": "light"
     },
     "output_type": "display_data"
    }
   ],
   "source": [
    "import matplotlib.pyplot as plt #bibliothèque de manipulation des graphiques\n",
    "\n",
    "# on fait le graphique\n",
    "data[\"sexe\"].value_counts().plot(kind=\"barh\",\n",
    "                                 title=\"Distribution des genres\",\n",
    "                                 figsize=(6,3))\n",
    "\n",
    "# on met en forme et on sauvegarde\n",
    "plt.tight_layout()\n",
    "plt.savefig(\"graphique.png\")"
   ]
  },
  {
   "cell_type": "markdown",
   "id": "6fa07ad6",
   "metadata": {},
   "source": [
    "### Pandas fonctionne comme une base de données\n",
    "\n",
    "On peut sélectionner des éléments sur des conditions"
   ]
  },
  {
   "cell_type": "code",
   "execution_count": 56,
   "id": "36574a00",
   "metadata": {},
   "outputs": [],
   "source": [
    "filtre = data[\"annee_premiere_publi\"] > 2015"
   ]
  },
  {
   "cell_type": "code",
   "execution_count": 58,
   "id": "cbd93861",
   "metadata": {},
   "outputs": [
    {
     "data": {
      "text/plain": [
       "(238, 131)"
      ]
     },
     "execution_count": 58,
     "metadata": {},
     "output_type": "execute_result"
    }
   ],
   "source": [
    "data[filtre].shape"
   ]
  },
  {
   "cell_type": "markdown",
   "id": "56a3bc3e",
   "metadata": {},
   "source": [
    "On peut utiliser des conditions pour sélectionner des sous ensemble du tableau"
   ]
  },
  {
   "cell_type": "code",
   "execution_count": 63,
   "id": "c9735493",
   "metadata": {},
   "outputs": [
    {
     "data": {
      "text/plain": [
       "(122, 131)"
      ]
     },
     "execution_count": 63,
     "metadata": {},
     "output_type": "execute_result"
    }
   ],
   "source": [
    "data[(data[\"annee_premiere_publi\"] > 2015) & (data[\"sexe\"] == \"un homme\")].shape"
   ]
  },
  {
   "cell_type": "markdown",
   "id": "02ae97f9",
   "metadata": {},
   "source": [
    "### Transformer les données existantes"
   ]
  },
  {
   "cell_type": "code",
   "execution_count": 69,
   "id": "3a0a7fdf",
   "metadata": {},
   "outputs": [],
   "source": [
    "data[\"sexe_reco\"] = data[\"sexe\"].replace({\"un homme\":\"homme\",\n",
    "                      \"une femme\":\"femme\",\n",
    "                     \"je ne souhaite pas répondre\":\"na\"})"
   ]
  },
  {
   "cell_type": "markdown",
   "id": "303eb1ef",
   "metadata": {},
   "source": [
    "Une méthode générique pour appliquer des opératoins sur chaque cellule / ligne"
   ]
  },
  {
   "cell_type": "code",
   "execution_count": 71,
   "id": "1846b58d",
   "metadata": {},
   "outputs": [],
   "source": [
    "def recodage(code):\n",
    "    if code  == \"un homme\":\n",
    "        return \"Homme\"\n",
    "    if code == \"une femme\":\n",
    "        return \"Femme\"\n",
    "    if code == \"je ne souhaite pas répondre\":\n",
    "        return \"NA\"\n",
    "    return \"Problème\""
   ]
  },
  {
   "cell_type": "code",
   "execution_count": 73,
   "id": "ddbe6da5",
   "metadata": {},
   "outputs": [],
   "source": [
    "data[\"sexe_reco\"] = data[\"sexe\"].apply(recodage)"
   ]
  },
  {
   "cell_type": "markdown",
   "id": "aa2859ba",
   "metadata": {},
   "source": [
    "Un autre exemple de méthode : les chaines de caractères"
   ]
  },
  {
   "cell_type": "code",
   "execution_count": 78,
   "id": "a846f6e7",
   "metadata": {},
   "outputs": [
    {
     "data": {
      "text/plain": [
       "696"
      ]
     },
     "execution_count": 78,
     "metadata": {},
     "output_type": "execute_result"
    }
   ],
   "source": [
    "data[\"Systeme_exploitation\"].str.contains(\"Windows\").sum()"
   ]
  },
  {
   "cell_type": "markdown",
   "id": "24d03866",
   "metadata": {},
   "source": [
    "## Un exemple de traitement un peu plus avancé"
   ]
  },
  {
   "cell_type": "markdown",
   "id": "ef62fd3c",
   "metadata": {},
   "source": [
    "Colonnes plein texte qui contiennent des réponses"
   ]
  },
  {
   "cell_type": "code",
   "execution_count": 83,
   "id": "33ea16a3",
   "metadata": {},
   "outputs": [],
   "source": [
    "colonnes = [\"logiciel_production_donnees\",\"outils_nettoyage\",\n",
    "           \"Outils_analyses\",\"Outils_visualisation\"]"
   ]
  },
  {
   "cell_type": "markdown",
   "id": "9e680e2e",
   "metadata": {},
   "source": [
    "Une fonction qui agrège les réponses par ligne et  vérifie si le mot clé python est dedans"
   ]
  },
  {
   "cell_type": "code",
   "execution_count": 85,
   "id": "03253d9f",
   "metadata": {},
   "outputs": [],
   "source": [
    "def is_python(ligne):\n",
    "    contenu = \"\"\n",
    "    for variable in colonnes:\n",
    "        contenu = contenu + str(ligne[variable])\n",
    "    contenu = contenu.lower()\n",
    "    return \"python\" in contenu"
   ]
  },
  {
   "cell_type": "code",
   "execution_count": 92,
   "id": "43e620a4",
   "metadata": {},
   "outputs": [],
   "source": [
    "data[\"utilise python\"] = data.apply(is_python,axis=1)"
   ]
  },
  {
   "cell_type": "markdown",
   "id": "ee7adc80",
   "metadata": {},
   "source": [
    "En une ligne"
   ]
  },
  {
   "cell_type": "code",
   "execution_count": 89,
   "id": "c0bb429d",
   "metadata": {},
   "outputs": [
    {
     "data": {
      "text/plain": [
       "0       False\n",
       "1       False\n",
       "2       False\n",
       "3       False\n",
       "4       False\n",
       "        ...  \n",
       "1084    False\n",
       "1085    False\n",
       "1086    False\n",
       "1087    False\n",
       "1088    False\n",
       "Length: 1089, dtype: bool"
      ]
     },
     "execution_count": 89,
     "metadata": {},
     "output_type": "execute_result"
    }
   ],
   "source": [
    "data[colonnes].apply(lambda x : \"python\" in \";\".join([str(i) for i in x]),axis=1)"
   ]
  },
  {
   "cell_type": "markdown",
   "id": "322f4a5e",
   "metadata": {},
   "source": [
    "## On peut faire des statistiques"
   ]
  },
  {
   "cell_type": "code",
   "execution_count": 94,
   "id": "016ce863",
   "metadata": {},
   "outputs": [
    {
     "data": {
      "text/plain": [
       "utilise python\n",
       "False    921\n",
       "True     168\n",
       "Name: count, dtype: int64"
      ]
     },
     "execution_count": 94,
     "metadata": {},
     "output_type": "execute_result"
    }
   ],
   "source": [
    "data[\"utilise python\"].value_counts()"
   ]
  },
  {
   "cell_type": "markdown",
   "id": "f72ef7ac",
   "metadata": {},
   "source": [
    "Aller plus loin"
   ]
  },
  {
   "cell_type": "code",
   "execution_count": 97,
   "id": "c4df120e",
   "metadata": {},
   "outputs": [],
   "source": [
    "tableau = pd.crosstab(data[\"sexe\"],data[\"utilise python\"])"
   ]
  },
  {
   "cell_type": "markdown",
   "id": "b0ac3161",
   "metadata": {},
   "source": [
    "On va chercher un test statistique dans la bibliothèque Scipy"
   ]
  },
  {
   "cell_type": "code",
   "execution_count": 96,
   "id": "fdde7353",
   "metadata": {},
   "outputs": [],
   "source": [
    "from scipy.stats import chi2_contingency"
   ]
  },
  {
   "cell_type": "markdown",
   "id": "9953cd3b",
   "metadata": {},
   "source": [
    "On l'applique"
   ]
  },
  {
   "cell_type": "code",
   "execution_count": 100,
   "id": "90d221a4",
   "metadata": {},
   "outputs": [],
   "source": [
    "var = chi2_contingency(tableau)"
   ]
  },
  {
   "cell_type": "code",
   "execution_count": 106,
   "id": "2ee5b5d1",
   "metadata": {},
   "outputs": [
    {
     "data": {
      "text/plain": [
       "Chi2ContingencyResult(statistic=2.827975195295611, pvalue=0.24317167644756862, dof=2, expected_freq=array([[ 37.21212121,   6.78787879],\n",
       "       [477.83746556,  87.16253444],\n",
       "       [405.95041322,  74.04958678]]))"
      ]
     },
     "execution_count": 106,
     "metadata": {},
     "output_type": "execute_result"
    }
   ],
   "source": [
    "var"
   ]
  },
  {
   "cell_type": "code",
   "execution_count": 105,
   "id": "f7c2be9a",
   "metadata": {},
   "outputs": [
    {
     "data": {
      "text/plain": [
       "0.24317167644756862"
      ]
     },
     "execution_count": 105,
     "metadata": {},
     "output_type": "execute_result"
    }
   ],
   "source": [
    "var[1]"
   ]
  }
 ],
 "metadata": {
  "kernelspec": {
   "display_name": "Python 3 (ipykernel)",
   "language": "python",
   "name": "python3"
  },
  "language_info": {
   "codemirror_mode": {
    "name": "ipython",
    "version": 3
   },
   "file_extension": ".py",
   "mimetype": "text/x-python",
   "name": "python",
   "nbconvert_exporter": "python",
   "pygments_lexer": "ipython3",
   "version": "3.9.12"
  }
 },
 "nbformat": 4,
 "nbformat_minor": 5
}
