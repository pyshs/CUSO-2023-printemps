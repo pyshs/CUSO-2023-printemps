{
 "cells": [
  {
   "cell_type": "markdown",
   "id": "4052330b",
   "metadata": {},
   "source": [
    "# Exercice sur la séance 4 (autour des bibliothèques)"
   ]
  },
  {
   "cell_type": "markdown",
   "id": "5bdd07c1",
   "metadata": {},
   "source": [
    "## Exercice 1\n",
    "\n",
    "Installer la bibliothèque requests, regarder l'aide et récupérer le contenu de la page `https://www.letemps.ch/`"
   ]
  },
  {
   "cell_type": "code",
   "execution_count": 33,
   "id": "ae7c3920",
   "metadata": {},
   "outputs": [
    {
     "name": "stdout",
     "output_type": "stream",
     "text": [
      "Requirement already satisfied: requests in /home/emilien/anaconda3/lib/python3.9/site-packages (2.27.1)\n",
      "Requirement already satisfied: certifi>=2017.4.17 in /home/emilien/anaconda3/lib/python3.9/site-packages (from requests) (2021.10.8)\n",
      "Requirement already satisfied: idna<4,>=2.5 in /home/emilien/anaconda3/lib/python3.9/site-packages (from requests) (3.3)\n",
      "Requirement already satisfied: charset-normalizer~=2.0.0 in /home/emilien/anaconda3/lib/python3.9/site-packages (from requests) (2.0.4)\n",
      "Requirement already satisfied: urllib3<1.27,>=1.21.1 in /home/emilien/anaconda3/lib/python3.9/site-packages (from requests) (1.26.9)\n",
      "Note: you may need to restart the kernel to use updated packages.\n"
     ]
    }
   ],
   "source": [
    "pip install requests"
   ]
  },
  {
   "cell_type": "code",
   "execution_count": 34,
   "id": "6e1b6fab",
   "metadata": {},
   "outputs": [],
   "source": [
    "import requests"
   ]
  },
  {
   "cell_type": "code",
   "execution_count": 37,
   "id": "83dbd493",
   "metadata": {},
   "outputs": [],
   "source": [
    "page = requests.get(\"http://www.letemps.ch\")"
   ]
  },
  {
   "cell_type": "code",
   "execution_count": 38,
   "id": "b76e5bc1",
   "metadata": {},
   "outputs": [
    {
     "data": {
      "text/plain": [
       "requests.models.Response"
      ]
     },
     "execution_count": 38,
     "metadata": {},
     "output_type": "execute_result"
    }
   ],
   "source": [
    "type(page)"
   ]
  },
  {
   "cell_type": "code",
   "execution_count": 40,
   "id": "bf0c6c76",
   "metadata": {},
   "outputs": [],
   "source": [
    "#page.content"
   ]
  },
  {
   "cell_type": "markdown",
   "id": "b883a2fe",
   "metadata": {},
   "source": [
    "## Exercice 2\n",
    "\n",
    "Récupérez la page wikipédia de votre discipline avec urllib (ou requests) et sauvegardez la dans un fichier texte sur votre ordinateur"
   ]
  },
  {
   "cell_type": "markdown",
   "id": "c3565304",
   "metadata": {},
   "source": [
    "Récupérer la page"
   ]
  },
  {
   "cell_type": "code",
   "execution_count": 41,
   "id": "18ced94a",
   "metadata": {},
   "outputs": [],
   "source": [
    "url = \"https://fr.wikipedia.org/wiki/Sociologie_fran%C3%A7aise\"\n",
    "page = requests.get(url)"
   ]
  },
  {
   "cell_type": "code",
   "execution_count": 43,
   "id": "aa5b6249",
   "metadata": {},
   "outputs": [
    {
     "data": {
      "text/plain": [
       "bytes"
      ]
     },
     "execution_count": 43,
     "metadata": {},
     "output_type": "execute_result"
    }
   ],
   "source": [
    "type(page.content)"
   ]
  },
  {
   "cell_type": "code",
   "execution_count": 44,
   "id": "38c6c8bc",
   "metadata": {},
   "outputs": [],
   "source": [
    "with open(\"page_sociologie.html\",\"w\") as fichier:\n",
    "    fichier.write(str(page.content))"
   ]
  },
  {
   "cell_type": "code",
   "execution_count": 45,
   "id": "3ca76750",
   "metadata": {},
   "outputs": [
    {
     "name": "stdout",
     "output_type": "stream",
     "text": [
      " api_youtube                           'Exercice séance 4.ipynb'\r\n",
      "'Corrections exercice séance 4.ipynb'   page_sociologie.html\r\n",
      "'Exemple scrapper Youtube.ipynb'       'Récupérer une page wikipédia.ipynb'\r\n"
     ]
    }
   ],
   "source": [
    "ls"
   ]
  },
  {
   "cell_type": "markdown",
   "id": "fc15ed82",
   "metadata": {},
   "source": [
    "## Exercice 3\n",
    "\n",
    "Comparer le nombre de mots de la page de votre discipline en français et en anglais"
   ]
  },
  {
   "cell_type": "code",
   "execution_count": 46,
   "id": "b467ba13",
   "metadata": {},
   "outputs": [],
   "source": [
    "import wikipediaapi"
   ]
  },
  {
   "cell_type": "markdown",
   "id": "d9f2ed46",
   "metadata": {},
   "source": [
    "On crée une connexion en français"
   ]
  },
  {
   "cell_type": "code",
   "execution_count": 51,
   "id": "3b01c0fa",
   "metadata": {},
   "outputs": [],
   "source": [
    "wiki_fr = wikipediaapi.Wikipedia(\"fr\")\n",
    "page_fr = wiki_fr.page(\"Sociologie\")\n",
    "page_fr = page_fr.text"
   ]
  },
  {
   "cell_type": "code",
   "execution_count": 52,
   "id": "a3f38902",
   "metadata": {},
   "outputs": [],
   "source": [
    "wiki_en = wikipediaapi.Wikipedia(\"en\")\n",
    "page_en = wiki_en.page(\"Sociology\")\n",
    "page_en = page_en.text"
   ]
  },
  {
   "cell_type": "code",
   "execution_count": 53,
   "id": "165da32a",
   "metadata": {},
   "outputs": [
    {
     "name": "stdout",
     "output_type": "stream",
     "text": [
      "4178 12513\n"
     ]
    }
   ],
   "source": [
    "print(len(page_fr.split(\" \")),len(page_en.split(\" \")))"
   ]
  },
  {
   "cell_type": "markdown",
   "id": "c1f82c7f",
   "metadata": {},
   "source": [
    "## Exercice 4\n",
    "\n",
    "Testez pour une liste de disciplines (Sociologie, Anthropologie, Géographie, Histoire, Philosophie, Mathématiques, Physique) la présence d'une série de mots clés (informatique, ordinateur, computationnel, programmation)"
   ]
  },
  {
   "cell_type": "markdown",
   "id": "8fc8c08c",
   "metadata": {},
   "source": [
    "Définir les entrées"
   ]
  },
  {
   "cell_type": "code",
   "execution_count": 65,
   "id": "e01eb101",
   "metadata": {},
   "outputs": [],
   "source": [
    "liste_disciplines = [\"Sociologie\",\"Anthropologie\",\"Géographie\",\"Histoire\"]\n",
    "mots_cles = [\"informatique\",\"ordinateur\",\"computationnel\"]"
   ]
  },
  {
   "cell_type": "markdown",
   "id": "89415adb",
   "metadata": {},
   "source": [
    "Fonction qui permet de récupérer la page"
   ]
  },
  {
   "cell_type": "code",
   "execution_count": 70,
   "id": "3f75345a",
   "metadata": {},
   "outputs": [],
   "source": [
    "def recuperer_texte_page(nom_page,langue=\"fr\"):\n",
    "    \"\"\"\n",
    "    Récupérer le contenu d'une page wikipédia\n",
    "    \"\"\"\n",
    "    wiki = wikipediaapi.Wikipedia(langue)\n",
    "    page = wiki.page(nom_page)\n",
    "    return str(page.text)"
   ]
  },
  {
   "cell_type": "markdown",
   "id": "f0eb26ca",
   "metadata": {},
   "source": [
    "Fonction qui teste la présence de mots clés"
   ]
  },
  {
   "cell_type": "code",
   "execution_count": 61,
   "id": "0598db61",
   "metadata": {},
   "outputs": [],
   "source": [
    "def tester_mots_cles(page,motscles):\n",
    "    \"\"\"\n",
    "    Renvoyer vrai si un des mots clés est présent dans la page\n",
    "    \"\"\"\n",
    "    page = page.lower()\n",
    "    for mot in motscles:\n",
    "        if mot in page:\n",
    "            return True\n",
    "    return False"
   ]
  },
  {
   "cell_type": "markdown",
   "id": "68660fbb",
   "metadata": {},
   "source": [
    "On peut écrire le script"
   ]
  },
  {
   "cell_type": "code",
   "execution_count": 69,
   "id": "9075036d",
   "metadata": {},
   "outputs": [
    {
     "name": "stdout",
     "output_type": "stream",
     "text": [
      "Sociologie False\n",
      "Anthropologie False\n",
      "Géographie True\n",
      "Histoire False\n"
     ]
    }
   ],
   "source": [
    "# une boucle sur les disciplines\n",
    "for d in liste_disciplines:\n",
    "    texte = recuperer_texte_page(d)\n",
    "    print(d,tester_mots_cles(texte, mots_cles))"
   ]
  }
 ],
 "metadata": {
  "kernelspec": {
   "display_name": "Python 3 (ipykernel)",
   "language": "python",
   "name": "python3"
  },
  "language_info": {
   "codemirror_mode": {
    "name": "ipython",
    "version": 3
   },
   "file_extension": ".py",
   "mimetype": "text/x-python",
   "name": "python",
   "nbconvert_exporter": "python",
   "pygments_lexer": "ipython3",
   "version": "3.9.12"
  }
 },
 "nbformat": 4,
 "nbformat_minor": 5
}
