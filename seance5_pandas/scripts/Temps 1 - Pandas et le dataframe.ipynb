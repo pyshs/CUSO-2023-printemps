{
 "cells": [
  {
   "cell_type": "code",
   "execution_count": 1,
   "id": "517b1332",
   "metadata": {},
   "outputs": [],
   "source": [
    "import pandas as pd"
   ]
  },
  {
   "cell_type": "markdown",
   "id": "6b941c54",
   "metadata": {},
   "source": [
    "Mettre à jour"
   ]
  },
  {
   "cell_type": "code",
   "execution_count": 4,
   "id": "c473542b",
   "metadata": {},
   "outputs": [],
   "source": [
    "#pip install -U pandas"
   ]
  },
  {
   "cell_type": "code",
   "execution_count": 2,
   "id": "79769c0f",
   "metadata": {},
   "outputs": [
    {
     "data": {
      "text/plain": [
       "'2.0.1'"
      ]
     },
     "execution_count": 2,
     "metadata": {},
     "output_type": "execute_result"
    }
   ],
   "source": [
    "pd.__version__"
   ]
  },
  {
   "cell_type": "markdown",
   "id": "69390e31",
   "metadata": {},
   "source": [
    "Créer un nouvel objet DataFrame"
   ]
  },
  {
   "cell_type": "code",
   "execution_count": 4,
   "id": "f4352498",
   "metadata": {},
   "outputs": [],
   "source": [
    "tableau = pd.DataFrame()"
   ]
  },
  {
   "cell_type": "code",
   "execution_count": 5,
   "id": "c2325c3f",
   "metadata": {},
   "outputs": [
    {
     "data": {
      "text/plain": [
       "pandas.core.frame.DataFrame"
      ]
     },
     "execution_count": 5,
     "metadata": {},
     "output_type": "execute_result"
    }
   ],
   "source": [
    "type(tableau)"
   ]
  },
  {
   "cell_type": "markdown",
   "id": "a191b73e",
   "metadata": {},
   "source": [
    "Peupler un tableau"
   ]
  },
  {
   "cell_type": "code",
   "execution_count": 9,
   "id": "b399cf2b",
   "metadata": {},
   "outputs": [
    {
     "data": {
      "text/html": [
       "<div>\n",
       "<style scoped>\n",
       "    .dataframe tbody tr th:only-of-type {\n",
       "        vertical-align: middle;\n",
       "    }\n",
       "\n",
       "    .dataframe tbody tr th {\n",
       "        vertical-align: top;\n",
       "    }\n",
       "\n",
       "    .dataframe thead th {\n",
       "        text-align: right;\n",
       "    }\n",
       "</style>\n",
       "<table border=\"1\" class=\"dataframe\">\n",
       "  <thead>\n",
       "    <tr style=\"text-align: right;\">\n",
       "      <th></th>\n",
       "      <th>Langage</th>\n",
       "      <th>Connaissance en SHS</th>\n",
       "    </tr>\n",
       "  </thead>\n",
       "  <tbody>\n",
       "    <tr>\n",
       "      <th>0</th>\n",
       "      <td>Python</td>\n",
       "      <td>Faible</td>\n",
       "    </tr>\n",
       "    <tr>\n",
       "      <th>1</th>\n",
       "      <td>R</td>\n",
       "      <td>Forte</td>\n",
       "    </tr>\n",
       "    <tr>\n",
       "      <th>2</th>\n",
       "      <td>Julia</td>\n",
       "      <td>Très faible</td>\n",
       "    </tr>\n",
       "  </tbody>\n",
       "</table>\n",
       "</div>"
      ],
      "text/plain": [
       "  Langage Connaissance en SHS\n",
       "0  Python              Faible\n",
       "1       R               Forte\n",
       "2   Julia         Très faible"
      ]
     },
     "execution_count": 9,
     "metadata": {},
     "output_type": "execute_result"
    }
   ],
   "source": [
    "tableau = pd.DataFrame([[\"Python\",\"Faible\"],\n",
    "              [\"R\",\"Forte\"],\n",
    "              [\"Julia\",\"Très faible\"]],\n",
    "            columns = [\"Langage\",\"Connaissance en SHS\"])\n",
    "tableau"
   ]
  },
  {
   "cell_type": "markdown",
   "id": "557ebaca",
   "metadata": {},
   "source": [
    "Sélectionner chaque colonne"
   ]
  },
  {
   "cell_type": "code",
   "execution_count": 10,
   "id": "fb899407",
   "metadata": {},
   "outputs": [
    {
     "data": {
      "text/plain": [
       "0    Python\n",
       "1         R\n",
       "2     Julia\n",
       "Name: Langage, dtype: object"
      ]
     },
     "execution_count": 10,
     "metadata": {},
     "output_type": "execute_result"
    }
   ],
   "source": [
    "tableau[\"Langage\"]"
   ]
  },
  {
   "cell_type": "code",
   "execution_count": 11,
   "id": "e0d50925",
   "metadata": {},
   "outputs": [
    {
     "data": {
      "text/plain": [
       "pandas.core.series.Series"
      ]
     },
     "execution_count": 11,
     "metadata": {},
     "output_type": "execute_result"
    }
   ],
   "source": [
    "type(tableau[\"Langage\"])"
   ]
  },
  {
   "cell_type": "markdown",
   "id": "58ee04f1",
   "metadata": {},
   "source": [
    "Sélectionner un élément du tableau"
   ]
  },
  {
   "cell_type": "code",
   "execution_count": 12,
   "id": "e9669759",
   "metadata": {},
   "outputs": [
    {
     "data": {
      "text/plain": [
       "Langage                    R\n",
       "Connaissance en SHS    Forte\n",
       "Name: 1, dtype: object"
      ]
     },
     "execution_count": 12,
     "metadata": {},
     "output_type": "execute_result"
    }
   ],
   "source": [
    "tableau.loc[1]"
   ]
  },
  {
   "cell_type": "code",
   "execution_count": 13,
   "id": "7b5b2ddf",
   "metadata": {},
   "outputs": [
    {
     "data": {
      "text/html": [
       "<div>\n",
       "<style scoped>\n",
       "    .dataframe tbody tr th:only-of-type {\n",
       "        vertical-align: middle;\n",
       "    }\n",
       "\n",
       "    .dataframe tbody tr th {\n",
       "        vertical-align: top;\n",
       "    }\n",
       "\n",
       "    .dataframe thead th {\n",
       "        text-align: right;\n",
       "    }\n",
       "</style>\n",
       "<table border=\"1\" class=\"dataframe\">\n",
       "  <thead>\n",
       "    <tr style=\"text-align: right;\">\n",
       "      <th></th>\n",
       "      <th>Langage</th>\n",
       "      <th>Connaissance en SHS</th>\n",
       "    </tr>\n",
       "  </thead>\n",
       "  <tbody>\n",
       "    <tr>\n",
       "      <th>1</th>\n",
       "      <td>R</td>\n",
       "      <td>Forte</td>\n",
       "    </tr>\n",
       "    <tr>\n",
       "      <th>2</th>\n",
       "      <td>Julia</td>\n",
       "      <td>Très faible</td>\n",
       "    </tr>\n",
       "  </tbody>\n",
       "</table>\n",
       "</div>"
      ],
      "text/plain": [
       "  Langage Connaissance en SHS\n",
       "1       R               Forte\n",
       "2   Julia         Très faible"
      ]
     },
     "execution_count": 13,
     "metadata": {},
     "output_type": "execute_result"
    }
   ],
   "source": [
    "tableau.loc[1:2]"
   ]
  },
  {
   "cell_type": "markdown",
   "id": "0a1ea053",
   "metadata": {},
   "source": [
    "Un élément particulier"
   ]
  },
  {
   "cell_type": "code",
   "execution_count": 15,
   "id": "84c07b21",
   "metadata": {},
   "outputs": [
    {
     "data": {
      "text/plain": [
       "'Julia'"
      ]
     },
     "execution_count": 15,
     "metadata": {},
     "output_type": "execute_result"
    }
   ],
   "source": [
    "tableau.loc[2,\"Langage\"]"
   ]
  },
  {
   "cell_type": "code",
   "execution_count": 16,
   "id": "5636ddb3",
   "metadata": {},
   "outputs": [
    {
     "data": {
      "text/plain": [
       "(3, 2)"
      ]
     },
     "execution_count": 16,
     "metadata": {},
     "output_type": "execute_result"
    }
   ],
   "source": [
    "tableau.shape"
   ]
  }
 ],
 "metadata": {
  "kernelspec": {
   "display_name": "Python 3 (ipykernel)",
   "language": "python",
   "name": "python3"
  },
  "language_info": {
   "codemirror_mode": {
    "name": "ipython",
    "version": 3
   },
   "file_extension": ".py",
   "mimetype": "text/x-python",
   "name": "python",
   "nbconvert_exporter": "python",
   "pygments_lexer": "ipython3",
   "version": "3.9.12"
  }
 },
 "nbformat": 4,
 "nbformat_minor": 5
}
