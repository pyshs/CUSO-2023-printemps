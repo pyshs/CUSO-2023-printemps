{
 "cells": [
  {
   "cell_type": "markdown",
   "id": "2703a713",
   "metadata": {},
   "source": [
    "# Le premier script"
   ]
  },
  {
   "cell_type": "markdown",
   "id": "f01d284f",
   "metadata": {},
   "source": [
    "Mon premier calcul"
   ]
  },
  {
   "cell_type": "code",
   "execution_count": 1,
   "id": "c7d28126",
   "metadata": {},
   "outputs": [
    {
     "data": {
      "text/plain": [
       "20"
      ]
     },
     "execution_count": 1,
     "metadata": {},
     "output_type": "execute_result"
    }
   ],
   "source": [
    "10+10"
   ]
  },
  {
   "cell_type": "markdown",
   "id": "cd0656d6",
   "metadata": {},
   "source": [
    "Le script à étudier"
   ]
  },
  {
   "cell_type": "code",
   "execution_count": 2,
   "id": "e3d59744",
   "metadata": {},
   "outputs": [
    {
     "name": "stdout",
     "output_type": "stream",
     "text": [
      "Écrivez une phrase: sds qsd dsq\n",
      "Proportion de mots avec 4 lettres ou plus : 0.0\n"
     ]
    }
   ],
   "source": [
    "sortie_fichier = False # créer une variable booléenne\n",
    "nombre_min_lettres = 4 # créer une variable entière\n",
    "phrase = input(\"Écrivez une phrase: \") # récupéré une phrase de l'utilisateur\n",
    "liste_mots = phrase.split(\" \") # découper la chaine de caractères aux espaces\n",
    "nombre_mots = len(liste_mots) # longueur de la liste\n",
    "if nombre_mots == 0:\n",
    "    print(\"La liste est vide\")\n",
    "else:\n",
    "    compteur = 0\n",
    "    for i in liste_mots:\n",
    "        if len(i) >= nombre_min_lettres:\n",
    "            compteur+=1\n",
    "    proportion = round(100*compteur/nombre_mots,2)\n",
    "    informations = {\"Total\":compteur,\"Proportion\":proportion,\n",
    "                   \"Phrase\":phrase,\"Seuil\":nombre_min_lettres}\n",
    "    sortie = f\"Proportion de mots avec {nombre_min_lettres} lettres ou plus : {proportion}\"\n",
    "    print(sortie)\n",
    "    if sortie_fichier:\n",
    "        chemin = \"./data/\"\n",
    "        with open(chemin + \"resultat.txt\",\"w\") as f:\n",
    "            f.write(str(informations))"
   ]
  },
  {
   "cell_type": "markdown",
   "id": "d9c25e4e",
   "metadata": {},
   "source": [
    "## Première ligne du code : création d'une variable"
   ]
  },
  {
   "cell_type": "code",
   "execution_count": 1,
   "id": "dbda1d2c",
   "metadata": {},
   "outputs": [],
   "source": [
    "sortie_fichier = False"
   ]
  },
  {
   "cell_type": "code",
   "execution_count": 2,
   "id": "1479abe1",
   "metadata": {},
   "outputs": [
    {
     "data": {
      "text/plain": [
       "False"
      ]
     },
     "execution_count": 2,
     "metadata": {},
     "output_type": "execute_result"
    }
   ],
   "source": [
    "sortie_fichier"
   ]
  },
  {
   "cell_type": "code",
   "execution_count": 3,
   "id": "c8eef711",
   "metadata": {},
   "outputs": [],
   "source": [
    "output_file = False"
   ]
  },
  {
   "cell_type": "code",
   "execution_count": 7,
   "id": "1513559b",
   "metadata": {},
   "outputs": [],
   "source": [
    "output_file =     True"
   ]
  },
  {
   "cell_type": "code",
   "execution_count": 10,
   "id": "3c63eeb8",
   "metadata": {},
   "outputs": [
    {
     "ename": "NameError",
     "evalue": "name 'Output_file' is not defined",
     "output_type": "error",
     "traceback": [
      "\u001b[0;31m---------------------------------------------------------------------------\u001b[0m",
      "\u001b[0;31mNameError\u001b[0m                                 Traceback (most recent call last)",
      "Cell \u001b[0;32mIn [10], line 1\u001b[0m\n\u001b[0;32m----> 1\u001b[0m \u001b[43mOutput_file\u001b[49m\n",
      "\u001b[0;31mNameError\u001b[0m: name 'Output_file' is not defined"
     ]
    }
   ],
   "source": [
    "Output_file"
   ]
  },
  {
   "cell_type": "markdown",
   "id": "62db27d8",
   "metadata": {},
   "source": [
    "Savoir le type d'un objet"
   ]
  },
  {
   "cell_type": "code",
   "execution_count": 11,
   "id": "c1571afb",
   "metadata": {},
   "outputs": [
    {
     "data": {
      "text/plain": [
       "bool"
      ]
     },
     "execution_count": 11,
     "metadata": {},
     "output_type": "execute_result"
    }
   ],
   "source": [
    "type(output_file)"
   ]
  },
  {
   "cell_type": "markdown",
   "id": "0bed18f5",
   "metadata": {},
   "source": [
    "Variables booléeens : True ou False"
   ]
  },
  {
   "cell_type": "markdown",
   "id": "1f04f427",
   "metadata": {},
   "source": [
    "## Deuxième ligne de code : une autre variable"
   ]
  },
  {
   "cell_type": "code",
   "execution_count": 12,
   "id": "eb584208",
   "metadata": {},
   "outputs": [],
   "source": [
    "nombre_min_lettres = 4"
   ]
  },
  {
   "cell_type": "code",
   "execution_count": 14,
   "id": "3ddfba41",
   "metadata": {},
   "outputs": [
    {
     "data": {
      "text/plain": [
       "int"
      ]
     },
     "execution_count": 14,
     "metadata": {},
     "output_type": "execute_result"
    }
   ],
   "source": [
    "type(nombre_min_lettres)"
   ]
  },
  {
   "cell_type": "markdown",
   "id": "0febd4fc",
   "metadata": {},
   "source": [
    "Nombre entier = int"
   ]
  },
  {
   "cell_type": "code",
   "execution_count": 15,
   "id": "276aceae",
   "metadata": {},
   "outputs": [
    {
     "data": {
      "text/plain": [
       "17"
      ]
     },
     "execution_count": 15,
     "metadata": {},
     "output_type": "execute_result"
    }
   ],
   "source": [
    "10 + 2 + 5"
   ]
  },
  {
   "cell_type": "code",
   "execution_count": 16,
   "id": "fd5daf8c",
   "metadata": {},
   "outputs": [
    {
     "data": {
      "text/plain": [
       "12"
      ]
     },
     "execution_count": 16,
     "metadata": {},
     "output_type": "execute_result"
    }
   ],
   "source": [
    "nombre_min_lettres + 8"
   ]
  },
  {
   "cell_type": "code",
   "execution_count": 18,
   "id": "2e9eda60",
   "metadata": {},
   "outputs": [
    {
     "data": {
      "text/plain": [
       "int"
      ]
     },
     "execution_count": 18,
     "metadata": {},
     "output_type": "execute_result"
    }
   ],
   "source": [
    "type(nombre_min_lettres + 20)"
   ]
  },
  {
   "cell_type": "markdown",
   "id": "148a700c",
   "metadata": {},
   "source": [
    "Attention Python fait du transtypage de manière automatique (quand il peut)"
   ]
  },
  {
   "cell_type": "code",
   "execution_count": 19,
   "id": "60cd4d5c",
   "metadata": {},
   "outputs": [
    {
     "data": {
      "text/plain": [
       "11"
      ]
     },
     "execution_count": 19,
     "metadata": {},
     "output_type": "execute_result"
    }
   ],
   "source": [
    "10 + True"
   ]
  },
  {
   "cell_type": "markdown",
   "id": "4b2e3585",
   "metadata": {},
   "source": [
    "## Troisième ligne : faire une entrée"
   ]
  },
  {
   "cell_type": "code",
   "execution_count": 22,
   "id": "4a4fb4d0",
   "metadata": {},
   "outputs": [
    {
     "name": "stdout",
     "output_type": "stream",
     "text": [
      "Écrivez une phrase: je rentre une phrase\n"
     ]
    }
   ],
   "source": [
    "phrase = input(\"Écrivez une phrase: \")"
   ]
  },
  {
   "cell_type": "code",
   "execution_count": 23,
   "id": "d8d77bfe",
   "metadata": {},
   "outputs": [
    {
     "data": {
      "text/plain": [
       "'je rentre une phrase'"
      ]
     },
     "execution_count": 23,
     "metadata": {},
     "output_type": "execute_result"
    }
   ],
   "source": [
    "phrase"
   ]
  },
  {
   "cell_type": "code",
   "execution_count": 24,
   "id": "46c678e7",
   "metadata": {},
   "outputs": [
    {
     "data": {
      "text/plain": [
       "str"
      ]
     },
     "execution_count": 24,
     "metadata": {},
     "output_type": "execute_result"
    }
   ],
   "source": [
    "type(phrase)"
   ]
  },
  {
   "cell_type": "markdown",
   "id": "60c903ba",
   "metadata": {},
   "source": [
    "str = type texte"
   ]
  },
  {
   "cell_type": "code",
   "execution_count": 25,
   "id": "27ed1931",
   "metadata": {},
   "outputs": [
    {
     "name": "stdout",
     "output_type": "stream",
     "text": [
      "Écrivez une phrase: sdsdd dsddqs qsdd dsq\n"
     ]
    },
    {
     "data": {
      "text/plain": [
       "'sdsdd dsddqs qsdd dsq'"
      ]
     },
     "execution_count": 25,
     "metadata": {},
     "output_type": "execute_result"
    }
   ],
   "source": [
    "input(\"Écrivez une phrase: \")"
   ]
  },
  {
   "cell_type": "markdown",
   "id": "19a32770",
   "metadata": {},
   "source": [
    "input et type sont des fonctions"
   ]
  },
  {
   "cell_type": "code",
   "execution_count": 26,
   "id": "474bb879",
   "metadata": {
    "scrolled": true
   },
   "outputs": [
    {
     "data": {
      "text/plain": [
       "<bound method Kernel.raw_input of <ipykernel.ipkernel.IPythonKernel object at 0x10fc82650>>"
      ]
     },
     "execution_count": 26,
     "metadata": {},
     "output_type": "execute_result"
    }
   ],
   "source": [
    "input"
   ]
  },
  {
   "cell_type": "markdown",
   "id": "37ba8bdf",
   "metadata": {},
   "source": [
    "Demander de l'aide"
   ]
  },
  {
   "cell_type": "code",
   "execution_count": 29,
   "id": "7b11b0e6",
   "metadata": {},
   "outputs": [],
   "source": [
    "?input"
   ]
  },
  {
   "cell_type": "code",
   "execution_count": 28,
   "id": "953cf2e3",
   "metadata": {},
   "outputs": [],
   "source": [
    "?type"
   ]
  },
  {
   "cell_type": "code",
   "execution_count": null,
   "id": "b9ff88e4",
   "metadata": {},
   "outputs": [],
   "source": [
    "#phrase = input()\n",
    "phrase = \"Ceci est ma phrase\" # équivalent d'avoir entré ceci est ma phrase"
   ]
  },
  {
   "cell_type": "markdown",
   "id": "ed635adc",
   "metadata": {},
   "source": [
    "### Chaines de caractères"
   ]
  },
  {
   "cell_type": "code",
   "execution_count": 32,
   "id": "767f79bf",
   "metadata": {},
   "outputs": [
    {
     "data": {
      "text/plain": [
       "'1'"
      ]
     },
     "execution_count": 32,
     "metadata": {},
     "output_type": "execute_result"
    }
   ],
   "source": [
    "\"1\""
   ]
  },
  {
   "cell_type": "code",
   "execution_count": 33,
   "id": "72fe70b0",
   "metadata": {},
   "outputs": [
    {
     "data": {
      "text/plain": [
       "'1'"
      ]
     },
     "execution_count": 33,
     "metadata": {},
     "output_type": "execute_result"
    }
   ],
   "source": [
    "'1'"
   ]
  },
  {
   "cell_type": "code",
   "execution_count": 34,
   "id": "76303f8f",
   "metadata": {},
   "outputs": [
    {
     "data": {
      "text/plain": [
       "'gdffdff ddf fd§(((((())))))'"
      ]
     },
     "execution_count": 34,
     "metadata": {},
     "output_type": "execute_result"
    }
   ],
   "source": [
    "\"gdffdff ddf fd§(((((())))))\""
   ]
  },
  {
   "cell_type": "code",
   "execution_count": 35,
   "id": "87c082bb",
   "metadata": {},
   "outputs": [
    {
     "data": {
      "text/plain": [
       "'\\nCeci\\nEst\\nUne\\nChaine\\n'"
      ]
     },
     "execution_count": 35,
     "metadata": {},
     "output_type": "execute_result"
    }
   ],
   "source": [
    "\"\"\"\n",
    "Ceci\n",
    "Est\n",
    "Une\n",
    "Chaine\n",
    "\"\"\""
   ]
  },
  {
   "cell_type": "markdown",
   "id": "033d9cb2",
   "metadata": {},
   "source": [
    "Des opérations sont définies de manière transparente"
   ]
  },
  {
   "cell_type": "code",
   "execution_count": 38,
   "id": "009df89f",
   "metadata": {},
   "outputs": [
    {
     "data": {
      "text/plain": [
       "'je rentre une phrase et son complément'"
      ]
     },
     "execution_count": 38,
     "metadata": {},
     "output_type": "execute_result"
    }
   ],
   "source": [
    "phrase + \" et son complément\""
   ]
  },
  {
   "cell_type": "code",
   "execution_count": 40,
   "id": "e85a8e7e",
   "metadata": {},
   "outputs": [
    {
     "data": {
      "text/plain": [
       "'je rentre une phrase1'"
      ]
     },
     "execution_count": 40,
     "metadata": {},
     "output_type": "execute_result"
    }
   ],
   "source": [
    "phrase + \"1\""
   ]
  },
  {
   "cell_type": "markdown",
   "id": "523cb17d",
   "metadata": {},
   "source": [
    "Parenthèse : les fonctions de transtypage"
   ]
  },
  {
   "cell_type": "code",
   "execution_count": 41,
   "id": "f3148e35",
   "metadata": {},
   "outputs": [
    {
     "data": {
      "text/plain": [
       "'34434'"
      ]
     },
     "execution_count": 41,
     "metadata": {},
     "output_type": "execute_result"
    }
   ],
   "source": [
    "str(34434)"
   ]
  },
  {
   "cell_type": "code",
   "execution_count": 42,
   "id": "373c0b08",
   "metadata": {},
   "outputs": [
    {
     "data": {
      "text/plain": [
       "34"
      ]
     },
     "execution_count": 42,
     "metadata": {},
     "output_type": "execute_result"
    }
   ],
   "source": [
    "int(\"34\")"
   ]
  },
  {
   "cell_type": "code",
   "execution_count": 43,
   "id": "f0707e3f",
   "metadata": {},
   "outputs": [
    {
     "ename": "ValueError",
     "evalue": "invalid literal for int() with base 10: 'ab'",
     "output_type": "error",
     "traceback": [
      "\u001b[0;31m---------------------------------------------------------------------------\u001b[0m",
      "\u001b[0;31mValueError\u001b[0m                                Traceback (most recent call last)",
      "Cell \u001b[0;32mIn [43], line 1\u001b[0m\n\u001b[0;32m----> 1\u001b[0m \u001b[38;5;28;43mint\u001b[39;49m\u001b[43m(\u001b[49m\u001b[38;5;124;43m\"\u001b[39;49m\u001b[38;5;124;43mab\u001b[39;49m\u001b[38;5;124;43m\"\u001b[39;49m\u001b[43m)\u001b[49m\n",
      "\u001b[0;31mValueError\u001b[0m: invalid literal for int() with base 10: 'ab'"
     ]
    }
   ],
   "source": [
    "int(\"ab\")"
   ]
  },
  {
   "cell_type": "markdown",
   "id": "8b603a6b",
   "metadata": {},
   "source": [
    "### En python : tout est un objet\n",
    "\n",
    "Un objet contient :\n",
    "- des valeurs\n",
    "- des méthodes"
   ]
  },
  {
   "cell_type": "code",
   "execution_count": 49,
   "id": "3efb3b24",
   "metadata": {},
   "outputs": [],
   "source": [
    "phrase = phrase.upper()"
   ]
  },
  {
   "cell_type": "code",
   "execution_count": 50,
   "id": "f58c8e53",
   "metadata": {},
   "outputs": [
    {
     "data": {
      "text/plain": [
       "'JE RENTRE UNE PHRASE'"
      ]
     },
     "execution_count": 50,
     "metadata": {},
     "output_type": "execute_result"
    }
   ],
   "source": [
    "phrase"
   ]
  },
  {
   "cell_type": "markdown",
   "id": "4ac0537a",
   "metadata": {},
   "source": [
    "## Quatrième ligne : utiliser une méthode\n",
    "\n",
    "split pour découper sur un motif"
   ]
  },
  {
   "cell_type": "code",
   "execution_count": 54,
   "id": "2170bc1e",
   "metadata": {},
   "outputs": [],
   "source": [
    "liste_mots = phrase.split(\" \")"
   ]
  },
  {
   "cell_type": "code",
   "execution_count": 56,
   "id": "817a19d0",
   "metadata": {},
   "outputs": [
    {
     "data": {
      "text/plain": [
       "['JE R', 'TRE UNE PHRASE']"
      ]
     },
     "execution_count": 56,
     "metadata": {},
     "output_type": "execute_result"
    }
   ],
   "source": [
    "phrase.split(\"EN\")"
   ]
  },
  {
   "cell_type": "code",
   "execution_count": 58,
   "id": "69cad7e4",
   "metadata": {},
   "outputs": [
    {
     "data": {
      "text/plain": [
       "list"
      ]
     },
     "execution_count": 58,
     "metadata": {},
     "output_type": "execute_result"
    }
   ],
   "source": [
    "type(liste_mots)"
   ]
  },
  {
   "cell_type": "code",
   "execution_count": 61,
   "id": "718331f2",
   "metadata": {},
   "outputs": [
    {
     "data": {
      "text/plain": [
       "['JE', 'RENTRE', 'UNE', 'PHRASE']"
      ]
     },
     "execution_count": 61,
     "metadata": {},
     "output_type": "execute_result"
    }
   ],
   "source": [
    "liste_mots"
   ]
  },
  {
   "cell_type": "markdown",
   "id": "348dd702",
   "metadata": {},
   "source": [
    "Les listes sont des ensembles reconnaissable par les crochets"
   ]
  },
  {
   "cell_type": "code",
   "execution_count": 64,
   "id": "b31ad741",
   "metadata": {},
   "outputs": [],
   "source": [
    "une_liste = [879789,\"z\",\"c\",4.3,9]"
   ]
  },
  {
   "cell_type": "markdown",
   "id": "49f38b82",
   "metadata": {},
   "source": [
    "Nombre d'éléments"
   ]
  },
  {
   "cell_type": "code",
   "execution_count": 63,
   "id": "53019964",
   "metadata": {},
   "outputs": [
    {
     "data": {
      "text/plain": [
       "5"
      ]
     },
     "execution_count": 63,
     "metadata": {},
     "output_type": "execute_result"
    }
   ],
   "source": [
    "len(une_liste)"
   ]
  },
  {
   "cell_type": "markdown",
   "id": "2f04f5a4",
   "metadata": {},
   "source": [
    "**En python, une liste commence au rang 0**"
   ]
  },
  {
   "cell_type": "markdown",
   "id": "8426dd3b",
   "metadata": {},
   "source": [
    "Premier élément d'une liste"
   ]
  },
  {
   "cell_type": "code",
   "execution_count": 65,
   "id": "0302c326",
   "metadata": {},
   "outputs": [
    {
     "data": {
      "text/plain": [
       "879789"
      ]
     },
     "execution_count": 65,
     "metadata": {},
     "output_type": "execute_result"
    }
   ],
   "source": [
    "une_liste[0]"
   ]
  },
  {
   "cell_type": "code",
   "execution_count": 66,
   "id": "cb91e614",
   "metadata": {},
   "outputs": [
    {
     "data": {
      "text/plain": [
       "'z'"
      ]
     },
     "execution_count": 66,
     "metadata": {},
     "output_type": "execute_result"
    }
   ],
   "source": [
    "une_liste[1]"
   ]
  },
  {
   "cell_type": "code",
   "execution_count": 67,
   "id": "a33e1b9d",
   "metadata": {},
   "outputs": [
    {
     "data": {
      "text/plain": [
       "9"
      ]
     },
     "execution_count": 67,
     "metadata": {},
     "output_type": "execute_result"
    }
   ],
   "source": [
    "une_liste[-1]"
   ]
  },
  {
   "cell_type": "code",
   "execution_count": 68,
   "id": "99d3c77b",
   "metadata": {},
   "outputs": [
    {
     "data": {
      "text/plain": [
       "['c', 4.3, 9]"
      ]
     },
     "execution_count": 68,
     "metadata": {},
     "output_type": "execute_result"
    }
   ],
   "source": [
    "une_liste[2:5]"
   ]
  },
  {
   "cell_type": "code",
   "execution_count": 69,
   "id": "8d2b5c65",
   "metadata": {},
   "outputs": [
    {
     "data": {
      "text/plain": [
       "['A', 'B', 10, 30]"
      ]
     },
     "execution_count": 69,
     "metadata": {},
     "output_type": "execute_result"
    }
   ],
   "source": [
    "[\"A\",\"B\"] + [10,30]"
   ]
  },
  {
   "cell_type": "code",
   "execution_count": 70,
   "id": "ce6adf60",
   "metadata": {},
   "outputs": [
    {
     "data": {
      "text/plain": [
       "list"
      ]
     },
     "execution_count": 70,
     "metadata": {},
     "output_type": "execute_result"
    }
   ],
   "source": [
    "type(une_liste)"
   ]
  },
  {
   "cell_type": "markdown",
   "id": "906ad475",
   "metadata": {},
   "source": [
    "Ajouter un élément"
   ]
  },
  {
   "cell_type": "code",
   "execution_count": 71,
   "id": "ceafcfc1",
   "metadata": {},
   "outputs": [],
   "source": [
    "une_liste.append(\"Ceci est ma phrase\")"
   ]
  },
  {
   "cell_type": "code",
   "execution_count": 72,
   "id": "dd0bf78c",
   "metadata": {},
   "outputs": [
    {
     "data": {
      "text/plain": [
       "[879789, 'z', 'c', 4.3, 9, 'Ceci est ma phrase']"
      ]
     },
     "execution_count": 72,
     "metadata": {},
     "output_type": "execute_result"
    }
   ],
   "source": [
    "une_liste"
   ]
  },
  {
   "cell_type": "markdown",
   "id": "6b947387",
   "metadata": {},
   "source": [
    "Des erreurs spécifiques"
   ]
  },
  {
   "cell_type": "code",
   "execution_count": 73,
   "id": "6300a412",
   "metadata": {},
   "outputs": [
    {
     "ename": "IndexError",
     "evalue": "list index out of range",
     "output_type": "error",
     "traceback": [
      "\u001b[0;31m---------------------------------------------------------------------------\u001b[0m",
      "\u001b[0;31mIndexError\u001b[0m                                Traceback (most recent call last)",
      "Cell \u001b[0;32mIn [73], line 1\u001b[0m\n\u001b[0;32m----> 1\u001b[0m \u001b[43mune_liste\u001b[49m\u001b[43m[\u001b[49m\u001b[38;5;241;43m1000\u001b[39;49m\u001b[43m]\u001b[49m\n",
      "\u001b[0;31mIndexError\u001b[0m: list index out of range"
     ]
    }
   ],
   "source": [
    "une_liste[1000]"
   ]
  },
  {
   "cell_type": "markdown",
   "id": "8af0488e",
   "metadata": {},
   "source": [
    "## Cinquième ligne"
   ]
  },
  {
   "cell_type": "code",
   "execution_count": 74,
   "id": "fb1c9c95",
   "metadata": {},
   "outputs": [],
   "source": [
    "nombre_mots = len(liste_mots)"
   ]
  },
  {
   "cell_type": "code",
   "execution_count": 75,
   "id": "3c1e5662",
   "metadata": {},
   "outputs": [
    {
     "data": {
      "text/plain": [
       "4"
      ]
     },
     "execution_count": 75,
     "metadata": {},
     "output_type": "execute_result"
    }
   ],
   "source": [
    "nombre_mots"
   ]
  },
  {
   "cell_type": "markdown",
   "id": "9b200178",
   "metadata": {},
   "source": [
    "Suite à la prochaine séance ..."
   ]
  }
 ],
 "metadata": {
  "kernelspec": {
   "display_name": "Python 3 (ipykernel)",
   "language": "python",
   "name": "python3"
  },
  "language_info": {
   "codemirror_mode": {
    "name": "ipython",
    "version": 3
   },
   "file_extension": ".py",
   "mimetype": "text/x-python",
   "name": "python",
   "nbconvert_exporter": "python",
   "pygments_lexer": "ipython3",
   "version": "3.10.8"
  }
 },
 "nbformat": 4,
 "nbformat_minor": 5
}
