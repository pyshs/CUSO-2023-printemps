{
 "cells": [
  {
   "cell_type": "markdown",
   "metadata": {},
   "source": [
    "# Récupération et traitement de données sur une chaîne Youtube\n",
    "\n",
    "**Le cas de la chaîne Youtube de l'IHU en lien avec les controverses autour du COVID-19**\n",
    "\n",
    "*Notebook créé par Émilien Schultz - PySHS*\n",
    "\n",
    "**Contexte** : pendant l'épidémie de COVID-19, l'IHU créé par Pr. Didier Raoult a été au centre de mombreux débats, en particulier sur l'efficacité présupposé d'un traitement par hydroxychloroquine. Il a largement communiqué à travers les médias sociaux, notamment Twitter et Youtube. \n",
    "\n",
    "**Objectif**: Récupérer les données de fréquentation des données Youtube de l'IHU comme indicateur de la réception du discours de Didier Raoult.\n",
    "\n",
    "**Démarche** : comme tout traitement de données, plusieurs étapes s'enchaînent :\n",
    "\n",
    "- récupération des données\n",
    "- transformation des données\n",
    "- exploration des données\n",
    "- analyse, visualisation et finalisation\n",
    "\n",
    "**Un enjeu important est de décomposer ces étapes pour pouvoir les réaliser**"
   ]
  },
  {
   "cell_type": "markdown",
   "metadata": {},
   "source": [
    "## 1. récupérer les données \n",
    "\n",
    "\n",
    "L'objectif est de pouvoir collecter des données présentes sur Youtube.\n",
    "\n",
    "La solution la plus simple est d'identifier un outil qui peut faire le travail pour nous : identifier une bibliothèque qui expoite l'API `python-youtube`"
   ]
  },
  {
   "cell_type": "markdown",
   "metadata": {},
   "source": [
    "### Installer la bibliothèque"
   ]
  },
  {
   "cell_type": "code",
   "execution_count": 3,
   "metadata": {},
   "outputs": [],
   "source": [
    "#!pip install --upgrade python-youtube"
   ]
  },
  {
   "cell_type": "markdown",
   "metadata": {},
   "source": [
    "### Créer la connexion"
   ]
  },
  {
   "cell_type": "markdown",
   "metadata": {},
   "source": [
    "Créer un compte sur YouTube développeur et récupérer le code de l'API : https://developers.google.com/youtube/registering_an_application\n",
    "\n",
    "Dans notre cas, nous avons mis ce code d'accès dans le fichier api_youtube (pour qu'il n'apparaisse pas dans cette page)"
   ]
  },
  {
   "cell_type": "code",
   "execution_count": 4,
   "metadata": {
    "scrolled": true
   },
   "outputs": [],
   "source": [
    "from pyyoutube import Api # Chargement\n",
    "\n",
    "# Lecture du code\n",
    "with open(\"api_youtube\",\"r\") as f:\n",
    "    key = f.read()\n",
    "\n",
    "# Création du lien API\n",
    "api = Api(api_key=key) "
   ]
  },
  {
   "cell_type": "markdown",
   "metadata": {},
   "source": [
    "### Comprendre comment ça marche les données de Youtube\n",
    "\n",
    "Pour cela, il faut se plonger dans le fonctionnement de Youtube, car la bibliothèque permet de circuler dans ses différents objets. Ne pas hésiter à s'inspirer de l'aide de la bibliothèque : https://github.com/sns-sdks/python-youtube\n",
    "\n",
    "- channel\n",
    "- vidéo\n",
    "- playlist"
   ]
  },
  {
   "cell_type": "markdown",
   "metadata": {},
   "source": [
    "D'abord aller récupérer le channel de l'IHU :https://www.youtube.com/channel/UCFaPzuoXcACu7jplePDfXmA\n",
    "\n",
    "Il a un numéro unique, qui permet de récupérer les infos"
   ]
  },
  {
   "cell_type": "code",
   "execution_count": 6,
   "metadata": {},
   "outputs": [
    {
     "data": {
      "text/plain": [
       "{'kind': 'youtube#channel',\n",
       " 'etag': 'cRnEAHyjdrZ30_7D7ZQdA6zBC9k',\n",
       " 'id': 'UCFaPzuoXcACu7jplePDfXmA',\n",
       " 'snippet': {'title': 'IHU Méditerranée-Infection',\n",
       "  'description': '',\n",
       "  'customUrl': '@ifr48',\n",
       "  'publishedAt': '2011-02-28T15:40:09Z',\n",
       "  'thumbnails': {'default': {'url': 'https://yt3.ggpht.com/ytc/AL5GRJVH5WgHv3FsnB8rcAH0aEcll_nSYuFPAIBP1ouq=s88-c-k-c0x00ffffff-no-rj',\n",
       "    'width': 88,\n",
       "    'height': 88},\n",
       "   'medium': {'url': 'https://yt3.ggpht.com/ytc/AL5GRJVH5WgHv3FsnB8rcAH0aEcll_nSYuFPAIBP1ouq=s240-c-k-c0x00ffffff-no-rj',\n",
       "    'width': 240,\n",
       "    'height': 240},\n",
       "   'high': {'url': 'https://yt3.ggpht.com/ytc/AL5GRJVH5WgHv3FsnB8rcAH0aEcll_nSYuFPAIBP1ouq=s800-c-k-c0x00ffffff-no-rj',\n",
       "    'width': 800,\n",
       "    'height': 800},\n",
       "   'standard': None,\n",
       "   'maxres': None},\n",
       "  'defaultLanguage': None,\n",
       "  'localized': {'title': 'IHU Méditerranée-Infection', 'description': ''},\n",
       "  'country': 'FR'},\n",
       " 'contentDetails': {'relatedPlaylists': {'likes': '',\n",
       "   'uploads': 'UUFaPzuoXcACu7jplePDfXmA'}},\n",
       " 'statistics': {'viewCount': '124075557',\n",
       "  'subscriberCount': '609000',\n",
       "  'hiddenSubscriberCount': False,\n",
       "  'videoCount': '1008'},\n",
       " 'topicDetails': {'topicIds': ['/m/01k8wb', '/m/098wr'],\n",
       "  'topicCategories': ['https://en.wikipedia.org/wiki/Knowledge',\n",
       "   'https://en.wikipedia.org/wiki/Society']},\n",
       " 'status': {'privacyStatus': 'public',\n",
       "  'isLinked': True,\n",
       "  'longUploadsStatus': 'longUploadsUnspecified',\n",
       "  'madeForKids': False,\n",
       "  'selfDeclaredMadeForKids': None},\n",
       " 'brandingSettings': {'channel': {'title': 'IHU Méditerranée-Infection',\n",
       "   'description': None,\n",
       "   'keywords': None,\n",
       "   'trackingAnalyticsAccountId': None,\n",
       "   'moderateComments': None,\n",
       "   'unsubscribedTrailer': 'vwTAhejfmkQ',\n",
       "   'defaultLanguage': None,\n",
       "   'country': 'FR'},\n",
       "  'image': {'bannerExternalUrl': 'https://lh3.googleusercontent.com/ZHVfnmDhNI9iFzShO6Bn-2dlKiqC1RT4TQp3T18DvVw8-wPTBkOUSQnXWBxRL6mybShjq86Wgw'}},\n",
       " 'auditDetails': None,\n",
       " 'contentOwnerDetails': None,\n",
       " 'localizations': None}"
      ]
     },
     "execution_count": 6,
     "metadata": {},
     "output_type": "execute_result"
    }
   ],
   "source": [
    "# Récupérer le channel\n",
    "channel_by_id = api.get_channel_info(channel_id=\"UCFaPzuoXcACu7jplePDfXmA\")\n",
    "\n",
    "# Sortir les données en JSON\n",
    "infos = channel_by_id.items[0].to_dict()\n",
    "infos"
   ]
  },
  {
   "cell_type": "markdown",
   "metadata": {},
   "source": [
    "Le format JSON permet de récupérer certaines informations"
   ]
  },
  {
   "cell_type": "code",
   "execution_count": 7,
   "metadata": {},
   "outputs": [
    {
     "data": {
      "text/plain": [
       "{'viewCount': '124075557',\n",
       " 'subscriberCount': '609000',\n",
       " 'hiddenSubscriberCount': False,\n",
       " 'videoCount': '1008'}"
      ]
     },
     "execution_count": 7,
     "metadata": {},
     "output_type": "execute_result"
    }
   ],
   "source": [
    "infos['statistics']"
   ]
  },
  {
   "cell_type": "markdown",
   "metadata": {},
   "source": [
    "Un channel est composé de plusieurs playlists, qu'il est possible de récupérer par ID du channel"
   ]
  },
  {
   "cell_type": "code",
   "execution_count": 9,
   "metadata": {},
   "outputs": [
    {
     "data": {
      "text/plain": [
       "[Playlist(kind='youtube#playlist', id='PLq3x3mW4dsbTt_hom12UNo18ATcKS3dxG'),\n",
       " Playlist(kind='youtube#playlist', id='PLq3x3mW4dsbSNoNsf5gJtRKjtqitEl_By'),\n",
       " Playlist(kind='youtube#playlist', id='PLq3x3mW4dsbTeGr0kUD9Dzx8_ofL263JG'),\n",
       " Playlist(kind='youtube#playlist', id='PLq3x3mW4dsbSLsyTyrCbc1PT5fMA1bxZm'),\n",
       " Playlist(kind='youtube#playlist', id='PLq3x3mW4dsbScpfJcdJVepkKNtYYl2w69')]"
      ]
     },
     "execution_count": 9,
     "metadata": {},
     "output_type": "execute_result"
    }
   ],
   "source": [
    "playlists = api.get_playlists(channel_id=\"UCFaPzuoXcACu7jplePDfXmA\",count=None)\n",
    "playlists.items[0:5]"
   ]
  },
  {
   "cell_type": "markdown",
   "metadata": {},
   "source": [
    "Ce sont toutes les playlistes, et il maintenant possible de récupérer les vidéos dans une playliste. On essaye avec une en particulier : "
   ]
  },
  {
   "cell_type": "code",
   "execution_count": 10,
   "metadata": {},
   "outputs": [
    {
     "data": {
      "text/plain": [
       "[PlaylistItem(kind='youtube#playlistItem', id='UExxM3gzbVc0ZHNiVFE0Ml8wSGFzcjU1Si0xSjZybWVDZi41NkI0NEY2RDEwNTU3Q0M2'),\n",
       " PlaylistItem(kind='youtube#playlistItem', id='UExxM3gzbVc0ZHNiVFE0Ml8wSGFzcjU1Si0xSjZybWVDZi4yODlGNEE0NkRGMEEzMEQy'),\n",
       " PlaylistItem(kind='youtube#playlistItem', id='UExxM3gzbVc0ZHNiVFE0Ml8wSGFzcjU1Si0xSjZybWVDZi4wMTcyMDhGQUE4NTIzM0Y5'),\n",
       " PlaylistItem(kind='youtube#playlistItem', id='UExxM3gzbVc0ZHNiVFE0Ml8wSGFzcjU1Si0xSjZybWVDZi41MjE1MkI0OTQ2QzJGNzNG'),\n",
       " PlaylistItem(kind='youtube#playlistItem', id='UExxM3gzbVc0ZHNiVFE0Ml8wSGFzcjU1Si0xSjZybWVDZi4wOTA3OTZBNzVEMTUzOTMy'),\n",
       " PlaylistItem(kind='youtube#playlistItem', id='UExxM3gzbVc0ZHNiVFE0Ml8wSGFzcjU1Si0xSjZybWVDZi4xMkVGQjNCMUM1N0RFNEUx')]"
      ]
     },
     "execution_count": 10,
     "metadata": {},
     "output_type": "execute_result"
    }
   ],
   "source": [
    "videos = api.get_playlist_items(playlist_id='PLq3x3mW4dsbTQ42_0Hasr55J-1J6rmeCf',count=None).items\n",
    "videos"
   ]
  },
  {
   "cell_type": "markdown",
   "metadata": {},
   "source": [
    "Et donc chaque vidéo peut être identifiée par son identifiant unique : "
   ]
  },
  {
   "cell_type": "code",
   "execution_count": 11,
   "metadata": {},
   "outputs": [
    {
     "data": {
      "text/plain": [
       "{'kind': 'youtube#playlistItem',\n",
       " 'etag': 'ERD8MEEtOd8kPCPTj7ddru7SrZE',\n",
       " 'id': 'UExxM3gzbVc0ZHNiVFE0Ml8wSGFzcjU1Si0xSjZybWVDZi41NkI0NEY2RDEwNTU3Q0M2',\n",
       " 'snippet': {'publishedAt': '2018-02-12T09:47:16Z',\n",
       "  'channelId': 'UCFaPzuoXcACu7jplePDfXmA',\n",
       "  'title': \"Les jeudis de l'IHU: 08 février 2018 - 1 - Dr. Matthieu Million\",\n",
       "  'description': 'Microbiote et malnutrition',\n",
       "  'thumbnails': {'default': {'url': 'https://i.ytimg.com/vi/nAMXi_MVyOw/default.jpg',\n",
       "    'width': 120,\n",
       "    'height': 90},\n",
       "   'medium': {'url': 'https://i.ytimg.com/vi/nAMXi_MVyOw/mqdefault.jpg',\n",
       "    'width': 320,\n",
       "    'height': 180},\n",
       "   'high': {'url': 'https://i.ytimg.com/vi/nAMXi_MVyOw/hqdefault.jpg',\n",
       "    'width': 480,\n",
       "    'height': 360},\n",
       "   'standard': {'url': 'https://i.ytimg.com/vi/nAMXi_MVyOw/sddefault.jpg',\n",
       "    'width': 640,\n",
       "    'height': 480},\n",
       "   'maxres': {'url': 'https://i.ytimg.com/vi/nAMXi_MVyOw/maxresdefault.jpg',\n",
       "    'width': 1280,\n",
       "    'height': 720}},\n",
       "  'channelTitle': 'IHU Méditerranée-Infection',\n",
       "  'videoOwnerChannelTitle': 'IHU Méditerranée-Infection',\n",
       "  'videoOwnerChannelId': 'UCFaPzuoXcACu7jplePDfXmA',\n",
       "  'playlistId': 'PLq3x3mW4dsbTQ42_0Hasr55J-1J6rmeCf',\n",
       "  'position': 0,\n",
       "  'resourceId': {'kind': 'youtube#video',\n",
       "   'videoId': 'nAMXi_MVyOw',\n",
       "   'channelId': None,\n",
       "   'playlistId': None}},\n",
       " 'contentDetails': {'videoId': 'nAMXi_MVyOw',\n",
       "  'note': None,\n",
       "  'videoPublishedAt': '2018-02-12T09:41:23Z',\n",
       "  'startAt': None,\n",
       "  'endAt': None},\n",
       " 'status': {'privacyStatus': 'public'}}"
      ]
     },
     "execution_count": 11,
     "metadata": {},
     "output_type": "execute_result"
    }
   ],
   "source": [
    "videos[0].to_dict()"
   ]
  },
  {
   "cell_type": "markdown",
   "metadata": {},
   "source": [
    "Il ne reste plus qu'à récupérer les infos d'une vidéo particulière :"
   ]
  },
  {
   "cell_type": "code",
   "execution_count": 39,
   "metadata": {},
   "outputs": [
    {
     "data": {
      "text/plain": [
       "{'kind': 'youtube#video',\n",
       " 'etag': 'tDAjE81-VuZc8eg2i1fDrh1_fl4',\n",
       " 'id': '_x-eozrCCNM',\n",
       " 'snippet': {'publishedAt': '2022-01-11T14:42:45Z',\n",
       "  'channelId': 'UCFaPzuoXcACu7jplePDfXmA',\n",
       "  'title': \"Effets de la vaccination sur l'épidémie\",\n",
       "  'description': \"Bulletin d'information scientifique de l'IHU - Nous avons le droit d'être intelligents !\\nPr Didier Raoult, Directeur de l'IHU Méditerranée Infection\",\n",
       "  'thumbnails': {'default': {'url': 'https://i.ytimg.com/vi/_x-eozrCCNM/default.jpg',\n",
       "    'width': 120,\n",
       "    'height': 90},\n",
       "   'medium': {'url': 'https://i.ytimg.com/vi/_x-eozrCCNM/mqdefault.jpg',\n",
       "    'width': 320,\n",
       "    'height': 180},\n",
       "   'high': {'url': 'https://i.ytimg.com/vi/_x-eozrCCNM/hqdefault.jpg',\n",
       "    'width': 480,\n",
       "    'height': 360},\n",
       "   'standard': {'url': 'https://i.ytimg.com/vi/_x-eozrCCNM/sddefault.jpg',\n",
       "    'width': 640,\n",
       "    'height': 480},\n",
       "   'maxres': {'url': 'https://i.ytimg.com/vi/_x-eozrCCNM/maxresdefault.jpg',\n",
       "    'width': 1280,\n",
       "    'height': 720}},\n",
       "  'channelTitle': 'IHU Méditerranée-Infection',\n",
       "  'tags': None,\n",
       "  'categoryId': '28',\n",
       "  'liveBroadcastContent': 'none',\n",
       "  'defaultLanguage': 'fr',\n",
       "  'localized': {'title': \"Effets de la vaccination sur l'épidémie\",\n",
       "   'description': \"Bulletin d'information scientifique de l'IHU - Nous avons le droit d'être intelligents !\\nPr Didier Raoult, Directeur de l'IHU Méditerranée Infection\"},\n",
       "  'defaultAudioLanguage': 'fr'},\n",
       " 'contentDetails': {'duration': 'PT38M52S',\n",
       "  'dimension': '2d',\n",
       "  'definition': 'hd',\n",
       "  'caption': 'false',\n",
       "  'licensedContent': False,\n",
       "  'regionRestriction': None,\n",
       "  'contentRating': {},\n",
       "  'projection': 'rectangular',\n",
       "  'hasCustomThumbnail': None},\n",
       " 'status': {'uploadStatus': 'processed',\n",
       "  'failureReason': None,\n",
       "  'rejectionReason': None,\n",
       "  'privacyStatus': 'public',\n",
       "  'publishAt': None,\n",
       "  'license': 'youtube',\n",
       "  'embeddable': True,\n",
       "  'publicStatsViewable': False,\n",
       "  'madeForKids': False,\n",
       "  'selfDeclaredMadeForKids': None},\n",
       " 'statistics': {'viewCount': '3400048',\n",
       "  'likeCount': None,\n",
       "  'dislikeCount': None,\n",
       "  'commentCount': None},\n",
       " 'topicDetails': {'topicIds': None,\n",
       "  'relevantTopicIds': None,\n",
       "  'topicCategories': ['https://en.wikipedia.org/wiki/Society']},\n",
       " 'player': {'embedHtml': '<iframe width=\"480\" height=\"270\" src=\"//www.youtube.com/embed/_x-eozrCCNM\" frameborder=\"0\" allow=\"accelerometer; autoplay; clipboard-write; encrypted-media; gyroscope; picture-in-picture; web-share\" allowfullscreen></iframe>',\n",
       "  'embedHeight': None,\n",
       "  'embedWidth': None},\n",
       " 'liveStreamingDetails': None}"
      ]
     },
     "execution_count": 39,
     "metadata": {},
     "output_type": "execute_result"
    }
   ],
   "source": [
    "video_by_id = api.get_video_by_id(video_id=\"_x-eozrCCNM\")\n",
    "video_by_id.items[0].to_dict()"
   ]
  },
  {
   "cell_type": "markdown",
   "metadata": {},
   "source": [
    "Une fois qu'on a compris, expérimenté, il suffit de réunir tous ces éléments dans un script un peu plus structuré qui fait les différentes opérations"
   ]
  },
  {
   "cell_type": "markdown",
   "metadata": {},
   "source": [
    "## Attention, toujours vérifier !!!!\n",
    "\n",
    "En regardant un peu le premier résultat, on se rend compte que certaines vidéos ne sont pas présentes. En effet, la récupération de toutes les vidéos du canal en laisse de côté. \n",
    "\n",
    "On opte alors pour une stratégie différente, en deux temps :\n",
    "\n",
    "- une solution de scrapping par une bibliothèque ne respectant pas l'API d'abord\n",
    "- l'API pour récupérer les infos"
   ]
  },
  {
   "cell_type": "code",
   "execution_count": 82,
   "metadata": {},
   "outputs": [],
   "source": [
    "#pip install scrapetube"
   ]
  },
  {
   "cell_type": "code",
   "execution_count": null,
   "metadata": {},
   "outputs": [],
   "source": [
    "import scrapetube\n",
    "\n",
    "videos = scrapetube.get_channel(\"UCFaPzuoXcACu7jplePDfXmA\")\n",
    "videos = [i for i in videos]"
   ]
  },
  {
   "cell_type": "code",
   "execution_count": 83,
   "metadata": {},
   "outputs": [
    {
     "data": {
      "text/plain": [
       "1004"
      ]
     },
     "execution_count": 83,
     "metadata": {},
     "output_type": "execute_result"
    }
   ],
   "source": [
    "len(videos)"
   ]
  },
  {
   "cell_type": "markdown",
   "metadata": {},
   "source": [
    "### Automatiser le traitement pour récupérer tous les éléments"
   ]
  },
  {
   "cell_type": "code",
   "execution_count": 64,
   "metadata": {},
   "outputs": [],
   "source": [
    "corpus = [] # corpus vide\n",
    "\n",
    "#Pour chaque vidéo\n",
    "for v in videos:\n",
    "\n",
    "    #Récupérer les infos associées\n",
    "    video_by_id = api.get_video_by_id(video_id=v[\"videoId\"])\n",
    "\n",
    "    # L'ajouter au corpus et comme dans certains cas il y a un souci, gérer les problèmes\n",
    "    try:\n",
    "        corpus.append(video_by_id.items[0].to_dict())\n",
    "    except:\n",
    "        # savoir sur quelle vidéo il y a eu un problème\n",
    "        print(id_v)"
   ]
  },
  {
   "cell_type": "code",
   "execution_count": 13,
   "metadata": {},
   "outputs": [
    {
     "name": "stdout",
     "output_type": "stream",
     "text": [
      "GLMnh_bZgts\n",
      "wJnLBrfJjGQ\n",
      "KnoNfKs8Sbc\n",
      "TYtZ58tdzrE\n",
      "s4akUnZdhvM\n",
      "On2CjcaHU7c\n",
      "rW2Oj1dLPPI\n",
      "Q4zzF0_8R-A\n"
     ]
    }
   ],
   "source": [
    "corpus = [] # corpus vide\n",
    "\n",
    "# récupérer les éléments de la playliste d'intérêt\n",
    "playlists = api.get_playlists(channel_id=\"UCFaPzuoXcACu7jplePDfXmA\",count=None)\n",
    "\n",
    "#Pour chaque élément p de cette playliste\n",
    "for p in playlists.items:\n",
    "    \n",
    "    # Récupérer les vidéos associées\n",
    "    videos = api.get_playlist_items(playlist_id=p.id,count=None).items\n",
    "    \n",
    "    #Pour chaque vidéo\n",
    "    for v in videos:\n",
    "        \n",
    "        # Prendre l'id\n",
    "        id_v = v.to_dict()['snippet'][\"resourceId\"]['videoId']\n",
    "        \n",
    "        #Récupérer les infos associées\n",
    "        video_by_id = api.get_video_by_id(video_id=id_v)\n",
    "        \n",
    "        # L'ajouter au corpus et comme dans certains cas il y a un souci, gérer les problèmes\n",
    "        try:\n",
    "            corpus.append(video_by_id.items[0].to_dict())\n",
    "        except:\n",
    "            # savoir sur quelle vidéo il y a eu un problème\n",
    "            print(id_v)"
   ]
  },
  {
   "cell_type": "markdown",
   "metadata": {},
   "source": [
    "### On sauvegarde pour ne pas perdre les données"
   ]
  },
  {
   "cell_type": "code",
   "execution_count": 66,
   "metadata": {},
   "outputs": [],
   "source": [
    "import pickle\n",
    "pickle.dump(corpus, open(\"IHU-Youtube-Video.pickle\",\"wb\"))"
   ]
  },
  {
   "cell_type": "code",
   "execution_count": 67,
   "metadata": {},
   "outputs": [
    {
     "data": {
      "text/plain": [
       "1004"
      ]
     },
     "execution_count": 67,
     "metadata": {},
     "output_type": "execute_result"
    }
   ],
   "source": [
    "len(corpus)"
   ]
  },
  {
   "cell_type": "markdown",
   "metadata": {},
   "source": [
    "## 2. Transformer les données vers un tableau\n",
    "\n",
    "La prochaine étape est de passer des données récoltées à un tableau pour faire des statistiques : passage de données non structurées à des données structurées."
   ]
  },
  {
   "cell_type": "markdown",
   "metadata": {},
   "source": [
    "### Charger des outils : tableaux et visualisation"
   ]
  },
  {
   "cell_type": "code",
   "execution_count": 68,
   "metadata": {},
   "outputs": [],
   "source": [
    "import pandas as pd\n",
    "import matplotlib.pyplot as plt\n",
    "\n",
    "# Si on veut, on peut charger les données sauvegardées\n",
    "import pickle\n",
    "corpus = pickle.load(open(\"IHU-Youtube-Video.pickle\",\"rb\"))"
   ]
  },
  {
   "cell_type": "markdown",
   "metadata": {},
   "source": [
    "Construire un tableau en prenant les données qui nous intéressent et en les mettant en forme dans un dataframe"
   ]
  },
  {
   "cell_type": "code",
   "execution_count": 69,
   "metadata": {},
   "outputs": [
    {
     "data": {
      "text/plain": [
       "{'kind': 'youtube#video',\n",
       " 'etag': 'zzw9z8wbuS-fpIdw8Wn0ZWV0cOY',\n",
       " 'id': 'T5at_cWbFYw',\n",
       " 'snippet': {'publishedAt': '2023-03-22T17:49:11Z',\n",
       "  'channelId': 'UCFaPzuoXcACu7jplePDfXmA',\n",
       "  'title': 'Les recherches sur le Microbiote - Partie 4',\n",
       "  'description': 'NASH & Microbiote, Pr Matthieu Million',\n",
       "  'thumbnails': {'default': {'url': 'https://i.ytimg.com/vi/T5at_cWbFYw/default.jpg',\n",
       "    'width': 120,\n",
       "    'height': 90},\n",
       "   'medium': {'url': 'https://i.ytimg.com/vi/T5at_cWbFYw/mqdefault.jpg',\n",
       "    'width': 320,\n",
       "    'height': 180},\n",
       "   'high': {'url': 'https://i.ytimg.com/vi/T5at_cWbFYw/hqdefault.jpg',\n",
       "    'width': 480,\n",
       "    'height': 360},\n",
       "   'standard': {'url': 'https://i.ytimg.com/vi/T5at_cWbFYw/sddefault.jpg',\n",
       "    'width': 640,\n",
       "    'height': 480},\n",
       "   'maxres': {'url': 'https://i.ytimg.com/vi/T5at_cWbFYw/maxresdefault.jpg',\n",
       "    'width': 1280,\n",
       "    'height': 720}},\n",
       "  'channelTitle': 'IHU Méditerranée-Infection',\n",
       "  'tags': None,\n",
       "  'categoryId': '28',\n",
       "  'liveBroadcastContent': 'none',\n",
       "  'defaultLanguage': 'fr',\n",
       "  'localized': {'title': 'Les recherches sur le Microbiote - Partie 4',\n",
       "   'description': 'NASH & Microbiote, Pr Matthieu Million'},\n",
       "  'defaultAudioLanguage': 'fr'},\n",
       " 'contentDetails': {'duration': 'PT9M21S',\n",
       "  'dimension': '2d',\n",
       "  'definition': 'hd',\n",
       "  'caption': 'false',\n",
       "  'licensedContent': False,\n",
       "  'regionRestriction': None,\n",
       "  'contentRating': {},\n",
       "  'projection': 'rectangular',\n",
       "  'hasCustomThumbnail': None},\n",
       " 'status': {'uploadStatus': 'processed',\n",
       "  'failureReason': None,\n",
       "  'rejectionReason': None,\n",
       "  'privacyStatus': 'public',\n",
       "  'publishAt': None,\n",
       "  'license': 'youtube',\n",
       "  'embeddable': True,\n",
       "  'publicStatsViewable': False,\n",
       "  'madeForKids': False,\n",
       "  'selfDeclaredMadeForKids': None},\n",
       " 'statistics': {'viewCount': '4240',\n",
       "  'likeCount': None,\n",
       "  'dislikeCount': None,\n",
       "  'commentCount': None},\n",
       " 'topicDetails': {'topicIds': None,\n",
       "  'relevantTopicIds': None,\n",
       "  'topicCategories': ['https://en.wikipedia.org/wiki/Knowledge']},\n",
       " 'player': {'embedHtml': '<iframe width=\"480\" height=\"270\" src=\"//www.youtube.com/embed/T5at_cWbFYw\" frameborder=\"0\" allow=\"accelerometer; autoplay; clipboard-write; encrypted-media; gyroscope; picture-in-picture; web-share\" allowfullscreen></iframe>',\n",
       "  'embedHeight': None,\n",
       "  'embedWidth': None},\n",
       " 'liveStreamingDetails': None}"
      ]
     },
     "execution_count": 69,
     "metadata": {},
     "output_type": "execute_result"
    }
   ],
   "source": [
    "corpus[0]"
   ]
  },
  {
   "cell_type": "code",
   "execution_count": 71,
   "metadata": {},
   "outputs": [
    {
     "data": {
      "text/html": [
       "<div>\n",
       "<style scoped>\n",
       "    .dataframe tbody tr th:only-of-type {\n",
       "        vertical-align: middle;\n",
       "    }\n",
       "\n",
       "    .dataframe tbody tr th {\n",
       "        vertical-align: top;\n",
       "    }\n",
       "\n",
       "    .dataframe thead th {\n",
       "        text-align: right;\n",
       "    }\n",
       "</style>\n",
       "<table border=\"1\" class=\"dataframe\">\n",
       "  <thead>\n",
       "    <tr style=\"text-align: right;\">\n",
       "      <th></th>\n",
       "      <th>Titre</th>\n",
       "      <th>Date</th>\n",
       "      <th>Vues</th>\n",
       "      <th>ID</th>\n",
       "      <th>Vues_M</th>\n",
       "    </tr>\n",
       "    <tr>\n",
       "      <th>date</th>\n",
       "      <th></th>\n",
       "      <th></th>\n",
       "      <th></th>\n",
       "      <th></th>\n",
       "      <th></th>\n",
       "    </tr>\n",
       "  </thead>\n",
       "  <tbody>\n",
       "    <tr>\n",
       "      <th>2023-03-22 17:49:11+00:00</th>\n",
       "      <td>Les recherches sur le Microbiote - Partie 4</td>\n",
       "      <td>2023-03-22T17:49:11Z</td>\n",
       "      <td>4240</td>\n",
       "      <td>T5at_cWbFYw</td>\n",
       "      <td>0.004240</td>\n",
       "    </tr>\n",
       "    <tr>\n",
       "      <th>2023-03-15 16:00:13+00:00</th>\n",
       "      <td>Les recherches sur le Microbiote - Partie 3</td>\n",
       "      <td>2023-03-15T16:00:13Z</td>\n",
       "      <td>3422</td>\n",
       "      <td>Ob2Z7xRuNq0</td>\n",
       "      <td>0.003422</td>\n",
       "    </tr>\n",
       "    <tr>\n",
       "      <th>2023-03-08 16:00:08+00:00</th>\n",
       "      <td>Les recherches sur le Microbiote - Partie 2</td>\n",
       "      <td>2023-03-08T16:00:08Z</td>\n",
       "      <td>4551</td>\n",
       "      <td>IWRCZqzBmTs</td>\n",
       "      <td>0.004551</td>\n",
       "    </tr>\n",
       "    <tr>\n",
       "      <th>2023-03-01 16:00:26+00:00</th>\n",
       "      <td>Les recherches sur le Microbiote - Partie 1</td>\n",
       "      <td>2023-03-01T16:00:26Z</td>\n",
       "      <td>8858</td>\n",
       "      <td>qBqp2mIojPQ</td>\n",
       "      <td>0.008858</td>\n",
       "    </tr>\n",
       "    <tr>\n",
       "      <th>2023-03-01 09:39:57+00:00</th>\n",
       "      <td>New Players of NAFLD pathogenesis (CD44 and SYK)</td>\n",
       "      <td>2023-03-01T09:39:57Z</td>\n",
       "      <td>2463</td>\n",
       "      <td>Tf_djdwj57g</td>\n",
       "      <td>0.002463</td>\n",
       "    </tr>\n",
       "    <tr>\n",
       "      <th>...</th>\n",
       "      <td>...</td>\n",
       "      <td>...</td>\n",
       "      <td>...</td>\n",
       "      <td>...</td>\n",
       "      <td>...</td>\n",
       "    </tr>\n",
       "    <tr>\n",
       "      <th>2018-01-12 12:50:55+00:00</th>\n",
       "      <td>Séminaire H.GROSSET  08-07-2016 - ifr48</td>\n",
       "      <td>2018-01-12T12:50:55Z</td>\n",
       "      <td>3538</td>\n",
       "      <td>nqjni3e0LM0</td>\n",
       "      <td>0.003538</td>\n",
       "    </tr>\n",
       "    <tr>\n",
       "      <th>2018-01-12 12:25:03+00:00</th>\n",
       "      <td>Séminaire - Didier Raoult Séminaire - 05/01/2018</td>\n",
       "      <td>2018-01-12T12:25:03Z</td>\n",
       "      <td>3453</td>\n",
       "      <td>5GX87Og4GNQ</td>\n",
       "      <td>0.003453</td>\n",
       "    </tr>\n",
       "    <tr>\n",
       "      <th>2015-10-08 14:36:46+00:00</th>\n",
       "      <td>Conférence de Presse de D. Raoult du 07 Octobr...</td>\n",
       "      <td>2015-10-08T14:36:46Z</td>\n",
       "      <td>3679</td>\n",
       "      <td>O015E9FB2m0</td>\n",
       "      <td>0.003679</td>\n",
       "    </tr>\n",
       "    <tr>\n",
       "      <th>2012-06-21 14:19:04+00:00</th>\n",
       "      <td>Staff Richet 20 06 2012</td>\n",
       "      <td>2012-06-21T14:19:04Z</td>\n",
       "      <td>110</td>\n",
       "      <td>BMZy_mXeMjE</td>\n",
       "      <td>0.000110</td>\n",
       "    </tr>\n",
       "    <tr>\n",
       "      <th>2012-03-08 14:12:12+00:00</th>\n",
       "      <td>Séminaire Didier Raoult - 24/02/2012 - ifr48</td>\n",
       "      <td>2012-03-08T14:12:12Z</td>\n",
       "      <td>2740</td>\n",
       "      <td>IMeGw3-puA4</td>\n",
       "      <td>0.002740</td>\n",
       "    </tr>\n",
       "  </tbody>\n",
       "</table>\n",
       "<p>1004 rows × 5 columns</p>\n",
       "</div>"
      ],
      "text/plain": [
       "                                                                       Titre  \\\n",
       "date                                                                           \n",
       "2023-03-22 17:49:11+00:00        Les recherches sur le Microbiote - Partie 4   \n",
       "2023-03-15 16:00:13+00:00        Les recherches sur le Microbiote - Partie 3   \n",
       "2023-03-08 16:00:08+00:00        Les recherches sur le Microbiote - Partie 2   \n",
       "2023-03-01 16:00:26+00:00        Les recherches sur le Microbiote - Partie 1   \n",
       "2023-03-01 09:39:57+00:00   New Players of NAFLD pathogenesis (CD44 and SYK)   \n",
       "...                                                                      ...   \n",
       "2018-01-12 12:50:55+00:00            Séminaire H.GROSSET  08-07-2016 - ifr48   \n",
       "2018-01-12 12:25:03+00:00   Séminaire - Didier Raoult Séminaire - 05/01/2018   \n",
       "2015-10-08 14:36:46+00:00  Conférence de Presse de D. Raoult du 07 Octobr...   \n",
       "2012-06-21 14:19:04+00:00                            Staff Richet 20 06 2012   \n",
       "2012-03-08 14:12:12+00:00       Séminaire Didier Raoult - 24/02/2012 - ifr48   \n",
       "\n",
       "                                           Date  Vues           ID    Vues_M  \n",
       "date                                                                          \n",
       "2023-03-22 17:49:11+00:00  2023-03-22T17:49:11Z  4240  T5at_cWbFYw  0.004240  \n",
       "2023-03-15 16:00:13+00:00  2023-03-15T16:00:13Z  3422  Ob2Z7xRuNq0  0.003422  \n",
       "2023-03-08 16:00:08+00:00  2023-03-08T16:00:08Z  4551  IWRCZqzBmTs  0.004551  \n",
       "2023-03-01 16:00:26+00:00  2023-03-01T16:00:26Z  8858  qBqp2mIojPQ  0.008858  \n",
       "2023-03-01 09:39:57+00:00  2023-03-01T09:39:57Z  2463  Tf_djdwj57g  0.002463  \n",
       "...                                         ...   ...          ...       ...  \n",
       "2018-01-12 12:50:55+00:00  2018-01-12T12:50:55Z  3538  nqjni3e0LM0  0.003538  \n",
       "2018-01-12 12:25:03+00:00  2018-01-12T12:25:03Z  3453  5GX87Og4GNQ  0.003453  \n",
       "2015-10-08 14:36:46+00:00  2015-10-08T14:36:46Z  3679  O015E9FB2m0  0.003679  \n",
       "2012-06-21 14:19:04+00:00  2012-06-21T14:19:04Z   110  BMZy_mXeMjE  0.000110  \n",
       "2012-03-08 14:12:12+00:00  2012-03-08T14:12:12Z  2740  IMeGw3-puA4  0.002740  \n",
       "\n",
       "[1004 rows x 5 columns]"
      ]
     },
     "execution_count": 71,
     "metadata": {},
     "output_type": "execute_result"
    }
   ],
   "source": [
    "# extraction uniquement des éléments souhaités\n",
    "df = [[i['snippet'][\"title\"],i['snippet']['publishedAt'],i['statistics']['viewCount'],i[\"id\"]] for i in corpus]\n",
    "\n",
    "# mise sous la forme d'un tableau\n",
    "df = pd.DataFrame(df)\n",
    "\n",
    "#gestion des dates, changement de formats\n",
    "df[\"date\"] = pd.to_datetime(df[1])\n",
    "df = df.set_index(\"date\")\n",
    "df[2] = df[2].apply(int)\n",
    "\n",
    "#mise en forme\n",
    "df.columns = [\"Titre\",\"Date\",\"Vues\",\"ID\"]\n",
    "\n",
    "#calcul en millions de vues\n",
    "df[\"Vues_M\"] = (df[\"Vues\"]/1000000)\n",
    "\n",
    "df"
   ]
  },
  {
   "cell_type": "markdown",
   "metadata": {},
   "source": [
    "## 3. Explorer les données"
   ]
  },
  {
   "cell_type": "markdown",
   "metadata": {},
   "source": [
    "C'est en explorant les données que l'on se rend compte que certaines vidéos manquent, et qu'une autre stratégie est préférable"
   ]
  },
  {
   "cell_type": "code",
   "execution_count": 81,
   "metadata": {},
   "outputs": [
    {
     "data": {
      "text/html": [
       "<div>\n",
       "<style scoped>\n",
       "    .dataframe tbody tr th:only-of-type {\n",
       "        vertical-align: middle;\n",
       "    }\n",
       "\n",
       "    .dataframe tbody tr th {\n",
       "        vertical-align: top;\n",
       "    }\n",
       "\n",
       "    .dataframe thead th {\n",
       "        text-align: right;\n",
       "    }\n",
       "</style>\n",
       "<table border=\"1\" class=\"dataframe\">\n",
       "  <thead>\n",
       "    <tr style=\"text-align: right;\">\n",
       "      <th></th>\n",
       "      <th>Titre</th>\n",
       "      <th>Date</th>\n",
       "      <th>Vues</th>\n",
       "      <th>ID</th>\n",
       "      <th>Vues_M</th>\n",
       "    </tr>\n",
       "    <tr>\n",
       "      <th>date</th>\n",
       "      <th></th>\n",
       "      <th></th>\n",
       "      <th></th>\n",
       "      <th></th>\n",
       "      <th></th>\n",
       "    </tr>\n",
       "  </thead>\n",
       "  <tbody>\n",
       "    <tr>\n",
       "      <th>2022-01-11 14:42:45+00:00</th>\n",
       "      <td>Effets de la vaccination sur l'épidémie</td>\n",
       "      <td>2022-01-11T14:42:45Z</td>\n",
       "      <td>3400051</td>\n",
       "      <td>_x-eozrCCNM</td>\n",
       "      <td>3.400051</td>\n",
       "    </tr>\n",
       "    <tr>\n",
       "      <th>2022-01-04 15:34:00+00:00</th>\n",
       "      <td>Vaccins et Omicron</td>\n",
       "      <td>2022-01-04T15:34:00Z</td>\n",
       "      <td>3543590</td>\n",
       "      <td>x5-5P3ugQ_M</td>\n",
       "      <td>3.543590</td>\n",
       "    </tr>\n",
       "    <tr>\n",
       "      <th>2021-07-13 09:38:39+00:00</th>\n",
       "      <td>Le variant Delta &amp; le futur des vaccins</td>\n",
       "      <td>2021-07-13T09:38:39Z</td>\n",
       "      <td>2710444</td>\n",
       "      <td>VY_5JCxUsrc</td>\n",
       "      <td>2.710444</td>\n",
       "    </tr>\n",
       "    <tr>\n",
       "      <th>2021-05-18 14:21:20+00:00</th>\n",
       "      <td>Épidémie et Pass sanitaire, Intégration du vir...</td>\n",
       "      <td>2021-05-18T14:21:20Z</td>\n",
       "      <td>2040400</td>\n",
       "      <td>UVmXvo1FMOc</td>\n",
       "      <td>2.040400</td>\n",
       "    </tr>\n",
       "    <tr>\n",
       "      <th>2021-05-11 14:08:36+00:00</th>\n",
       "      <td>Effet des vaccins &amp; Corruption</td>\n",
       "      <td>2021-05-11T14:08:36Z</td>\n",
       "      <td>2283079</td>\n",
       "      <td>0-7R3r5_-EA</td>\n",
       "      <td>2.283079</td>\n",
       "    </tr>\n",
       "    <tr>\n",
       "      <th>2020-02-28 10:33:48+00:00</th>\n",
       "      <td>Chloroquine : pourquoi les Chinois se trompera...</td>\n",
       "      <td>2020-02-28T10:33:48Z</td>\n",
       "      <td>2257050</td>\n",
       "      <td>mJl2nPHAo2g</td>\n",
       "      <td>2.257050</td>\n",
       "    </tr>\n",
       "  </tbody>\n",
       "</table>\n",
       "</div>"
      ],
      "text/plain": [
       "                                                                       Titre  \\\n",
       "date                                                                           \n",
       "2022-01-11 14:42:45+00:00            Effets de la vaccination sur l'épidémie   \n",
       "2022-01-04 15:34:00+00:00                                 Vaccins et Omicron   \n",
       "2021-07-13 09:38:39+00:00            Le variant Delta & le futur des vaccins   \n",
       "2021-05-18 14:21:20+00:00  Épidémie et Pass sanitaire, Intégration du vir...   \n",
       "2021-05-11 14:08:36+00:00                     Effet des vaccins & Corruption   \n",
       "2020-02-28 10:33:48+00:00  Chloroquine : pourquoi les Chinois se trompera...   \n",
       "\n",
       "                                           Date     Vues           ID  \\\n",
       "date                                                                    \n",
       "2022-01-11 14:42:45+00:00  2022-01-11T14:42:45Z  3400051  _x-eozrCCNM   \n",
       "2022-01-04 15:34:00+00:00  2022-01-04T15:34:00Z  3543590  x5-5P3ugQ_M   \n",
       "2021-07-13 09:38:39+00:00  2021-07-13T09:38:39Z  2710444  VY_5JCxUsrc   \n",
       "2021-05-18 14:21:20+00:00  2021-05-18T14:21:20Z  2040400  UVmXvo1FMOc   \n",
       "2021-05-11 14:08:36+00:00  2021-05-11T14:08:36Z  2283079  0-7R3r5_-EA   \n",
       "2020-02-28 10:33:48+00:00  2020-02-28T10:33:48Z  2257050  mJl2nPHAo2g   \n",
       "\n",
       "                             Vues_M  \n",
       "date                                 \n",
       "2022-01-11 14:42:45+00:00  3.400051  \n",
       "2022-01-04 15:34:00+00:00  3.543590  \n",
       "2021-07-13 09:38:39+00:00  2.710444  \n",
       "2021-05-18 14:21:20+00:00  2.040400  \n",
       "2021-05-11 14:08:36+00:00  2.283079  \n",
       "2020-02-28 10:33:48+00:00  2.257050  "
      ]
     },
     "execution_count": 81,
     "metadata": {},
     "output_type": "execute_result"
    }
   ],
   "source": [
    "df[df[\"Vues_M\"]>2]"
   ]
  },
  {
   "cell_type": "code",
   "execution_count": 79,
   "metadata": {},
   "outputs": [
    {
     "data": {
      "text/plain": [
       "51"
      ]
     },
     "execution_count": 79,
     "metadata": {},
     "output_type": "execute_result"
    }
   ],
   "source": [
    "df[\"Titre\"].str.contains(\"Raoult\").sum()"
   ]
  },
  {
   "cell_type": "code",
   "execution_count": 76,
   "metadata": {},
   "outputs": [
    {
     "data": {
      "text/plain": [
       "count    1004.000000\n",
       "mean        0.123578\n",
       "std         0.340269\n",
       "min         0.000008\n",
       "25%         0.000064\n",
       "50%         0.000825\n",
       "75%         0.036930\n",
       "max         3.543590\n",
       "Name: Vues_M, dtype: float64"
      ]
     },
     "execution_count": 76,
     "metadata": {},
     "output_type": "execute_result"
    }
   ],
   "source": [
    "df[\"Vues_M\"].describe()"
   ]
  },
  {
   "cell_type": "markdown",
   "metadata": {},
   "source": [
    "## 4. et 5. Statistiques et visualisations"
   ]
  },
  {
   "cell_type": "markdown",
   "metadata": {},
   "source": [
    "Faire une représentation graphique en regroupant par jours les vidéos"
   ]
  },
  {
   "cell_type": "code",
   "execution_count": 80,
   "metadata": {},
   "outputs": [
    {
     "data": {
      "image/png": "[encoded data removed]",
      "text/plain": [
       "<Figure size 1500x500 with 1 Axes>"
      ]
     },
     "metadata": {},
     "output_type": "display_data"
    }
   ],
   "source": [
    "ax = df[\"Vues_M\"].resample(\"d\").sum().fillna(0).plot(figsize=(15,5),style=\"-\")\n",
    "\n",
    "# Fenêtre temporelle\n",
    "plt.xlim(pd.to_datetime(\"2019-06-01\"), pd.to_datetime(\"2023-03-30\"))\n",
    "\n",
    "# Mise en forme et sauvegarde\n",
    "plt.ylabel(\"Nombre de vues (en million)\")\n",
    "plt.xlabel(\"Date\")\n",
    "plt.title(\"Chaîne Youtube de l'IHU\")\n",
    "plt.savefig(\"ihu_youtube.png\",dpi=200,bbox_inches=\"tight\")"
   ]
  },
  {
   "cell_type": "markdown",
   "metadata": {},
   "source": [
    "## Aller plus loin\n",
    "\n",
    "Il est possible d'utiliser le moteur de retranscription de Youtube pour avoir une partie au moins des propos"
   ]
  },
  {
   "cell_type": "code",
   "execution_count": 38,
   "metadata": {},
   "outputs": [],
   "source": [
    "# pip install youtube_transcript_api"
   ]
  },
  {
   "cell_type": "code",
   "execution_count": 40,
   "metadata": {
    "scrolled": false
   },
   "outputs": [
    {
     "data": {
      "text/plain": [
       "['professeur didier rahout pouvez vous',\n",
       " 'faire un point sur les différents tests',\n",
       " 'disponibles diagnostics locaux vides',\n",
       " \"lesquels sont validées qu'elles ne sont\",\n",
       " 'pas valides lesquels sont les plus',\n",
       " 'efficaces aux nuits si tu as un bon',\n",
       " \"exemple de d'illustration duché que tout\",\n",
       " \"part dans tous les sens et qu' il n'y a\",\n",
       " 'pas beaucoup de science dans toutes ses',\n",
       " 'décisions une partie des signes en']"
      ]
     },
     "execution_count": 40,
     "metadata": {},
     "output_type": "execute_result"
    }
   ],
   "source": [
    "from youtube_transcript_api import YouTubeTranscriptApi\n",
    "\n",
    "tr = YouTubeTranscriptApi.get_transcript(\"ngaRgZDENOg\",languages=['fr'])\n",
    "[i[\"text\"] for i in tr][0:10]"
   ]
  },
  {
   "cell_type": "markdown",
   "metadata": {},
   "source": [
    "Bon, il y a de la marge d'amélioration"
   ]
  }
 ],
 "metadata": {
  "kernelspec": {
   "display_name": "Python 3 (ipykernel)",
   "language": "python",
   "name": "python3"
  },
  "language_info": {
   "codemirror_mode": {
    "name": "ipython",
    "version": 3
   },
   "file_extension": ".py",
   "mimetype": "text/x-python",
   "name": "python",
   "nbconvert_exporter": "python",
   "pygments_lexer": "ipython3",
   "version": "3.10.9"
  }
 },
 "nbformat": 4,
 "nbformat_minor": 4
}
