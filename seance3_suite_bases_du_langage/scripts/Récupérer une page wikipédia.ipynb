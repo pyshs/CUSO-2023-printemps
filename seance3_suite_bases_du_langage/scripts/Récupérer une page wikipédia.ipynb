{
 "cells": [
  {
   "cell_type": "markdown",
   "id": "70776331",
   "metadata": {},
   "source": [
    "# Récupérer une page wikipédia"
   ]
  },
  {
   "cell_type": "markdown",
   "id": "ce99fa7f",
   "metadata": {},
   "source": [
    "Objectif : récupérer une page wikipédia pour tester la présence de certains mots"
   ]
  },
  {
   "cell_type": "markdown",
   "id": "3cc4e46b",
   "metadata": {},
   "source": [
    "## Un peu d'explication ce qu'est une page web / API\n",
    "\n",
    "Serveur web \n",
    "\n",
    "- un serveur qui maintient un service http qui permet d'envoyer des informations avec un protocole\n",
    "- un navigateur qui met en forme ces informations pour l'utilisateur\n",
    "\n",
    "API\n",
    "\n",
    "- un serveur qui envoie l'information potentiellement sous d'autres formes : notion d'API\n",
    "- et des services qui recoivent cette application\n",
    "\n",
    "Donc on peut accéder à la page :\n",
    "\n",
    "- par le web\n",
    "- par l'API s'il y en a une"
   ]
  },
  {
   "cell_type": "markdown",
   "id": "01612509",
   "metadata": {},
   "source": [
    "## Récupérer une page web\n",
    "\n",
    "une pratique fréquente : des outils dédiés ont été conçus\n",
    "\n",
    "En python : un **module** dédié : urllib https://docs.python.org/3/library/urllib.html\n",
    "\n",
    "Le module n'est pas directement disponible : il faut le charger"
   ]
  },
  {
   "cell_type": "code",
   "execution_count": 1,
   "id": "162c8a47",
   "metadata": {},
   "outputs": [],
   "source": [
    "import urllib"
   ]
  },
  {
   "cell_type": "markdown",
   "id": "3dc4daf3",
   "metadata": {},
   "source": [
    "Le module devient un *namespace*, qui contient d'autres choses. On a pas besoin de tout. On peut uniquement charger un élément, par exemple la fonction pour récupérer une page"
   ]
  },
  {
   "cell_type": "code",
   "execution_count": 4,
   "id": "b85c0546",
   "metadata": {},
   "outputs": [],
   "source": [
    "from urllib.request import urlopen"
   ]
  },
  {
   "cell_type": "markdown",
   "id": "3a1008c8",
   "metadata": {},
   "source": [
    "Comment l'utiliser ? Le mieux est de regarder des tutoriaux : https://realpython.com/urllib-request/"
   ]
  },
  {
   "cell_type": "code",
   "execution_count": 10,
   "id": "946d3921",
   "metadata": {},
   "outputs": [],
   "source": [
    "page = urlopen(\"https://fr.wikipedia.org/wiki/Sociologie\")"
   ]
  },
  {
   "cell_type": "code",
   "execution_count": 8,
   "id": "9ee8d83f",
   "metadata": {},
   "outputs": [
    {
     "data": {
      "text/plain": [
       "http.client.HTTPResponse"
      ]
     },
     "execution_count": 8,
     "metadata": {},
     "output_type": "execute_result"
    }
   ],
   "source": [
    "type(page)"
   ]
  },
  {
   "cell_type": "markdown",
   "id": "9eab9825",
   "metadata": {},
   "source": [
    "Cela crée un lien vers la page, que l'on peut utiliser pour lire : "
   ]
  },
  {
   "cell_type": "code",
   "execution_count": 11,
   "id": "c89dfb2f",
   "metadata": {},
   "outputs": [],
   "source": [
    "contenu = page.read()"
   ]
  },
  {
   "cell_type": "code",
   "execution_count": 14,
   "id": "774761c8",
   "metadata": {},
   "outputs": [
    {
     "data": {
      "text/plain": [
       "bytes"
      ]
     },
     "execution_count": 14,
     "metadata": {},
     "output_type": "execute_result"
    }
   ],
   "source": [
    "type(contenu)"
   ]
  },
  {
   "cell_type": "markdown",
   "id": "9ccc4760",
   "metadata": {},
   "source": [
    "Si maintenant on définit un mot on peut faire un petit scipt :"
   ]
  },
  {
   "cell_type": "code",
   "execution_count": 17,
   "id": "b82dd5c9",
   "metadata": {},
   "outputs": [
    {
     "data": {
      "text/plain": [
       "0"
      ]
     },
     "execution_count": 17,
     "metadata": {},
     "output_type": "execute_result"
    }
   ],
   "source": [
    "url = \"https://fr.wikipedia.org/wiki/Sociologie\"\n",
    "mot = \"programmation\"\n",
    "page = urlopen(url)\n",
    "contenu = str(page.read())\n",
    "contenu.count(mot)"
   ]
  },
  {
   "cell_type": "markdown",
   "id": "ec92f190",
   "metadata": {},
   "source": [
    "Exercice \n",
    "\n",
    "- mettre en minuscule\n",
    "- tester plusieurs mots\n",
    "- tester plusieurs liens"
   ]
  },
  {
   "cell_type": "markdown",
   "id": "ba9fc89b",
   "metadata": {},
   "source": [
    "## Mais en fait wikipédia a une API\n",
    "\n",
    "Et il y a un wrapper Python : https://github.com/martin-majlis/Wikipedia-API\n",
    "\n",
    "Regarder un peu la page pour comprendre\n",
    "\n",
    "- aide\n",
    "- code\n",
    "- version\n",
    "- bugs\n",
    "- limites"
   ]
  },
  {
   "cell_type": "markdown",
   "id": "c11f0e7b",
   "metadata": {},
   "source": [
    "### Installer une bibliothèque que l'on n'a pas encore"
   ]
  },
  {
   "cell_type": "code",
   "execution_count": 19,
   "id": "6da073ee",
   "metadata": {},
   "outputs": [],
   "source": [
    "#!pip install wikipedia-api"
   ]
  },
  {
   "cell_type": "code",
   "execution_count": 20,
   "id": "0032e219",
   "metadata": {},
   "outputs": [],
   "source": [
    "import wikipediaapi"
   ]
  },
  {
   "cell_type": "markdown",
   "id": "2e17ee9e",
   "metadata": {},
   "source": [
    "Créer un nouvel objet"
   ]
  },
  {
   "cell_type": "code",
   "execution_count": 22,
   "id": "378297de",
   "metadata": {},
   "outputs": [],
   "source": [
    "wiki_wiki = wikipediaapi.Wikipedia('fr')"
   ]
  },
  {
   "cell_type": "code",
   "execution_count": 23,
   "id": "0d3331b7",
   "metadata": {},
   "outputs": [
    {
     "data": {
      "text/plain": [
       "wikipediaapi.Wikipedia"
      ]
     },
     "execution_count": 23,
     "metadata": {},
     "output_type": "execute_result"
    }
   ],
   "source": [
    "type(wiki_wiki)"
   ]
  },
  {
   "cell_type": "markdown",
   "id": "97664301",
   "metadata": {},
   "source": [
    "Obtenir une page"
   ]
  },
  {
   "cell_type": "code",
   "execution_count": 26,
   "id": "3008c5b6",
   "metadata": {},
   "outputs": [],
   "source": [
    "page = wiki_wiki.page(\"Sociologie\")"
   ]
  },
  {
   "cell_type": "markdown",
   "id": "128257e5",
   "metadata": {},
   "source": [
    "Données mises en forme"
   ]
  },
  {
   "cell_type": "code",
   "execution_count": 30,
   "id": "3a2ebd20",
   "metadata": {},
   "outputs": [
    {
     "data": {
      "text/plain": [
       "\"La sociologie est une discipline des sciences sociales qui a pour objectif de rechercher des explications et des compréhensions typiquement sociales, et non pas mentales ou biophysiques, à des phénomènes observables. La sociologie étudie les relations sociales qui produisent par exemple, selon les approches : des pratiques, des faits sociaux, des interactions, des identités sociales, des institutions sociales, des organisations, des réseaux, des cultures, des classes sociales, des normes sociales ainsi que de toutes ces entités qui n'ont pas d'explications purement biophysiques ou mentales et qui sont produites par les individus et groupes sociaux. Une explication sociologique est vue comme le produit d'une démarche scientifique, afin de rendre compte, expliquer ou comprendre un phénomène social. Le savoir sociologique, par sa méthodologie, se distingue du sens commun.\\nL'analyse sociologique peut se placer à différentes échelles et contextes : échelle macrosociale, méso ou micro mais aussi à différentes époques.\\nLa recherche sociologique informe les personnalités politiques et les autorités publiques, les éducateurs, les travailleurs sociaux, les législateurs, et de nombreux autres organismes et décideurs ainsi que tous ceux intéressés par la résolution de problèmes sociaux. De nombreux sociologues sont aujourd'hui employés par des institutions publiques, des collectivités territoriales ou des entreprises privées à fin d'expertise ou de consultance.\\n\\nOrigine du terme\\nLe terme de sociologie est forgé dans les années 1780 par Emmanuel-Joseph Sieyès, à partir du préfixe « socio » du mot latin socius signifiant « compagnon, associé » et du suffixe « logie » du terme grec ancien λόγος logos, signifiant « discours, parole ». Il s'agit donc étymologiquement d'une science des relations.\\nLe terme est popularisé par Auguste Comte dans le sens d'une « physique sociale » à partir de 1839. L'emploi du mot sociologie serait né d'une petite querelle : Auguste Comte, secrétaire de Saint-Simon de 1817 à 1823, veut reprendre l'idée de création d'une science de la société. Il la nomme d'abord « physique sociale » ; mais ce terme est déjà utilisé par d'autre, notamment par le Belge Adolphe Quetelet. Ce dernier l'utilise pour désigner des travaux statistiques portant sur les phénomènes sociaux. Quetelet sera plus tard considéré comme un précurseur de la démographie, discipline restant proche de la sociologie.\\nS'il est possible de dater avec une relative précision l'invention du mot sociologie, la production du premier cours de sociologie ou encore la constitution du premier département universitaire de sociologie, il est également toujours possible de reconnaître chez des auteurs antérieurs des formes de réflexion ou d'imagination sociologique.\\n\\nHistoire\\nPrécurseurs\\nDès l'Antiquité, le raisonnement sociologique se retrouve chez certains auteurs, comme Confucius ou Cicéron. Les Sophistes inaugurent dans le domaine social l'essentiel de la méthode scientifique, c'est-à-dire l'observation, la comparaison et la critique. Encore aujourd'hui, des ouvrages comme le Ménon de Platon ou Éthique à Nicomaque d'Aristote constituent des sources dans lesquelles puise la sociologie.\\nLes origines de l'enquête statistique remontent au XIe siècle, lorsque Guillaume le Conquérant ordonne en 1086 l'organisation d'un recensement sur son territoire, publié sous le nom de Domesday Book,. Au XIIIe siècle, Ma Duanlin, un historien chinois, souligne l'existence de dynamiques sociales sous-jacentes à l'évolution historique dans son encyclopédie, Wenxian Tongkao.\\nSelon Lilia Ben Salem, en rupture avec ses prédécesseurs, Ibn Khaldoun marque au XIVe siècle un tournant en sociologie. Sa façon d'analyser les changements sociaux et politiques qu'il a observés dans le Maghreb et l'Espagne de son époque a conduit à le considérer comme un précurseur de la sociologie et démographie moderne bien qu'il fût inconnu des principaux fondateurs de ces disciplines,,,. Son ouvrage majeur, la Muqaddima, où il expose sa vision de la façon dont naissent et meurent les empires, est peut-être le premier à avoir un raisonnement scientifique et sociologique sur la cohésion sociale et le conflit social, effectivement les Romains pensaient ces concepts en termes politique, même si la distinction est ténue,,,,. Il conçoit une théorie dynamique de l'histoire et développe les concepts de changements et conflits sociaux. Il élabore également une dichotomie entre vie nomade et vie sédentaire. La Muqaddimah peut être considérée comme un ouvrage de sociologie générale, où y sont développés des thèmes aussi variés que la vie urbaine, la politique, l'économie et la connaissance. Son travail se base sur un concept central, celui de 'asabiyyah, traduit en français par « cohésion sociale », « solidarité de groupe » ou « tribalisme ». Cette cohésion sociale survient spontanément dans des communautés et peut-être intensifiée par la religion. Il analyse la manière dont ce qui fait la cohésion politique, économique, psychologique, sociologique du groupe est aussi à l'origine de sa ruine, et sera alors remplacé par un autre groupe lié de manière plus étroite.\\nC'est à partir du XVIe siècle que se constitue le terreau fertile d'un mode d'interrogation de la société, qui donnera par la suite lieu à la sociologie. Les bouleversements scientifiques qui s'opèrent grâce aux découvertes de Kepler, Galilée et Copernic, entre autres, conduisent, aux côtés du mouvement humaniste qui place l'Homme au centre des débats, à renverser l'ordre établi et à enclencher une « révolution qui modifia les fondements et les cadres mêmes de notre pensée et dont la science moderne est à la fois la racine et le fruit ». La remise en cause de l'ordre divin va donc, au XVIIIe siècle, ouvrir le champ à de nombreuses théories tâchant de comprendre les fondements des sociétés.\\nC'est le cas de tous les théoriciens du contrat social, que ce soit John Locke, Jean-Jacques Rousseau ou Thomas Hobbes. Ils pensent alors l'origine de la société et de l'État comme un contrat originaire entre les hommes, par lequel ceux-ci acceptent une limitation de leur liberté en échange de lois garantissant la perpétuation du corps social. Les premières tentatives d'étudier la société — et sa diversité — comme un objet d'analyse à part entière, se retrouvent chez Montesquieu dans De l'esprit des lois et chez Giambattista Vico dans La Science nouvelle,. Ces auteurs posent les bases théoriques et problématiques de la science de la société humaine, et de la relation entre l'action individuelle, les structures sociales et le contexte historique. Peu à peu se développe une démarche qui vise à expliquer les phénomènes sociaux en se détachant d'une vision fataliste, qui décrète l'accomplissement inéluctable d'une destinée. Le siècle des Lumières voit l'émergence de théories qui cherchent à expliquer et comprendre les actions individuelles et leurs conséquences, comme dans le Traité de la nature humaine de David Hume ou les Recherches sur la nature et les causes de la richesse des nations d'Adam Smith.\\nC'est en 1780 que le terme sociologie naît,, sous la plume de l'essayiste français Emmanuel-Joseph Sieyès. Dérivé du latin socius (compagnon, associé), accompagné du suffixe -ology (l'étude de), provenant du grec λόγος, lógos (savoir, connaissance),. En 1838, Auguste Comte donnera au terme le sens qu'on lui attribue aujourd'hui. Harriet Martineau traduisit certaines des œuvres d'Auguste Comte en anglais et publia le premier traité de méthodologie en sciences sociales.\\n\\nInstitutionnalisation\\nÉcole française de sociologie\\nEn 1903, Henri Hauser affirmait que « les sciences sociales sont terriblement à la mode. C'est la tarte à la crème de toutes les réunions mondaines, de tous les discours, de tous les journaux, et nul n'a d'esprit s'il n'est sociologue. » En effet, en quelques années seulement, la sociologie a su se faire une place dans le champ intellectuel français, avec des figures comme Émile Durkheim, René Worms ou Gabriel Tarde. Pour Charles-Henry Cuin et François Gresle, l'institutionnalisation de la sociologie en France tient de plusieurs facteurs : d'un côté, la refonte de l'enseignement supérieur dans les années 1880 ouvre la voie aux sciences sociales ; de l'autre, les initiatives d'acteurs privés. Dans les années 1880 et jusqu'au début des années 1890, il n'existe encore aucun organe de diffusion strictement destinée aux théories sociologiques.\\nC'est René Worms, normalien réputé, tenant de la théorie organiciste, qui constituera les premières institutions de la sociologie : il crée en 1893 la Revue internationale de sociologie, en 1894, l'Institut international de sociologie et la collection d'ouvrages « Bibliothèque sociologique internationale » chez l'éditeur Giard & Brière, et en 1895, la Société de sociologie de Paris. Malgré cela, René Worms ne contribuera que très peu à l'ancrage de la sociologie : en s'assurant le concours d'universitaires confirmés — provenant donc d'horizons variés —, il ne tient pas compte des récentes avancées dans le domaine, et ses sociétés s'en retrouvent peu pertinentes, d'autant plus que se constituent au même moment dans les universités des équipes nationales de recherche aux perspectives théoriques plus abouties que les siennes. En France, c'est Émile Durkheim, notamment via la revue L'Année sociologique, qui devient la figure de proue de la discipline.\\n\\nÉmile Durkheim\\nIncontestablement, Émile Durkheim s'est imposé comme le chef de file de la sociologie en France,,,, si bien que l'école de Durkheim domine jusqu'à la Première guerre mondiale la sociologie française,. Il propose en effet une théorie englobante de la sociologie : un objet, les faits sociaux, et une méthode, qu'il expose dans Les Règles de la méthode sociologique,,. Tenant d'une conception holiste de l'étude des phénomènes sociaux, il considère que le social existe indépendamment de la conscience que nous en avons. Le fait social est donc un fait extérieur à la volonté des individus, et irréductible à une étude individuelle.\\nAprès des études de philosophie à l'école normale supérieure, il obtient une bourse d'agrégé et suit les cours de Wilhelm Wundt à l'université de Leipzig. De retour en France, il enseigne à l'université de Bordeaux la pédagogie et la science sociale, et y introduit pour la première fois dans une université française la sociologie,. Dès son premier ouvrage, De la division du travail social (1893), Durkheim propose une méthode d'approche systématique des faits sociaux. Après Les Règles de la méthode sociologique (1895), Durkheim donne dans Le Suicide (1897) une démonstration éclatante de l'intérêt et de la portée du rationalisme expérimental en sociologie. En 1896, il fonde avec Célestin Bouglé la revue L'Année sociologique, autour de laquelle va se constituer l'école durkheimienne et qui devient l'organe principal de publication des productions en sciences sociales à cette époque. Les deux fondateurs, via cette revue, se posent alors pour objectifs d'asseoir la discipline sur des bases scientifiques et d'y réunir les tenants de la sociologie française. Autour de la revue de Durkheim et Bouglé se greffent progressivement d'autres universitaires : Marcel Mauss, François Simiand, Maurice Halbwachs, Georges et Hubert Bourgin ou encore Paul Fauconnet. Ensemble, ils participeront à la construction de la discipline en France.\\n\\nÉcole allemande de sociologie\\nLa sociologie allemande connaît une destinée différente et indépendante de l'école française. Inspirés par une tradition philosophique riche, une grande partie des sociologues allemands s'oppose aux sociologues français par leur approche compréhensive de la sociologie, rejetant le déterminisme à la française,. Pour eux, l'explication, c'est-à-dire l'objectivation des phénomènes sociaux par la recherche de leurs causes, n'est pas aussi décisive que la compréhension de ces phénomènes, du point de vue de l'acteur. Cette distinction est fondamentale en sociologie puisqu'elle est à l'origine de l'opposition entre holisme méthodologique, théorisée par Émile Durkheim, et individualisme méthodologique, portée par Max Weber.\\nÀ l'inverse de la sociologie française, la sociologie allemande est moins marquée par une personnalité dominante, même si Max Weber est aujourd'hui considéré comme son principal fondateur. D'autres figures comme Ferdinand Tönnies et Georg Simmel étaient également reconnues à leur époque. La sociologie se structure plus tardivement en Allemagne qu'en France, notamment parce qu'elle reste longtemps associé à la science politique : le terme sociologie n'apparaît qu'à partir des années 1880 et il faut attendre le début du siècle pour que s'institutionnalise la discipline.\\nMalgré cela, la sociologie est loin d'être inexistante dans l'Allemagne de Bismarck. En 1877, la revue Vierteljahrsschrift für wissenschaftliche Philosophie und Soziologie (de) publie déjà des articles d'Herbert Spencer, d'Auguste Comte ou de John Stuart Mill. En 1887, Ferdinand Tönnies publie Communauté et Société, considéré comme le premier ouvrage de sociologie en Allemagne,. Il y décrit le passage des sociétés occidentales des communautés (Gemeinschaft) aux sociétés (Gesellschaft),. Mais ce n'est réellement qu'au début du XXe siècle que la sociologie prend forme en tant que discipline en Allemagne. En 1904, la revue Archiv für Sozialwissenschaft und Sozialpolitik, créée par Edgar Jaffé, Werner Sombart et Max Weber, est la première revue de sciences sociales et politiques d'Allemagne,. En 1909, Weber, Tönnies et Simmel créent la Société allemande de sociologie,.\\n\\nMax Weber\\n« Nous appelons sociologie une science qui se propose de comprendre par interprétation l’activité sociale et par là d’expliquer causalement son déroulement et ses effets. Nous entendons par « activité », un comportement humain quand et pour autant que l’agent ou les agents lui communiquent un sens subjectif. Et, par activité « sociale », l’activité qui, d’après son sens visé par l’agent ou les agents, se rapporte au comportement d’autrui par rapport auquel s’oriente son déroulement. »\\n\\n— Économie et société, 1922, Plon, Paris\\nÀ l'instar de Durkheim en France, Max Weber a réussi à construire un programme scientifique de constitution de la sociologie, en établissant des fondements épistémologiques et pratiques à la discipline,,,. Dans Économie et Société, il s'attache à définir les « concepts fondamentaux de la sociologie ». Il définit, tout comme Durkheim, un objet et une méthode propres à la sociologie : d'une part l'activité sociale, et de l'autre, la méthode compréhensive, indispensable pour saisir le sens que les individus donnent à leurs actions,. Son œuvre donne naissance à l'individualisme méthodologique, qui vise à expliquer les phénomènes collectifs à partir des propriétés et des actions des individus et de leurs interactions mutuelles. Au fondement de cette méthode, la rationalité des actions constitue un concept central qu'il s'efforce de développer dans ses ouvrages,. Cette approche est mise en pratique dans L'Éthique protestante et l'esprit du capitalisme, ouvrage dans lequel il soutient que la Réforme protestante est à l’origine de l’éthique du travail du capitalisme. La contribution de Max Weber à la sociologie est considérable : on lui doit notamment les concepts de neutralité axiologique et d'idéal-type en épistémologie des sciences sociales. Parmi ses nombreux sujets d'étude, on peut citer la bureaucratie, l'État (notamment le monopole de la violence), la sécularisation et la rationalisation des sociétés occidentales, les classes sociales, les religions et la musique.\\n\\nScientificité\\nLes sociologues n'utilisent pas tous les mêmes théories et méthodologies, et parfois ils ne précisent pas explicitement ce qu'ils retiennent et ce qu'ils rejettent des plans méthodologiques.\\nLes sociologues ne s'entendent pas entre eux, en ce qui concerne la scientificité de la sociologie. Comme les courants en sociologie ne recherchent pas tous la scientificité et la réfutabilité, le terme de discipline est plus approprié que celui de science, selon Jacques Coenen-Huther. Cependant, plusieurs sociologues se réclament d'une démarche scientifique.\\n\\nRecherche de preuve\\nComme la sociologie a pour objet des éléments historiques qui se déroulent dans le temps, la faculté de reproduire ces événements, donc la reproductibilité, n'est pas possible. Mais la reproductibilité n'est pas le seul critère de scientificité. La notion de preuve est indéterminée en sociologie, cette science ne peut faire état de démonstrations déductives. La notion de preuve a été mise en place lors de la fondation de la discipline par Émile Durkheim en corrélation avec le modèle des sciences exactes. Bien que depuis il soit établi que le monde social ne se comporte pas comme le monde physique, cette recherche n'a pratiquement pas évolué.\\nLa preuve en sociologie se fait classiquement à partir des conceptions de Durkheim ou de Weber. Durkheim considère les faits sociaux comme des choses. Pour établir des causalités, alors que la réalisation d'expériences est impossible, on compare les cas où ces faits sociaux sont présents ou absents au même moment, en utilisant les statistiques. Weber voit la sociologie comme la distinction d'activités sociales, activités qui se caractérisent par leur sens subjectif. Ces activités se classent par des Idéaux-types, qui ressemblent à des modèles de subjectivité pour le sociologue comme pour les personnes engagées. Ces idéaux-types permettent d'opérer des comparaisons, à l'aide desquelles il est possible de construire des preuves. Ces deux conceptions ne sont pas aussi séparées que on pourrait le croire, ni dans la conception de leur auteur, ni dans leur pratique, même si leur opposition structure la sociologie.\\nDans Le métier de sociologue - Préalables épistémologiques, Pierre Bourdieu, Jean-Claude Chamboredon et Jean-Claude Passeron présentent une approche de la preuve qui ressemble à celle de Durkheim, en y apportant des éléments pour réduire la subjectivité. Ils proposent une démarche en trois étapes : réduire les préjugés par la réflexivité (sciences sociales) et faire une première exploration ; construire son raisonnement, acceptant ses présupposés et ses failles dans l'objectivité ; constater par l'examen des faits.\\nDans la seconde moitié du 20e siècle, se développe aux États-Unis l'idée que la preuve en sociologie est intérieure à un groupe social ; elle n'est pas à construire par une explication, ou à révéler par une description. Cette conception vient des milieux de l'interactionnisme (pour l'étude des interactions sociales) et de l'ethnométhodologie (comment les individus font pour comprendre leur ordre social). Mais alors il devient difficile de généraliser les phénomènes décrits, parce qu'ils deviennent contextualisés à l'extrême. Jean-Claude Passeron, traitant de ce problème de la généralisation, affirme que la sociologie ne peut se contenter de comprendre le monde social, mais qu'elle doit développer son propre modèle de raisonnement. La preuve y a un ancrage empirique, mais aussi spatial et temporel. Une preuve « avance », dit-il. Elle se vérifie par des comparaisons permanentes, le contexte toujours mouvant limitant la faculté de généralisation, sans la rendre impossible. La sociologie est une science empirique allant et venant entre la description et le raisonnement.\\n\\nThéories\\nLa sociologie est une discipline aux multiples paradigmes. Les paradigmes, courants, approches, écoles, ou mouvements sociologiques forment autant de pratiques différentes et d'opinions divergentes sur la nature de la sociologie ou de certains de ses aspects.\\nL'explication des phénomènes sociaux peut se faire de nombreuses manières en apportant des explications équivalentes et complémentaires. S'il y a aujourd'hui plusieurs traditions sociologiques, aucune ne peut prétendre résumer l'activité sociologique à elle seule, puisque chaque cadre théorique ne permet de voir qu'une simple partie de la complexité de la réalité, et donc il est impossible de décrire l'activité sociologique de façon consensuelle. En effet, à l'inverse des sciences « dures » où les paradigmes se succèdent plus ou moins les uns après les autres à la suite d'une « révolution scientifique », les révolutions sociologiques multiplient le nombre de courants théoriques, sans discréditer l'ensemble des autres, bien qu'un cumul et une sélection s'opère par le tri que font les sociologues en reprenant ou non un courant. En ce sens, Alain Caillé écrit : « il est déconcertant, et quelque peu décourageant, de constater que, plus que tout autre type de savoir institué, la discipline sociologique apparaît chaque jour davantage éclatée, tiraillée entre de multiples écoles et courants de pensée irréductibles. […] La tentation est donc de plus en plus forte, pour un nombre croissant de sociologues, de renoncer à tout espoir de synthèse, ou, plus modestement, de repérage des traits généraux de la discipline ».\\nDe nombreux sociologues se sont adonnés à la tâche d'établir une typologie des paradigmes en sociologie. Pour Randal Collins,, dont la distinction est présente dans de nombreux manuels de sociologie et sites de vulgarisation de la pensée sociologique américains,,,,,,, celle-ci se compose principalement de trois paradigmes : le fonctionnalisme, la théorie du conflit et l'interactionnisme symbolique. George Ritzer propose une autre classification en trois paradigmes : celui des faits sociaux, celui de la définition sociale et celui du comportement social. La proposition de Ritzer se rapproche de la dichotomie classique entre le holisme qui met la focale sur le groupe et l'individualisme qui la place sur l'individu. Entre les deux, l'interactionnisme accentue la relation entre l'individu et le groupe. Claude Dubar établit une autre typologie en quatre grands types de courants : les sociologies de la détermination sociale, les sociologies de l'action, les sociologies de la construction sociale et les sociologies de l'identité.\\n\\nIndividu et société\\nUne première manière de présenter les courants sociologiques peut se faire à partir des paradigmes macrosociologique et microsociologique. Marquée par la confrontation entre les sociologies d'Émile Durkheim et de Max Weber,, aux fondements de la discipline, cette distinction repose principalement sur la relation entre individu et société et peut se comprendre comme l'opposition entre l'autonomie de l'agent libre et les contraintes des structures sociales dans l'explication des comportements sociaux.\\n\\nAu-delà de la distinction individu/société\\nIl faut toutefois bien comprendre que ces paradigmes ne représentent pas l'ensemble des courants sociologiques, dont certains se sont justement construits en creux de cette opposition,,. En outre, la floraison de multiples courants théoriques rend très compliquée leur classification,,,.\\n\\nPrincipales théories sociologiques\\nLa plupart des « grandes » théories sociologiques sont développées à partir de paradigmes sociologiques particuliers (et deviennent une large école de pensée en sociologie). Voici les principales théories sociologiques :\\n\\nNiveaux d'analyse\\nLa question des niveaux d'analyse est l'objet de nombreux débats entre les sociologues. On distingue souvent trois niveaux selon le nombre de personnes impliquées dans les phénomènes étudiés : la microsociologie, la macrosociologie et la mésosociologie (niveau des organisations, des réseaux et de l'agentivité).\\n\\nMéthodologies\\nL'étude des phénomènes sociaux se fait par le biais d'un certain nombre d'outils qui permettent au sociologue d'appréhender des phénomènes dont l'échelle dépasse ses possibilités de perception individuelle, mais aussi de limiter les inductions qu'il fait au cours de son travail. Parmi ces outils peuvent être trouvé : le questionnaire, le sondage, l'observation in situ (participante ou non), l'entretien, le récit de vie, l'analyse de contenu, l'herméneutique, l'analyse statistique, l'analyse des réseaux sociaux, la recherche-action.\\nLes chercheurs peuvent utiliser plus d'une méthode d'analyse.\\n\\nMéthodes quantitatives\\nLes études quantitatives permettent l'étude des ensembles, la comparaison des unités vis-à-vis de tendances générales. La précaution à prendre au préalable est de définir des unités comparables et les indicateurs, ainsi que de savoir précisément ce que le chercheur veut comparer. Les limites des études quantitatives sont atteintes lorsque le chercheur s'interroge sur un phénomène unique ou sur des trajectoires biographiques. Les statistiques et les sondages sont les outils principaux de l'étude quantitative.\\n\\nMéthodes qualitatives\\nObservation détaillée, description de situation, c'est-à-dire une analyse de discours, un outil de codage qui permettent de faire ressortir les typologies, des tendances générales, etc. Ainsi, parmi les méthodes utilisées dans l'enquête sociologique, on retrouvera notamment l'entretien et l'observation.\\n\\nPlace des femmes en sociologie\\nSi les fondateurs reconnus de la sociologie sont souvent des figures masculines (Auguste Comte, Alexis de Tocqueville, Max Weber ou encore Émile Durkheim), certaines femmes ont aussi contribué au développement de la sociologie. Deegan 1991 documente ainsi l'apport de 51 figures féminines au développement de la sociologie. Elle met notamment en avant le rôle d'Harriet Martineau ou de Jane Addams. Charlotte Perkins Gilman publia de nombreuses études théoriques économiques et sociologiques sur la condition des femmes dans la société. Patricia Hill Collins est connue pour son travail sur l'intersectionnalité, un concept forgé par Awa Thiam, Sojourner Truth et bell hooks et popularisé par Kimberlé Williams Crenshaw. La sociologie de la ville de son côté doit beaucoup aux travaux des sociologues américaines Jane Jacobs et Saskia Sassen.\\n\\nTravaux et chercheurs marquants en sociologie\\nDix livres marquants de la sociologie\\nVoici 10 des ouvrages ayant le plus marqué la sociologie selon un sondage de l'Association internationale de sociologie auprès de ses membres :\\n\\nÉconomie et société écrit par Max Weber, sociologue allemand\\nL'Imagination sociologique écrit par Charles Wright Mills, sociologue américain\\nSocial Theory and Social Structure écrit par Robert King Merton, sociologue américain\\nL'Éthique protestante et l'Esprit du capitalisme écrit par Max Weber, sociologue allemand\\nLa Construction sociale de la réalité écrit par Peter L. Berger, sociologue américain d'origine autrichienne & Thomas Luckmann, sociologue slovène\\nLa Distinction écrit par Pierre Bourdieu, sociologue français\\nSur le processus de civilisation écrit par Norbert Elias, sociologue allemand\\nThéorie de l'agir communicationnel écrit par Jürgen Habermas, sociologue allemand\\nStructure de l'action sociale écrit par Talcott Parsons, sociologue américain\\nLa Mise en scène de la vie quotidienne écrit par Erving Goffman, sociologue canadien\\n\\nLa galerie des sociologues\\nNotes et références\\nNotes\\nRéférences\\nVoir aussi\\nBibliographie\\nGaston Bouthoul, Histoire de la sociologie, Paris, Presses universitaires de France, coll. « Que sais-je ? », 1950, 128 p. (ISBN 9782130775638, lire en ligne).\\nClaude Giraud, Histoire de la sociologie, Paris, Presses universitaires de France, coll. « Que sais-je ? », 2004, 128 p. (ISBN 9782130597544, lire en ligne).\\nJean-claude Combessie, La méthode en sociologie, La Découverte, « Repères », 2007, 128 p.\\n(en) Alan Swingewood, A Short History of Sociological Thought, Macmillan International Higher Education, 23 août 1984, 355 p. (ISBN 9781349175246, lire en ligne).\\nMichel De Coster, Bernadette Bawin-Legros et Marc Poncelet, Introduction à la sociologie, Paris, de Boeck, 24 août 2006, 256 p. (ISBN 9782804152550, lire en ligne).\\nPierre Demeulenaere, Histoire de la théorie sociologique, Paris, Hachette Supérieur, coll. « Les Fondamentaux », 1997, 154 p..\\nJean-Michel Berthelot, La construction de la sociologie, Paris, Presses universitaires de France, coll. « Que sais-je ? », 2005, 128 p. (ISBN 9782130551201, lire en ligne).\\nCatherine Colliot-Thélène, La sociologie de Max Weber, Paris, La Découverte, coll. « Repères », 2014, 128 p. (ISBN 9782707178251 et 270717825X, OCLC 892179492), p. 109.\\nMary Jo Deegan, Women in Sociology : A Bio-Bibliographical Sourcebook, Greenwood, 1991 (ISBN 978-0313260858)\\n\\nArticles connexes\\nTous les articles commençant par « sociologie »\\nToutes les pages avec « sociologie » dans le titre\\nToutes les pages avec « social » dans le titre\\nSciences sociales\\nSociété post-industrielle\\nSociologie des sciences\\nSocioéconomie\\nSocio-histoire\\nSociologie française\\n\\nLiens externes\\n\\nRessource relative à la santé : (en) Medical Subject Headings \\n\\nBibliothèque numérique [1] fondée et dirigée par Jean-Marie Tremblay à Chicoutimi\\n Portail de la sociologie   Portail de la société\""
      ]
     },
     "execution_count": 30,
     "metadata": {},
     "output_type": "execute_result"
    }
   ],
   "source": [
    "page.text"
   ]
  },
  {
   "cell_type": "code",
   "execution_count": 41,
   "id": "2f07a880",
   "metadata": {},
   "outputs": [
    {
     "data": {
      "text/plain": [
       "'Howard Becker'"
      ]
     },
     "execution_count": 41,
     "metadata": {},
     "output_type": "execute_result"
    }
   ],
   "source": [
    "list(page.links.keys())[100]"
   ]
  },
  {
   "cell_type": "code",
   "execution_count": 47,
   "id": "bad28862",
   "metadata": {},
   "outputs": [
    {
     "data": {
      "text/plain": [
       "'https://fr.wikipedia.org/wiki/Howard_Becker'"
      ]
     },
     "execution_count": 47,
     "metadata": {},
     "output_type": "execute_result"
    }
   ],
   "source": [
    "page.links['Howard Becker'].fullurl"
   ]
  },
  {
   "cell_type": "markdown",
   "id": "5bb34f5e",
   "metadata": {},
   "source": [
    "Facile de circuler"
   ]
  },
  {
   "cell_type": "markdown",
   "id": "3afb495b",
   "metadata": {},
   "source": [
    "Les bibliothèques ne sont pas uniques : https://pypi.org/project/wikipedia/"
   ]
  },
  {
   "cell_type": "markdown",
   "id": "3561815f",
   "metadata": {},
   "source": [
    "Avec une bibliothèque comme  Beautifulsoup on aurait pu aussi créer un outil pour circuler dans le texte HTML"
   ]
  }
 ],
 "metadata": {
  "kernelspec": {
   "display_name": "Python 3 (ipykernel)",
   "language": "python",
   "name": "python3"
  },
  "language_info": {
   "codemirror_mode": {
    "name": "ipython",
    "version": 3
   },
   "file_extension": ".py",
   "mimetype": "text/x-python",
   "name": "python",
   "nbconvert_exporter": "python",
   "pygments_lexer": "ipython3",
   "version": "3.9.12"
  }
 },
 "nbformat": 4,
 "nbformat_minor": 5
}
