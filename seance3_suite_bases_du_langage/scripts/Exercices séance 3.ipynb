{
 "cells": [
  {
   "cell_type": "markdown",
   "id": "53bc79f8",
   "metadata": {},
   "source": [
    "# Exercices d'application de la séance 3"
   ]
  },
  {
   "cell_type": "markdown",
   "id": "84386cc7",
   "metadata": {},
   "source": [
    "## Sur les types"
   ]
  },
  {
   "cell_type": "markdown",
   "id": "d5e9970b",
   "metadata": {},
   "source": [
    "### Exercice 1\n",
    "\n",
    "Réussir à faire l'addition `variable1` + `variable2` à partir des deux variables définies ci-dessous"
   ]
  },
  {
   "cell_type": "code",
   "execution_count": 1,
   "id": "6c845e1a",
   "metadata": {},
   "outputs": [],
   "source": [
    "variable1 = \"10.5\"\n",
    "variable2 = 50"
   ]
  },
  {
   "cell_type": "markdown",
   "id": "4e89e778",
   "metadata": {},
   "source": [
    "### Exercice 2\n",
    "\n",
    "Définir un dictionnaire qui associe à chaque mois (\"janvier\", etc.) le numéro correspondant. A quoi pourrait servir un tel dictionnaire ?"
   ]
  },
  {
   "cell_type": "markdown",
   "id": "27514378",
   "metadata": {},
   "source": [
    "### Exercice 3\n",
    "\n",
    "Trouver deux méthodes pour compter le nombre de fois où un mot est présent dans une phrase"
   ]
  },
  {
   "cell_type": "markdown",
   "id": "2912c00c",
   "metadata": {},
   "source": [
    "### Exercice 4\n",
    "\n",
    "Calculer la somme des nombres entiers de 1 à 10000 (sans passer par une formule analytique)"
   ]
  },
  {
   "cell_type": "markdown",
   "id": "a5946938",
   "metadata": {},
   "source": [
    "### Exercice 5\n",
    "\n",
    "1. Faire un petit script qui demande à l'utilisateur son prénom et lui souhaite la bienvenue en utilisant ce prénom\n",
    "2. Comment faire pour que si l'utilisateur relance le script avec le même prénom, le message soit différent (par exemple \"On s'est déjà vu\")"
   ]
  },
  {
   "cell_type": "markdown",
   "id": "4416a20f",
   "metadata": {},
   "source": [
    "### Exercice 6\n",
    "\n",
    "Définir une fonction qui prend en entrée une phrase et en sortie renvoie un dictionnaire avec mot:fréquence du mot dans le texte."
   ]
  },
  {
   "cell_type": "markdown",
   "id": "338fd942",
   "metadata": {},
   "source": [
    "### Exercice 7\n",
    "\n",
    "Créez un fichier .txt qui contient quelques lignes de code, puis écrivez un script qui lit ce fichier et applique pour chaque ligne la proportion des mots de plus de 5 lettres."
   ]
  },
  {
   "cell_type": "markdown",
   "id": "0ce8a36a",
   "metadata": {},
   "source": [
    "### Exercice 8\n",
    "\n",
    "On peut passer plusieurs arguments dans la définition d'une fonction. Réécrivez la fonction du calcul de la proportion des mots pour passer aussi en paramètre le nom de lettres (seuil de comptage) et le fait d'écrire dans un fichier."
   ]
  }
 ],
 "metadata": {
  "kernelspec": {
   "display_name": "Python 3 (ipykernel)",
   "language": "python",
   "name": "python3"
  },
  "language_info": {
   "codemirror_mode": {
    "name": "ipython",
    "version": 3
   },
   "file_extension": ".py",
   "mimetype": "text/x-python",
   "name": "python",
   "nbconvert_exporter": "python",
   "pygments_lexer": "ipython3",
   "version": "3.10.8"
  }
 },
 "nbformat": 4,
 "nbformat_minor": 5
}
