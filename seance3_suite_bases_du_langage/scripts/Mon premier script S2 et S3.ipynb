{
 "cells": [
  {
   "cell_type": "markdown",
   "id": "2703a713",
   "metadata": {},
   "source": [
    "# Le premier script"
   ]
  },
  {
   "cell_type": "markdown",
   "id": "f01d284f",
   "metadata": {},
   "source": [
    "Mon premier calcul"
   ]
  },
  {
   "cell_type": "code",
   "execution_count": 1,
   "id": "c7d28126",
   "metadata": {},
   "outputs": [
    {
     "data": {
      "text/plain": [
       "20"
      ]
     },
     "execution_count": 1,
     "metadata": {},
     "output_type": "execute_result"
    }
   ],
   "source": [
    "10+10"
   ]
  },
  {
   "cell_type": "markdown",
   "id": "cd0656d6",
   "metadata": {},
   "source": [
    "Le script à étudier"
   ]
  },
  {
   "cell_type": "code",
   "execution_count": 2,
   "id": "e3d59744",
   "metadata": {},
   "outputs": [
    {
     "name": "stdout",
     "output_type": "stream",
     "text": [
      "Écrivez une phrase: sds qsd dsq\n",
      "Proportion de mots avec 4 lettres ou plus : 0.0\n"
     ]
    }
   ],
   "source": [
    "sortie_fichier = False # créer une variable booléenne\n",
    "nombre_min_lettres = 4 # créer une variable entière\n",
    "phrase = input(\"Écrivez une phrase: \") # récupéré une phrase de l'utilisateur\n",
    "liste_mots = phrase.split(\" \") # découper la chaine de caractères aux espaces\n",
    "nombre_mots = len(liste_mots) # longueur de la liste\n",
    "\n",
    "# on teste s'il y a des mots dans la phrase\n",
    "if nombre_mots == 0:\n",
    "    print(\"La liste est vide\") # s'il n'y en a pas, on arrête\n",
    "else: # si le nombre de mots n'est pas nul\n",
    "    # compter le nombre de mots de plus de N lettres\n",
    "    compteur = 0 # créer une variable compteur initialisée à 0\n",
    "    # on fait une boucle sur la liste des mots\n",
    "    for i in liste_mots:\n",
    "        # pour chaque mot s'il remplit la condition\n",
    "        if len(i) >= nombre_min_lettres:\n",
    "            # augmenter le compteur\n",
    "            compteur+=1\n",
    "            \n",
    "    # on fait un calcul de pourcentage\n",
    "    proportion = round(100*compteur/nombre_mots,2)\n",
    "    \n",
    "    # on résume les informations de ce script dans un dictionnaire\n",
    "    informations = {\"Total\":compteur,\"Proportion\":proportion,\n",
    "                   \"Phrase\":phrase,\"Seuil\":nombre_min_lettres}\n",
    "    \n",
    "    # Mise en forme de la sortie écran\n",
    "    sortie = f\"Proportion de mots avec {nombre_min_lettres} lettres ou plus : {proportion}\"\n",
    "    print(sortie)\n",
    "    \n",
    "    # L'écriture sur le disque dur\n",
    "    if sortie_fichier: # si on veut écrire \n",
    "        # définir le dossier dans lequel mettre le résultat\n",
    "        chemin = \"./data/\"\n",
    "        # ouvrir un contexte d'écriture (\"w\") vers le fichiers resultats.txt\n",
    "        with open(chemin + \"resultat.txt\",\"w\") as f:\n",
    "            # écrire le contenu de la variable informations en texte\n",
    "            f.write(str(informations))"
   ]
  },
  {
   "cell_type": "markdown",
   "id": "d9c25e4e",
   "metadata": {},
   "source": [
    "## Première ligne du code : création d'une variable"
   ]
  },
  {
   "cell_type": "code",
   "execution_count": 1,
   "id": "dbda1d2c",
   "metadata": {},
   "outputs": [],
   "source": [
    "sortie_fichier = False"
   ]
  },
  {
   "cell_type": "code",
   "execution_count": 2,
   "id": "1479abe1",
   "metadata": {},
   "outputs": [
    {
     "data": {
      "text/plain": [
       "False"
      ]
     },
     "execution_count": 2,
     "metadata": {},
     "output_type": "execute_result"
    }
   ],
   "source": [
    "sortie_fichier"
   ]
  },
  {
   "cell_type": "code",
   "execution_count": 3,
   "id": "c8eef711",
   "metadata": {},
   "outputs": [],
   "source": [
    "output_file = False"
   ]
  },
  {
   "cell_type": "code",
   "execution_count": 7,
   "id": "1513559b",
   "metadata": {},
   "outputs": [],
   "source": [
    "output_file =     True"
   ]
  },
  {
   "cell_type": "code",
   "execution_count": 10,
   "id": "3c63eeb8",
   "metadata": {},
   "outputs": [
    {
     "ename": "NameError",
     "evalue": "name 'Output_file' is not defined",
     "output_type": "error",
     "traceback": [
      "\u001b[0;31m---------------------------------------------------------------------------\u001b[0m",
      "\u001b[0;31mNameError\u001b[0m                                 Traceback (most recent call last)",
      "Cell \u001b[0;32mIn [10], line 1\u001b[0m\n\u001b[0;32m----> 1\u001b[0m \u001b[43mOutput_file\u001b[49m\n",
      "\u001b[0;31mNameError\u001b[0m: name 'Output_file' is not defined"
     ]
    }
   ],
   "source": [
    "Output_file"
   ]
  },
  {
   "cell_type": "markdown",
   "id": "62db27d8",
   "metadata": {},
   "source": [
    "Savoir le type d'un objet"
   ]
  },
  {
   "cell_type": "code",
   "execution_count": 11,
   "id": "c1571afb",
   "metadata": {},
   "outputs": [
    {
     "data": {
      "text/plain": [
       "bool"
      ]
     },
     "execution_count": 11,
     "metadata": {},
     "output_type": "execute_result"
    }
   ],
   "source": [
    "type(output_file)"
   ]
  },
  {
   "cell_type": "markdown",
   "id": "0bed18f5",
   "metadata": {},
   "source": [
    "Variables booléeens : True ou False"
   ]
  },
  {
   "cell_type": "markdown",
   "id": "1f04f427",
   "metadata": {},
   "source": [
    "## Deuxième ligne de code : une autre variable"
   ]
  },
  {
   "cell_type": "code",
   "execution_count": 12,
   "id": "eb584208",
   "metadata": {},
   "outputs": [],
   "source": [
    "nombre_min_lettres = 4"
   ]
  },
  {
   "cell_type": "code",
   "execution_count": 14,
   "id": "3ddfba41",
   "metadata": {},
   "outputs": [
    {
     "data": {
      "text/plain": [
       "int"
      ]
     },
     "execution_count": 14,
     "metadata": {},
     "output_type": "execute_result"
    }
   ],
   "source": [
    "type(nombre_min_lettres)"
   ]
  },
  {
   "cell_type": "markdown",
   "id": "0febd4fc",
   "metadata": {},
   "source": [
    "Nombre entier = int"
   ]
  },
  {
   "cell_type": "code",
   "execution_count": 15,
   "id": "276aceae",
   "metadata": {},
   "outputs": [
    {
     "data": {
      "text/plain": [
       "17"
      ]
     },
     "execution_count": 15,
     "metadata": {},
     "output_type": "execute_result"
    }
   ],
   "source": [
    "10 + 2 + 5"
   ]
  },
  {
   "cell_type": "code",
   "execution_count": 16,
   "id": "fd5daf8c",
   "metadata": {},
   "outputs": [
    {
     "data": {
      "text/plain": [
       "12"
      ]
     },
     "execution_count": 16,
     "metadata": {},
     "output_type": "execute_result"
    }
   ],
   "source": [
    "nombre_min_lettres + 8"
   ]
  },
  {
   "cell_type": "code",
   "execution_count": 18,
   "id": "2e9eda60",
   "metadata": {},
   "outputs": [
    {
     "data": {
      "text/plain": [
       "int"
      ]
     },
     "execution_count": 18,
     "metadata": {},
     "output_type": "execute_result"
    }
   ],
   "source": [
    "type(nombre_min_lettres + 20)"
   ]
  },
  {
   "cell_type": "markdown",
   "id": "148a700c",
   "metadata": {},
   "source": [
    "Attention Python fait du transtypage de manière automatique (quand il peut)"
   ]
  },
  {
   "cell_type": "code",
   "execution_count": 19,
   "id": "60cd4d5c",
   "metadata": {},
   "outputs": [
    {
     "data": {
      "text/plain": [
       "11"
      ]
     },
     "execution_count": 19,
     "metadata": {},
     "output_type": "execute_result"
    }
   ],
   "source": [
    "10 + True"
   ]
  },
  {
   "cell_type": "markdown",
   "id": "4b2e3585",
   "metadata": {},
   "source": [
    "## Troisième ligne : faire une entrée"
   ]
  },
  {
   "cell_type": "code",
   "execution_count": 22,
   "id": "4a4fb4d0",
   "metadata": {},
   "outputs": [
    {
     "name": "stdout",
     "output_type": "stream",
     "text": [
      "Écrivez une phrase: je rentre une phrase\n"
     ]
    }
   ],
   "source": [
    "phrase = input(\"Écrivez une phrase: \")"
   ]
  },
  {
   "cell_type": "code",
   "execution_count": 23,
   "id": "d8d77bfe",
   "metadata": {},
   "outputs": [
    {
     "data": {
      "text/plain": [
       "'je rentre une phrase'"
      ]
     },
     "execution_count": 23,
     "metadata": {},
     "output_type": "execute_result"
    }
   ],
   "source": [
    "phrase"
   ]
  },
  {
   "cell_type": "code",
   "execution_count": 24,
   "id": "46c678e7",
   "metadata": {},
   "outputs": [
    {
     "data": {
      "text/plain": [
       "str"
      ]
     },
     "execution_count": 24,
     "metadata": {},
     "output_type": "execute_result"
    }
   ],
   "source": [
    "type(phrase)"
   ]
  },
  {
   "cell_type": "markdown",
   "id": "60c903ba",
   "metadata": {},
   "source": [
    "str = type texte"
   ]
  },
  {
   "cell_type": "code",
   "execution_count": 25,
   "id": "27ed1931",
   "metadata": {},
   "outputs": [
    {
     "name": "stdout",
     "output_type": "stream",
     "text": [
      "Écrivez une phrase: sdsdd dsddqs qsdd dsq\n"
     ]
    },
    {
     "data": {
      "text/plain": [
       "'sdsdd dsddqs qsdd dsq'"
      ]
     },
     "execution_count": 25,
     "metadata": {},
     "output_type": "execute_result"
    }
   ],
   "source": [
    "input(\"Écrivez une phrase: \")"
   ]
  },
  {
   "cell_type": "markdown",
   "id": "19a32770",
   "metadata": {},
   "source": [
    "input et type sont des fonctions"
   ]
  },
  {
   "cell_type": "code",
   "execution_count": 26,
   "id": "474bb879",
   "metadata": {
    "scrolled": true
   },
   "outputs": [
    {
     "data": {
      "text/plain": [
       "<bound method Kernel.raw_input of <ipykernel.ipkernel.IPythonKernel object at 0x10fc82650>>"
      ]
     },
     "execution_count": 26,
     "metadata": {},
     "output_type": "execute_result"
    }
   ],
   "source": [
    "input"
   ]
  },
  {
   "cell_type": "markdown",
   "id": "37ba8bdf",
   "metadata": {},
   "source": [
    "Demander de l'aide"
   ]
  },
  {
   "cell_type": "code",
   "execution_count": 29,
   "id": "7b11b0e6",
   "metadata": {},
   "outputs": [],
   "source": [
    "?input"
   ]
  },
  {
   "cell_type": "code",
   "execution_count": 28,
   "id": "953cf2e3",
   "metadata": {},
   "outputs": [],
   "source": [
    "?type"
   ]
  },
  {
   "cell_type": "code",
   "execution_count": null,
   "id": "b9ff88e4",
   "metadata": {},
   "outputs": [],
   "source": [
    "#phrase = input()\n",
    "phrase = \"Ceci est ma phrase\" # équivalent d'avoir entré ceci est ma phrase"
   ]
  },
  {
   "cell_type": "markdown",
   "id": "ed635adc",
   "metadata": {},
   "source": [
    "### Chaines de caractères"
   ]
  },
  {
   "cell_type": "code",
   "execution_count": 32,
   "id": "767f79bf",
   "metadata": {},
   "outputs": [
    {
     "data": {
      "text/plain": [
       "'1'"
      ]
     },
     "execution_count": 32,
     "metadata": {},
     "output_type": "execute_result"
    }
   ],
   "source": [
    "\"1\""
   ]
  },
  {
   "cell_type": "code",
   "execution_count": 33,
   "id": "72fe70b0",
   "metadata": {},
   "outputs": [
    {
     "data": {
      "text/plain": [
       "'1'"
      ]
     },
     "execution_count": 33,
     "metadata": {},
     "output_type": "execute_result"
    }
   ],
   "source": [
    "'1'"
   ]
  },
  {
   "cell_type": "code",
   "execution_count": 34,
   "id": "76303f8f",
   "metadata": {},
   "outputs": [
    {
     "data": {
      "text/plain": [
       "'gdffdff ddf fd§(((((())))))'"
      ]
     },
     "execution_count": 34,
     "metadata": {},
     "output_type": "execute_result"
    }
   ],
   "source": [
    "\"gdffdff ddf fd§(((((())))))\""
   ]
  },
  {
   "cell_type": "code",
   "execution_count": 35,
   "id": "87c082bb",
   "metadata": {},
   "outputs": [
    {
     "data": {
      "text/plain": [
       "'\\nCeci\\nEst\\nUne\\nChaine\\n'"
      ]
     },
     "execution_count": 35,
     "metadata": {},
     "output_type": "execute_result"
    }
   ],
   "source": [
    "\"\"\"\n",
    "Ceci\n",
    "Est\n",
    "Une\n",
    "Chaine\n",
    "\"\"\""
   ]
  },
  {
   "cell_type": "markdown",
   "id": "033d9cb2",
   "metadata": {},
   "source": [
    "Des opérations sont définies de manière transparente"
   ]
  },
  {
   "cell_type": "code",
   "execution_count": 38,
   "id": "009df89f",
   "metadata": {},
   "outputs": [
    {
     "data": {
      "text/plain": [
       "'je rentre une phrase et son complément'"
      ]
     },
     "execution_count": 38,
     "metadata": {},
     "output_type": "execute_result"
    }
   ],
   "source": [
    "phrase + \" et son complément\""
   ]
  },
  {
   "cell_type": "code",
   "execution_count": 40,
   "id": "e85a8e7e",
   "metadata": {},
   "outputs": [
    {
     "data": {
      "text/plain": [
       "'je rentre une phrase1'"
      ]
     },
     "execution_count": 40,
     "metadata": {},
     "output_type": "execute_result"
    }
   ],
   "source": [
    "phrase + \"1\""
   ]
  },
  {
   "cell_type": "markdown",
   "id": "523cb17d",
   "metadata": {},
   "source": [
    "Parenthèse : les fonctions de transtypage"
   ]
  },
  {
   "cell_type": "code",
   "execution_count": 41,
   "id": "f3148e35",
   "metadata": {},
   "outputs": [
    {
     "data": {
      "text/plain": [
       "'34434'"
      ]
     },
     "execution_count": 41,
     "metadata": {},
     "output_type": "execute_result"
    }
   ],
   "source": [
    "str(34434)"
   ]
  },
  {
   "cell_type": "code",
   "execution_count": 42,
   "id": "373c0b08",
   "metadata": {},
   "outputs": [
    {
     "data": {
      "text/plain": [
       "34"
      ]
     },
     "execution_count": 42,
     "metadata": {},
     "output_type": "execute_result"
    }
   ],
   "source": [
    "int(\"34\")"
   ]
  },
  {
   "cell_type": "code",
   "execution_count": 43,
   "id": "f0707e3f",
   "metadata": {},
   "outputs": [
    {
     "ename": "ValueError",
     "evalue": "invalid literal for int() with base 10: 'ab'",
     "output_type": "error",
     "traceback": [
      "\u001b[0;31m---------------------------------------------------------------------------\u001b[0m",
      "\u001b[0;31mValueError\u001b[0m                                Traceback (most recent call last)",
      "Cell \u001b[0;32mIn [43], line 1\u001b[0m\n\u001b[0;32m----> 1\u001b[0m \u001b[38;5;28;43mint\u001b[39;49m\u001b[43m(\u001b[49m\u001b[38;5;124;43m\"\u001b[39;49m\u001b[38;5;124;43mab\u001b[39;49m\u001b[38;5;124;43m\"\u001b[39;49m\u001b[43m)\u001b[49m\n",
      "\u001b[0;31mValueError\u001b[0m: invalid literal for int() with base 10: 'ab'"
     ]
    }
   ],
   "source": [
    "int(\"ab\")"
   ]
  },
  {
   "cell_type": "markdown",
   "id": "8b603a6b",
   "metadata": {},
   "source": [
    "### En python : tout est un objet\n",
    "\n",
    "Un objet contient :\n",
    "- des valeurs\n",
    "- des méthodes"
   ]
  },
  {
   "cell_type": "code",
   "execution_count": 49,
   "id": "3efb3b24",
   "metadata": {},
   "outputs": [],
   "source": [
    "phrase = phrase.upper()"
   ]
  },
  {
   "cell_type": "code",
   "execution_count": 50,
   "id": "f58c8e53",
   "metadata": {},
   "outputs": [
    {
     "data": {
      "text/plain": [
       "'JE RENTRE UNE PHRASE'"
      ]
     },
     "execution_count": 50,
     "metadata": {},
     "output_type": "execute_result"
    }
   ],
   "source": [
    "phrase"
   ]
  },
  {
   "cell_type": "markdown",
   "id": "4ac0537a",
   "metadata": {},
   "source": [
    "## Quatrième ligne : utiliser une méthode\n",
    "\n",
    "split pour découper sur un motif"
   ]
  },
  {
   "cell_type": "code",
   "execution_count": 54,
   "id": "2170bc1e",
   "metadata": {},
   "outputs": [],
   "source": [
    "liste_mots = phrase.split(\" \")"
   ]
  },
  {
   "cell_type": "code",
   "execution_count": 56,
   "id": "817a19d0",
   "metadata": {},
   "outputs": [
    {
     "data": {
      "text/plain": [
       "['JE R', 'TRE UNE PHRASE']"
      ]
     },
     "execution_count": 56,
     "metadata": {},
     "output_type": "execute_result"
    }
   ],
   "source": [
    "phrase.split(\"EN\")"
   ]
  },
  {
   "cell_type": "code",
   "execution_count": 58,
   "id": "69cad7e4",
   "metadata": {},
   "outputs": [
    {
     "data": {
      "text/plain": [
       "list"
      ]
     },
     "execution_count": 58,
     "metadata": {},
     "output_type": "execute_result"
    }
   ],
   "source": [
    "type(liste_mots)"
   ]
  },
  {
   "cell_type": "code",
   "execution_count": 61,
   "id": "718331f2",
   "metadata": {},
   "outputs": [
    {
     "data": {
      "text/plain": [
       "['JE', 'RENTRE', 'UNE', 'PHRASE']"
      ]
     },
     "execution_count": 61,
     "metadata": {},
     "output_type": "execute_result"
    }
   ],
   "source": [
    "liste_mots"
   ]
  },
  {
   "cell_type": "markdown",
   "id": "348dd702",
   "metadata": {},
   "source": [
    "Les listes sont des ensembles reconnaissable par les crochets"
   ]
  },
  {
   "cell_type": "code",
   "execution_count": 64,
   "id": "b31ad741",
   "metadata": {},
   "outputs": [],
   "source": [
    "une_liste = [879789,\"z\",\"c\",4.3,9]"
   ]
  },
  {
   "cell_type": "markdown",
   "id": "49f38b82",
   "metadata": {},
   "source": [
    "Nombre d'éléments"
   ]
  },
  {
   "cell_type": "code",
   "execution_count": 63,
   "id": "53019964",
   "metadata": {},
   "outputs": [
    {
     "data": {
      "text/plain": [
       "5"
      ]
     },
     "execution_count": 63,
     "metadata": {},
     "output_type": "execute_result"
    }
   ],
   "source": [
    "len(une_liste)"
   ]
  },
  {
   "cell_type": "markdown",
   "id": "2f04f5a4",
   "metadata": {},
   "source": [
    "**En python, une liste commence au rang 0**"
   ]
  },
  {
   "cell_type": "markdown",
   "id": "8426dd3b",
   "metadata": {},
   "source": [
    "Premier élément d'une liste"
   ]
  },
  {
   "cell_type": "code",
   "execution_count": 65,
   "id": "0302c326",
   "metadata": {},
   "outputs": [
    {
     "data": {
      "text/plain": [
       "879789"
      ]
     },
     "execution_count": 65,
     "metadata": {},
     "output_type": "execute_result"
    }
   ],
   "source": [
    "une_liste[0]"
   ]
  },
  {
   "cell_type": "code",
   "execution_count": 66,
   "id": "cb91e614",
   "metadata": {},
   "outputs": [
    {
     "data": {
      "text/plain": [
       "'z'"
      ]
     },
     "execution_count": 66,
     "metadata": {},
     "output_type": "execute_result"
    }
   ],
   "source": [
    "une_liste[1]"
   ]
  },
  {
   "cell_type": "code",
   "execution_count": 67,
   "id": "a33e1b9d",
   "metadata": {},
   "outputs": [
    {
     "data": {
      "text/plain": [
       "9"
      ]
     },
     "execution_count": 67,
     "metadata": {},
     "output_type": "execute_result"
    }
   ],
   "source": [
    "une_liste[-1]"
   ]
  },
  {
   "cell_type": "code",
   "execution_count": 68,
   "id": "99d3c77b",
   "metadata": {},
   "outputs": [
    {
     "data": {
      "text/plain": [
       "['c', 4.3, 9]"
      ]
     },
     "execution_count": 68,
     "metadata": {},
     "output_type": "execute_result"
    }
   ],
   "source": [
    "une_liste[2:5]"
   ]
  },
  {
   "cell_type": "code",
   "execution_count": 69,
   "id": "8d2b5c65",
   "metadata": {},
   "outputs": [
    {
     "data": {
      "text/plain": [
       "['A', 'B', 10, 30]"
      ]
     },
     "execution_count": 69,
     "metadata": {},
     "output_type": "execute_result"
    }
   ],
   "source": [
    "[\"A\",\"B\"] + [10,30]"
   ]
  },
  {
   "cell_type": "code",
   "execution_count": 70,
   "id": "ce6adf60",
   "metadata": {},
   "outputs": [
    {
     "data": {
      "text/plain": [
       "list"
      ]
     },
     "execution_count": 70,
     "metadata": {},
     "output_type": "execute_result"
    }
   ],
   "source": [
    "type(une_liste)"
   ]
  },
  {
   "cell_type": "markdown",
   "id": "906ad475",
   "metadata": {},
   "source": [
    "Ajouter un élément"
   ]
  },
  {
   "cell_type": "code",
   "execution_count": 71,
   "id": "ceafcfc1",
   "metadata": {},
   "outputs": [],
   "source": [
    "une_liste.append(\"Ceci est ma phrase\")"
   ]
  },
  {
   "cell_type": "code",
   "execution_count": 72,
   "id": "dd0bf78c",
   "metadata": {},
   "outputs": [
    {
     "data": {
      "text/plain": [
       "[879789, 'z', 'c', 4.3, 9, 'Ceci est ma phrase']"
      ]
     },
     "execution_count": 72,
     "metadata": {},
     "output_type": "execute_result"
    }
   ],
   "source": [
    "une_liste"
   ]
  },
  {
   "cell_type": "markdown",
   "id": "6b947387",
   "metadata": {},
   "source": [
    "Des erreurs spécifiques"
   ]
  },
  {
   "cell_type": "code",
   "execution_count": 73,
   "id": "6300a412",
   "metadata": {},
   "outputs": [
    {
     "ename": "IndexError",
     "evalue": "list index out of range",
     "output_type": "error",
     "traceback": [
      "\u001b[0;31m---------------------------------------------------------------------------\u001b[0m",
      "\u001b[0;31mIndexError\u001b[0m                                Traceback (most recent call last)",
      "Cell \u001b[0;32mIn [73], line 1\u001b[0m\n\u001b[0;32m----> 1\u001b[0m \u001b[43mune_liste\u001b[49m\u001b[43m[\u001b[49m\u001b[38;5;241;43m1000\u001b[39;49m\u001b[43m]\u001b[49m\n",
      "\u001b[0;31mIndexError\u001b[0m: list index out of range"
     ]
    }
   ],
   "source": [
    "une_liste[1000]"
   ]
  },
  {
   "cell_type": "markdown",
   "id": "8af0488e",
   "metadata": {},
   "source": [
    "## Cinquième ligne"
   ]
  },
  {
   "cell_type": "code",
   "execution_count": 74,
   "id": "fb1c9c95",
   "metadata": {},
   "outputs": [],
   "source": [
    "nombre_mots = len(liste_mots)"
   ]
  },
  {
   "cell_type": "code",
   "execution_count": 75,
   "id": "3c1e5662",
   "metadata": {},
   "outputs": [
    {
     "data": {
      "text/plain": [
       "4"
      ]
     },
     "execution_count": 75,
     "metadata": {},
     "output_type": "execute_result"
    }
   ],
   "source": [
    "nombre_mots"
   ]
  },
  {
   "cell_type": "markdown",
   "id": "9b200178",
   "metadata": {},
   "source": [
    "Suite à la prochaine séance ..."
   ]
  },
  {
   "cell_type": "markdown",
   "id": "6479cafa",
   "metadata": {},
   "source": [
    "## Ligne 6, 7 et 8 : les conditions "
   ]
  },
  {
   "cell_type": "code",
   "execution_count": 77,
   "id": "54c88d8c",
   "metadata": {},
   "outputs": [
    {
     "data": {
      "text/plain": [
       "4"
      ]
     },
     "execution_count": 77,
     "metadata": {},
     "output_type": "execute_result"
    }
   ],
   "source": [
    "nombre_mots"
   ]
  },
  {
   "cell_type": "code",
   "execution_count": 76,
   "id": "4614ade8",
   "metadata": {},
   "outputs": [],
   "source": [
    "if nombre_mots == 0:\n",
    "    print(\"La liste est vide\")"
   ]
  },
  {
   "cell_type": "markdown",
   "id": "a60f0e48",
   "metadata": {},
   "source": [
    "### Les conditions\n",
    "\n",
    "````python\n",
    "if EQUATION LOGIQUE VRAIE OU FAUSSE:\n",
    "    Code à exécuter\n",
    "Reste du code ici (en dehors de la condition)\n",
    "````"
   ]
  },
  {
   "cell_type": "markdown",
   "id": "a0c1fec5",
   "metadata": {},
   "source": [
    "### Les équations logiques    "
   ]
  },
  {
   "cell_type": "code",
   "execution_count": 78,
   "id": "bbdd1128",
   "metadata": {
    "scrolled": true
   },
   "outputs": [
    {
     "data": {
      "text/plain": [
       "False"
      ]
     },
     "execution_count": 78,
     "metadata": {},
     "output_type": "execute_result"
    }
   ],
   "source": [
    "nombre_mots == 0"
   ]
  },
  {
   "cell_type": "markdown",
   "id": "0e7caa51",
   "metadata": {},
   "source": [
    "Des opérateurs logiques :\n",
    "\n",
    "- ==\n",
    "- !=\n",
    "- \\>="
   ]
  },
  {
   "cell_type": "code",
   "execution_count": 84,
   "id": "652c5da7",
   "metadata": {},
   "outputs": [
    {
     "data": {
      "text/plain": [
       "False"
      ]
     },
     "execution_count": 84,
     "metadata": {},
     "output_type": "execute_result"
    }
   ],
   "source": [
    "\"un\" != \"un\""
   ]
  },
  {
   "cell_type": "code",
   "execution_count": 85,
   "id": "fa63a0ff",
   "metadata": {},
   "outputs": [
    {
     "data": {
      "text/plain": [
       "True"
      ]
     },
     "execution_count": 85,
     "metadata": {},
     "output_type": "execute_result"
    }
   ],
   "source": [
    "\"a\" in [\"a\",\"b\",\"c\"]"
   ]
  },
  {
   "cell_type": "code",
   "execution_count": 88,
   "id": "cd376afe",
   "metadata": {},
   "outputs": [
    {
     "data": {
      "text/plain": [
       "True"
      ]
     },
     "execution_count": 88,
     "metadata": {},
     "output_type": "execute_result"
    }
   ],
   "source": [
    "variable = 0\n",
    "\n",
    "(\"a\" in [\"a\",\"b\",\"c\"]) & (1> variable)"
   ]
  },
  {
   "cell_type": "markdown",
   "id": "078a537d",
   "metadata": {},
   "source": [
    "Des méthodes pour tester des propriétés"
   ]
  },
  {
   "cell_type": "code",
   "execution_count": 89,
   "id": "29d5c4a6",
   "metadata": {},
   "outputs": [
    {
     "data": {
      "text/plain": [
       "False"
      ]
     },
     "execution_count": 89,
     "metadata": {},
     "output_type": "execute_result"
    }
   ],
   "source": [
    "\"Phrase\".islower()"
   ]
  },
  {
   "cell_type": "markdown",
   "id": "80df8abf",
   "metadata": {},
   "source": [
    "Possibilité de combiner"
   ]
  },
  {
   "cell_type": "code",
   "execution_count": 90,
   "id": "b2db4c23",
   "metadata": {},
   "outputs": [
    {
     "data": {
      "text/plain": [
       "False"
      ]
     },
     "execution_count": 90,
     "metadata": {},
     "output_type": "execute_result"
    }
   ],
   "source": [
    "(\"Phrase\".islower()) & (len(\"Phrase\") > 3)"
   ]
  },
  {
   "cell_type": "markdown",
   "id": "36448d27",
   "metadata": {},
   "source": [
    "Les conditions if/else\n",
    "\n",
    "````python\n",
    "if CONDITION VRAIE:\n",
    "    action 1\n",
    "    action 2\n",
    "else:\n",
    "    action 3\n",
    "    action 4\n",
    "````\n"
   ]
  },
  {
   "cell_type": "markdown",
   "id": "88595c52",
   "metadata": {},
   "source": [
    "Exemple d'usage"
   ]
  },
  {
   "cell_type": "code",
   "execution_count": 92,
   "id": "6dd5be76",
   "metadata": {},
   "outputs": [
    {
     "name": "stdout",
     "output_type": "stream",
     "text": [
      "30\n"
     ]
    }
   ],
   "source": [
    "var1 = 10\n",
    "var2 = 20\n",
    "if (type(var1) == int) & (type(var2) == int):\n",
    "    print(var1 + var2)\n",
    "else:\n",
    "    print(\"Pas possible de faire l'addition\")"
   ]
  },
  {
   "cell_type": "markdown",
   "id": "ec4e21a8",
   "metadata": {},
   "source": [
    "## Ligne 10 : les boucles"
   ]
  },
  {
   "cell_type": "markdown",
   "id": "38710b46",
   "metadata": {},
   "source": [
    "```python \n",
    "for VARIABLE_TEMPORAIRE in ENSEMBLE:\n",
    "    opérations 1\n",
    "    opérations 2\n",
    "```\n"
   ]
  },
  {
   "cell_type": "markdown",
   "id": "fdffd375",
   "metadata": {},
   "source": [
    "Un exemple simple en Python : on veut ajouter +1 à un ensemble de nombre"
   ]
  },
  {
   "cell_type": "code",
   "execution_count": 93,
   "id": "94183499",
   "metadata": {},
   "outputs": [],
   "source": [
    "ensemble = [54, 67, 7.8, 9]"
   ]
  },
  {
   "cell_type": "code",
   "execution_count": 103,
   "id": "a2ab6a9c",
   "metadata": {},
   "outputs": [
    {
     "name": "stdout",
     "output_type": "stream",
     "text": [
      "56\n",
      "69\n",
      "9.8\n",
      "11\n"
     ]
    }
   ],
   "source": [
    "print(ensemble[0] + 1)\n",
    "print(ensemble[1] + 1)\n",
    "print(ensemble[2] + 1)\n",
    "print(ensemble[3] + 1)"
   ]
  },
  {
   "cell_type": "code",
   "execution_count": 104,
   "id": "ed5695dc",
   "metadata": {},
   "outputs": [
    {
     "name": "stdout",
     "output_type": "stream",
     "text": [
      "56\n",
      "69\n",
      "9.8\n",
      "11\n"
     ]
    }
   ],
   "source": [
    "for element in ensemble:\n",
    "    print(element + 1)"
   ]
  },
  {
   "cell_type": "markdown",
   "id": "d2952d1a",
   "metadata": {},
   "source": [
    "On crée une variable temporaire qui prend tour à tour chaque item de l'ensemble"
   ]
  },
  {
   "cell_type": "code",
   "execution_count": 100,
   "id": "9a8cb017",
   "metadata": {},
   "outputs": [
    {
     "name": "stdout",
     "output_type": "stream",
     "text": [
      "55\n",
      "68\n",
      "8.8\n",
      "10\n"
     ]
    }
   ],
   "source": [
    "for i in ensemble:\n",
    "    print(i)"
   ]
  },
  {
   "cell_type": "markdown",
   "id": "c9572458",
   "metadata": {},
   "source": [
    "## ligne 10 11 12"
   ]
  },
  {
   "cell_type": "code",
   "execution_count": 105,
   "id": "138eab4b",
   "metadata": {},
   "outputs": [
    {
     "data": {
      "text/plain": [
       "['JE', 'RENTRE', 'UNE', 'PHRASE']"
      ]
     },
     "execution_count": 105,
     "metadata": {},
     "output_type": "execute_result"
    }
   ],
   "source": [
    "liste_mots"
   ]
  },
  {
   "cell_type": "code",
   "execution_count": 108,
   "id": "0e36d4bd",
   "metadata": {},
   "outputs": [
    {
     "data": {
      "text/plain": [
       "4"
      ]
     },
     "execution_count": 108,
     "metadata": {},
     "output_type": "execute_result"
    }
   ],
   "source": [
    "nombre_min_lettres"
   ]
  },
  {
   "cell_type": "code",
   "execution_count": 107,
   "id": "466b7e8e",
   "metadata": {},
   "outputs": [
    {
     "name": "stdout",
     "output_type": "stream",
     "text": [
      "JE\n",
      "RENTRE\n",
      "UNE\n",
      "PHRASE\n"
     ]
    }
   ],
   "source": [
    "for i in liste_mots:\n",
    "    print(i)"
   ]
  },
  {
   "cell_type": "code",
   "execution_count": 109,
   "id": "c8daef38",
   "metadata": {},
   "outputs": [
    {
     "data": {
      "text/plain": [
       "4"
      ]
     },
     "execution_count": 109,
     "metadata": {},
     "output_type": "execute_result"
    }
   ],
   "source": [
    "len(\"CECI\")"
   ]
  },
  {
   "cell_type": "code",
   "execution_count": 116,
   "id": "a4ae8a3d",
   "metadata": {},
   "outputs": [
    {
     "name": "stdout",
     "output_type": "stream",
     "text": [
      "JE 2\n",
      "RENTRE 6\n",
      "ajouter 1 au compteur\n",
      "UNE 3\n",
      "PHRASE 6\n",
      "ajouter 1 au compteur\n"
     ]
    }
   ],
   "source": [
    "compteur = 0\n",
    "for i in liste_mots:\n",
    "    print(i,len(i))\n",
    "    if len(i) >= nombre_min_lettres:\n",
    "        print(\"ajouter 1 au compteur\")\n",
    "        compteur+=1 # compteur = compteur + 1"
   ]
  },
  {
   "cell_type": "code",
   "execution_count": 114,
   "id": "d06d24b3",
   "metadata": {},
   "outputs": [
    {
     "data": {
      "text/plain": [
       "2"
      ]
     },
     "execution_count": 114,
     "metadata": {},
     "output_type": "execute_result"
    }
   ],
   "source": [
    "compteur"
   ]
  },
  {
   "cell_type": "markdown",
   "id": "52c93144",
   "metadata": {},
   "source": [
    "## Discussion pour la pause"
   ]
  },
  {
   "cell_type": "markdown",
   "id": "9f02ccc7",
   "metadata": {},
   "source": [
    "séparer sur différents séparateur , : "
   ]
  },
  {
   "cell_type": "code",
   "execution_count": 117,
   "id": "df22a56f",
   "metadata": {},
   "outputs": [],
   "source": [
    "phrase = \"Ceci est une phrase,complexe-avec des apostrophes qu'il s'agit de séparer\""
   ]
  },
  {
   "cell_type": "markdown",
   "id": "5de6e885",
   "metadata": {},
   "source": [
    "Soit on fait plusieurs opérations"
   ]
  },
  {
   "cell_type": "code",
   "execution_count": 121,
   "id": "815eb1f4",
   "metadata": {},
   "outputs": [],
   "source": [
    "phrase = phrase.replace(\"-\",\" \")\n",
    "phrase = phrase.replace(\",\",\" \")"
   ]
  },
  {
   "cell_type": "markdown",
   "id": "531f8ad3",
   "metadata": {},
   "source": [
    "Soit on fait une boucle sur l'ensemble des symboles (plus abstrait)"
   ]
  },
  {
   "cell_type": "code",
   "execution_count": 122,
   "id": "54fc1ff5",
   "metadata": {},
   "outputs": [
    {
     "data": {
      "text/plain": [
       "['Ceci',\n",
       " 'est',\n",
       " 'une',\n",
       " 'phrase',\n",
       " 'complexe',\n",
       " 'avec',\n",
       " 'des',\n",
       " 'apostrophes',\n",
       " 'qu',\n",
       " 'il',\n",
       " 's',\n",
       " 'agit',\n",
       " 'de',\n",
       " 'séparer']"
      ]
     },
     "execution_count": 122,
     "metadata": {},
     "output_type": "execute_result"
    }
   ],
   "source": [
    "symboles = [\",\",\":\",\"'\",\"-\",\"#\"]\n",
    "for s in symboles:\n",
    "    phrase = phrase.replace(s,\" \")\n",
    "phrase.split(\" \")"
   ]
  },
  {
   "cell_type": "markdown",
   "id": "f2240f8e",
   "metadata": {},
   "source": [
    "## Ligne X"
   ]
  },
  {
   "cell_type": "code",
   "execution_count": 129,
   "id": "ca66de8f",
   "metadata": {},
   "outputs": [],
   "source": [
    "proportion = round(100*compteur/nombre_mots,0)"
   ]
  },
  {
   "cell_type": "code",
   "execution_count": 130,
   "id": "85a6f081",
   "metadata": {},
   "outputs": [
    {
     "name": "stdout",
     "output_type": "stream",
     "text": [
      "2 4 50.0\n"
     ]
    }
   ],
   "source": [
    "print(compteur,nombre_mots,proportion)"
   ]
  },
  {
   "cell_type": "code",
   "execution_count": 123,
   "id": "fd372b4d",
   "metadata": {},
   "outputs": [],
   "source": [
    "?round"
   ]
  },
  {
   "cell_type": "markdown",
   "id": "0e640ac5",
   "metadata": {},
   "source": [
    "## Ligne X + 1"
   ]
  },
  {
   "cell_type": "code",
   "execution_count": 131,
   "id": "95e44e88",
   "metadata": {},
   "outputs": [],
   "source": [
    "informations = {\"Total\":compteur,\n",
    "                \"Proportion\":proportion,\n",
    "                \"Phrase\":phrase,\n",
    "                \"Seuil\":nombre_min_lettres}"
   ]
  },
  {
   "cell_type": "code",
   "execution_count": 133,
   "id": "90431ee2",
   "metadata": {},
   "outputs": [
    {
     "data": {
      "text/plain": [
       "{'Total': 2,\n",
       " 'Proportion': 50.0,\n",
       " 'Phrase': 'Ceci est une phrase complexe avec des apostrophes qu il s agit de séparer',\n",
       " 'Seuil': 4}"
      ]
     },
     "execution_count": 133,
     "metadata": {},
     "output_type": "execute_result"
    }
   ],
   "source": [
    "informations"
   ]
  },
  {
   "cell_type": "code",
   "execution_count": 134,
   "id": "add2da8b",
   "metadata": {},
   "outputs": [
    {
     "data": {
      "text/plain": [
       "2"
      ]
     },
     "execution_count": 134,
     "metadata": {},
     "output_type": "execute_result"
    }
   ],
   "source": [
    "informations[\"Total\"]"
   ]
  },
  {
   "cell_type": "code",
   "execution_count": 135,
   "id": "aae9d149",
   "metadata": {},
   "outputs": [
    {
     "data": {
      "text/plain": [
       "4"
      ]
     },
     "execution_count": 135,
     "metadata": {},
     "output_type": "execute_result"
    }
   ],
   "source": [
    "len(informations)"
   ]
  },
  {
   "cell_type": "markdown",
   "id": "10762524",
   "metadata": {},
   "source": [
    "Un dictionnaire est un ensemble {clé:valeur}"
   ]
  },
  {
   "cell_type": "code",
   "execution_count": 132,
   "id": "75e2bf4c",
   "metadata": {},
   "outputs": [
    {
     "data": {
      "text/plain": [
       "dict"
      ]
     },
     "execution_count": 132,
     "metadata": {},
     "output_type": "execute_result"
    }
   ],
   "source": [
    "type(informations)"
   ]
  },
  {
   "cell_type": "code",
   "execution_count": 136,
   "id": "77d9b277",
   "metadata": {},
   "outputs": [],
   "source": [
    "nouveau_dictionnaire = dict()"
   ]
  },
  {
   "cell_type": "code",
   "execution_count": 138,
   "id": "f6d509ce",
   "metadata": {},
   "outputs": [],
   "source": [
    "nouveau_dictionnaire[\"nouvel_element\"] = 1"
   ]
  },
  {
   "cell_type": "code",
   "execution_count": 140,
   "id": "167fbd6f",
   "metadata": {},
   "outputs": [],
   "source": [
    "nouveau_dictionnaire[\"autre élément\"] = \"top\""
   ]
  },
  {
   "cell_type": "code",
   "execution_count": 143,
   "id": "10ee45e0",
   "metadata": {},
   "outputs": [
    {
     "data": {
      "text/plain": [
       "[1, 'top']"
      ]
     },
     "execution_count": 143,
     "metadata": {},
     "output_type": "execute_result"
    }
   ],
   "source": [
    "list(nouveau_dictionnaire.values())"
   ]
  },
  {
   "cell_type": "markdown",
   "id": "a7c95208",
   "metadata": {},
   "source": [
    "## Ligne X+2 et X+3\n",
    "\n",
    "Formattage de chaine de caractères"
   ]
  },
  {
   "cell_type": "markdown",
   "id": "ceb3a2c1",
   "metadata": {},
   "source": [
    "Formattage avec f-string"
   ]
  },
  {
   "cell_type": "code",
   "execution_count": 146,
   "id": "253f184e",
   "metadata": {},
   "outputs": [
    {
     "data": {
      "text/plain": [
       "'Proportion de mots avec 4 lettres ou plus : 50.0'"
      ]
     },
     "execution_count": 146,
     "metadata": {},
     "output_type": "execute_result"
    }
   ],
   "source": [
    "f\"Proportion de mots avec {nombre_min_lettres} lettres ou plus : {proportion}\""
   ]
  },
  {
   "cell_type": "markdown",
   "id": "c15b266d",
   "metadata": {},
   "source": [
    "Formattage avec concaténation"
   ]
  },
  {
   "cell_type": "code",
   "execution_count": 148,
   "id": "24850629",
   "metadata": {},
   "outputs": [
    {
     "data": {
      "text/plain": [
       "'Proportion de mots avec 4 lettres ou plus : 50.0'"
      ]
     },
     "execution_count": 148,
     "metadata": {},
     "output_type": "execute_result"
    }
   ],
   "source": [
    "\"Proportion de mots avec \" + str(nombre_min_lettres) + \" lettres ou plus : \"+ str(proportion)"
   ]
  },
  {
   "cell_type": "code",
   "execution_count": 149,
   "id": "26d2a991",
   "metadata": {},
   "outputs": [
    {
     "data": {
      "text/plain": [
       "'Proportion de mots avec 4.000000 lettres ou plus : 50.000000'"
      ]
     },
     "execution_count": 149,
     "metadata": {},
     "output_type": "execute_result"
    }
   ],
   "source": [
    "\"Proportion de mots avec %f lettres ou plus : %f\" %(nombre_min_lettres,proportion)"
   ]
  },
  {
   "cell_type": "markdown",
   "id": "d689fa1c",
   "metadata": {},
   "source": [
    "## Lecture/écriture sur le disque dur"
   ]
  },
  {
   "cell_type": "code",
   "execution_count": 158,
   "id": "4e9e8987",
   "metadata": {},
   "outputs": [],
   "source": [
    "sortie_fichier = False"
   ]
  },
  {
   "cell_type": "code",
   "execution_count": null,
   "id": "4a496574",
   "metadata": {},
   "outputs": [],
   "source": [
    "# L'écriture sur le disque dur\n",
    "if sortie_fichier:\n",
    "    chemin = \"./data/\"\n",
    "    with open(chemin + \"resultat.txt\",\"w\") as f:\n",
    "        f.write(str(informations))"
   ]
  },
  {
   "cell_type": "markdown",
   "id": "0faa03a4",
   "metadata": {},
   "source": [
    "### C'est quoi écrire dans un fichier\n",
    "\n",
    "- ouvrir un fichier\n",
    "- lire/écrire dans le fichier \n",
    "- fermer le fichier"
   ]
  },
  {
   "cell_type": "code",
   "execution_count": 155,
   "id": "9f5ede8a",
   "metadata": {},
   "outputs": [],
   "source": [
    "canal = open(\"fichier.txt\",\"w\") # ouvert un fichier en mode écriture\n",
    "canal.write(\"blablabla\") # écrit des choses\n",
    "canal.close() # fermé le canal d'écriture"
   ]
  },
  {
   "cell_type": "markdown",
   "id": "20f0bfd7",
   "metadata": {},
   "source": [
    "Utilisation d'un bloc de contexte"
   ]
  },
  {
   "cell_type": "code",
   "execution_count": 159,
   "id": "ac254a8e",
   "metadata": {},
   "outputs": [],
   "source": [
    "with open(\"fichier.txt\",\"w\") as canal:\n",
    "    canal.write(\"blablabla\")"
   ]
  },
  {
   "cell_type": "markdown",
   "id": "e587d5fd",
   "metadata": {},
   "source": [
    "en lecture"
   ]
  },
  {
   "cell_type": "code",
   "execution_count": 157,
   "id": "a1e09484",
   "metadata": {},
   "outputs": [
    {
     "data": {
      "text/plain": [
       "'blablabla'"
      ]
     },
     "execution_count": 157,
     "metadata": {},
     "output_type": "execute_result"
    }
   ],
   "source": [
    "canal = open(\"fichier.txt\",\"r\") # ouvert un fichier en mode écriture\n",
    "texte = canal.read() # lire des choses\n",
    "canal.close() # fermé le canal d'écriture\n",
    "texte"
   ]
  },
  {
   "cell_type": "code",
   "execution_count": 167,
   "id": "0f0b6eaf",
   "metadata": {},
   "outputs": [],
   "source": [
    "chemin = \"./data/\"\n",
    "with open(chemin + \"resultat.txt\",\"w\") as f:\n",
    "    f.write(str(informations))"
   ]
  },
  {
   "cell_type": "code",
   "execution_count": 166,
   "id": "96ceb124",
   "metadata": {},
   "outputs": [],
   "source": [
    "mkdir data"
   ]
  },
  {
   "cell_type": "code",
   "execution_count": 170,
   "id": "fd815f7b",
   "metadata": {},
   "outputs": [
    {
     "name": "stdout",
     "output_type": "stream",
     "text": [
      "{'Total': 2, 'Proportion': 50.0, 'Phrase': 'Ceci est une phrase complexe avec des apostrophes qu il s agit de séparer', 'Seuil': 4}"
     ]
    }
   ],
   "source": [
    "cat data/resultat.txt"
   ]
  },
  {
   "cell_type": "markdown",
   "id": "6cfa7c47",
   "metadata": {},
   "source": [
    "# La notion de fonction (ou de méthode)"
   ]
  },
  {
   "cell_type": "markdown",
   "id": "d765d4bc",
   "metadata": {},
   "source": [
    "Des fonctions de base de python\n",
    "\n",
    "- len\n",
    "- type\n",
    "- print"
   ]
  },
  {
   "cell_type": "code",
   "execution_count": 172,
   "id": "e223692d",
   "metadata": {},
   "outputs": [
    {
     "name": "stdout",
     "output_type": "stream",
     "text": [
      "argument\n"
     ]
    }
   ],
   "source": [
    "print(\"argument\")"
   ]
  },
  {
   "cell_type": "code",
   "execution_count": 174,
   "id": "09277586",
   "metadata": {},
   "outputs": [
    {
     "data": {
      "text/plain": [
       "[0, 1, 2, 3, 4, 5, 6, 7, 8, 9]"
      ]
     },
     "execution_count": 174,
     "metadata": {},
     "output_type": "execute_result"
    }
   ],
   "source": [
    "list(range(0,10))"
   ]
  },
  {
   "cell_type": "markdown",
   "id": "616d2bc2",
   "metadata": {},
   "source": [
    "Créer une fonction :\n",
    "\n",
    "```python \n",
    "def nom_de_la_fonction(entrées):\n",
    "    opérations que la fonction fait\n",
    "    return sorties\n",
    "```"
   ]
  },
  {
   "cell_type": "markdown",
   "id": "c0c4a3a9",
   "metadata": {},
   "source": [
    "Ajouter un à un nombre"
   ]
  },
  {
   "cell_type": "code",
   "execution_count": 176,
   "id": "d6a11653",
   "metadata": {},
   "outputs": [
    {
     "name": "stdout",
     "output_type": "stream",
     "text": [
      "11\n"
     ]
    }
   ],
   "source": [
    "nombre = 10\n",
    "print(nombre + 1)"
   ]
  },
  {
   "cell_type": "markdown",
   "id": "41cf6a9a",
   "metadata": {},
   "source": [
    "Définir une fonction"
   ]
  },
  {
   "cell_type": "code",
   "execution_count": 178,
   "id": "69e7d020",
   "metadata": {},
   "outputs": [],
   "source": [
    "def ajouter_un(nombre):\n",
    "    sortie = nombre  + 1 \n",
    "    return sortie"
   ]
  },
  {
   "cell_type": "code",
   "execution_count": 180,
   "id": "fdb711de",
   "metadata": {},
   "outputs": [
    {
     "data": {
      "text/plain": [
       "function"
      ]
     },
     "execution_count": 180,
     "metadata": {},
     "output_type": "execute_result"
    }
   ],
   "source": [
    "type(ajouter_un)"
   ]
  },
  {
   "cell_type": "markdown",
   "id": "b35aebc2",
   "metadata": {},
   "source": [
    "On a utilisé la fonction (on l'a exécuté)"
   ]
  },
  {
   "cell_type": "code",
   "execution_count": 181,
   "id": "b40d1a53",
   "metadata": {},
   "outputs": [
    {
     "data": {
      "text/plain": [
       "11"
      ]
     },
     "execution_count": 181,
     "metadata": {},
     "output_type": "execute_result"
    }
   ],
   "source": [
    "ajouter_un(10)"
   ]
  },
  {
   "cell_type": "markdown",
   "id": "13d78791",
   "metadata": {},
   "source": [
    "### Créons la fonction qui renvoie le nombre de mots d'une phrase\n",
    "\n",
    "- les entrées : une chaine de caractère\n",
    "- le traitement : split / len \n",
    "- la sortie : renvoyer la valeur"
   ]
  },
  {
   "cell_type": "code",
   "execution_count": 182,
   "id": "41568bb9",
   "metadata": {},
   "outputs": [],
   "source": [
    "def nbre_mots(phrase):\n",
    "    mots = phrase.split(\" \")\n",
    "    nb = len(mots)\n",
    "    return nb"
   ]
  },
  {
   "cell_type": "code",
   "execution_count": 184,
   "id": "03d47a9c",
   "metadata": {},
   "outputs": [
    {
     "data": {
      "text/plain": [
       "4"
      ]
     },
     "execution_count": 184,
     "metadata": {},
     "output_type": "execute_result"
    }
   ],
   "source": [
    "nbre_mots(\"Ceci est ma phrase\")"
   ]
  },
  {
   "cell_type": "markdown",
   "id": "02bb941d",
   "metadata": {},
   "source": [
    "On peut l'améliorer, par exemple pour vérifier que c'est un bien du texte en entrée"
   ]
  },
  {
   "cell_type": "code",
   "execution_count": 190,
   "id": "0984fde9",
   "metadata": {},
   "outputs": [],
   "source": [
    "def nbre_mots(phrase):\n",
    "    if type(phrase) == str:\n",
    "        mots = phrase.split(\" \")\n",
    "        nb = len(mots)\n",
    "    else:\n",
    "        print(\"Attention, pas le bon format d'entrée\")\n",
    "        nb = None\n",
    "    return nb"
   ]
  },
  {
   "cell_type": "code",
   "execution_count": 191,
   "id": "6b93f0ce",
   "metadata": {},
   "outputs": [
    {
     "name": "stdout",
     "output_type": "stream",
     "text": [
      "Attention, pas le bon format d'entrée\n"
     ]
    }
   ],
   "source": [
    "nbre_mots(10)"
   ]
  },
  {
   "cell_type": "markdown",
   "id": "134b8d8d",
   "metadata": {},
   "source": [
    "## Définir la fonction qui renvoie la proportion du nombre de mots de plus de 5 lettres\n",
    "\n",
    "On reprend le script précédent et on le fait sous une forme de fonction"
   ]
  },
  {
   "cell_type": "code",
   "execution_count": 192,
   "id": "3ad18a61",
   "metadata": {},
   "outputs": [],
   "source": [
    "def proportion_mots_5_lettres(phrase):\n",
    "    \"\"\"\n",
    "    Renvoyer le dictionnaire d'informations\n",
    "    calculant la proportion de mots de plus de 5 lettres\n",
    "    \"\"\"   \n",
    "    nombre_min_lettres = 5\n",
    "    liste_mots = phrase.split(\" \")\n",
    "    nombre_mots = len(liste_mots)\n",
    "\n",
    "    if nombre_mots == 0:\n",
    "        print(\"La liste est vide\") \n",
    "        return None\n",
    "    else: \n",
    "        compteur = 0 \n",
    "        for i in liste_mots:\n",
    "            if len(i) >= nombre_min_lettres:\n",
    "                compteur+=1\n",
    "        proportion = round(100*compteur/nombre_mots,2)\n",
    "\n",
    "        informations = {\"Total\":compteur,\"Proportion\":proportion,\n",
    "                       \"Phrase\":phrase,\"Seuil\":nombre_min_lettres}\n",
    "    return informations"
   ]
  },
  {
   "cell_type": "markdown",
   "id": "6f7a91cc",
   "metadata": {},
   "source": [
    "Utilisation de la fonction"
   ]
  },
  {
   "cell_type": "code",
   "execution_count": 193,
   "id": "8b86a44a",
   "metadata": {},
   "outputs": [
    {
     "data": {
      "text/plain": [
       "{'Total': 1,\n",
       " 'Proportion': 16.67,\n",
       " 'Phrase': 'Ceci est ma phrase de test',\n",
       " 'Seuil': 5}"
      ]
     },
     "execution_count": 193,
     "metadata": {},
     "output_type": "execute_result"
    }
   ],
   "source": [
    "proportion_mots_5_lettres(\"Ceci est ma phrase de test\")"
   ]
  },
  {
   "cell_type": "code",
   "execution_count": 195,
   "id": "f59f0ba1",
   "metadata": {},
   "outputs": [
    {
     "data": {
      "text/plain": [
       "{'Total': 2,\n",
       " 'Proportion': 28.57,\n",
       " 'Phrase': 'Ceci est une autre phrase de test',\n",
       " 'Seuil': 5}"
      ]
     },
     "execution_count": 195,
     "metadata": {},
     "output_type": "execute_result"
    }
   ],
   "source": [
    "proportion_mots_5_lettres(\"Ceci est une autre phrase de test\")"
   ]
  },
  {
   "cell_type": "code",
   "execution_count": 194,
   "id": "af817ac8",
   "metadata": {},
   "outputs": [
    {
     "name": "stdout",
     "output_type": "stream",
     "text": [
      "Écrivez une phrase: sddq dsqds dq\n"
     ]
    },
    {
     "data": {
      "text/plain": [
       "{'Total': 1, 'Proportion': 33.33, 'Phrase': 'sddq dsqds dq', 'Seuil': 5}"
      ]
     },
     "execution_count": 194,
     "metadata": {},
     "output_type": "execute_result"
    }
   ],
   "source": [
    "phrase = input(\"Écrivez une phrase: \") \n",
    "proportion_mots_5_lettres(phrase)"
   ]
  }
 ],
 "metadata": {
  "kernelspec": {
   "display_name": "Python 3 (ipykernel)",
   "language": "python",
   "name": "python3"
  },
  "language_info": {
   "codemirror_mode": {
    "name": "ipython",
    "version": 3
   },
   "file_extension": ".py",
   "mimetype": "text/x-python",
   "name": "python",
   "nbconvert_exporter": "python",
   "pygments_lexer": "ipython3",
   "version": "3.10.8"
  }
 },
 "nbformat": 4,
 "nbformat_minor": 5
}
