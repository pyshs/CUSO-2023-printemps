{
 "cells": [
  {
   "cell_type": "markdown",
   "id": "53bc79f8",
   "metadata": {},
   "source": [
    "# Petits exercices d'application de la séance 2"
   ]
  },
  {
   "cell_type": "markdown",
   "id": "c2a02e63",
   "metadata": {},
   "source": [
    "## Exercice d'application\n",
    "\n",
    "- quel est le type de la variable v si `v = 1.1` ?\n",
    "- pourquoi a-t-on une erreur si on fait `10 + \"vingt\"` ?\n",
    "- est-ce que `variable1` et `Variable1` sont la même variable ?"
   ]
  },
  {
   "cell_type": "code",
   "execution_count": 1,
   "id": "51fd36ca",
   "metadata": {},
   "outputs": [
    {
     "data": {
      "text/plain": [
       "float"
      ]
     },
     "execution_count": 1,
     "metadata": {},
     "output_type": "execute_result"
    }
   ],
   "source": [
    "v = 1.1\n",
    "type(v)"
   ]
  },
  {
   "cell_type": "code",
   "execution_count": 2,
   "id": "77169ba4",
   "metadata": {},
   "outputs": [
    {
     "ename": "TypeError",
     "evalue": "unsupported operand type(s) for +: 'int' and 'str'",
     "output_type": "error",
     "traceback": [
      "\u001b[0;31m---------------------------------------------------------------------------\u001b[0m",
      "\u001b[0;31mTypeError\u001b[0m                                 Traceback (most recent call last)",
      "Cell \u001b[0;32mIn [2], line 1\u001b[0m\n\u001b[0;32m----> 1\u001b[0m \u001b[38;5;241;43m10\u001b[39;49m\u001b[43m \u001b[49m\u001b[38;5;241;43m+\u001b[39;49m\u001b[43m \u001b[49m\u001b[38;5;124;43m\"\u001b[39;49m\u001b[38;5;124;43mvingt\u001b[39;49m\u001b[38;5;124;43m\"\u001b[39;49m\n",
      "\u001b[0;31mTypeError\u001b[0m: unsupported operand type(s) for +: 'int' and 'str'"
     ]
    }
   ],
   "source": [
    "10 + \"vingt\""
   ]
  },
  {
   "cell_type": "markdown",
   "id": "968e1796",
   "metadata": {},
   "source": [
    "## Exercice 1\n",
    "\n",
    "Faire un petit script qui demande une phrase à l'utilisateur et affiche le nombre de mots de la phrase (pour l'affichage avec print)"
   ]
  },
  {
   "cell_type": "markdown",
   "id": "db57a770",
   "metadata": {},
   "source": [
    "- demander une phrase : input\n",
    "- décomposer la phrase en mots : méthode split d'une chaîne de caractères\n",
    "- compter le nombre de mots : la fonction len\n",
    "- afficher le nombre de mots : la fonction print"
   ]
  },
  {
   "cell_type": "code",
   "execution_count": 6,
   "id": "40898408",
   "metadata": {},
   "outputs": [
    {
     "name": "stdout",
     "output_type": "stream",
     "text": [
      "Rentrer une phrasececi est une p^hrase\n",
      "4\n"
     ]
    }
   ],
   "source": [
    "phrase = input(\"Rentrer une phrase\")\n",
    "phrase_decomposee = phrase.split(\" \")\n",
    "nbre_mots = len(phrase_decomposee)\n",
    "print(nbre_mots)"
   ]
  },
  {
   "cell_type": "markdown",
   "id": "ca774c7f",
   "metadata": {},
   "source": [
    "## Exercice 2 \n",
    "\n",
    "Faire un petit script qui demande une phrase à l'utilisateur et affiche le dernier mot de la phrase"
   ]
  },
  {
   "cell_type": "markdown",
   "id": "f7113bfa",
   "metadata": {},
   "source": [
    "- demander une phrase : input\n",
    "- décomposer la phrase en mots : méthode split d'une chaîne de caractères\n",
    "- prendre le dernier mot de la liste\n",
    "- afficher le dernier mot"
   ]
  },
  {
   "cell_type": "code",
   "execution_count": 18,
   "id": "388b520e",
   "metadata": {},
   "outputs": [
    {
     "name": "stdout",
     "output_type": "stream",
     "text": [
      "Rentrer une phraseSi je rentre une phrase\n",
      "phrase\n"
     ]
    }
   ],
   "source": [
    "phrase = input(\"Rentrer une phrase\")\n",
    "phrase_decomposee = phrase.split(\" \")\n",
    "dernier_mot = phrase_decomposee[-1]\n",
    "print(dernier_mot)"
   ]
  },
  {
   "cell_type": "code",
   "execution_count": 8,
   "id": "fa0caed8",
   "metadata": {},
   "outputs": [],
   "source": [
    "var = [\"3\",\"phrase\",\"une\"]"
   ]
  },
  {
   "cell_type": "code",
   "execution_count": 11,
   "id": "f3bc416a",
   "metadata": {},
   "outputs": [
    {
     "data": {
      "text/plain": [
       "'une'"
      ]
     },
     "execution_count": 11,
     "metadata": {},
     "output_type": "execute_result"
    }
   ],
   "source": [
    "var[-1]"
   ]
  },
  {
   "cell_type": "markdown",
   "id": "c2a43a17",
   "metadata": {},
   "source": [
    "## Exercice 3\n",
    "\n",
    "Créer un petit script qui demande deux phrases successivement et affiche les deux phrases concaténées."
   ]
  },
  {
   "cell_type": "markdown",
   "id": "f592e9aa",
   "metadata": {},
   "source": [
    "- demander une phrase 1\n",
    "- demander une phrase 2\n",
    "- additionner les deux phrases\n",
    "- les affichers"
   ]
  },
  {
   "cell_type": "code",
   "execution_count": null,
   "id": "a4b15027",
   "metadata": {},
   "outputs": [],
   "source": [
    "phrase1 = input(\"Entrez une phrase (1)\") # demander phrase 1\n",
    "phrase2 = input(\"Entrez une phrase (2)\") # demander phrase 2\n",
    "addition_phrase = phrase1 + phrase2 # créer une variable intermédiaire\n",
    "print(addition_phrase) # afficher à l'écran"
   ]
  },
  {
   "cell_type": "markdown",
   "id": "c2811b98",
   "metadata": {},
   "source": [
    "Version améliorée"
   ]
  },
  {
   "cell_type": "code",
   "execution_count": 20,
   "id": "3908c6d4",
   "metadata": {},
   "outputs": [
    {
     "name": "stdout",
     "output_type": "stream",
     "text": [
      "Entrez une phrase (1)Ceci est\n",
      "Entrez une phrase (2)Ma phrase\n",
      "Ceci est ma phrase\n"
     ]
    }
   ],
   "source": [
    "phrase1 = input(\"Entrez une phrase (1)\")\n",
    "phrase2 = input(\"Entrez une phrase (2)\")\n",
    "addition_phrase = phrase1 + \" \" + phrase2.lower()\n",
    "print(addition_phrase)"
   ]
  },
  {
   "cell_type": "markdown",
   "id": "41128873",
   "metadata": {},
   "source": [
    "Une autre solution"
   ]
  },
  {
   "cell_type": "code",
   "execution_count": 22,
   "id": "c4401241",
   "metadata": {},
   "outputs": [
    {
     "name": "stdout",
     "output_type": "stream",
     "text": [
      "Entrez une phrase (1)Test\n",
      "Entrez une phrase (2)Encore\n",
      "Test   Encore\n",
      "Test\n",
      "Encore\n"
     ]
    }
   ],
   "source": [
    "phrase1 = input(\"Entrez une phrase (1)\") # demander phrase 1\n",
    "phrase2 = input(\"Entrez une phrase (2)\") # demander phrase 2\n",
    "print(phrase1,\" \",phrase2) # afficher à l'écran\n",
    "print(phrase1)\n",
    "print(phrase2)"
   ]
  },
  {
   "cell_type": "markdown",
   "id": "ba803bbc",
   "metadata": {},
   "source": [
    "Souvent, plein de manière de faire la même chose"
   ]
  },
  {
   "cell_type": "code",
   "execution_count": 23,
   "id": "650684af",
   "metadata": {},
   "outputs": [
    {
     "name": "stdout",
     "output_type": "stream",
     "text": [
      "phrase 1Faire une\n",
      "phrase 2Phrase\n",
      "Faire une Phrase\n"
     ]
    }
   ],
   "source": [
    "print(input(\"phrase 1\") + \" \" + input(\"phrase 2\"))"
   ]
  },
  {
   "cell_type": "markdown",
   "id": "2d9eafaf",
   "metadata": {},
   "source": [
    "## Exercice 4\n",
    "\n",
    "Comprendre ce que fait la méthode capitalize des chaines de caractères (indice : https://docs.python.org/3/library/stdtypes.html#string-methods)"
   ]
  },
  {
   "cell_type": "code",
   "execution_count": 24,
   "id": "c051f6de",
   "metadata": {},
   "outputs": [],
   "source": [
    "phrase = \"ceci est une PHRASE\""
   ]
  },
  {
   "cell_type": "code",
   "execution_count": 25,
   "id": "65bda3eb",
   "metadata": {},
   "outputs": [
    {
     "data": {
      "text/plain": [
       "'Ceci est une phrase'"
      ]
     },
     "execution_count": 25,
     "metadata": {},
     "output_type": "execute_result"
    }
   ],
   "source": [
    "phrase.capitalize()"
   ]
  },
  {
   "cell_type": "code",
   "execution_count": 26,
   "id": "4506f73f",
   "metadata": {},
   "outputs": [],
   "source": [
    "?phrase.capitalize"
   ]
  }
 ],
 "metadata": {
  "kernelspec": {
   "display_name": "Python 3 (ipykernel)",
   "language": "python",
   "name": "python3"
  },
  "language_info": {
   "codemirror_mode": {
    "name": "ipython",
    "version": 3
   },
   "file_extension": ".py",
   "mimetype": "text/x-python",
   "name": "python",
   "nbconvert_exporter": "python",
   "pygments_lexer": "ipython3",
   "version": "3.10.8"
  }
 },
 "nbformat": 4,
 "nbformat_minor": 5
}
