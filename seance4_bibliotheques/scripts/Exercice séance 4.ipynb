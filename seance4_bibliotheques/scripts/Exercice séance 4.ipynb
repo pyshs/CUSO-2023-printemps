{
 "cells": [
  {
   "cell_type": "markdown",
   "id": "4052330b",
   "metadata": {},
   "source": [
    "# Exercice sur la séance 4 (autour des bibliothèques)"
   ]
  },
  {
   "cell_type": "markdown",
   "id": "5bdd07c1",
   "metadata": {},
   "source": [
    "## Exercice 1\n",
    "\n",
    "Installer la bibliothèque requests, regarder l'aide et récupérer le contenu de la page `https://www.letemps.ch/`"
   ]
  },
  {
   "cell_type": "markdown",
   "id": "b883a2fe",
   "metadata": {},
   "source": [
    "## Exercice 2\n",
    "\n",
    "Récupérez la page wikipédia de votre discipline avec urllib (ou requests) et sauvegardez la dans un fichier texte sur votre ordinateur"
   ]
  },
  {
   "cell_type": "markdown",
   "id": "fc15ed82",
   "metadata": {},
   "source": [
    "## Exercice 3\n",
    "\n",
    "Comparer le nombre de mots de la page de votre discipline en français et en anglais"
   ]
  },
  {
   "cell_type": "markdown",
   "id": "c1f82c7f",
   "metadata": {},
   "source": [
    "## Exercice 4\n",
    "\n",
    "Testez pour une liste de disciplines (Sociologie, Anthropologie, Géographie, Histoire, Philosophie, Mathématiques, Physique) la présence d'une série de mots clés (informatique, ordinateur, computationnel, programmation)"
   ]
  }
 ],
 "metadata": {
  "kernelspec": {
   "display_name": "Python 3 (ipykernel)",
   "language": "python",
   "name": "python3"
  },
  "language_info": {
   "codemirror_mode": {
    "name": "ipython",
    "version": 3
   },
   "file_extension": ".py",
   "mimetype": "text/x-python",
   "name": "python",
   "nbconvert_exporter": "python",
   "pygments_lexer": "ipython3",
   "version": "3.10.8"
  }
 },
 "nbformat": 4,
 "nbformat_minor": 5
}
