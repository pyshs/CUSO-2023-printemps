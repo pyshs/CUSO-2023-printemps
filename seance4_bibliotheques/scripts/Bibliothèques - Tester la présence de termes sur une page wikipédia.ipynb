{
 "cells": [
  {
   "cell_type": "markdown",
   "id": "d1a60dcc",
   "metadata": {},
   "source": [
    "# Récupérer une page wikipédia"
   ]
  },
  {
   "cell_type": "markdown",
   "id": "e30ed969",
   "metadata": {},
   "source": [
    "A la base on a une URL : https://fr.wikipedia.org/wiki/Sociologie"
   ]
  },
  {
   "cell_type": "markdown",
   "id": "78a0a784",
   "metadata": {},
   "source": [
    "On veut récupérer la page à cette URL"
   ]
  },
  {
   "cell_type": "markdown",
   "id": "567c942a",
   "metadata": {},
   "source": [
    "On cherche un peu et on trouve un module urllib : https://docs.python.org/3/library/urllib.request.html#module-urllib.request\n",
    "\n",
    "Celui-ci contient un sous module request qui permet de récupérer des URL"
   ]
  },
  {
   "cell_type": "markdown",
   "id": "21c3f73a",
   "metadata": {},
   "source": [
    "## Etape 1 : importer la bibliothèque / module"
   ]
  },
  {
   "cell_type": "code",
   "execution_count": 1,
   "id": "8e5e9b21",
   "metadata": {},
   "outputs": [],
   "source": [
    "import urllib"
   ]
  },
  {
   "cell_type": "code",
   "execution_count": 2,
   "id": "9bc0f4bc",
   "metadata": {},
   "outputs": [],
   "source": [
    "import urllib.request"
   ]
  },
  {
   "cell_type": "code",
   "execution_count": 3,
   "id": "c0520f52",
   "metadata": {},
   "outputs": [],
   "source": [
    "from urllib.request import urlopen"
   ]
  },
  {
   "cell_type": "markdown",
   "id": "f7fde771",
   "metadata": {},
   "source": [
    "On a importé un nouvel objet"
   ]
  },
  {
   "cell_type": "code",
   "execution_count": 4,
   "id": "2d2a9408",
   "metadata": {},
   "outputs": [
    {
     "data": {
      "text/plain": [
       "module"
      ]
     },
     "execution_count": 4,
     "metadata": {},
     "output_type": "execute_result"
    }
   ],
   "source": [
    "type(urllib)"
   ]
  },
  {
   "cell_type": "code",
   "execution_count": 5,
   "id": "dd122381",
   "metadata": {},
   "outputs": [
    {
     "data": {
      "text/plain": [
       "function"
      ]
     },
     "execution_count": 5,
     "metadata": {},
     "output_type": "execute_result"
    }
   ],
   "source": [
    "type(urlopen)"
   ]
  },
  {
   "cell_type": "markdown",
   "id": "6e82f7b9",
   "metadata": {},
   "source": [
    "## Faire un test sur une URL"
   ]
  },
  {
   "cell_type": "code",
   "execution_count": 13,
   "id": "1de969bc",
   "metadata": {},
   "outputs": [],
   "source": [
    "url = \"https://fr.wikipedia.org/wiki/Sociologie\""
   ]
  },
  {
   "cell_type": "code",
   "execution_count": 10,
   "id": "646dadb2",
   "metadata": {},
   "outputs": [
    {
     "data": {
      "text/plain": [
       "http.client.HTTPResponse"
      ]
     },
     "execution_count": 10,
     "metadata": {},
     "output_type": "execute_result"
    }
   ],
   "source": [
    "type(page)"
   ]
  },
  {
   "cell_type": "code",
   "execution_count": 14,
   "id": "6e8196cf",
   "metadata": {},
   "outputs": [],
   "source": [
    "page = urlopen(url)\n",
    "contenu = page.read()"
   ]
  },
  {
   "cell_type": "code",
   "execution_count": 18,
   "id": "be0506dd",
   "metadata": {},
   "outputs": [],
   "source": [
    "contenu = str(contenu)"
   ]
  },
  {
   "cell_type": "markdown",
   "id": "98943f7a",
   "metadata": {},
   "source": [
    "Tester la présence d'un mot"
   ]
  },
  {
   "cell_type": "code",
   "execution_count": 19,
   "id": "d8566702",
   "metadata": {},
   "outputs": [
    {
     "data": {
      "text/plain": [
       "0"
      ]
     },
     "execution_count": 19,
     "metadata": {},
     "output_type": "execute_result"
    }
   ],
   "source": [
    "contenu.count(\"python\")"
   ]
  },
  {
   "cell_type": "markdown",
   "id": "47621260",
   "metadata": {},
   "source": [
    "Mettre en une ligne"
   ]
  },
  {
   "cell_type": "code",
   "execution_count": 21,
   "id": "80234db3",
   "metadata": {},
   "outputs": [
    {
     "data": {
      "text/plain": [
       "0"
      ]
     },
     "execution_count": 21,
     "metadata": {},
     "output_type": "execute_result"
    }
   ],
   "source": [
    "str(urlopen(\"https://fr.wikipedia.org/wiki/Sociologie\").read()).count(\"python\")"
   ]
  },
  {
   "cell_type": "code",
   "execution_count": 23,
   "id": "b219162f",
   "metadata": {},
   "outputs": [],
   "source": [
    "#contenu"
   ]
  },
  {
   "cell_type": "markdown",
   "id": "5f2c3053",
   "metadata": {},
   "source": [
    "# Installer une nouvelle bibliothèque\n",
    "\n",
    "https://github.com/martin-majlis/Wikipedia-API"
   ]
  },
  {
   "cell_type": "code",
   "execution_count": 25,
   "id": "77fecb04",
   "metadata": {},
   "outputs": [
    {
     "name": "stdout",
     "output_type": "stream",
     "text": [
      "Collecting wikipedia-api\n",
      "  Downloading Wikipedia_API-0.5.8-py3-none-any.whl (13 kB)\n",
      "Requirement already satisfied: requests in /Users/emilien/opt/anaconda3/envs/python/lib/python3.10/site-packages (from wikipedia-api) (2.28.2)\n",
      "Requirement already satisfied: idna<4,>=2.5 in /Users/emilien/opt/anaconda3/envs/python/lib/python3.10/site-packages (from requests->wikipedia-api) (3.4)\n",
      "Requirement already satisfied: charset-normalizer<4,>=2 in /Users/emilien/opt/anaconda3/envs/python/lib/python3.10/site-packages (from requests->wikipedia-api) (3.1.0)\n",
      "Requirement already satisfied: urllib3<1.27,>=1.21.1 in /Users/emilien/opt/anaconda3/envs/python/lib/python3.10/site-packages (from requests->wikipedia-api) (1.26.15)\n",
      "Requirement already satisfied: certifi>=2017.4.17 in /Users/emilien/opt/anaconda3/envs/python/lib/python3.10/site-packages (from requests->wikipedia-api) (2022.12.7)\n",
      "Installing collected packages: wikipedia-api\n",
      "Successfully installed wikipedia-api-0.5.8\n",
      "Note: you may need to restart the kernel to use updated packages.\n"
     ]
    }
   ],
   "source": [
    "pip install wikipedia-api"
   ]
  },
  {
   "cell_type": "markdown",
   "id": "9d2f3c78",
   "metadata": {},
   "source": [
    "Importer le module"
   ]
  },
  {
   "cell_type": "code",
   "execution_count": 2,
   "id": "4fb55052",
   "metadata": {},
   "outputs": [],
   "source": [
    "import wikipediaapi"
   ]
  },
  {
   "cell_type": "markdown",
   "id": "07913da3",
   "metadata": {},
   "source": [
    "Faire les exemples"
   ]
  },
  {
   "cell_type": "code",
   "execution_count": 3,
   "id": "35d41ca2",
   "metadata": {},
   "outputs": [],
   "source": [
    "import wikipediaapi\n",
    "\n",
    "wiki_wiki = wikipediaapi.Wikipedia('en')\n",
    "\n",
    "page_py = wiki_wiki.page('Python_(programming_language)')"
   ]
  },
  {
   "cell_type": "code",
   "execution_count": 4,
   "id": "a494a753",
   "metadata": {},
   "outputs": [
    {
     "data": {
      "text/plain": [
       "wikipediaapi.Wikipedia"
      ]
     },
     "execution_count": 4,
     "metadata": {},
     "output_type": "execute_result"
    }
   ],
   "source": [
    "type(wiki_wiki)"
   ]
  },
  {
   "cell_type": "code",
   "execution_count": 5,
   "id": "58549547",
   "metadata": {},
   "outputs": [
    {
     "data": {
      "text/plain": [
       "wikipediaapi.WikipediaPage"
      ]
     },
     "execution_count": 5,
     "metadata": {},
     "output_type": "execute_result"
    }
   ],
   "source": [
    "type(page_py)"
   ]
  },
  {
   "cell_type": "markdown",
   "id": "6e2d786b",
   "metadata": {},
   "source": [
    "Cas d'étude"
   ]
  },
  {
   "cell_type": "code",
   "execution_count": 8,
   "id": "ed4fad2b",
   "metadata": {},
   "outputs": [
    {
     "data": {
      "text/plain": [
       "0"
      ]
     },
     "execution_count": 8,
     "metadata": {},
     "output_type": "execute_result"
    }
   ],
   "source": [
    "# Créer un objet wikipédia\n",
    "wiki = wikipediaapi.Wikipedia(\"fr\")\n",
    "\n",
    "# Récupérer la page\n",
    "page = wiki.page(\"Sociologie\")\n",
    "\n",
    "# Compter la fréquence des mots\n",
    "page.text.count(\"python\")"
   ]
  },
  {
   "cell_type": "markdown",
   "id": "97196511",
   "metadata": {},
   "source": [
    "Tous les liens de la page"
   ]
  },
  {
   "cell_type": "code",
   "execution_count": 18,
   "id": "917459bc",
   "metadata": {},
   "outputs": [
    {
     "data": {
      "text/plain": [
       "dict_keys(['1817', '1823', 'Action sociale (sciences sociales)', 'Adam Smith', 'Adolphe Quetelet', 'Al-Andalus', 'Alain Caillé (sociologue)', 'Alain Touraine', 'Alexis de Tocqueville', 'Analyse de contenu', 'Analyse de réseaux', 'Analyse des réseaux sociaux', 'Années 1810 en sociologie', 'Années 1820 en sociologie', 'Années 1840 en sociologie', 'Années 1850 en sociologie', 'Années 1860 en sociologie', 'Années 1880 en sociologie', 'Années 1890 en sociologie', 'Années 1900 en sociologie', 'Années 1910 en sociologie', 'Années 1920 en sociologie', 'Années 1930 en sociologie', 'Années 1960 en sociologie', 'Années 1980 en sociologie', 'Années 1990 en sociologie', 'Années 2000 en sociologie', 'Anthony Giddens', 'Archiv für Sozialwissenschaft und Sozialpolitik', 'Association internationale de sociologie', 'Auguste Comte', 'Autonomie', \"Autorité (sciences de l'information)\", 'Awa Thiam', 'Bell hooks', 'Bibliographie sur la sociologie', 'Biophysique', 'Bureaucratie', 'Capitalisme', 'Centres ou instituts de recherche francophones en sociologie', 'Charles Wright Mills', 'Charlotte Perkins Gilman', 'Chicoutimi', 'Christine Delphy', 'Cicéron', 'Classe sociale', 'Claude Dubar', 'Cohésion sociale', 'Comportement social', 'Compréhension', 'Confucius', 'Constructivisme social', 'Consultant', 'Contractualisme', 'Culture', 'David Hume', 'De Boeck', \"De l'esprit des lois\", 'De la division du travail social', 'Digital Object Identifier', 'Discipline (spécialité)', 'Discipline scientifique', 'Discours', 'Domesday Book', 'Dominique Raynaud', 'Démarche scientifique', 'Démographie', 'Déviance', 'Edgar Jaffé', 'Emmanuel-Joseph Sieyès', 'Emmanuel Kant', 'Erving Goffman', 'Ethnographie', 'Ethnométhodologie', 'Explication', 'Fait social', 'Fatalisme', 'Ferdinand Tönnies', 'Fonctionnalisme (sociologie)', 'François Simiand', 'Frédéric Le Play', 'Gabriel Tarde', 'Galilée (savant)', 'Genre (sciences sociales)', 'Georg Simmel', 'Georg Wilhelm Friedrich Hegel', 'George Herbert Mead', 'George Ritzer', 'Georges Bourgin', 'Giambattista Vico', 'Grec ancien', 'Hachette Livre', 'Harriet Martineau', 'Henri Hauser', 'Herbert Spencer', 'Herméneutique', 'Histoire de la sociologie', 'Histoire de vie', 'Holisme', 'Holisme (sociologie)', 'Howard Becker', 'Hubert Bourgin', 'Humanisme de la Renaissance', 'Ibn Khaldoun', 'Identité (sciences sociales)', 'Idéal-type', 'Individu', 'Individualisme méthodologique', 'Induction (logique)', 'Institution (sociologie)', 'Interaction sociale', 'Interactionnisme', 'Interactionnisme structural', 'Interactionnisme symbolique', 'International Standard Book Number', 'International Standard Serial Number', 'Intersectionnalité', 'Intégration (sociologie)', 'Inégalité sociale', 'Jacob Levy Moreno', 'Jane Addams', 'Jane Jacobs', 'Jean-Claude Chamboredon', 'Jean-Claude Passeron', 'Jean-Jacques Rousseau', 'Jean-Marie Tremblay', 'Jean-Pierre Durand (sociologue)', 'Johannes Kepler', 'John Locke', 'John Stuart Mill', 'Jürgen Habermas', 'Karl Marx', 'Kimberlé Williams Crenshaw', \"L'Année sociologique\", \"L'Imagination sociologique\", \"L'Éthique protestante et l'Esprit du capitalisme\", \"L'Éthique protestante et l'esprit du capitalisme\", 'La Construction sociale de la réalité', 'La Distinction', 'La Découverte', 'La Mise en scène de la vie quotidienne', 'La Structure des révolutions scientifiques', 'Latin', 'Le Suicide', 'Les Règles de la méthode sociologique', 'Liberté', 'Lilia Ben Salem', 'Liste de sociologues', 'Liste des branches de la sociologie', 'Loi', 'Lucien Lévy-Bruhl', 'Ma Duanlin', 'Macmillan Publishers', 'Macrosociologie', 'Maghreb', 'Marcel Mauss', 'Maurice Halbwachs', 'Max Weber', 'Microsociologie', 'Monopole de la violence', 'Montesquieu', 'Muqaddima', 'Ménon', 'Mésosociologie', 'Méthodes qualitatives', 'Méthodes quantitatives', 'Méthodologie scientifique', 'Neutralité axiologique', 'Nicolas Copernic', 'Norbert Elias', 'Normalien', 'Norme sociale', 'Néologisme', 'Observation', 'Observation participante', 'Online Computer Library Center', 'Organicisme', 'Organisation sociale', 'Otto von Bismarck', 'Oxford University Press', 'Paradigme', 'Parole', 'Patricia Hill Collins', 'Paul Fauconnet', 'Personnalité politique', 'Peter L. Berger', 'Phénomène', 'Pierre Bourdieu', 'Positivisme', 'Pouvoir législatif', 'Presses universitaires de France', 'Preuve', 'Problème social', 'Que sais-je ?', 'Questionnaire', 'Randall Collins', 'Rationalité', 'Raymond Aron', 'Raymond Boudon', 'Recherche-action', 'Recherche empirique', 'Recherche en sciences sociales', 'Recherches sur la nature et les causes de la richesse des nations', 'René Worms', 'Reproductibilité', 'Robert King Merton', 'Réflexivité (sciences sociales)', 'Réforme protestante', 'Réfutabilité', 'Réseau social', 'Révolution copernicienne', 'Révolution scientifique', 'Saskia Sassen', 'Science', 'Sciences dures', 'Sciences sociales', 'Scientificité', 'Sens commun', 'Social', 'Social Theory and Social Structure', 'Socio-histoire', 'Sociogramme', 'SociologieS', 'Sociologie clinique', 'Sociologie compréhensive', \"Sociologie d'Internet\", \"Sociologie de l'art\", \"Sociologie de l'enfance\", \"Sociologie de l'entreprise\", \"Sociologie de l'environnement\", \"Sociologie de l'espace\", \"Sociologie de l'éducation\", 'Sociologie de la connaissance', 'Sociologie de la culture', 'Sociologie de la famille', 'Sociologie de la justice sociale', 'Sociologie de la littérature', 'Sociologie de la musique', 'Sociologie de la médecine', 'Sociologie de la prison', 'Sociologie de la santé', 'Sociologie de la vieillesse et du vieillissement', 'Sociologie des communautés virtuelles', 'Sociologie des grandes écoles', 'Sociologie des migrations', 'Sociologie des médias', 'Sociologie des organisations', 'Sociologie des pratiques culturelles', 'Sociologie des rapports sociaux', 'Sociologie des religions', 'Sociologie des sciences', 'Sociologie des émotions', 'Sociologie du cinéma', 'Sociologie du conflit', 'Sociologie du corps', 'Sociologie du droit', 'Sociologie du développement', 'Sociologie du numérique', 'Sociologie du sport', 'Sociologie du travail', 'Sociologie du vote', 'Sociologie française', 'Sociologie historique', 'Sociologie informatique', 'Sociologie marxiste', 'Sociologie militaire', 'Sociologie politique', 'Sociologie rurale', 'Sociologie urbaine', 'Sociologie économique', 'Sociologue', 'Socioéconomie', 'Société (sciences sociales)', 'Société allemande de sociologie', 'Société post-industrielle', 'Sojourner Truth', 'Sondage (statistique)', 'Statistique', 'Statistique (indicateur)', 'Stratification sociale', 'Structuralisme génétique', \"Structure de l'action sociale\", 'Structure et agency', 'Structure sociale', 'Sur le processus de civilisation', 'Talcott Parsons', 'The Other Press', 'Thomas Hobbes', 'Thomas Luckmann', 'Thomas Samuel Kuhn', 'Thorstein Veblen', 'Théorie critique', \"Théorie de l'acteur-réseau\", \"Théorie de l'agir communicationnel\", 'Théorie de la structuration', 'Théorie des mouvements sociaux', 'Théorie du conflit', 'Théorie sociologique', 'Traité de la nature humaine', 'Travail', 'Travail social', 'Université de Bordeaux', 'Université de Leipzig', 'Vierteljahrsschrift für wissenschaftliche Philosophie und Soziologie', 'Vilfredo Pareto', 'Wenxian Tongkao', 'Werner Sombart', 'Wilhelm Wundt', 'École de pensée', 'École normale supérieure (Paris)', 'Économie et Société', 'Économie et société', 'Éducation', 'Émile Durkheim', 'État', 'Éthique à Nicomaque', 'Études culturelles', 'Études de genre', 'Modèle:Infobox Discipline', 'Modèle:Palette Sociologie', 'Aide:Catégorie', 'Aide:Comment modifier une page', 'Aide:Redirection', 'Catégorie:Branche de la sociologie', 'Catégorie:Chronologie de la sociologie', 'Catégorie:Livre de sociologie', 'Catégorie:Revue de sociologie', 'Catégorie:Sociologie', 'Portail:Sociologie', 'Portail:Société'])"
      ]
     },
     "execution_count": 18,
     "metadata": {},
     "output_type": "execute_result"
    }
   ],
   "source": [
    "page.links.keys()"
   ]
  },
  {
   "cell_type": "code",
   "execution_count": 20,
   "id": "1b43da0c",
   "metadata": {},
   "outputs": [
    {
     "data": {
      "text/plain": [
       "['ATTRIBUTES_MAPPING',\n",
       " '__class__',\n",
       " '__delattr__',\n",
       " '__dict__',\n",
       " '__dir__',\n",
       " '__doc__',\n",
       " '__eq__',\n",
       " '__format__',\n",
       " '__ge__',\n",
       " '__getattr__',\n",
       " '__getattribute__',\n",
       " '__gt__',\n",
       " '__hash__',\n",
       " '__init__',\n",
       " '__init_subclass__',\n",
       " '__le__',\n",
       " '__lt__',\n",
       " '__module__',\n",
       " '__ne__',\n",
       " '__new__',\n",
       " '__reduce__',\n",
       " '__reduce_ex__',\n",
       " '__repr__',\n",
       " '__setattr__',\n",
       " '__sizeof__',\n",
       " '__str__',\n",
       " '__subclasshook__',\n",
       " '__weakref__',\n",
       " '_attributes',\n",
       " '_backlinks',\n",
       " '_called',\n",
       " '_categories',\n",
       " '_categorymembers',\n",
       " '_fetch',\n",
       " '_langlinks',\n",
       " '_links',\n",
       " '_section',\n",
       " '_section_mapping',\n",
       " '_summary',\n",
       " 'backlinks',\n",
       " 'categories',\n",
       " 'categorymembers',\n",
       " 'exists',\n",
       " 'langlinks',\n",
       " 'language',\n",
       " 'links',\n",
       " 'namespace',\n",
       " 'section_by_title',\n",
       " 'sections',\n",
       " 'sections_by_title',\n",
       " 'summary',\n",
       " 'text',\n",
       " 'title',\n",
       " 'wiki']"
      ]
     },
     "execution_count": 20,
     "metadata": {},
     "output_type": "execute_result"
    }
   ],
   "source": [
    "dir(page)"
   ]
  }
 ],
 "metadata": {
  "kernelspec": {
   "display_name": "Python 3 (ipykernel)",
   "language": "python",
   "name": "python3"
  },
  "language_info": {
   "codemirror_mode": {
    "name": "ipython",
    "version": 3
   },
   "file_extension": ".py",
   "mimetype": "text/x-python",
   "name": "python",
   "nbconvert_exporter": "python",
   "pygments_lexer": "ipython3",
   "version": "3.10.8"
  }
 },
 "nbformat": 4,
 "nbformat_minor": 5
}
