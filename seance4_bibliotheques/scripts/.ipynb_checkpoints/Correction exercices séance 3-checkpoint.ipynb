{
 "cells": [
  {
   "cell_type": "markdown",
   "id": "53bc79f8",
   "metadata": {},
   "source": [
    "# Exercices d'application de la séance 3"
   ]
  },
  {
   "cell_type": "markdown",
   "id": "84386cc7",
   "metadata": {},
   "source": [
    "## Sur les types"
   ]
  },
  {
   "cell_type": "markdown",
   "id": "d5e9970b",
   "metadata": {},
   "source": [
    "### Exercice 1\n",
    "\n",
    "Réussir à faire l'addition `variable1` + `variable2` à partir des deux variables définies ci-dessous"
   ]
  },
  {
   "cell_type": "code",
   "execution_count": 1,
   "id": "6c845e1a",
   "metadata": {},
   "outputs": [],
   "source": [
    "variable1 = \"10.5\"\n",
    "variable2 = 50"
   ]
  },
  {
   "cell_type": "code",
   "execution_count": 3,
   "id": "16f51b79",
   "metadata": {},
   "outputs": [
    {
     "data": {
      "text/plain": [
       "60.5"
      ]
     },
     "execution_count": 3,
     "metadata": {},
     "output_type": "execute_result"
    }
   ],
   "source": [
    "float(variable1) + variable2"
   ]
  },
  {
   "cell_type": "markdown",
   "id": "4e89e778",
   "metadata": {},
   "source": [
    "### Exercice 2\n",
    "\n",
    "Définir un dictionnaire qui associe à chaque mois (\"janvier\", etc.) le numéro correspondant. A quoi pourrait servir un tel dictionnaire ?"
   ]
  },
  {
   "cell_type": "code",
   "execution_count": 8,
   "id": "1975b40d",
   "metadata": {},
   "outputs": [],
   "source": [
    "mois = {\"janvier\":\"01\", \"février\":\"02\",\"mars\":\"03\",\"avril\":\"04\"}"
   ]
  },
  {
   "cell_type": "code",
   "execution_count": 6,
   "id": "d5e63089",
   "metadata": {},
   "outputs": [
    {
     "data": {
      "text/plain": [
       "'01'"
      ]
     },
     "execution_count": 6,
     "metadata": {},
     "output_type": "execute_result"
    }
   ],
   "source": [
    "mois[\"janvier\"]"
   ]
  },
  {
   "cell_type": "code",
   "execution_count": 9,
   "id": "1c34a413",
   "metadata": {
    "scrolled": true
   },
   "outputs": [
    {
     "data": {
      "text/plain": [
       "4"
      ]
     },
     "execution_count": 9,
     "metadata": {},
     "output_type": "execute_result"
    }
   ],
   "source": [
    "len(mois)"
   ]
  },
  {
   "cell_type": "markdown",
   "id": "27514378",
   "metadata": {},
   "source": [
    "### Exercice 3\n",
    "\n",
    "Trouver deux méthodes pour compter le nombre de fois où un mot est présent dans une phrase"
   ]
  },
  {
   "cell_type": "code",
   "execution_count": 17,
   "id": "c3b27747",
   "metadata": {},
   "outputs": [],
   "source": [
    "phrase = \"Ceci est une phrase qui n'est pas très longue mais qui est un exemple. Ceci est une estimation.\""
   ]
  },
  {
   "cell_type": "markdown",
   "id": "941e7b32",
   "metadata": {},
   "source": [
    "Méthode 1 : repérer une séquence de lettre (pas forcément un mot)"
   ]
  },
  {
   "cell_type": "code",
   "execution_count": 18,
   "id": "04ebb70d",
   "metadata": {},
   "outputs": [
    {
     "data": {
      "text/plain": [
       "5"
      ]
     },
     "execution_count": 18,
     "metadata": {},
     "output_type": "execute_result"
    }
   ],
   "source": [
    "phrase.count(\"est\")"
   ]
  },
  {
   "cell_type": "markdown",
   "id": "311362a0",
   "metadata": {},
   "source": [
    "Méthode 2 (un peu sale)"
   ]
  },
  {
   "cell_type": "code",
   "execution_count": 21,
   "id": "195bf409",
   "metadata": {},
   "outputs": [
    {
     "data": {
      "text/plain": [
       "['Ceci ',\n",
       " \" une phrase qui n'\",\n",
       " ' pas très longue mais qui ',\n",
       " ' un exemple. Ceci ',\n",
       " ' une ',\n",
       " 'imation.']"
      ]
     },
     "execution_count": 21,
     "metadata": {},
     "output_type": "execute_result"
    }
   ],
   "source": [
    "phrase.split(\"est\")"
   ]
  },
  {
   "cell_type": "code",
   "execution_count": 19,
   "id": "981e223d",
   "metadata": {},
   "outputs": [
    {
     "data": {
      "text/plain": [
       "5"
      ]
     },
     "execution_count": 19,
     "metadata": {},
     "output_type": "execute_result"
    }
   ],
   "source": [
    "len(phrase.split(\"est\")) - 1"
   ]
  },
  {
   "cell_type": "markdown",
   "id": "df0d6c21",
   "metadata": {},
   "source": [
    "Méthode 3 : qui implémente vraiment une définition de ce qu'est un mot"
   ]
  },
  {
   "cell_type": "code",
   "execution_count": 20,
   "id": "06e6ed59",
   "metadata": {},
   "outputs": [
    {
     "name": "stdout",
     "output_type": "stream",
     "text": [
      "4\n"
     ]
    }
   ],
   "source": [
    "compteur = 0\n",
    "liste_mots = phrase.replace(\"'\",\" \").split(\" \")\n",
    "mot_cherche = \"est\"\n",
    "for mot in liste_mots:\n",
    "    if mot_cherche == mot:\n",
    "        compteur = compteur + 1\n",
    "print(compteur)"
   ]
  },
  {
   "cell_type": "markdown",
   "id": "2912c00c",
   "metadata": {},
   "source": [
    "### Exercice 4\n",
    "\n",
    "Calculer la somme des nombres entiers de 1 à 10000 (sans passer par une formule analytique)"
   ]
  },
  {
   "cell_type": "code",
   "execution_count": 25,
   "id": "543ac14f",
   "metadata": {},
   "outputs": [
    {
     "name": "stdout",
     "output_type": "stream",
     "text": [
      "50005000\n"
     ]
    }
   ],
   "source": [
    "liste_entiers = range(1,10001) # liste des nombres\n",
    "compteur = 0 # initialisation du compteur\n",
    "\n",
    "# boucle sur les nombres\n",
    "for nombre in liste_entiers:\n",
    "    compteur = compteur + nombre # addition du nombre au compteur\n",
    "    \n",
    "# afficher le résultat\n",
    "print(compteur)"
   ]
  },
  {
   "cell_type": "markdown",
   "id": "576bdc71",
   "metadata": {},
   "source": [
    "Autre façon de faire une boucle (sans la fonction range)"
   ]
  },
  {
   "cell_type": "code",
   "execution_count": 26,
   "id": "712749c8",
   "metadata": {},
   "outputs": [
    {
     "name": "stdout",
     "output_type": "stream",
     "text": [
      "50005000\n"
     ]
    }
   ],
   "source": [
    "nombre = 0 # initialisation du nombre à 0\n",
    "compteur = 0\n",
    "while nombre <= 10000: # tant que la condition est vraie\n",
    "    compteur = compteur + nombre\n",
    "    nombre = nombre + 1\n",
    "print(compteur)"
   ]
  },
  {
   "cell_type": "markdown",
   "id": "6437de99",
   "metadata": {},
   "source": [
    "One liner (avec la fonction sum)"
   ]
  },
  {
   "cell_type": "code",
   "execution_count": 27,
   "id": "5266ea81",
   "metadata": {},
   "outputs": [
    {
     "data": {
      "text/plain": [
       "50005000"
      ]
     },
     "execution_count": 27,
     "metadata": {},
     "output_type": "execute_result"
    }
   ],
   "source": [
    "sum(range(0,10001))"
   ]
  },
  {
   "cell_type": "markdown",
   "id": "a5946938",
   "metadata": {},
   "source": [
    "### Exercice 5\n",
    "\n",
    "1. Faire un petit script qui demande à l'utilisateur son prénom et lui souhaite la bienvenue en utilisant ce prénom\n",
    "2. Comment faire pour que si l'utilisateur relance le script avec le même prénom, le message soit différent (par exemple \"On s'est déjà vu\")"
   ]
  },
  {
   "cell_type": "markdown",
   "id": "eecacf1d",
   "metadata": {},
   "source": [
    "1."
   ]
  },
  {
   "cell_type": "code",
   "execution_count": 29,
   "id": "ed2aeff7",
   "metadata": {},
   "outputs": [
    {
     "name": "stdout",
     "output_type": "stream",
     "text": [
      "Quel est votre prénomEmilien\n",
      "Bonjour Emilien\n"
     ]
    }
   ],
   "source": [
    "prenom = input(\"Quel est votre prénom\") # demande l'entrée\n",
    "print(\"Bonjour \"+prenom) # formate la sortie"
   ]
  },
  {
   "cell_type": "markdown",
   "id": "a71dc156",
   "metadata": {},
   "source": [
    "2.\n",
    "- sauvegarder l'information rentrée\n",
    "- vérifier que le prénom est déjà présent (ou pas), et agir en fonction"
   ]
  },
  {
   "cell_type": "code",
   "execution_count": 43,
   "id": "d9ac0294",
   "metadata": {},
   "outputs": [],
   "source": [
    "memoire = []"
   ]
  },
  {
   "cell_type": "code",
   "execution_count": 41,
   "id": "377e5450",
   "metadata": {},
   "outputs": [
    {
     "name": "stdout",
     "output_type": "stream",
     "text": [
      "Quel est votre prénomAline\n",
      "Bonjour Aline\n"
     ]
    }
   ],
   "source": [
    "prenom = input(\"Quel est votre prénom\") # demande l'entrée\n",
    "\n",
    "# vérifier si le prénom est déjà dans la mémoire\n",
    "if prenom in memoire :\n",
    "    print(\"On s'est déjà vu\")\n",
    "else:\n",
    "    print(\"Bonjour \"+prenom)\n",
    "\n",
    "# ajouter le prénom dans la mémoire\n",
    "memoire.append(prenom)"
   ]
  },
  {
   "cell_type": "markdown",
   "id": "4416a20f",
   "metadata": {},
   "source": [
    "### Exercice 6\n",
    "\n",
    "Définir une fonction qui prend en entrée une phrase et en sortie renvoie un dictionnaire avec mot:fréquence du mot dans le texte.\n",
    "\n",
    "- découper la phrase\n",
    "- créer un dictionnaire vide\n",
    "- pour chaque mot : s'il est dans le dictionnaire, augmenter sa valeur de 1, sinon le créer à un"
   ]
  },
  {
   "cell_type": "code",
   "execution_count": 46,
   "id": "2d7b8f6a",
   "metadata": {},
   "outputs": [
    {
     "data": {
      "text/plain": [
       "{'Ceci': 1,\n",
       " 'est': 2,\n",
       " 'une': 2,\n",
       " 'phrase,': 1,\n",
       " 'qui': 1,\n",
       " 'se': 1,\n",
       " 'répète,': 1,\n",
       " 'car': 1,\n",
       " 'la': 1,\n",
       " 'phrase': 2}"
      ]
     },
     "execution_count": 46,
     "metadata": {},
     "output_type": "execute_result"
    }
   ],
   "source": [
    "phrase = \"Ceci est une phrase, qui se répète, car la phrase est une phrase\"\n",
    "liste_mots = phrase.split(\" \")\n",
    "dictionnaire_termes = {}\n",
    "\n",
    "# boucle sur les mots\n",
    "for mot in liste_mots:\n",
    "    \n",
    "    # augmenter de 1 si le terme existe\n",
    "    if mot in dictionnaire_termes:\n",
    "        dictionnaire_termes[mot] += 1\n",
    "        \n",
    "    # ou le créer sinon\n",
    "    else:\n",
    "        dictionnaire_termes[mot] = 1\n",
    "dictionnaire_termes"
   ]
  },
  {
   "cell_type": "code",
   "execution_count": 47,
   "id": "5c41cae5",
   "metadata": {},
   "outputs": [],
   "source": [
    "def compter_mots(phrase):\n",
    "    liste_mots = phrase.split(\" \")\n",
    "    dictionnaire_termes = {}\n",
    "\n",
    "    # boucle sur les mots\n",
    "    for mot in liste_mots:\n",
    "\n",
    "        # augmenter de 1 si le terme existe\n",
    "        if mot in dictionnaire_termes:\n",
    "            dictionnaire_termes[mot] += 1\n",
    "\n",
    "        # ou le créer sinon\n",
    "        else:\n",
    "            dictionnaire_termes[mot] = 1\n",
    "    return dictionnaire_termes"
   ]
  },
  {
   "cell_type": "code",
   "execution_count": 48,
   "id": "fc32682d",
   "metadata": {},
   "outputs": [
    {
     "data": {
      "text/plain": [
       "{'Ceci': 1, 'est': 1, 'une': 1, 'phrase': 1}"
      ]
     },
     "execution_count": 48,
     "metadata": {},
     "output_type": "execute_result"
    }
   ],
   "source": [
    "compter_mots(\"Ceci est une phrase\")"
   ]
  },
  {
   "cell_type": "markdown",
   "id": "338fd942",
   "metadata": {},
   "source": [
    "### Exercice 7\n",
    "\n",
    "Créez un fichier .txt qui contient quelques lignes de code, puis écrivez un script qui lit ce fichier et applique pour chaque ligne la proportion des mots de plus de 5 lettres."
   ]
  },
  {
   "cell_type": "markdown",
   "id": "6f065620",
   "metadata": {},
   "source": [
    "Créer un fichier"
   ]
  },
  {
   "cell_type": "code",
   "execution_count": 51,
   "id": "44d3a6d9",
   "metadata": {},
   "outputs": [],
   "source": [
    "with open(\"mon texte.txt\",\"w\") as fichier :\n",
    "    fichier.write(\"Ceci est une phase \\n Ceci est une autre phrase\\n Coucou, je suis dans le fichier.\")"
   ]
  },
  {
   "cell_type": "code",
   "execution_count": null,
   "id": "8dbca534",
   "metadata": {},
   "outputs": [],
   "source": []
  },
  {
   "cell_type": "markdown",
   "id": "a67f5ac9",
   "metadata": {},
   "source": [
    "Lire le fichier et appliquer la foction"
   ]
  },
  {
   "cell_type": "markdown",
   "id": "0ce8a36a",
   "metadata": {},
   "source": [
    "### Exercice 8\n",
    "\n",
    "On peut passer plusieurs arguments dans la définition d'une fonction. Réécrivez la fonction du calcul de la proportion des mots pour passer aussi en paramètre le nom de lettres (seuil de comptage) et le fait d'écrire dans un fichier."
   ]
  }
 ],
 "metadata": {
  "kernelspec": {
   "display_name": "Python 3 (ipykernel)",
   "language": "python",
   "name": "python3"
  },
  "language_info": {
   "codemirror_mode": {
    "name": "ipython",
    "version": 3
   },
   "file_extension": ".py",
   "mimetype": "text/x-python",
   "name": "python",
   "nbconvert_exporter": "python",
   "pygments_lexer": "ipython3",
   "version": "3.10.8"
  }
 },
 "nbformat": 4,
 "nbformat_minor": 5
}
