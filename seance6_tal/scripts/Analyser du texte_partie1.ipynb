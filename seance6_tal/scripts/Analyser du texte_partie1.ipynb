{
 "cells": [
  {
   "cell_type": "markdown",
   "id": "b13b8255",
   "metadata": {},
   "source": [
    "# Analyse du texte"
   ]
  },
  {
   "cell_type": "markdown",
   "id": "82a67007",
   "metadata": {},
   "source": [
    "## Charger les données"
   ]
  },
  {
   "cell_type": "code",
   "execution_count": 1,
   "id": "2747622f",
   "metadata": {},
   "outputs": [
    {
     "data": {
      "text/html": [
       "<div>\n",
       "<style scoped>\n",
       "    .dataframe tbody tr th:only-of-type {\n",
       "        vertical-align: middle;\n",
       "    }\n",
       "\n",
       "    .dataframe tbody tr th {\n",
       "        vertical-align: top;\n",
       "    }\n",
       "\n",
       "    .dataframe thead th {\n",
       "        text-align: right;\n",
       "    }\n",
       "</style>\n",
       "<table border=\"1\" class=\"dataframe\">\n",
       "  <thead>\n",
       "    <tr style=\"text-align: right;\">\n",
       "      <th></th>\n",
       "      <th>Id</th>\n",
       "      <th>contexte_travail</th>\n",
       "      <th>fonction_recherche</th>\n",
       "      <th>statut_professionnel</th>\n",
       "      <th>statut_professionnel_Autre</th>\n",
       "      <th>annee_premiere_publi</th>\n",
       "      <th>Systeme_exploitation</th>\n",
       "      <th>Usage_telephone_mobile</th>\n",
       "      <th>Outils_gestion_travail_av_confinement_visioconférence</th>\n",
       "      <th>Outils_gestion_travail_av_confinement_planification_RDV</th>\n",
       "      <th>...</th>\n",
       "      <th>Souhait_partage_donnees_produites_discipline</th>\n",
       "      <th>Souhait_partage_donnees_produites_pays_continent</th>\n",
       "      <th>Souhait_partage_donnees_produites_domaine_economique</th>\n",
       "      <th>Souhait_partage_donnees_produites_secteur_associatif</th>\n",
       "      <th>Souhait_partage_donnees_produites_sans_restriction</th>\n",
       "      <th>compatibilite_diffusion_partage</th>\n",
       "      <th>evolutions_pratiques_numeriques</th>\n",
       "      <th>sexe</th>\n",
       "      <th>disciplines_9niv</th>\n",
       "      <th>annee_de_naissance-recod10niv</th>\n",
       "    </tr>\n",
       "  </thead>\n",
       "  <tbody>\n",
       "    <tr>\n",
       "      <th>0</th>\n",
       "      <td>1</td>\n",
       "      <td>nous sommes entre 6 et 10 personnes</td>\n",
       "      <td>professeur / professeure des universités et as...</td>\n",
       "      <td>fonctionnaire ou assimilé</td>\n",
       "      <td>NaN</td>\n",
       "      <td>1995</td>\n",
       "      <td>Windows</td>\n",
       "      <td>rarement</td>\n",
       "      <td>parfois</td>\n",
       "      <td>souvent</td>\n",
       "      <td>...</td>\n",
       "      <td>oui</td>\n",
       "      <td>oui</td>\n",
       "      <td>oui</td>\n",
       "      <td>oui</td>\n",
       "      <td>oui</td>\n",
       "      <td>oui</td>\n",
       "      <td>je ne sais pas</td>\n",
       "      <td>un homme</td>\n",
       "      <td>Sciences humaines</td>\n",
       "      <td>61 à 65 ans</td>\n",
       "    </tr>\n",
       "    <tr>\n",
       "      <th>1</th>\n",
       "      <td>2</td>\n",
       "      <td>nous sommes plus de 50 personnes</td>\n",
       "      <td>ingénieur / ingénieure de recherche</td>\n",
       "      <td>en CDI</td>\n",
       "      <td>NaN</td>\n",
       "      <td>2005</td>\n",
       "      <td>Windows</td>\n",
       "      <td>rarement</td>\n",
       "      <td>parfois</td>\n",
       "      <td>parfois</td>\n",
       "      <td>...</td>\n",
       "      <td>oui</td>\n",
       "      <td>oui</td>\n",
       "      <td>oui</td>\n",
       "      <td>oui</td>\n",
       "      <td>oui</td>\n",
       "      <td>NaN</td>\n",
       "      <td>NaN</td>\n",
       "      <td>un homme</td>\n",
       "      <td>Médecine</td>\n",
       "      <td>46 à 50 ans</td>\n",
       "    </tr>\n",
       "    <tr>\n",
       "      <th>2</th>\n",
       "      <td>3</td>\n",
       "      <td>nous sommes entre 2 et 5 personnes</td>\n",
       "      <td>maître / maîtresse de conférences et assimilés</td>\n",
       "      <td>fonctionnaire ou assimilé</td>\n",
       "      <td>NaN</td>\n",
       "      <td>2006</td>\n",
       "      <td>Windows</td>\n",
       "      <td>parfois</td>\n",
       "      <td>rarement</td>\n",
       "      <td>souvent</td>\n",
       "      <td>...</td>\n",
       "      <td>oui</td>\n",
       "      <td>oui</td>\n",
       "      <td>oui</td>\n",
       "      <td>oui</td>\n",
       "      <td>oui</td>\n",
       "      <td>oui, tout est dans la chronologie</td>\n",
       "      <td>non</td>\n",
       "      <td>un homme</td>\n",
       "      <td>Médecine</td>\n",
       "      <td>36 à 40 ans</td>\n",
       "    </tr>\n",
       "    <tr>\n",
       "      <th>3</th>\n",
       "      <td>4</td>\n",
       "      <td>nous sommes entre 2 et 5 personnes</td>\n",
       "      <td>directeur / directrice de recherche (CNRS, INS...</td>\n",
       "      <td>fonctionnaire ou assimilé</td>\n",
       "      <td>NaN</td>\n",
       "      <td>1989</td>\n",
       "      <td>Windows;autres OS (Android...)</td>\n",
       "      <td>souvent</td>\n",
       "      <td>rarement</td>\n",
       "      <td>souvent</td>\n",
       "      <td>...</td>\n",
       "      <td>oui</td>\n",
       "      <td>oui</td>\n",
       "      <td>non</td>\n",
       "      <td>non</td>\n",
       "      <td>non</td>\n",
       "      <td>Oui</td>\n",
       "      <td>Aucune idée</td>\n",
       "      <td>une femme</td>\n",
       "      <td>Médecine</td>\n",
       "      <td>56 à 60 ans</td>\n",
       "    </tr>\n",
       "    <tr>\n",
       "      <th>4</th>\n",
       "      <td>5</td>\n",
       "      <td>nous sommes entre 2 et 5 personnes</td>\n",
       "      <td>doctorant / doctorante (y compris CIFRE)</td>\n",
       "      <td>en CDD</td>\n",
       "      <td>NaN</td>\n",
       "      <td>2015</td>\n",
       "      <td>MacOS</td>\n",
       "      <td>souvent</td>\n",
       "      <td>rarement</td>\n",
       "      <td>parfois</td>\n",
       "      <td>...</td>\n",
       "      <td>oui</td>\n",
       "      <td>oui</td>\n",
       "      <td>oui</td>\n",
       "      <td>oui</td>\n",
       "      <td>oui</td>\n",
       "      <td>Oui</td>\n",
       "      <td>Oui</td>\n",
       "      <td>une femme</td>\n",
       "      <td>Médecine</td>\n",
       "      <td>31 à 35 ans</td>\n",
       "    </tr>\n",
       "  </tbody>\n",
       "</table>\n",
       "<p>5 rows × 131 columns</p>\n",
       "</div>"
      ],
      "text/plain": [
       "   Id                     contexte_travail  \\\n",
       "0   1  nous sommes entre 6 et 10 personnes   \n",
       "1   2     nous sommes plus de 50 personnes   \n",
       "2   3   nous sommes entre 2 et 5 personnes   \n",
       "3   4   nous sommes entre 2 et 5 personnes   \n",
       "4   5   nous sommes entre 2 et 5 personnes   \n",
       "\n",
       "                                  fonction_recherche  \\\n",
       "0  professeur / professeure des universités et as...   \n",
       "1                ingénieur / ingénieure de recherche   \n",
       "2     maître / maîtresse de conférences et assimilés   \n",
       "3  directeur / directrice de recherche (CNRS, INS...   \n",
       "4           doctorant / doctorante (y compris CIFRE)   \n",
       "\n",
       "        statut_professionnel statut_professionnel_Autre  annee_premiere_publi  \\\n",
       "0  fonctionnaire ou assimilé                        NaN                  1995   \n",
       "1                     en CDI                        NaN                  2005   \n",
       "2  fonctionnaire ou assimilé                        NaN                  2006   \n",
       "3  fonctionnaire ou assimilé                        NaN                  1989   \n",
       "4                     en CDD                        NaN                  2015   \n",
       "\n",
       "             Systeme_exploitation Usage_telephone_mobile  \\\n",
       "0                         Windows               rarement   \n",
       "1                         Windows               rarement   \n",
       "2                         Windows                parfois   \n",
       "3  Windows;autres OS (Android...)                souvent   \n",
       "4                           MacOS                souvent   \n",
       "\n",
       "  Outils_gestion_travail_av_confinement_visioconférence  \\\n",
       "0                                            parfois      \n",
       "1                                            parfois      \n",
       "2                                           rarement      \n",
       "3                                           rarement      \n",
       "4                                           rarement      \n",
       "\n",
       "  Outils_gestion_travail_av_confinement_planification_RDV  ...  \\\n",
       "0                                            souvent       ...   \n",
       "1                                            parfois       ...   \n",
       "2                                            souvent       ...   \n",
       "3                                            souvent       ...   \n",
       "4                                            parfois       ...   \n",
       "\n",
       "  Souhait_partage_donnees_produites_discipline  \\\n",
       "0                                          oui   \n",
       "1                                          oui   \n",
       "2                                          oui   \n",
       "3                                          oui   \n",
       "4                                          oui   \n",
       "\n",
       "  Souhait_partage_donnees_produites_pays_continent  \\\n",
       "0                                              oui   \n",
       "1                                              oui   \n",
       "2                                              oui   \n",
       "3                                              oui   \n",
       "4                                              oui   \n",
       "\n",
       "  Souhait_partage_donnees_produites_domaine_economique  \\\n",
       "0                                                oui     \n",
       "1                                                oui     \n",
       "2                                                oui     \n",
       "3                                                non     \n",
       "4                                                oui     \n",
       "\n",
       "  Souhait_partage_donnees_produites_secteur_associatif  \\\n",
       "0                                                oui     \n",
       "1                                                oui     \n",
       "2                                                oui     \n",
       "3                                                non     \n",
       "4                                                oui     \n",
       "\n",
       "  Souhait_partage_donnees_produites_sans_restriction  \\\n",
       "0                                                oui   \n",
       "1                                                oui   \n",
       "2                                                oui   \n",
       "3                                                non   \n",
       "4                                                oui   \n",
       "\n",
       "     compatibilite_diffusion_partage evolutions_pratiques_numeriques  \\\n",
       "0                                oui                  je ne sais pas   \n",
       "1                                NaN                             NaN   \n",
       "2  oui, tout est dans la chronologie                             non   \n",
       "3                                Oui                     Aucune idée   \n",
       "4                                Oui                             Oui   \n",
       "\n",
       "        sexe   disciplines_9niv annee_de_naissance-recod10niv  \n",
       "0   un homme  Sciences humaines                   61 à 65 ans  \n",
       "1   un homme           Médecine                   46 à 50 ans  \n",
       "2   un homme           Médecine                   36 à 40 ans  \n",
       "3  une femme           Médecine                   56 à 60 ans  \n",
       "4  une femme           Médecine                   31 à 35 ans  \n",
       "\n",
       "[5 rows x 131 columns]"
      ]
     },
     "execution_count": 1,
     "metadata": {},
     "output_type": "execute_result"
    }
   ],
   "source": [
    "import pandas as pd\n",
    "url = \"https://zenodo.org/record/5827206/files/SOSP_Export_base%20de%20donn%C3%A9es%20diffusable.csv\"\n",
    "data = pd.read_csv(url)\n",
    "data.head()"
   ]
  },
  {
   "cell_type": "markdown",
   "id": "a80eec59",
   "metadata": {},
   "source": [
    "Variables qualitatives textuelles que je veux analyser\n",
    "\n",
    "- [\"logiciel_production_donnees\",\"outils_nettoyage\",\"Outils_analyses\",\"Outils_visualisation\"]\n",
    "- evolutions_pratiques_numeriques"
   ]
  },
  {
   "cell_type": "markdown",
   "id": "c42f9486",
   "metadata": {},
   "source": [
    "Jeter un coup d'oeil"
   ]
  },
  {
   "cell_type": "code",
   "execution_count": 9,
   "id": "7da2a578",
   "metadata": {},
   "outputs": [],
   "source": [
    "#list(data[\"logiciel_production_donnees\"].dropna())"
   ]
  },
  {
   "cell_type": "markdown",
   "id": "61943de8",
   "metadata": {},
   "source": [
    "Les étapes d'une analyses textuelle :\n",
    "\n",
    "- nettoyer les données en amont de l'analyse pour avoir des textes sous format numérique\n",
    "- tokenization \n",
    "- enlever du contenu non signiant : \"stop word\"  plus corriger\n",
    "- lemmatisation \n",
    "- tableau documents vs termes\n",
    "- traitement statistique et Machine Learning : cluster, compter des fréquences, etc."
   ]
  },
  {
   "cell_type": "markdown",
   "id": "2e1fbc04",
   "metadata": {},
   "source": [
    "# Approche des sacs de mots"
   ]
  },
  {
   "cell_type": "markdown",
   "id": "7095ed27",
   "metadata": {},
   "source": [
    "Chaque étape du traitement peut être modifié et avoir des conséquences sur les résultats"
   ]
  },
  {
   "cell_type": "code",
   "execution_count": 18,
   "id": "d1d7c307",
   "metadata": {},
   "outputs": [
    {
     "data": {
      "text/html": [
       "<div>\n",
       "<style scoped>\n",
       "    .dataframe tbody tr th:only-of-type {\n",
       "        vertical-align: middle;\n",
       "    }\n",
       "\n",
       "    .dataframe tbody tr th {\n",
       "        vertical-align: top;\n",
       "    }\n",
       "\n",
       "    .dataframe thead th {\n",
       "        text-align: right;\n",
       "    }\n",
       "</style>\n",
       "<table border=\"1\" class=\"dataframe\">\n",
       "  <thead>\n",
       "    <tr style=\"text-align: right;\">\n",
       "      <th></th>\n",
       "      <th>logiciel_production_donnees</th>\n",
       "      <th>outils_nettoyage</th>\n",
       "      <th>Outils_analyses</th>\n",
       "      <th>Outils_visualisation</th>\n",
       "    </tr>\n",
       "  </thead>\n",
       "  <tbody>\n",
       "    <tr>\n",
       "      <th>0</th>\n",
       "      <td>Lime survey</td>\n",
       "      <td>NaN</td>\n",
       "      <td>tableur pour les données statistiques</td>\n",
       "      <td>NaN</td>\n",
       "    </tr>\n",
       "    <tr>\n",
       "      <th>1</th>\n",
       "      <td>excell word</td>\n",
       "      <td>clean</td>\n",
       "      <td>outil statistique</td>\n",
       "      <td>NaN</td>\n",
       "    </tr>\n",
       "    <tr>\n",
       "      <th>2</th>\n",
       "      <td>JASP</td>\n",
       "      <td>NaN</td>\n",
       "      <td>NaN</td>\n",
       "      <td>NaN</td>\n",
       "    </tr>\n",
       "    <tr>\n",
       "      <th>3</th>\n",
       "      <td>Question peu claire.  Excel, SPSS, logiciels d...</td>\n",
       "      <td>NaN</td>\n",
       "      <td>Excel, SPSS</td>\n",
       "      <td>NaN</td>\n",
       "    </tr>\n",
       "    <tr>\n",
       "      <th>4</th>\n",
       "      <td>?</td>\n",
       "      <td>NaN</td>\n",
       "      <td>Excel r</td>\n",
       "      <td>Image j dti studii</td>\n",
       "    </tr>\n",
       "    <tr>\n",
       "      <th>...</th>\n",
       "      <td>...</td>\n",
       "      <td>...</td>\n",
       "      <td>...</td>\n",
       "      <td>...</td>\n",
       "    </tr>\n",
       "    <tr>\n",
       "      <th>1084</th>\n",
       "      <td>NaN</td>\n",
       "      <td>NaN</td>\n",
       "      <td>EpiInfo\\nXlstat</td>\n",
       "      <td>EpiInfo\\nXlstat\\nExcel</td>\n",
       "    </tr>\n",
       "    <tr>\n",
       "      <th>1085</th>\n",
       "      <td>NaN</td>\n",
       "      <td>NaN</td>\n",
       "      <td>NaN</td>\n",
       "      <td>Xpdf, Evince</td>\n",
       "    </tr>\n",
       "    <tr>\n",
       "      <th>1086</th>\n",
       "      <td>NaN</td>\n",
       "      <td>openrefine, talend</td>\n",
       "      <td>NaN</td>\n",
       "      <td>NaN</td>\n",
       "    </tr>\n",
       "    <tr>\n",
       "      <th>1087</th>\n",
       "      <td>NaN</td>\n",
       "      <td>NaN</td>\n",
       "      <td>NaN</td>\n",
       "      <td>NaN</td>\n",
       "    </tr>\n",
       "    <tr>\n",
       "      <th>1088</th>\n",
       "      <td>NaN</td>\n",
       "      <td>R, Excel</td>\n",
       "      <td>R, MPlus, Stata, SAS, Excel</td>\n",
       "      <td>R</td>\n",
       "    </tr>\n",
       "  </tbody>\n",
       "</table>\n",
       "<p>1089 rows × 4 columns</p>\n",
       "</div>"
      ],
      "text/plain": [
       "                            logiciel_production_donnees    outils_nettoyage  \\\n",
       "0                                           Lime survey                 NaN   \n",
       "1                                           excell word               clean   \n",
       "2                                                  JASP                 NaN   \n",
       "3     Question peu claire.  Excel, SPSS, logiciels d...                 NaN   \n",
       "4                                                     ?                 NaN   \n",
       "...                                                 ...                 ...   \n",
       "1084                                                NaN                 NaN   \n",
       "1085                                                NaN                 NaN   \n",
       "1086                                                NaN  openrefine, talend   \n",
       "1087                                                NaN                 NaN   \n",
       "1088                                                NaN            R, Excel   \n",
       "\n",
       "                            Outils_analyses    Outils_visualisation  \n",
       "0     tableur pour les données statistiques                     NaN  \n",
       "1                         outil statistique                     NaN  \n",
       "2                                       NaN                     NaN  \n",
       "3                               Excel, SPSS                     NaN  \n",
       "4                                   Excel r      Image j dti studii  \n",
       "...                                     ...                     ...  \n",
       "1084                        EpiInfo\\nXlstat  EpiInfo\\nXlstat\\nExcel  \n",
       "1085                                    NaN            Xpdf, Evince  \n",
       "1086                                    NaN                     NaN  \n",
       "1087                                    NaN                     NaN  \n",
       "1088            R, MPlus, Stata, SAS, Excel                       R  \n",
       "\n",
       "[1089 rows x 4 columns]"
      ]
     },
     "execution_count": 18,
     "metadata": {},
     "output_type": "execute_result"
    }
   ],
   "source": [
    "data[colonnes]"
   ]
  },
  {
   "cell_type": "markdown",
   "id": "a9445d8e",
   "metadata": {},
   "source": [
    "Réunir les textes ensemble"
   ]
  },
  {
   "cell_type": "code",
   "execution_count": 30,
   "id": "6933801a",
   "metadata": {},
   "outputs": [],
   "source": [
    "def creation_texte(ligne):\n",
    "    colonnes = [\"logiciel_production_donnees\",\"outils_nettoyage\",\"Outils_analyses\",\"Outils_visualisation\"]\n",
    "    return \" \".join([texte for texte in ligne[colonnes] if pd.notna(texte)])\n",
    "\n",
    "data[\"texte\"] = data[colonnes].apply(creation_texte,axis=1)"
   ]
  },
  {
   "cell_type": "markdown",
   "id": "7f8ae6cd",
   "metadata": {},
   "source": [
    "Joindre chaine de caractères"
   ]
  },
  {
   "cell_type": "code",
   "execution_count": 16,
   "id": "effa454f",
   "metadata": {},
   "outputs": [
    {
     "data": {
      "text/plain": [
       "'a-b'"
      ]
     },
     "execution_count": 16,
     "metadata": {},
     "output_type": "execute_result"
    }
   ],
   "source": [
    "\"-\".join([\"a\",\"b\"])"
   ]
  },
  {
   "cell_type": "markdown",
   "id": "9d0e4016",
   "metadata": {},
   "source": [
    "Compréhension de liste"
   ]
  },
  {
   "cell_type": "code",
   "execution_count": 21,
   "id": "26e5e8fb",
   "metadata": {},
   "outputs": [],
   "source": [
    "nouvelle_liste = []\n",
    "for element in [\"a\",\"b\",\"c\"]:\n",
    "    nouvelle_liste.append(element)"
   ]
  },
  {
   "cell_type": "code",
   "execution_count": 23,
   "id": "a1c30210",
   "metadata": {},
   "outputs": [],
   "source": [
    "nouvelle_liste = [element for element in [\"a\",\"b\",\"c\"]]"
   ]
  },
  {
   "cell_type": "code",
   "execution_count": 24,
   "id": "8438d61c",
   "metadata": {},
   "outputs": [
    {
     "data": {
      "text/plain": [
       "{'a': 'a', 'b': 'b'}"
      ]
     },
     "execution_count": 24,
     "metadata": {},
     "output_type": "execute_result"
    }
   ],
   "source": [
    "{e:e for e in [\"a\",\"b\",\"b\"]}"
   ]
  },
  {
   "cell_type": "code",
   "execution_count": 27,
   "id": "5f27e85b",
   "metadata": {},
   "outputs": [
    {
     "data": {
      "text/plain": [
       "['a', 'b', 'c']"
      ]
     },
     "execution_count": 27,
     "metadata": {},
     "output_type": "execute_result"
    }
   ],
   "source": [
    "[element for element in [\"a\",\"b\",\"c\",None] if element != None]"
   ]
  },
  {
   "cell_type": "markdown",
   "id": "543aeb29",
   "metadata": {},
   "source": [
    "Fonction anonyme"
   ]
  },
  {
   "cell_type": "code",
   "execution_count": 32,
   "id": "4247e6e2",
   "metadata": {},
   "outputs": [
    {
     "data": {
      "text/plain": [
       "11"
      ]
     },
     "execution_count": 32,
     "metadata": {},
     "output_type": "execute_result"
    }
   ],
   "source": [
    "(lambda x : x +1)(10)"
   ]
  },
  {
   "cell_type": "markdown",
   "id": "ab5e35ce",
   "metadata": {},
   "source": [
    "Recodage du texte en une ligne"
   ]
  },
  {
   "cell_type": "code",
   "execution_count": 35,
   "id": "a522bea2",
   "metadata": {},
   "outputs": [],
   "source": [
    "data[\"texte\"] = data[colonnes].apply(lambda x : \" \".join([texte for texte in x if pd.notnull(texte)]),axis=1)"
   ]
  },
  {
   "cell_type": "markdown",
   "id": "05bcf874",
   "metadata": {},
   "source": [
    "### Tokénisons le texte\n",
    "\n",
    "Séparer en mots, enlever les ponctuations, enlever les mots inutiles"
   ]
  },
  {
   "cell_type": "code",
   "execution_count": 64,
   "id": "9d23ad64",
   "metadata": {},
   "outputs": [],
   "source": [
    "def tokeniser_texte(texte):\n",
    "    seps = [\" \",\",\",\"'\",\":\",\".\",\"\\n\",\"\\r\",\"?\"] # définir les séparateurs\n",
    "    stopwords = [\"de\",\"la\",\"le\",\"les\",\"a\",\"autre\",\n",
    "                 \"où\",\"\",\"et\",\"ou\",\"en\",\"des\",\"d\",\"je\"] # définit les stopwords\n",
    "    texte_tokenize = texte.lower()\n",
    "    # marquer les séparateurs de la même manière\n",
    "    for s in seps:\n",
    "        texte_tokenize = texte_tokenize.replace(s,\" \")\n",
    "    # couper au niveau des séparateurs\n",
    "    texte_tokenize = texte_tokenize.split(\" \")\n",
    "    \n",
    "    # enlever les stopwords\n",
    "    texte_tokenize = [m for m in texte_tokenize if not m in stopwords]\n",
    "    \n",
    "    # retourner le sac de mots\n",
    "    return texte_tokenize"
   ]
  },
  {
   "cell_type": "code",
   "execution_count": 65,
   "id": "e6be4824",
   "metadata": {},
   "outputs": [],
   "source": [
    "data[\"texte_tokenize\"] = data[\"texte\"].apply(tokeniser_texte)"
   ]
  },
  {
   "cell_type": "markdown",
   "id": "2c95079b",
   "metadata": {},
   "source": [
    "### On peut faire du comptage"
   ]
  },
  {
   "cell_type": "code",
   "execution_count": 60,
   "id": "2efbdcbb",
   "metadata": {},
   "outputs": [],
   "source": [
    "from collections import Counter"
   ]
  },
  {
   "cell_type": "code",
   "execution_count": 66,
   "id": "0a60b2f6",
   "metadata": {},
   "outputs": [
    {
     "data": {
      "text/plain": [
       "Counter({'question': 1,\n",
       "         'peu': 1,\n",
       "         'claire': 1,\n",
       "         'excel': 2,\n",
       "         'spss': 2,\n",
       "         'logiciels': 1,\n",
       "         'imagerie': 1,\n",
       "         'commerciaux': 1,\n",
       "         '(philips)': 1})"
      ]
     },
     "execution_count": 66,
     "metadata": {},
     "output_type": "execute_result"
    }
   ],
   "source": [
    "Counter(data[\"texte_tokenize\"].iloc[3])"
   ]
  },
  {
   "cell_type": "code",
   "execution_count": 67,
   "id": "2edeed34",
   "metadata": {},
   "outputs": [
    {
     "data": {
      "text/plain": [
       "11475"
      ]
     },
     "execution_count": 67,
     "metadata": {},
     "output_type": "execute_result"
    }
   ],
   "source": [
    "all_words = []\n",
    "for t in list(data[\"texte_tokenize\"]):\n",
    "    all_words+=t\n",
    "len(all_words)"
   ]
  },
  {
   "cell_type": "code",
   "execution_count": 68,
   "id": "a6e73418",
   "metadata": {},
   "outputs": [
    {
     "data": {
      "text/plain": [
       "[('excel', 520),\n",
       " ('r', 511),\n",
       " ('python', 327),\n",
       " ('logiciels', 236),\n",
       " ('matlab', 219),\n",
       " ('word', 157),\n",
       " ('données', 154),\n",
       " ('-', 119),\n",
       " ('qgis', 106),\n",
       " ('outils', 95),\n",
       " ('pour', 94),\n",
       " ('logiciel', 92),\n",
       " ('office', 91),\n",
       " ('par', 81),\n",
       " ('spss', 80),\n",
       " (';', 76),\n",
       " ('pas', 74),\n",
       " ('imagej', 67),\n",
       " ('sas', 66),\n",
       " ('à', 60)]"
      ]
     },
     "execution_count": 68,
     "metadata": {},
     "output_type": "execute_result"
    }
   ],
   "source": [
    "Counter(all_words).most_common(20)"
   ]
  },
  {
   "cell_type": "markdown",
   "id": "94316be3",
   "metadata": {},
   "source": [
    "### Construire la matrice documents (ligne) et les N premiers termes (en colonne)"
   ]
  },
  {
   "cell_type": "code",
   "execution_count": 74,
   "id": "1102ce93",
   "metadata": {},
   "outputs": [],
   "source": [
    "ref = [i[0] for i in Counter(all_words).most_common(100)]\n",
    "matrice = []\n",
    "for doc in list(data[\"texte_tokenize\"]):\n",
    "    ligne = []\n",
    "    for m in ref:\n",
    "        ligne.append(doc.count(m))\n",
    "    matrice.append(ligne)"
   ]
  },
  {
   "cell_type": "markdown",
   "id": "656b8123",
   "metadata": {},
   "source": [
    "Le tableau numérique du texte"
   ]
  },
  {
   "cell_type": "code",
   "execution_count": 78,
   "id": "8fd6b833",
   "metadata": {},
   "outputs": [],
   "source": [
    "matrice = pd.DataFrame(matrice,columns=ref)"
   ]
  },
  {
   "cell_type": "markdown",
   "id": "a1eec098",
   "metadata": {},
   "source": [
    "La porte est ouverte aux traitements plus avancés"
   ]
  },
  {
   "cell_type": "markdown",
   "id": "89bb0309",
   "metadata": {},
   "source": [
    "On a envie de faire une analyse en composante principale (ACP)"
   ]
  },
  {
   "cell_type": "code",
   "execution_count": 81,
   "id": "f52c7ef2",
   "metadata": {},
   "outputs": [],
   "source": [
    "import prince"
   ]
  },
  {
   "cell_type": "code",
   "execution_count": 82,
   "id": "a0351431",
   "metadata": {},
   "outputs": [],
   "source": [
    "acp = prince.PCA()"
   ]
  },
  {
   "cell_type": "code",
   "execution_count": 83,
   "id": "2b32ba3a",
   "metadata": {},
   "outputs": [],
   "source": [
    "acp = acp.fit(matrice)"
   ]
  },
  {
   "cell_type": "code",
   "execution_count": 84,
   "id": "b7753ab0",
   "metadata": {},
   "outputs": [
    {
     "data": {
      "text/html": [
       "\n",
       "<div id=\"altair-viz-c696eb10d5394d5598a9951e08ea133a\"></div>\n",
       "<script type=\"text/javascript\">\n",
       "  var VEGA_DEBUG = (typeof VEGA_DEBUG == \"undefined\") ? {} : VEGA_DEBUG;\n",
       "  (function(spec, embedOpt){\n",
       "    let outputDiv = document.currentScript.previousElementSibling;\n",
       "    if (outputDiv.id !== \"altair-viz-c696eb10d5394d5598a9951e08ea133a\") {\n",
       "      outputDiv = document.getElementById(\"altair-viz-c696eb10d5394d5598a9951e08ea133a\");\n",
       "    }\n",
       "    const paths = {\n",
       "      \"vega\": \"https://cdn.jsdelivr.net/npm//vega@5?noext\",\n",
       "      \"vega-lib\": \"https://cdn.jsdelivr.net/npm//vega-lib?noext\",\n",
       "      \"vega-lite\": \"https://cdn.jsdelivr.net/npm//vega-lite@4.17.0?noext\",\n",
       "      \"vega-embed\": \"https://cdn.jsdelivr.net/npm//vega-embed@6?noext\",\n",
       "    };\n",
       "\n",
       "    function maybeLoadScript(lib, version) {\n",
       "      var key = `${lib.replace(\"-\", \"\")}_version`;\n",
       "      return (VEGA_DEBUG[key] == version) ?\n",
       "        Promise.resolve(paths[lib]) :\n",
       "        new Promise(function(resolve, reject) {\n",
       "          var s = document.createElement('script');\n",
       "          document.getElementsByTagName(\"head\")[0].appendChild(s);\n",
       "          s.async = true;\n",
       "          s.onload = () => {\n",
       "            VEGA_DEBUG[key] = version;\n",
       "            return resolve(paths[lib]);\n",
       "          };\n",
       "          s.onerror = () => reject(`Error loading script: ${paths[lib]}`);\n",
       "          s.src = paths[lib];\n",
       "        });\n",
       "    }\n",
       "\n",
       "    function showError(err) {\n",
       "      outputDiv.innerHTML = `<div class=\"error\" style=\"color:red;\">${err}</div>`;\n",
       "      throw err;\n",
       "    }\n",
       "\n",
       "    function displayChart(vegaEmbed) {\n",
       "      vegaEmbed(outputDiv, spec, embedOpt)\n",
       "        .catch(err => showError(`Javascript Error: ${err.message}<br>This usually means there's a typo in your chart specification. See the javascript console for the full traceback.`));\n",
       "    }\n",
       "\n",
       "    if(typeof define === \"function\" && define.amd) {\n",
       "      requirejs.config({paths});\n",
       "      require([\"vega-embed\"], displayChart, err => showError(`Error loading script: ${err.message}`));\n",
       "    } else {\n",
       "      maybeLoadScript(\"vega\", \"5\")\n",
       "        .then(() => maybeLoadScript(\"vega-lite\", \"4.17.0\"))\n",
       "        .then(() => maybeLoadScript(\"vega-embed\", \"6\"))\n",
       "        .catch(showError)\n",
       "        .then(() => displayChart(vegaEmbed));\n",
       "    }\n",
       "  })({\"config\": {\"view\": {\"continuousWidth\": 400, \"continuousHeight\": 300}}, \"layer\": [{\"mark\": {\"type\": \"circle\", \"size\": 50}, \"encoding\": {\"tooltip\": [{\"field\": \"index\", \"type\": \"quantitative\"}, {\"field\": \"component 0\", \"type\": \"quantitative\"}, {\"field\": \"component 1\", \"type\": \"quantitative\"}], \"x\": {\"axis\": {\"title\": \"component 0 \\u2014 5.83%\"}, \"field\": \"component 0\", \"scale\": {\"zero\": false}, \"type\": \"quantitative\"}, \"y\": {\"axis\": {\"title\": \"component 1 \\u2014 3.16%\"}, \"field\": \"component 1\", \"scale\": {\"zero\": false}, \"type\": \"quantitative\"}}, \"selection\": {\"selector001\": {\"type\": \"interval\", \"bind\": \"scales\", \"encodings\": [\"x\", \"y\"]}}}, {\"data\": {\"name\": \"data-1beac18e5e775cf76f2c052c7d1808cf\"}, \"mark\": {\"type\": \"square\", \"color\": \"green\", \"size\": 50}, \"encoding\": {\"tooltip\": [{\"field\": \"variable\", \"type\": \"nominal\"}], \"x\": {\"field\": \"component 0\", \"scale\": {\"zero\": false}, \"type\": \"quantitative\"}, \"y\": {\"field\": \"component 1\", \"scale\": {\"zero\": false}, \"type\": \"quantitative\"}}}], \"data\": {\"name\": \"data-1c540f3bbdb0f9f922478383234b9c11\"}, \"$schema\": \"https://vega.github.io/schema/vega-lite/v4.17.0.json\", \"datasets\": {\"data-1c540f3bbdb0f9f922478383234b9c11\": [{\"index\": 0, \"component 0\": 0.5741665021663717, \"component 1\": -0.8065590317968498}, {\"index\": 1, \"component 0\": -0.4909662757616431, \"component 1\": 0.09734798155202042}, {\"index\": 2, \"component 0\": -0.9081097188646369, \"component 1\": 0.33594696315098854}, {\"index\": 3, \"component 0\": 0.11867040738791247, \"component 1\": 0.8619832039822852}, {\"index\": 4, \"component 0\": 0.1527148103699109, \"component 1\": -0.3993574244577995}, {\"index\": 5, \"component 0\": -0.8650102196198637, \"component 1\": 0.45278585253642595}, {\"index\": 6, \"component 0\": -1.0284357319612338, \"component 1\": 0.530422456126956}, {\"index\": 7, \"component 0\": -0.7336139235861501, \"component 1\": -0.29744534832445363}, {\"index\": 8, \"component 0\": -1.0229385637081054, \"component 1\": 0.47101994102699957}, {\"index\": 9, \"component 0\": -1.268019180124709, \"component 1\": 0.5280164604751396}, {\"index\": 10, \"component 0\": -1.128406975570947, \"component 1\": 0.6886795865916271}, {\"index\": 11, \"component 0\": -1.128274736481956, \"component 1\": 0.5128811838373708}, {\"index\": 12, \"component 0\": -0.9083244530962274, \"component 1\": 0.24944970368103633}, {\"index\": 13, \"component 0\": -1.052854589307429, \"component 1\": 0.3753804760330895}, {\"index\": 14, \"component 0\": -0.9081097188646369, \"component 1\": 0.33594696315098854}, {\"index\": 15, \"component 0\": -0.48472263623507966, \"component 1\": -0.8742692470980337}, {\"index\": 16, \"component 0\": -1.019587982316089, \"component 1\": 0.4626869289117063}, {\"index\": 17, \"component 0\": -0.9035384036631348, \"component 1\": 0.3269824957743897}, {\"index\": 18, \"component 0\": -0.9081097188646369, \"component 1\": 0.33594696315098854}, {\"index\": 19, \"component 0\": -1.193520592795907, \"component 1\": 0.7656451122770099}, {\"index\": 20, \"component 0\": -1.0384344481097705, \"component 1\": 0.46362739365942046}, {\"index\": 21, \"component 0\": -0.9248354538647423, \"component 1\": 0.9646693193819426}, {\"index\": 22, \"component 0\": 0.15891471509480798, \"component 1\": -2.290512319880628}, {\"index\": 23, \"component 0\": -1.0067998897632089, \"component 1\": 0.4862315745052674}, {\"index\": 24, \"component 0\": -0.9450392800941435, \"component 1\": 0.378076651024672}, {\"index\": 25, \"component 0\": -0.7510475827440672, \"component 1\": 0.18810478914553685}, {\"index\": 26, \"component 0\": -1.0350838667177538, \"component 1\": 0.4552943815441273}, {\"index\": 27, \"component 0\": 1.8956329090265822, \"component 1\": -4.0257399392581785}, {\"index\": 28, \"component 0\": -1.072281513991, \"component 1\": 0.4718188322454991}, {\"index\": 29, \"component 0\": -0.599203110361466, \"component 1\": 0.6849886892136181}, {\"index\": 30, \"component 0\": -1.0350838667177538, \"component 1\": 0.4552943815441273}, {\"index\": 31, \"component 0\": -0.7841882112056753, \"component 1\": 0.706321655674164}, {\"index\": 32, \"component 0\": 0.39946907305203344, \"component 1\": -0.48254594662381606}, {\"index\": 33, \"component 0\": -0.7238954652524743, \"component 1\": 0.11297890412526435}, {\"index\": 34, \"component 0\": -0.9081097188646369, \"component 1\": 0.33594696315098854}, {\"index\": 35, \"component 0\": -0.9163983964033501, \"component 1\": 0.4718951890859983}, {\"index\": 36, \"component 0\": 3.1148317958762974, \"component 1\": 4.703674146168543}, {\"index\": 37, \"component 0\": 0.42072146617106804, \"component 1\": -0.6820034449872504}, {\"index\": 38, \"component 0\": -0.7730946585451658, \"component 1\": -0.16334769063870264}, {\"index\": 39, \"component 0\": 0.11543858102315034, \"component 1\": 1.148785071818548}, {\"index\": 40, \"component 0\": -0.9121045029514253, \"component 1\": 0.08478819685642489}, {\"index\": 41, \"component 0\": 0.8297390917081079, \"component 1\": 0.2153787075934822}, {\"index\": 42, \"component 0\": -0.8049463639058712, \"component 1\": 0.06084871198524922}, {\"index\": 43, \"component 0\": -0.6363045488197349, \"component 1\": 0.1631058421875038}, {\"index\": 44, \"component 0\": -0.9407817176409629, \"component 1\": 0.35394776210781104}, {\"index\": 45, \"component 0\": -1.0350838667177538, \"component 1\": 0.4552943815441273}, {\"index\": 46, \"component 0\": -0.9148108816486703, \"component 1\": 0.3526129873815748}, {\"index\": 47, \"component 0\": -0.9398525872429564, \"component 1\": 0.297505406034623}, {\"index\": 48, \"component 0\": -0.9081097188646369, \"component 1\": 0.33594696315098854}, {\"index\": 49, \"component 0\": -0.4363492912424434, \"component 1\": 0.1901251847864862}, {\"index\": 50, \"component 0\": -0.9081097188646369, \"component 1\": 0.33594696315098854}, {\"index\": 51, \"component 0\": -1.0484861922858209, \"component 1\": 0.4886264300053}, {\"index\": 52, \"component 0\": -0.5907370211946115, \"component 1\": 0.03728690303475159}, {\"index\": 53, \"component 0\": 3.5752557392962876, \"component 1\": -2.1118866707262565}, {\"index\": 54, \"component 0\": 1.588379634785906, \"component 1\": -1.3930080486295133}, {\"index\": 55, \"component 0\": 4.187405200739944, \"component 1\": -3.793753929889211}, {\"index\": 56, \"component 0\": 1.6601045914010684, \"component 1\": -1.331344202336501}, {\"index\": 57, \"component 0\": -0.6907356146447128, \"component 1\": 0.39503493345416524}, {\"index\": 58, \"component 0\": 1.7596387935267148, \"component 1\": 1.8049350625465819}, {\"index\": 59, \"component 0\": -0.8575469718085896, \"component 1\": -0.01871047044780514}, {\"index\": 60, \"component 0\": 1.1388543435168688, \"component 1\": -2.2504620701162694}, {\"index\": 61, \"component 0\": -0.19401859876915364, \"component 1\": -0.5911140390924995}, {\"index\": 62, \"component 0\": -0.9081097188646369, \"component 1\": 0.33594696315098854}, {\"index\": 63, \"component 0\": -0.9083244530962274, \"component 1\": 0.24944970368103633}, {\"index\": 64, \"component 0\": -1.0158177150246748, \"component 1\": 0.44623762578378884}, {\"index\": 65, \"component 0\": -1.0417850295017872, \"component 1\": 0.4719604057747135}, {\"index\": 66, \"component 0\": -0.9112641703233281, \"component 1\": 0.2748497398030117}, {\"index\": 67, \"component 0\": -0.8898244580586283, \"component 1\": 0.3000890936445931}, {\"index\": 68, \"component 0\": -0.5215546521319634, \"component 1\": 0.17845876322274307}, {\"index\": 69, \"component 0\": -1.0499752686954584, \"component 1\": 0.37167699446868313}, {\"index\": 70, \"component 0\": -0.9114603002566536, \"component 1\": 0.3442799752662817}, {\"index\": 71, \"component 0\": 1.951575010250727, \"component 1\": 4.903264485888409}, {\"index\": 72, \"component 0\": -0.7559661185466772, \"component 1\": 0.5989318702525419}, {\"index\": 73, \"component 0\": -1.0287256291653966, \"component 1\": 0.4316011058854016}, {\"index\": 74, \"component 0\": 0.062476069364719986, \"component 1\": -1.2388716824882813}, {\"index\": 75, \"component 0\": -1.1757071167197497, \"component 1\": 0.8852457387458299}, {\"index\": 76, \"component 0\": -0.8977463546521472, \"component 1\": 0.31738657313648505}, {\"index\": 77, \"component 0\": -0.15719812573907732, \"component 1\": -0.2861089448893565}, {\"index\": 78, \"component 0\": -0.599203110361466, \"component 1\": 0.6849886892136181}, {\"index\": 79, \"component 0\": -1.1167953644247, \"component 1\": 0.6641510084188142}, {\"index\": 80, \"component 0\": -1.3227140743323351, \"component 1\": 0.5364642736578791}, {\"index\": 81, \"component 0\": -0.6809288954203437, \"component 1\": -0.05975197301187509}, {\"index\": 82, \"component 0\": 0.3997708787525585, \"component 1\": -1.1550669632440962}, {\"index\": 83, \"component 0\": -0.9081097188646369, \"component 1\": 0.33594696315098854}, {\"index\": 84, \"component 0\": -0.644436938901784, \"component 1\": -0.28915089787038467}, {\"index\": 85, \"component 0\": -0.17299316672769713, \"component 1\": -0.6224756537770448}, {\"index\": 86, \"component 0\": 0.8737774811130591, \"component 1\": -1.0201935321714883}, {\"index\": 87, \"component 0\": -1.0123443482461134, \"component 1\": 0.021712136996088705}, {\"index\": 88, \"component 0\": 15.277942156751015, \"component 1\": 1.1631213675890595}, {\"index\": 89, \"component 0\": -1.0350838667177538, \"component 1\": 0.4552943815441273}, {\"index\": 90, \"component 0\": -1.019587982316089, \"component 1\": 0.4626869289117063}, {\"index\": 91, \"component 0\": -0.8228008665301759, \"component 1\": -0.08422223279547113}, {\"index\": 92, \"component 0\": -0.7202911144065958, \"component 1\": -0.12026787385345258}, {\"index\": 93, \"component 0\": -0.5023262155956564, \"component 1\": 0.5677913921717671}, {\"index\": 94, \"component 0\": -0.8461000099265821, \"component 1\": 0.23711471992702823}, {\"index\": 95, \"component 0\": -0.08709518395744711, \"component 1\": 0.21058340191964725}, {\"index\": 96, \"component 0\": -0.9081097188646369, \"component 1\": 0.33594696315098854}, {\"index\": 97, \"component 0\": -0.9449346360430776, \"component 1\": 0.22568209143297457}, {\"index\": 98, \"component 0\": -1.1259762009767218, \"component 1\": 0.35154521732620286}, {\"index\": 99, \"component 0\": -0.18774950806735907, \"component 1\": -0.5537154849292434}, {\"index\": 100, \"component 0\": -1.0350838667177538, \"component 1\": 0.4552943815441273}, {\"index\": 101, \"component 0\": 2.3239114913617973, \"component 1\": -1.242143606878275}, {\"index\": 102, \"component 0\": 0.3369665666929716, \"component 1\": -0.9407388752857984}, {\"index\": 103, \"component 0\": 0.8348296421853526, \"component 1\": -0.6698196517342282}, {\"index\": 104, \"component 0\": -0.8779349118654554, \"component 1\": 0.15016802395279022}, {\"index\": 105, \"component 0\": -1.0350838667177538, \"component 1\": 0.4552943815441273}, {\"index\": 106, \"component 0\": -0.913035985526593, \"component 1\": 0.4900712524781696}, {\"index\": 107, \"component 0\": -1.1800400914679292, \"component 1\": 0.6284836336643226}, {\"index\": 108, \"component 0\": -1.4781896867289088, \"component 1\": 1.3896177471512183}, {\"index\": 109, \"component 0\": -0.9081097188646369, \"component 1\": 0.33594696315098854}, {\"index\": 110, \"component 0\": -1.0417850295017872, \"component 1\": 0.4719604057747135}, {\"index\": 111, \"component 0\": -1.0958733038411603, \"component 1\": 0.4390181476373714}, {\"index\": 112, \"component 0\": 0.48280237552698746, \"component 1\": -1.6331065690075552}, {\"index\": 113, \"component 0\": -0.9052155230534504, \"component 1\": 0.4846705667812305}, {\"index\": 114, \"component 0\": -1.0598602967613326, \"component 1\": 0.6889690718174865}, {\"index\": 115, \"component 0\": 2.1520033053801733, \"component 1\": -4.022828339113559}, {\"index\": 116, \"component 0\": -0.9685816604469994, \"component 1\": 0.3369701825004023}, {\"index\": 117, \"component 0\": -1.0459586892050505, \"component 1\": 0.436136906892361}, {\"index\": 118, \"component 0\": -0.9887875548878495, \"component 1\": 0.23056545536746798}, {\"index\": 119, \"component 0\": -1.0245831162552592, \"component 1\": 0.537872271139069}, {\"index\": 120, \"component 0\": 2.0853399574969678, \"component 1\": -0.7604244054076057}, {\"index\": 121, \"component 0\": -0.9035384036631348, \"component 1\": 0.3269824957743897}, {\"index\": 122, \"component 0\": -1.0225517764455663, \"component 1\": 0.6898101610111657}, {\"index\": 123, \"component 0\": -1.0380424746885129, \"component 1\": 0.8737235263433553}, {\"index\": 124, \"component 0\": -1.2863441247892209, \"component 1\": 0.7865960372900407}, {\"index\": 125, \"component 0\": -0.8977463546521472, \"component 1\": 0.31738657313648505}, {\"index\": 126, \"component 0\": -0.9081097188646369, \"component 1\": 0.33594696315098854}, {\"index\": 127, \"component 0\": -0.9081097188646369, \"component 1\": 0.33594696315098854}, {\"index\": 128, \"component 0\": -1.0463647808307783, \"component 1\": 0.4924701910405977}, {\"index\": 129, \"component 0\": -0.17131642444277856, \"component 1\": -0.34312584993661016}, {\"index\": 130, \"component 0\": -0.7574594490016469, \"component 1\": -0.2762737295076056}, {\"index\": 131, \"component 0\": -0.9081097188646369, \"component 1\": 0.33594696315098854}, {\"index\": 132, \"component 0\": -1.0463647808307783, \"component 1\": 0.4924701910405977}, {\"index\": 133, \"component 0\": -1.0954863399867256, \"component 1\": 0.6672102334597216}, {\"index\": 134, \"component 0\": -0.8882191504505417, \"component 1\": 0.2300393634327884}, {\"index\": 135, \"component 0\": 0.4975263489514246, \"component 1\": 1.0367378331274504}, {\"index\": 136, \"component 0\": 0.73756674016288, \"component 1\": -1.492998224260429}, {\"index\": 137, \"component 0\": -1.2200684918715332, \"component 1\": 0.8882682152417285}, {\"index\": 138, \"component 0\": -0.3172368009235777, \"component 1\": -0.6885350194611095}, {\"index\": 139, \"component 0\": 0.44400218116991713, \"component 1\": -2.491326263864827}, {\"index\": 140, \"component 0\": 2.0667465922900257, \"component 1\": 0.022544306180862075}, {\"index\": 141, \"component 0\": 1.7382359618419123, \"component 1\": 4.871034212877595}, {\"index\": 142, \"component 0\": -0.9083244530962274, \"component 1\": 0.24944970368103633}, {\"index\": 143, \"component 0\": -1.2826540956061019, \"component 1\": 0.747428297747495}, {\"index\": 144, \"component 0\": -0.7365709390005719, \"component 1\": -0.4696060052953483}, {\"index\": 145, \"component 0\": 0.5183166781202797, \"component 1\": 2.548126923631341}, {\"index\": 146, \"component 0\": 0.5183166781202797, \"component 1\": 2.548126923631341}, {\"index\": 147, \"component 0\": -1.139712950291386, \"component 1\": 0.75172369330028}, {\"index\": 148, \"component 0\": -1.0217892376812594, \"component 1\": 0.21889978005273444}, {\"index\": 149, \"component 0\": -1.1242157812717268, \"component 1\": 0.6290198714685089}, {\"index\": 150, \"component 0\": 0.1906190869546464, \"component 1\": -1.1667774293762407}, {\"index\": 151, \"component 0\": -1.0053171009732482, \"component 1\": 0.5374110426580964}, {\"index\": 152, \"component 0\": 1.8793519282482312, \"component 1\": -2.3196936843331084}, {\"index\": 153, \"component 0\": -0.6522603846819185, \"component 1\": 0.4886821635835013}, {\"index\": 154, \"component 0\": -1.0384344481097705, \"component 1\": 0.46362739365942046}, {\"index\": 155, \"component 0\": 0.12706629919095339, \"component 1\": -0.034557616265016335}, {\"index\": 156, \"component 0\": -1.2377455723451292, \"component 1\": 0.838054587471006}, {\"index\": 157, \"component 0\": -0.9081097188646369, \"component 1\": 0.33594696315098854}, {\"index\": 158, \"component 0\": -1.0350838667177538, \"component 1\": 0.4552943815441273}, {\"index\": 159, \"component 0\": -1.0350838667177538, \"component 1\": 0.4552943815441273}, {\"index\": 160, \"component 0\": -1.2875411363410734, \"component 1\": 1.2110211788288712}, {\"index\": 161, \"component 0\": 2.8403110286246056, \"component 1\": 0.2899549243301091}, {\"index\": 162, \"component 0\": -0.9976980294472774, \"component 1\": 0.342960677845535}, {\"index\": 163, \"component 0\": -1.0565769438392154, \"component 1\": 0.7313979598204927}, {\"index\": 164, \"component 0\": -1.0350838667177538, \"component 1\": 0.4552943815441273}, {\"index\": 165, \"component 0\": 3.8773940898237234, \"component 1\": -1.8307131709942985}, {\"index\": 166, \"component 0\": 3.673643930986856, \"component 1\": 5.6972363221022055}, {\"index\": 167, \"component 0\": -1.2683593714589874, \"component 1\": 0.88691099784605}, {\"index\": 168, \"component 0\": -0.9081097188646369, \"component 1\": 0.33594696315098854}, {\"index\": 169, \"component 0\": -0.6802455333246786, \"component 1\": 0.36409155421137657}, {\"index\": 170, \"component 0\": -1.0350838667177538, \"component 1\": 0.4552943815441273}, {\"index\": 171, \"component 0\": -0.6739897874907784, \"component 1\": -0.35712041314026494}, {\"index\": 172, \"component 0\": 0.41651613783418034, \"component 1\": -0.41955594885971365}, {\"index\": 173, \"component 0\": -0.415434897417097, \"component 1\": -0.07640885946514911}, {\"index\": 174, \"component 0\": -0.18449146218901985, \"component 1\": -0.019317500609779638}, {\"index\": 175, \"component 0\": -0.7010012397113538, \"component 1\": 0.5173532770874004}, {\"index\": 176, \"component 0\": -0.7120752424634592, \"component 1\": 0.5123461241235842}, {\"index\": 177, \"component 0\": -0.9915560747750712, \"component 1\": 0.2051770490089409}, {\"index\": 178, \"component 0\": -0.9081097188646369, \"component 1\": 0.33594696315098854}, {\"index\": 179, \"component 0\": -0.6352899534610835, \"component 1\": -0.1641804139242643}, {\"index\": 180, \"component 0\": -0.9081097188646369, \"component 1\": 0.33594696315098854}, {\"index\": 181, \"component 0\": -0.9148108816486703, \"component 1\": 0.3526129873815748}, {\"index\": 182, \"component 0\": -1.0530883102479403, \"component 1\": 0.5281887854272452}, {\"index\": 183, \"component 0\": 11.107419857097865, \"component 1\": -2.867998356267859}, {\"index\": 184, \"component 0\": -1.1104999896755166, \"component 1\": 0.5868111420465544}, {\"index\": 185, \"component 0\": 3.1586996851592564, \"component 1\": -3.4770563483698544}, {\"index\": 186, \"component 0\": -0.9081097188646369, \"component 1\": 0.33594696315098854}, {\"index\": 187, \"component 0\": 0.3214890740447765, \"component 1\": 1.7621837729032366}, {\"index\": 188, \"component 0\": -1.1823247693851846, \"component 1\": 0.8197145878389086}, {\"index\": 189, \"component 0\": 1.3341154338620405, \"component 1\": -1.239217334509204}, {\"index\": 190, \"component 0\": -1.3678323868327977, \"component 1\": 0.408222895393414}, {\"index\": 191, \"component 0\": 1.4019092518863703, \"component 1\": -2.9977396864002506}, {\"index\": 192, \"component 0\": -1.0350838667177538, \"component 1\": 0.4552943815441273}, {\"index\": 193, \"component 0\": -0.599203110361466, \"component 1\": 0.6849886892136181}, {\"index\": 194, \"component 0\": -0.9972514500495101, \"component 1\": 0.5441008678844962}, {\"index\": 195, \"component 0\": -0.9909174024703808, \"component 1\": 0.23826701222145533}, {\"index\": 196, \"component 0\": -1.0284590335675183, \"component 1\": 0.4171346647019139}, {\"index\": 197, \"component 0\": -1.0350838667177538, \"component 1\": 0.4552943815441273}, {\"index\": 198, \"component 0\": -1.0350838667177538, \"component 1\": 0.4552943815441273}, {\"index\": 199, \"component 0\": -0.47804951465862217, \"component 1\": 0.14678215458491903}, {\"index\": 200, \"component 0\": -0.8989670884616326, \"component 1\": 0.31801802839779075}, {\"index\": 201, \"component 0\": -0.625573817250428, \"component 1\": 0.6584386671942727}, {\"index\": 202, \"component 0\": -0.23248881895755408, \"component 1\": -0.6116323743166625}, {\"index\": 203, \"component 0\": -0.8173394051735884, \"component 1\": 0.5606602745452649}, {\"index\": 204, \"component 0\": -1.289032162423988, \"component 1\": 0.693989218330405}, {\"index\": 205, \"component 0\": -0.8977463546521472, \"component 1\": 0.31738657313648505}, {\"index\": 206, \"component 0\": -0.010082655599292873, \"component 1\": -0.9700093472488429}, {\"index\": 207, \"component 0\": -0.8548710296280059, \"component 1\": 0.1239765715607426}, {\"index\": 208, \"component 0\": -1.019587982316089, \"component 1\": 0.4626869289117063}, {\"index\": 209, \"component 0\": -1.1448053786346883, \"component 1\": 0.630128820699222}, {\"index\": 210, \"component 0\": -0.5858028014266217, \"component 1\": 0.027193654939389605}, {\"index\": 211, \"component 0\": -0.9024588663677368, \"component 1\": 0.42977399770491526}, {\"index\": 212, \"component 0\": 3.898594868584745, \"component 1\": -1.2280335215286693}, {\"index\": 213, \"component 0\": -1.0914053551790062, \"component 1\": 0.7943843611306947}, {\"index\": 214, \"component 0\": 0.7850108357286504, \"component 1\": -0.8704341358441622}, {\"index\": 215, \"component 0\": -0.7730946585451658, \"component 1\": -0.16334769063870264}, {\"index\": 216, \"component 0\": -1.3256034358514246, \"component 1\": 0.807465923880482}, {\"index\": 217, \"component 0\": -0.9081097188646369, \"component 1\": 0.33594696315098854}, {\"index\": 218, \"component 0\": 0.5539635547493957, \"component 1\": -2.815226824979922}, {\"index\": 219, \"component 0\": -0.9081097188646369, \"component 1\": 0.33594696315098854}, {\"index\": 220, \"component 0\": 1.1027820731606068, \"component 1\": -1.2082883111816771}, {\"index\": 221, \"component 0\": -0.9081097188646369, \"component 1\": 0.33594696315098854}, {\"index\": 222, \"component 0\": -0.8521126781972467, \"component 1\": 0.17864929749491676}, {\"index\": 223, \"component 0\": -1.0350838667177538, \"component 1\": 0.4552943815441273}, {\"index\": 224, \"component 0\": -0.7467118444076679, \"component 1\": -0.25562717491520365}, {\"index\": 225, \"component 0\": -0.8385052242044959, \"component 1\": -0.21445415238276827}, {\"index\": 226, \"component 0\": 0.3700046161344049, \"component 1\": -1.4881129508227742}, {\"index\": 227, \"component 0\": -1.1217058127869135, \"component 1\": 0.6720135623610409}, {\"index\": 228, \"component 0\": -0.7907477381214424, \"component 1\": -0.3633817598467756}, {\"index\": 229, \"component 0\": -1.1499484936756015, \"component 1\": 0.3968106025275709}, {\"index\": 230, \"component 0\": -0.8468327060142649, \"component 1\": -0.051825566215416535}, {\"index\": 231, \"component 0\": -0.8015672120581154, \"component 1\": -0.3624730570119548}, {\"index\": 232, \"component 0\": 1.6238687311551026, \"component 1\": -0.780449953917973}, {\"index\": 233, \"component 0\": -0.9081097188646369, \"component 1\": 0.33594696315098854}, {\"index\": 234, \"component 0\": -1.1250563941789302, \"component 1\": 0.6803465744763341}, {\"index\": 235, \"component 0\": -0.9081097188646369, \"component 1\": 0.33594696315098854}, {\"index\": 236, \"component 0\": 5.9882845304707395, \"component 1\": 1.15824892961538}, {\"index\": 237, \"component 0\": -0.876839299777599, \"component 1\": 0.11009488541318257}, {\"index\": 238, \"component 0\": -0.9081097188646369, \"component 1\": 0.33594696315098854}, {\"index\": 239, \"component 0\": 1.5780783587661196, \"component 1\": -2.862243343055413}, {\"index\": 240, \"component 0\": -0.9148108816486703, \"component 1\": 0.3526129873815748}, {\"index\": 241, \"component 0\": -1.019587982316089, \"component 1\": 0.4626869289117063}, {\"index\": 242, \"component 0\": -1.0463647808307783, \"component 1\": 0.4924701910405977}, {\"index\": 243, \"component 0\": -0.9114603002566536, \"component 1\": 0.3442799752662817}, {\"index\": 244, \"component 0\": -0.009960785162188297, \"component 1\": 0.16978892177427776}, {\"index\": 245, \"component 0\": 5.335566297863435, \"component 1\": -2.090389912718149}, {\"index\": 246, \"component 0\": -0.9081097188646369, \"component 1\": 0.33594696315098854}, {\"index\": 247, \"component 0\": -0.9953072856144763, \"component 1\": 0.19388900556721178}, {\"index\": 248, \"component 0\": -0.9661673341312522, \"component 1\": 0.07109696194452031}, {\"index\": 249, \"component 0\": -0.38389716770462384, \"component 1\": -1.2591283311172712}, {\"index\": 250, \"component 0\": -0.8781496630193159, \"component 1\": 0.192902408709969}, {\"index\": 251, \"component 0\": 16.243734203018246, \"component 1\": -3.1845076342019145}, {\"index\": 252, \"component 0\": -0.6370432363438346, \"component 1\": 0.36410024317108486}, {\"index\": 253, \"component 0\": -0.7028989149009148, \"component 1\": -0.30024169514721516}, {\"index\": 254, \"component 0\": -1.0350838667177538, \"component 1\": 0.4552943815441273}, {\"index\": 255, \"component 0\": -1.1923188857991263, \"component 1\": 0.991115108477474}, {\"index\": 256, \"component 0\": -0.11432027526820039, \"component 1\": -1.1943627211128638}, {\"index\": 257, \"component 0\": 1.305438683334821, \"component 1\": -1.7180057334655063}, {\"index\": 258, \"component 0\": -0.9915560747750712, \"component 1\": 0.2051770490089409}, {\"index\": 259, \"component 0\": 2.2458024937788257, \"component 1\": -2.3734426741536585}, {\"index\": 260, \"component 0\": -0.6059042731454994, \"component 1\": 0.7016547134442044}, {\"index\": 261, \"component 0\": 2.337523267888176, \"component 1\": -2.9951490176146827}, {\"index\": 262, \"component 0\": 0.2000007062569798, \"component 1\": -3.1100936865810564}, {\"index\": 263, \"component 0\": -0.8832735870756507, \"component 1\": 0.11644237935630997}, {\"index\": 264, \"component 0\": -0.7604200398173196, \"component 1\": -0.5228726160583167}, {\"index\": 265, \"component 0\": -0.9796449244848452, \"component 1\": 0.21263652061427007}, {\"index\": 266, \"component 0\": -0.844047760435674, \"component 1\": -0.13210113204755397}, {\"index\": 267, \"component 0\": -0.9715628651156532, \"component 1\": 0.40920509147922474}, {\"index\": 268, \"component 0\": -1.1296605145078467, \"component 1\": 0.6477252454090149}, {\"index\": 269, \"component 0\": -1.5015227355177811, \"component 1\": 0.7918519071365111}, {\"index\": 270, \"component 0\": -0.4477900850430963, \"component 1\": 0.29006268680556097}, {\"index\": 271, \"component 0\": 1.1776123969528405, \"component 1\": 2.4510051316202675}, {\"index\": 272, \"component 0\": -0.9419729649568075, \"component 1\": 0.4019000329770434}, {\"index\": 273, \"component 0\": 2.098819737494796, \"component 1\": -2.6004939877918813}, {\"index\": 274, \"component 0\": 3.2577977164477696, \"component 1\": -5.629849074374619}, {\"index\": 275, \"component 0\": 2.6549177856516017, \"component 1\": -2.167834046939455}, {\"index\": 276, \"component 0\": -0.8841660851459082, \"component 1\": -0.07689418273971166}, {\"index\": 277, \"component 0\": -1.0350838667177538, \"component 1\": 0.4552943815441273}, {\"index\": 278, \"component 0\": -0.7616270079953444, \"component 1\": 0.41980645202035843}, {\"index\": 279, \"component 0\": -1.037061520173947, \"component 1\": 0.4822847236217411}, {\"index\": 280, \"component 0\": -0.9148108816486703, \"component 1\": 0.3526129873815748}, {\"index\": 281, \"component 0\": -0.16730499693087783, \"component 1\": -0.3042399848786714}, {\"index\": 282, \"component 0\": 0.5273690417970188, \"component 1\": -1.9644852332431235}, {\"index\": 283, \"component 0\": 1.172612201275996, \"component 1\": -1.7197974964746034}, {\"index\": 284, \"component 0\": -1.0927575250121702, \"component 1\": 0.5465954025194066}, {\"index\": 285, \"component 0\": 2.371795409112369, \"component 1\": 1.8039831134380417}, {\"index\": 286, \"component 0\": -0.9747177177628447, \"component 1\": 0.6720325403735506}, {\"index\": 287, \"component 0\": -0.9885203257318104, \"component 1\": 0.3997163916405972}, {\"index\": 288, \"component 0\": -0.985319422715667, \"component 1\": 0.42853935101364876}, {\"index\": 289, \"component 0\": -0.9081097188646369, \"component 1\": 0.33594696315098854}, {\"index\": 290, \"component 0\": -0.9765516539112342, \"component 1\": 0.3111062714142892}, {\"index\": 291, \"component 0\": -0.9999135208659742, \"component 1\": 0.5133068949473985}, {\"index\": 292, \"component 0\": -1.0350838667177538, \"component 1\": 0.4552943815441273}, {\"index\": 293, \"component 0\": 5.650563440207962, \"component 1\": -0.25367342496884565}, {\"index\": 294, \"component 0\": -0.6866140419453794, \"component 1\": -0.5289558344081448}, {\"index\": 295, \"component 0\": -0.9972514500495101, \"component 1\": 0.5441008678844962}, {\"index\": 296, \"component 0\": 0.4566011647595177, \"component 1\": -1.2648352737236952}, {\"index\": 297, \"component 0\": 1.5362818082154512, \"component 1\": 5.28835256756578}, {\"index\": 298, \"component 0\": -0.9114603002566536, \"component 1\": 0.3442799752662817}, {\"index\": 299, \"component 0\": 0.6477142736696763, \"component 1\": -1.629535716562865}, {\"index\": 300, \"component 0\": -1.085466082986901, \"component 1\": 0.2952488539290919}, {\"index\": 301, \"component 0\": -0.9081097188646369, \"component 1\": 0.33594696315098854}, {\"index\": 302, \"component 0\": -1.1217058127869135, \"component 1\": 0.6720135623610409}, {\"index\": 303, \"component 0\": 11.94063967220265, \"component 1\": -5.5157836351355}, {\"index\": 304, \"component 0\": -0.2336861381498832, \"component 1\": 0.9078808482892771}, {\"index\": 305, \"component 0\": -1.2642832981635115, \"component 1\": 1.4392944685786175}, {\"index\": 306, \"component 0\": -1.2261707950972656, \"component 1\": 0.8757216988195223}, {\"index\": 307, \"component 0\": -0.9340510683632887, \"component 1\": 0.38460255348515143}, {\"index\": 308, \"component 0\": -0.9091359503754511, \"component 1\": 0.8141440618157332}, {\"index\": 309, \"component 0\": -1.0384344481097705, \"component 1\": 0.46362739365942046}, {\"index\": 310, \"component 0\": -0.9081097188646369, \"component 1\": 0.33594696315098854}, {\"index\": 311, \"component 0\": -0.06167653479262073, \"component 1\": -2.47552306482089}, {\"index\": 312, \"component 0\": -1.0957028233160249, \"component 1\": 0.6029954070219955}, {\"index\": 313, \"component 0\": 2.535677977000866, \"component 1\": -2.9572966244868018}, {\"index\": 314, \"component 0\": -0.9344804257535989, \"component 1\": 0.3093969411316431}, {\"index\": 315, \"component 0\": 1.6336857360937385, \"component 1\": -4.158550226507701}, {\"index\": 316, \"component 0\": -1.2797348400360165, \"component 1\": 0.975319303433743}, {\"index\": 317, \"component 0\": -0.2121400107094881, \"component 1\": -0.9835006311705974}, {\"index\": 318, \"component 0\": -0.8567023681217717, \"component 1\": 0.215748695963499}, {\"index\": 319, \"component 0\": -1.0715432072674993, \"component 1\": 0.47346346486812046}, {\"index\": 320, \"component 0\": -0.9081097188646369, \"component 1\": 0.33594696315098854}, {\"index\": 321, \"component 0\": -0.4858548966183796, \"component 1\": -0.16351046827537974}, {\"index\": 322, \"component 0\": -0.9073534402274208, \"component 1\": 0.7657704779419789}, {\"index\": 323, \"component 0\": 4.931786636727203, \"component 1\": -1.0518537139460968}, {\"index\": 324, \"component 0\": -1.063814592620749, \"component 1\": 0.5472003887522652}, {\"index\": 325, \"component 0\": 0.7622829671909069, \"component 1\": -2.59853218441512}, {\"index\": 326, \"component 0\": -1.2744052198022824, \"component 1\": 1.0775309398415152}, {\"index\": 327, \"component 0\": -0.6711599067441338, \"component 1\": -0.17809580945386883}, {\"index\": 328, \"component 0\": -1.094898462743319, \"component 1\": 0.4985939798432632}, {\"index\": 329, \"component 0\": -0.8827209782208179, \"component 1\": 0.2018668760865679}, {\"index\": 330, \"component 0\": -0.9081097188646369, \"component 1\": 0.33594696315098854}, {\"index\": 331, \"component 0\": -0.9251315459915471, \"component 1\": 0.35714473475764147}, {\"index\": 332, \"component 0\": 0.2551648570447412, \"component 1\": 0.06132798759172323}, {\"index\": 333, \"component 0\": -0.9114603002566536, \"component 1\": 0.3442799752662817}, {\"index\": 334, \"component 0\": -1.0350838667177538, \"component 1\": 0.4552943815441273}, {\"index\": 335, \"component 0\": -1.0350838667177538, \"component 1\": 0.4552943815441273}, {\"index\": 336, \"component 0\": 0.8942241159173624, \"component 1\": 4.097140071323569}, {\"index\": 337, \"component 0\": -0.9159889155885429, \"component 1\": 0.3392158000044438}, {\"index\": 338, \"component 0\": -1.0957028233160249, \"component 1\": 0.6029954070219955}, {\"index\": 339, \"component 0\": -1.000060032873385, \"component 1\": 0.25619594697465314}, {\"index\": 340, \"component 0\": -0.7365709390005719, \"component 1\": -0.4696060052953483}, {\"index\": 341, \"component 0\": -0.6595224805953123, \"component 1\": -0.7553003804533913}, {\"index\": 342, \"component 0\": -1.110124419737539, \"component 1\": 0.4424916045229836}, {\"index\": 343, \"component 0\": -1.0350838667177538, \"component 1\": 0.4552943815441273}, {\"index\": 344, \"component 0\": -0.9094289493185967, \"component 1\": 0.42597273296568877}, {\"index\": 345, \"component 0\": 2.4464147782695895, \"component 1\": -0.9060122485916026}, {\"index\": 346, \"component 0\": -0.9181614630406871, \"component 1\": 0.36094599949686795}, {\"index\": 347, \"component 0\": -1.1692276250462388, \"component 1\": 0.7939096672767759}, {\"index\": 348, \"component 0\": -0.9875668210783641, \"component 1\": 0.22993400010616222}, {\"index\": 349, \"component 0\": -0.839617731141587, \"component 1\": -0.03068797566993548}, {\"index\": 350, \"component 0\": 9.368408342797307, \"component 1\": 1.743107301986234}, {\"index\": 351, \"component 0\": 1.5055709458374023, \"component 1\": 5.484388146490005}, {\"index\": 352, \"component 0\": -1.0350838667177538, \"component 1\": 0.4552943815441273}, {\"index\": 353, \"component 0\": -0.9081097188646369, \"component 1\": 0.33594696315098854}, {\"index\": 354, \"component 0\": 5.927313417768678, \"component 1\": -3.4890051085421145}, {\"index\": 355, \"component 0\": 0.5990168909462561, \"component 1\": -1.1908576217579911}, {\"index\": 356, \"component 0\": 0.19736893575997932, \"component 1\": 1.4053167478662056}, {\"index\": 357, \"component 0\": -0.5176970508940333, \"component 1\": 0.0995921965080445}, {\"index\": 358, \"component 0\": -0.9081097188646369, \"component 1\": 0.33594696315098854}, {\"index\": 359, \"component 0\": -0.36027915529254356, \"component 1\": -0.8277386859564468}, {\"index\": 360, \"component 0\": -1.5118243573795305, \"component 1\": 1.3289270589638356}, {\"index\": 361, \"component 0\": -0.9714099869831055, \"component 1\": 0.35152662900532666}, {\"index\": 362, \"component 0\": 0.052887573216651995, \"component 1\": -1.7572932238760068}, {\"index\": 363, \"component 0\": -0.5460691535476655, \"component 1\": -0.14115698342744348}, {\"index\": 364, \"component 0\": 1.1949115366393468, \"component 1\": -1.7075425238576083}, {\"index\": 365, \"component 0\": 1.9244880239966748, \"component 1\": 4.3418155400450855}, {\"index\": 366, \"component 0\": -0.8935825904829121, \"component 1\": 0.30173089029646954}, {\"index\": 367, \"component 0\": -0.7837519639201579, \"component 1\": -0.689983555220085}, {\"index\": 368, \"component 0\": -0.8777339200464083, \"component 1\": 0.16320533913077917}, {\"index\": 369, \"component 0\": -1.1057545674920752, \"component 1\": 0.6279944433678749}, {\"index\": 370, \"component 0\": -0.9081097188646369, \"component 1\": 0.33594696315098854}, {\"index\": 371, \"component 0\": 2.0966909955960698, \"component 1\": -0.10980633864911168}, {\"index\": 372, \"component 0\": -0.599203110361466, \"component 1\": 0.6849886892136181}, {\"index\": 373, \"component 0\": -0.9081097188646369, \"component 1\": 0.33594696315098854}, {\"index\": 374, \"component 0\": -1.0826610584144307, \"component 1\": 0.5481408534999792}, {\"index\": 375, \"component 0\": 2.465765389944362, \"component 1\": -3.794658170663826}, {\"index\": 376, \"component 0\": -0.5224244915366707, \"component 1\": -0.632626766068596}, {\"index\": 377, \"component 0\": -1.0824222882456782, \"component 1\": 0.580575703258124}, {\"index\": 378, \"component 0\": -0.8950399759549021, \"component 1\": 0.04956178261133521}, {\"index\": 379, \"component 0\": -0.8354125375159579, \"component 1\": -0.43968500337428557}, {\"index\": 380, \"component 0\": -0.8219107203750904, \"component 1\": 0.5696247419218637}, {\"index\": 381, \"component 0\": 0.23179719731364634, \"component 1\": -0.29645628828815346}, {\"index\": 382, \"component 0\": -1.3667971223354372, \"component 1\": 1.1842965207062506}, {\"index\": 383, \"component 0\": -0.14699176514778337, \"component 1\": 1.228635160596698}, {\"index\": 384, \"component 0\": 0.4102151971642453, \"component 1\": -1.1469344241790056}, {\"index\": 385, \"component 0\": 1.5580427793686522, \"component 1\": 2.1873809156484794}, {\"index\": 386, \"component 0\": -0.8617400659726053, \"component 1\": 0.1492811689707586}, {\"index\": 387, \"component 0\": -0.9661673341312522, \"component 1\": 0.07109696194452031}, {\"index\": 388, \"component 0\": 5.749584676871242, \"component 1\": 1.005668378049422}, {\"index\": 389, \"component 0\": -1.0384344481097705, \"component 1\": 0.46362739365942046}, {\"index\": 390, \"component 0\": 0.5732853985681418, \"component 1\": -3.87594889161255}, {\"index\": 391, \"component 0\": -1.198438617951918, \"component 1\": 0.7328524158024686}, {\"index\": 392, \"component 0\": -0.985615774199194, \"component 1\": 0.31290963713795933}, {\"index\": 393, \"component 0\": -0.9736667716096045, \"component 1\": 0.6112632024485734}, {\"index\": 394, \"component 0\": 0.5490067834831354, \"component 1\": -1.4921391885561146}, {\"index\": 395, \"component 0\": -0.599203110361466, \"component 1\": 0.6849886892136181}, {\"index\": 396, \"component 0\": -0.9915560747750712, \"component 1\": 0.2051770490089409}, {\"index\": 397, \"component 0\": 0.21551253271924806, \"component 1\": -0.7740211373667337}, {\"index\": 398, \"component 0\": -0.8182295513286739, \"component 1\": -0.09318670017207006}, {\"index\": 399, \"component 0\": -1.0750024306855053, \"component 1\": 0.07440713486689338}, {\"index\": 400, \"component 0\": -1.0201940819683422, \"component 1\": 0.18535673026262145}, {\"index\": 401, \"component 0\": 4.035026549763494, \"component 1\": 0.84861829368898}, {\"index\": 402, \"component 0\": -0.27671490491660305, \"component 1\": -0.25304014496619237}, {\"index\": 403, \"component 0\": -0.908539187327818, \"component 1\": 0.162952444211084}, {\"index\": 404, \"component 0\": 0.15017484610646564, \"component 1\": -0.3087001993817933}, {\"index\": 405, \"component 0\": -0.6604639598733119, \"component 1\": 0.056396932610108676}, {\"index\": 406, \"component 0\": 3.162811522295035, \"component 1\": -1.018951861677396}, {\"index\": 407, \"component 0\": -1.1312809799991317, \"component 1\": 0.5029296352024721}, {\"index\": 408, \"component 0\": -0.1778207653411512, \"component 1\": -1.863470891695198}, {\"index\": 409, \"component 0\": 2.254991648999914, \"component 1\": -3.4187516542400638}, {\"index\": 410, \"component 0\": -0.9081097188646369, \"component 1\": 0.33594696315098854}, {\"index\": 411, \"component 0\": -0.6198302320682283, \"component 1\": 0.1677564031264146}, {\"index\": 412, \"component 0\": 0.648355580648536, \"component 1\": -2.6849656719803288}, {\"index\": 413, \"component 0\": 0.7205378503992853, \"component 1\": 0.5153514332519729}, {\"index\": 414, \"component 0\": -1.019587982316089, \"component 1\": 0.4626869289117063}, {\"index\": 415, \"component 0\": -1.1364687009189525, \"component 1\": 0.5620622724767091}, {\"index\": 416, \"component 0\": -0.5151652405773903, \"component 1\": 0.055526253980613206}, {\"index\": 417, \"component 0\": -0.058921419713471555, \"component 1\": -0.5835401692875987}, {\"index\": 418, \"component 0\": -0.34181115623175357, \"component 1\": -0.3429366812141918}, {\"index\": 419, \"component 0\": -0.5052475560245927, \"component 1\": -0.18412371143665585}, {\"index\": 420, \"component 0\": -1.0799904555850603, \"component 1\": 0.6746027808273007}, {\"index\": 421, \"component 0\": -1.124225597902627, \"component 1\": 0.6634482862776352}, {\"index\": 422, \"component 0\": -0.22365348512150765, \"component 1\": -0.3123155867982507}, {\"index\": 423, \"component 0\": -0.599203110361466, \"component 1\": 0.6849886892136181}, {\"index\": 424, \"component 0\": 0.08740962289767622, \"component 1\": -0.5069846743869442}, {\"index\": 425, \"component 0\": -1.0352986009493443, \"component 1\": 0.3687971220741751}, {\"index\": 426, \"component 0\": 1.6664534646411533, \"component 1\": -0.5252009126900142}, {\"index\": 427, \"component 0\": -0.599203110361466, \"component 1\": 0.6849886892136181}, {\"index\": 428, \"component 0\": 2.1129511331147515, \"component 1\": 1.8670516691987606}, {\"index\": 429, \"component 0\": -1.490524906520355, \"component 1\": 1.5655997986815327}, {\"index\": 430, \"component 0\": -1.0048546721959948, \"component 1\": 0.4256034836124189}, {\"index\": 431, \"component 0\": -0.8806746385419701, \"component 1\": 0.07113083425111993}, {\"index\": 432, \"component 0\": -0.9044475174361808, \"component 1\": 0.3340525973670713}, {\"index\": 433, \"component 0\": -1.037213714300285, \"component 1\": 0.46299593839811465}, {\"index\": 434, \"component 0\": -0.9915560747750712, \"component 1\": 0.2051770490089409}, {\"index\": 435, \"component 0\": 0.1334232219580849, \"component 1\": 0.0987906506796681}, {\"index\": 436, \"component 0\": -0.827372181731678, \"component 1\": -0.0752577654188723}, {\"index\": 437, \"component 0\": -0.8461000099265821, \"component 1\": 0.23711471992702823}, {\"index\": 438, \"component 0\": -1.0998426447684029, \"component 1\": 0.2071104045682452}, {\"index\": 439, \"component 0\": -1.0314216652892976, \"component 1\": 0.4534000157602101}, {\"index\": 440, \"component 0\": -0.8868910439536493, \"component 1\": 0.13509392175906199}, {\"index\": 441, \"component 0\": -1.2285257640293268, \"component 1\": 0.5681800819830242}, {\"index\": 442, \"component 0\": -0.6983970614128185, \"component 1\": 0.5065007630559496}, {\"index\": 443, \"component 0\": -0.9090188326376829, \"component 1\": 0.34301706474367016}, {\"index\": 444, \"component 0\": -0.6800491787302941, \"component 1\": -0.13967521516394094}, {\"index\": 445, \"component 0\": -0.599203110361466, \"component 1\": 0.6849886892136181}, {\"index\": 446, \"component 0\": -0.9081097188646369, \"component 1\": 0.33594696315098854}, {\"index\": 447, \"component 0\": -0.9044475174361808, \"component 1\": 0.3340525973670713}, {\"index\": 448, \"component 0\": -0.3257915511737456, \"component 1\": -0.1216175473102046}, {\"index\": 449, \"component 0\": 0.3644191299752388, \"component 1\": -0.2924067742779403}, {\"index\": 450, \"component 0\": 3.8379337969650704, \"component 1\": -2.814243354657302}, {\"index\": 451, \"component 0\": 2.935243520378959, \"component 1\": 1.1925737258458133}, {\"index\": 452, \"component 0\": -0.9114603002566536, \"component 1\": 0.3442799752662817}, {\"index\": 453, \"component 0\": -0.599203110361466, \"component 1\": 0.6849886892136181}, {\"index\": 454, \"component 0\": 3.0944743887574098, \"component 1\": -1.0036810328253483}, {\"index\": 455, \"component 0\": 1.0516118504156111, \"component 1\": -0.73161071618276}, {\"index\": 456, \"component 0\": -0.38975190242769625, \"component 1\": -2.125600671904489}, {\"index\": 457, \"component 0\": -0.4735864362388547, \"component 1\": -1.1901201100986514}, {\"index\": 458, \"component 0\": 1.243435957098472, \"component 1\": 0.2922078901545488}, {\"index\": 459, \"component 0\": -0.9083244530962274, \"component 1\": 0.24944970368103633}, {\"index\": 460, \"component 0\": 0.3388568014091368, \"component 1\": -1.9799866911665192}, {\"index\": 461, \"component 0\": -0.43330471987936575, \"component 1\": -1.384822371089851}, {\"index\": 462, \"component 0\": -0.9081097188646369, \"component 1\": 0.33594696315098854}, {\"index\": 463, \"component 0\": -0.9148108816486703, \"component 1\": 0.3526129873815748}, {\"index\": 464, \"component 0\": -1.0980105232200428, \"component 1\": 0.3826859607140031}, {\"index\": 465, \"component 0\": -0.946052533677506, \"component 1\": 0.16234789797925475}, {\"index\": 466, \"component 0\": -0.9114603002566536, \"component 1\": 0.3442799752662817}, {\"index\": 467, \"component 0\": 12.592721578456942, \"component 1\": 3.6627859052974374}, {\"index\": 468, \"component 0\": -1.0350838667177538, \"component 1\": 0.4552943815441273}, {\"index\": 469, \"component 0\": -0.9081097188646369, \"component 1\": 0.33594696315098854}, {\"index\": 470, \"component 0\": -1.1120802948929787, \"component 1\": 0.6791738457605072}, {\"index\": 471, \"component 0\": -0.9148108816486703, \"component 1\": 0.3526129873815748}, {\"index\": 472, \"component 0\": -0.43539579326585737, \"component 1\": -0.08595506625287468}, {\"index\": 473, \"component 0\": -0.9081097188646369, \"component 1\": 0.33594696315098854}, {\"index\": 474, \"component 0\": -0.8896562690480062, \"component 1\": 0.3706294852086917}, {\"index\": 475, \"component 0\": -0.8849007422383898, \"component 1\": 0.26282952830937784}, {\"index\": 476, \"component 0\": -0.9636955844817621, \"component 1\": 0.04390934944350932}, {\"index\": 477, \"component 0\": -0.908539187327818, \"component 1\": 0.162952444211084}, {\"index\": 478, \"component 0\": -0.41741059953553633, \"component 1\": 0.2529206255879038}, {\"index\": 479, \"component 0\": 1.9376786482635122, \"component 1\": -3.0190775387458304}, {\"index\": 480, \"component 0\": -0.8319434969331801, \"component 1\": -0.06629329804227346}, {\"index\": 481, \"component 0\": -0.8608975532006065, \"component 1\": -0.010377458332511991}, {\"index\": 482, \"component 0\": -0.40367557047898345, \"component 1\": -0.24108203268396905}, {\"index\": 483, \"component 0\": -1.1430783151095067, \"component 1\": -0.33740628115255705}, {\"index\": 484, \"component 0\": -0.9081097188646369, \"component 1\": 0.33594696315098854}, {\"index\": 485, \"component 0\": 27.27298587765681, \"component 1\": -0.5836421735540528}, {\"index\": 486, \"component 0\": -0.5240216171552342, \"component 1\": -0.5000655387385278}, {\"index\": 487, \"component 0\": 2.6805687276293915, \"component 1\": 3.438552173105162}, {\"index\": 488, \"component 0\": 5.803324019928113, \"component 1\": -7.533104851156395}, {\"index\": 489, \"component 0\": 0.7489430132087692, \"component 1\": -1.7422780530211355}, {\"index\": 490, \"component 0\": -0.8943957732601304, \"component 1\": 0.3090535610211919}, {\"index\": 491, \"component 0\": -0.942422293285284, \"component 1\": 0.35787521739448186}, {\"index\": 492, \"component 0\": -1.314993974248265, \"component 1\": 1.222383578702517}, {\"index\": 493, \"component 0\": 5.803954923387957, \"component 1\": 1.9055065372246227}, {\"index\": 494, \"component 0\": -0.5683429963766381, \"component 1\": -0.5974726083307493}, {\"index\": 495, \"component 0\": -0.9081097188646369, \"component 1\": 0.33594696315098854}, {\"index\": 496, \"component 0\": 0.0970004454823863, \"component 1\": -0.8164692318670501}, {\"index\": 497, \"component 0\": -0.5111151834637933, \"component 1\": -0.3412147450815571}, {\"index\": 498, \"component 0\": 0.42114354683679606, \"component 1\": -0.9516794129543498}, {\"index\": 499, \"component 0\": -0.5775774266680039, \"component 1\": -0.09678193352489212}, {\"index\": 500, \"component 0\": -0.9087539215594086, \"component 1\": 0.07645518474113178}, {\"index\": 501, \"component 0\": 1.265081894599219, \"component 1\": -2.031096798753145}, {\"index\": 502, \"component 0\": 4.226743172976499, \"component 1\": -8.313636292012369}, {\"index\": 503, \"component 0\": -0.5560028696852678, \"component 1\": -1.2678531169133276}, {\"index\": 504, \"component 0\": -1.019587982316089, \"component 1\": 0.4626869289117063}, {\"index\": 505, \"component 0\": -0.908539187327818, \"component 1\": 0.162952444211084}, {\"index\": 506, \"component 0\": -0.8065547562893612, \"component 1\": -0.20037338510669428}, {\"index\": 507, \"component 0\": -0.9972514500495101, \"component 1\": 0.5441008678844962}, {\"index\": 508, \"component 0\": -1.0350838667177538, \"component 1\": 0.4552943815441273}, {\"index\": 509, \"component 0\": -0.9087539215594086, \"component 1\": 0.07645518474113178}, {\"index\": 510, \"component 0\": -0.9935109311243111, \"component 1\": 0.5520346887065963}, {\"index\": 511, \"component 0\": -0.9221957976020967, \"component 1\": 0.2048039143780333}, {\"index\": 512, \"component 0\": -0.9114603002566536, \"component 1\": 0.3442799752662817}, {\"index\": 513, \"component 0\": -0.48472263623507966, \"component 1\": -0.8742692470980337}, {\"index\": 514, \"component 0\": 0.7001897636341357, \"component 1\": -3.549913378956319}, {\"index\": 515, \"component 0\": 1.5537879677931876, \"component 1\": 2.250244464706419}, {\"index\": 516, \"component 0\": -1.0061830704498416, \"component 1\": 0.5517296097820059}, {\"index\": 517, \"component 0\": -1.0274845269294004, \"component 1\": 0.6110043629617211}, {\"index\": 518, \"component 0\": -1.080205189816651, \"component 1\": 0.5881055213573485}, {\"index\": 519, \"component 0\": -1.0350838667177538, \"component 1\": 0.4552943815441273}, {\"index\": 520, \"component 0\": -0.9181614630406871, \"component 1\": 0.36094599949686795}, {\"index\": 521, \"component 0\": 0.9477788348552812, \"component 1\": -0.9724742479840202}, {\"index\": 522, \"component 0\": -0.9080360570630064, \"component 1\": 0.26283998286175364}, {\"index\": 523, \"component 0\": -0.7907886891184464, \"component 1\": 0.18407736311854045}, {\"index\": 524, \"component 0\": -0.8998762022346786, \"component 1\": 0.3250881299904725}, {\"index\": 525, \"component 0\": 0.22057110620169762, \"component 1\": -0.3109511306241624}, {\"index\": 526, \"component 0\": -0.9081097188646369, \"component 1\": 0.33594696315098854}, {\"index\": 527, \"component 0\": -0.738441091852228, \"component 1\": -0.21726008205983266}, {\"index\": 528, \"component 0\": -0.8825660775904876, \"component 1\": 0.4323202702822702}, {\"index\": 529, \"component 0\": -0.8573322375769991, \"component 1\": 0.06778678902214713}, {\"index\": 530, \"component 0\": 0.4845848358015402, \"component 1\": -2.063982838801784}, {\"index\": 531, \"component 0\": -1.1465621301692064, \"component 1\": 0.5820343473048455}, {\"index\": 532, \"component 0\": -0.599203110361466, \"component 1\": 0.6849886892136181}, {\"index\": 533, \"component 0\": 6.578076518553715, \"component 1\": -8.211853068159286}, {\"index\": 534, \"component 0\": 0.002088604735487738, \"component 1\": 0.7864515355890933}, {\"index\": 535, \"component 0\": -0.876839299777599, \"component 1\": 0.11009488541318257}, {\"index\": 536, \"component 0\": -0.6901609643517506, \"component 1\": -0.4018370071887188}, {\"index\": 537, \"component 0\": -0.6912067600950307, \"component 1\": -1.1417503563598648}, {\"index\": 538, \"component 0\": 1.1337999678901804, \"component 1\": 0.8074243088184367}, {\"index\": 539, \"component 0\": -0.8896562690480062, \"component 1\": 0.3706294852086917}, {\"index\": 540, \"component 0\": -0.9148108816486703, \"component 1\": 0.3526129873815748}, {\"index\": 541, \"component 0\": 2.2352799535259926, \"component 1\": 4.939719782217904}, {\"index\": 542, \"component 0\": -0.8481896071739948, \"component 1\": 0.04985785426894946}, {\"index\": 543, \"component 0\": -0.9500587423169781, \"component 1\": 0.582545337124286}, {\"index\": 544, \"component 0\": -0.5311939334766526, \"component 1\": -0.6614209949655888}, {\"index\": 545, \"component 0\": -1.1310662457675411, \"component 1\": 0.5894268946724246}, {\"index\": 546, \"component 0\": 1.8181880117859794, \"component 1\": -3.5635994140470126}, {\"index\": 547, \"component 0\": 1.7667579285823138, \"component 1\": 5.073928186642484}, {\"index\": 548, \"component 0\": -0.9081097188646369, \"component 1\": 0.33594696315098854}, {\"index\": 549, \"component 0\": 2.4271641926996397, \"component 1\": -2.7551914074323935}, {\"index\": 550, \"component 0\": -0.9081097188646369, \"component 1\": 0.33594696315098854}, {\"index\": 551, \"component 0\": -0.46542641422516556, \"component 1\": -0.549280901963948}, {\"index\": 552, \"component 0\": -0.9935616991301541, \"component 1\": 0.06471267697720687}, {\"index\": 553, \"component 0\": 0.09827824984895168, \"component 1\": -0.282070321598532}, {\"index\": 554, \"component 0\": -0.45933909990284943, \"component 1\": -1.4535449998109478}, {\"index\": 555, \"component 0\": -0.9344804257535989, \"component 1\": 0.3093969411316431}, {\"index\": 556, \"component 0\": 1.1227843561304984, \"component 1\": 0.27447689821829474}, {\"index\": 557, \"component 0\": 0.009529452518454664, \"component 1\": -0.17648802149729464}, {\"index\": 558, \"component 0\": -0.7976831714672287, \"component 1\": 0.10473775219421246}, {\"index\": 559, \"component 0\": -1.0262891451001221, \"component 1\": 0.4793529531422926}, {\"index\": 560, \"component 0\": -1.0417850295017872, \"component 1\": 0.4719604057747135}, {\"index\": 561, \"component 0\": -0.9081097188646369, \"component 1\": 0.33594696315098854}, {\"index\": 562, \"component 0\": -0.26287387536400264, \"component 1\": -0.7473140228270927}, {\"index\": 563, \"component 0\": -0.9181614630406871, \"component 1\": 0.36094599949686795}, {\"index\": 564, \"component 0\": 0.25681385661939976, \"component 1\": -0.5803147197466383}, {\"index\": 565, \"component 0\": -0.4799691050783603, \"component 1\": -0.5263827868068466}, {\"index\": 566, \"component 0\": -0.9102395664471682, \"component 1\": 0.34364852000497587}, {\"index\": 567, \"component 0\": -0.9081097188646369, \"component 1\": 0.33594696315098854}, {\"index\": 568, \"component 0\": -0.8900391922902189, \"component 1\": 0.21359183417464078}, {\"index\": 569, \"component 0\": 0.7118894956663542, \"component 1\": -0.038432966797896574}, {\"index\": 570, \"component 0\": 0.9040588672232924, \"component 1\": -0.19987780448384712}, {\"index\": 571, \"component 0\": 3.7475705999768802, \"component 1\": -0.16339049004984738}, {\"index\": 572, \"component 0\": 2.7399292201986207, \"component 1\": -1.9494672190826146}, {\"index\": 573, \"component 0\": 4.0369438459240135, \"component 1\": 0.9507692166942963}, {\"index\": 574, \"component 0\": -0.915182819936796, \"component 1\": 0.30992527750328464}, {\"index\": 575, \"component 0\": -0.9023176698536494, \"component 1\": 0.326351040513084}, {\"index\": 576, \"component 0\": -0.8112944663877337, \"component 1\": 0.34405911001120154}, {\"index\": 577, \"component 0\": -0.9148108816486703, \"component 1\": 0.3526129873815748}, {\"index\": 578, \"component 0\": -1.1620580145708714, \"component 1\": 0.5746417999372664}, {\"index\": 579, \"component 0\": -1.0350838667177538, \"component 1\": 0.4552943815441273}, {\"index\": 580, \"component 0\": 10.49008977797204, \"component 1\": 0.7309324402259013}, {\"index\": 581, \"component 0\": 1.0177688662374085, \"component 1\": -0.105104870490983}, {\"index\": 582, \"component 0\": -1.3078386760165042, \"component 1\": 0.5888927607329659}, {\"index\": 583, \"component 0\": -0.7381884669320383, \"component 1\": -0.4596111115557036}, {\"index\": 584, \"component 0\": 2.7826592348337913, \"component 1\": -3.3679720436502176}, {\"index\": 585, \"component 0\": -0.13644737568449306, \"component 1\": -2.3806670290670944}, {\"index\": 586, \"component 0\": -0.599203110361466, \"component 1\": 0.6849886892136181}, {\"index\": 587, \"component 0\": -1.0576539233184816, \"component 1\": 0.7560167198000902}, {\"index\": 588, \"component 0\": -0.9081097188646369, \"component 1\": 0.33594696315098854}, {\"index\": 589, \"component 0\": 0.33619106384489633, \"component 1\": -1.29615012427192}, {\"index\": 590, \"component 0\": -0.9081097188646369, \"component 1\": 0.33594696315098854}, {\"index\": 591, \"component 0\": -1.4200244913136728, \"component 1\": 0.44770762176066886}, {\"index\": 592, \"component 0\": -0.5419627224954514, \"component 1\": -0.1502611967375072}, {\"index\": 593, \"component 0\": -0.9081097188646369, \"component 1\": 0.33594696315098854}, {\"index\": 594, \"component 0\": -0.778383111393414, \"component 1\": -0.14579883413663697}, {\"index\": 595, \"component 0\": 3.4291077897038615, \"component 1\": 5.580336454603489}, {\"index\": 596, \"component 0\": 0.7228190643527842, \"component 1\": -2.9522869511160796}, {\"index\": 597, \"component 0\": 1.3051022629296045, \"component 1\": 0.22686628885072357}, {\"index\": 598, \"component 0\": -0.9081097188646369, \"component 1\": 0.33594696315098854}, {\"index\": 599, \"component 0\": -0.9081097188646369, \"component 1\": 0.33594696315098854}, {\"index\": 600, \"component 0\": -0.16114760045677748, \"component 1\": -0.15421972070197487}, {\"index\": 601, \"component 0\": 0.05270303412757532, \"component 1\": 0.5713149619638669}, {\"index\": 602, \"component 0\": -1.2877952091564084, \"component 1\": 0.6141318302165356}, {\"index\": 603, \"component 0\": -1.0384344481097705, \"component 1\": 0.46362739365942046}, {\"index\": 604, \"component 0\": -0.5690633418644052, \"component 1\": -0.6347578442105539}, {\"index\": 605, \"component 0\": 0.3812089059948775, \"component 1\": -0.17955182452847418}, {\"index\": 606, \"component 0\": -0.9081097188646369, \"component 1\": 0.33594696315098854}, {\"index\": 607, \"component 0\": -0.45205781417156427, \"component 1\": -1.3815009310897566}, {\"index\": 608, \"component 0\": -0.9081097188646369, \"component 1\": 0.33594696315098854}, {\"index\": 609, \"component 0\": 4.139726014448122, \"component 1\": 3.410198273530006}, {\"index\": 610, \"component 0\": -0.8384171073157632, \"component 1\": 0.17989082645710364}, {\"index\": 611, \"component 0\": -0.9081097188646369, \"component 1\": 0.33594696315098854}, {\"index\": 612, \"component 0\": -1.0384344481097705, \"component 1\": 0.46362739365942046}, {\"index\": 613, \"component 0\": -0.9114603002566536, \"component 1\": 0.3442799752662817}, {\"index\": 614, \"component 0\": -1.0108614554385729, \"component 1\": 0.3487021467803713}, {\"index\": 615, \"component 0\": -1.329565672052615, \"component 1\": 1.1841347941336888}, {\"index\": 616, \"component 0\": -1.0384344481097705, \"component 1\": 0.46362739365942046}, {\"index\": 617, \"component 0\": -0.9114603002566536, \"component 1\": 0.3442799752662817}, {\"index\": 618, \"component 0\": -0.9148108816486703, \"component 1\": 0.3526129873815748}, {\"index\": 619, \"component 0\": -0.9344804257535989, \"component 1\": 0.3093969411316431}, {\"index\": 620, \"component 0\": 1.1585265496799038, \"component 1\": -1.0583563815724444}, {\"index\": 621, \"component 0\": -0.9344804257535989, \"component 1\": 0.3093969411316431}, {\"index\": 622, \"component 0\": -1.1219236153645367, \"component 1\": 0.5714979599192269}, {\"index\": 623, \"component 0\": -0.9081097188646369, \"component 1\": 0.33594696315098854}, {\"index\": 624, \"component 0\": -0.28278792065211056, \"component 1\": -0.17537686158936644}, {\"index\": 625, \"component 0\": 2.0749939326566693, \"component 1\": -0.4389155834099358}, {\"index\": 626, \"component 0\": -0.9081097188646369, \"component 1\": 0.33594696315098854}, {\"index\": 627, \"component 0\": 4.876172049259884, \"component 1\": -1.0621653850858983}, {\"index\": 628, \"component 0\": 1.7046292919552808, \"component 1\": 4.907571747006862}, {\"index\": 629, \"component 0\": -0.2868091244028769, \"component 1\": 1.612449376666956}, {\"index\": 630, \"component 0\": -0.2662457029837962, \"component 1\": 0.3349561265275744}, {\"index\": 631, \"component 0\": -0.9913512692046393, \"component 1\": 0.19712912840577196}, {\"index\": 632, \"component 0\": -0.6953143434257912, \"component 1\": -0.06074081586654279}, {\"index\": 633, \"component 0\": -0.9081097188646369, \"component 1\": 0.33594696315098854}, {\"index\": 634, \"component 0\": -1.019587982316089, \"component 1\": 0.4626869289117063}, {\"index\": 635, \"component 0\": 25.331424071283294, \"component 1\": -15.983746867446236}, {\"index\": 636, \"component 0\": -0.7488402431682513, \"component 1\": 0.33893846351446294}, {\"index\": 637, \"component 0\": -1.019587982316089, \"component 1\": 0.4626869289117063}, {\"index\": 638, \"component 0\": -0.9114603002566536, \"component 1\": 0.3442799752662817}, {\"index\": 639, \"component 0\": 0.05949935854719354, \"component 1\": -1.859045566519566}, {\"index\": 640, \"component 0\": -1.2525385366016573, \"component 1\": 0.8182056837230256}, {\"index\": 641, \"component 0\": -0.8844399600799079, \"component 1\": 0.28380195554327187}, {\"index\": 642, \"component 0\": -0.9081097188646369, \"component 1\": 0.33594696315098854}, {\"index\": 643, \"component 0\": -1.0350838667177538, \"component 1\": 0.4552943815441273}, {\"index\": 644, \"component 0\": -0.9793776953288061, \"component 1\": 0.3817874568873995}, {\"index\": 645, \"component 0\": -1.1773447298315958, \"component 1\": 0.6382427202019743}, {\"index\": 646, \"component 0\": -1.1310662457675411, \"component 1\": 0.5894268946724246}, {\"index\": 647, \"component 0\": -0.5222299160502202, \"component 1\": 0.04180759243279174}, {\"index\": 648, \"component 0\": -0.23285191874836805, \"component 1\": -1.4792089771316357}, {\"index\": 649, \"component 0\": -0.6977131111751491, \"component 1\": -0.073506547982368}, {\"index\": 650, \"component 0\": 0.29703413423519315, \"component 1\": -0.324893728210687}, {\"index\": 651, \"component 0\": 0.09924185334191289, \"component 1\": -0.8126782506996845}, {\"index\": 652, \"component 0\": 2.101678655129216, \"component 1\": 1.8926821608059463}, {\"index\": 653, \"component 0\": -0.9081097188646369, \"component 1\": 0.33594696315098854}, {\"index\": 654, \"component 0\": 1.5528355432291818, \"component 1\": -0.8295906863290421}, {\"index\": 655, \"component 0\": -0.9081097188646369, \"component 1\": 0.33594696315098854}, {\"index\": 656, \"component 0\": -0.0187745953515024, \"component 1\": 0.09037390702970662}, {\"index\": 657, \"component 0\": -0.5303138431575067, \"component 1\": -0.43707465983515154}, {\"index\": 658, \"component 0\": -1.0318514104467131, \"component 1\": 0.06402023338712418}, {\"index\": 659, \"component 0\": -0.44985433395194735, \"component 1\": 0.2873770115219519}, {\"index\": 660, \"component 0\": -0.8091872156024349, \"component 1\": 0.2884461452566864}, {\"index\": 661, \"component 0\": 0.6695705090448072, \"component 1\": -1.1281924869657665}, {\"index\": 662, \"component 0\": -0.7024641204344673, \"component 1\": 0.15330099845394002}, {\"index\": 663, \"component 0\": -0.893175039450645, \"component 1\": 0.3084221057598862}, {\"index\": 664, \"component 0\": -0.6721097123339167, \"component 1\": 0.6040701338362034}, {\"index\": 665, \"component 0\": 0.7177207290854773, \"component 1\": -1.5252405925479018}, {\"index\": 666, \"component 0\": -0.8943957732601304, \"component 1\": 0.3090535610211919}, {\"index\": 667, \"component 0\": -0.8965256208426619, \"component 1\": 0.31675511787517935}, {\"index\": 668, \"component 0\": -0.8086566575045603, \"component 1\": 0.001243220149865014}, {\"index\": 669, \"component 0\": 7.538418789172484, \"component 1\": -1.1879861330337542}, {\"index\": 670, \"component 0\": -0.8065547562893612, \"component 1\": -0.20037338510669428}, {\"index\": 671, \"component 0\": -0.9081097188646369, \"component 1\": 0.33594696315098854}, {\"index\": 672, \"component 0\": 0.06881179105422207, \"component 1\": -0.521468093808548}, {\"index\": 673, \"component 0\": -1.1040410931463231, \"component 1\": 0.516522914596461}, {\"index\": 674, \"component 0\": -0.9123694140296996, \"component 1\": 0.3513500768589633}, {\"index\": 675, \"component 0\": -0.7034390301995228, \"component 1\": -0.1940836060893773}, {\"index\": 676, \"component 0\": -1.3012760663687952, \"component 1\": 0.5244839786338715}, {\"index\": 677, \"component 0\": -0.5152598330993602, \"component 1\": 0.045608857172018166}, {\"index\": 678, \"component 0\": 0.20329103738181237, \"component 1\": -0.5627225571946566}, {\"index\": 679, \"component 0\": -0.5800813142154719, \"component 1\": 0.2929283046271452}, {\"index\": 680, \"component 0\": 1.7328010597405448, \"component 1\": 4.939160362503849}, {\"index\": 681, \"component 0\": -0.9114603002566536, \"component 1\": 0.3442799752662817}, {\"index\": 682, \"component 0\": -1.0384344481097705, \"component 1\": 0.46362739365942046}, {\"index\": 683, \"component 0\": 0.4663084668701113, \"component 1\": -2.288330895044517}, {\"index\": 684, \"component 0\": -0.9578818193066244, \"component 1\": 0.20583012695739478}, {\"index\": 685, \"component 0\": -1.0010744799355014, \"component 1\": 0.8045741248523102}, {\"index\": 686, \"component 0\": -1.1131837235493274, \"component 1\": 0.5344518493496588}, {\"index\": 687, \"component 0\": 1.4315778226889713, \"component 1\": -5.8002851923184915}, {\"index\": 688, \"component 0\": -0.7937219780905685, \"component 1\": -0.026281637241237252}, {\"index\": 689, \"component 0\": -0.9917708090066618, \"component 1\": 0.11867978953898867}, {\"index\": 690, \"component 0\": -0.8927904656520438, \"component 1\": 0.23900383080938734}, {\"index\": 691, \"component 0\": -0.8989670884616326, \"component 1\": 0.31801802839779075}, {\"index\": 692, \"component 0\": -0.7466256344274408, \"component 1\": 0.012127471628826625}, {\"index\": 693, \"component 0\": 0.5827819291295642, \"component 1\": -4.2210117050754965}, {\"index\": 694, \"component 0\": -1.0350838667177538, \"component 1\": 0.4552943815441273}, {\"index\": 695, \"component 0\": -1.0350838667177538, \"component 1\": 0.4552943815441273}, {\"index\": 696, \"component 0\": -0.9081097188646369, \"component 1\": 0.33594696315098854}, {\"index\": 697, \"component 0\": -0.8790554621011875, \"component 1\": 0.26751481744195066}, {\"index\": 698, \"component 0\": -1.0250634277369406, \"component 1\": 0.4297067401014844}, {\"index\": 699, \"component 0\": 1.314742282328204, \"component 1\": -2.2364774336047386}, {\"index\": 700, \"component 0\": -0.4412302075167374, \"component 1\": 0.988270625256399}, {\"index\": 701, \"component 0\": -0.781883160321552, \"component 1\": 0.6283896722876176}, {\"index\": 702, \"component 0\": -0.599203110361466, \"component 1\": 0.6849886892136181}, {\"index\": 703, \"component 0\": -0.8065547562893612, \"component 1\": -0.20037338510669428}, {\"index\": 704, \"component 0\": 0.4247101566705032, \"component 1\": -1.5911939711107244}, {\"index\": 705, \"component 0\": -1.0431535814020045, \"component 1\": 0.26523384760795105}, {\"index\": 706, \"component 0\": -0.791954839269352, \"component 1\": -0.18760419363725578}, {\"index\": 707, \"component 0\": -1.0350838667177538, \"component 1\": 0.4552943815441273}, {\"index\": 708, \"component 0\": -1.019587982316089, \"component 1\": 0.4626869289117063}, {\"index\": 709, \"component 0\": -0.7053671443636785, \"component 1\": 0.5026994983167231}, {\"index\": 710, \"component 0\": -0.8989670884616326, \"component 1\": 0.31801802839779075}, {\"index\": 711, \"component 0\": -0.7972997353322243, \"component 1\": -0.08253763949884078}, {\"index\": 712, \"component 0\": -0.07314901216681667, \"component 1\": -0.14796538667325088}, {\"index\": 713, \"component 0\": -1.0740689948085145, \"component 1\": 0.48193655681907605}, {\"index\": 714, \"component 0\": -0.3871294413857252, \"component 1\": 0.1407342147032276}, {\"index\": 715, \"component 0\": -0.6197376965545507, \"component 1\": -0.37497459330834276}, {\"index\": 716, \"component 0\": -0.24444094764794394, \"component 1\": -0.861205480543333}, {\"index\": 717, \"component 0\": 1.039255268540092, \"component 1\": 2.3545416218080457}, {\"index\": 718, \"component 0\": 3.44411967204043, \"component 1\": -3.261980487495747}, {\"index\": 719, \"component 0\": 0.9185349620112847, \"component 1\": 0.23869826719882906}, {\"index\": 720, \"component 0\": -1.019587982316089, \"component 1\": 0.4626869289117063}, {\"index\": 721, \"component 0\": -0.9229240073047261, \"component 1\": 0.7187926046101389}, {\"index\": 722, \"component 0\": -0.9114603002566536, \"component 1\": 0.3442799752662817}, {\"index\": 723, \"component 0\": -0.7587609424551179, \"component 1\": -0.06166471454067703}, {\"index\": 724, \"component 0\": 1.7294717414376524, \"component 1\": -4.710643403971402}, {\"index\": 725, \"component 0\": -0.9119931553350958, \"component 1\": 0.8425673622660018}, {\"index\": 726, \"component 0\": -0.5692835917863596, \"component 1\": -0.07139170313849388}, {\"index\": 727, \"component 0\": -1.0350838667177538, \"component 1\": 0.4552943815441273}, {\"index\": 728, \"component 0\": -0.48710159548114446, \"component 1\": -0.26200903576421236}, {\"index\": 729, \"component 0\": -0.8323729653963614, \"component 1\": -0.2392878169821781}, {\"index\": 730, \"component 0\": 0.8008525797344884, \"component 1\": 2.8706186276746255}, {\"index\": 731, \"component 0\": -0.5946750706768009, \"component 1\": 0.21994997850283243}, {\"index\": 732, \"component 0\": -0.9148108816486703, \"component 1\": 0.3526129873815748}, {\"index\": 733, \"component 0\": 0.31802456480076396, \"component 1\": -1.1908690803082018}, {\"index\": 734, \"component 0\": -0.3894904529096483, \"component 1\": 0.855542489118579}, {\"index\": 735, \"component 0\": -0.1549829208767852, \"component 1\": 0.18034016703594458}, {\"index\": 736, \"component 0\": 0.988241151871753, \"component 1\": -1.6397341453637237}, {\"index\": 737, \"component 0\": 0.5530428549101141, \"component 1\": -0.7353717710914157}, {\"index\": 738, \"component 0\": -0.8600416233529461, \"component 1\": 0.5131919737804449}, {\"index\": 739, \"component 0\": 1.1603155350869738, \"component 1\": 0.7417923586174001}, {\"index\": 740, \"component 0\": -0.9150482774765063, \"component 1\": 0.37761045990071235}, {\"index\": 741, \"component 0\": -1.0292054517566425, \"component 1\": 0.5702954973968546}, {\"index\": 742, \"component 0\": -0.9269475885254782, \"component 1\": 0.28638033592712603}, {\"index\": 743, \"component 0\": -0.9114603002566536, \"component 1\": 0.3442799752662817}, {\"index\": 744, \"component 0\": -0.908067018995024, \"component 1\": 0.3219183205125518}, {\"index\": 745, \"component 0\": -0.8958250907131347, \"component 1\": 0.23135393639737867}, {\"index\": 746, \"component 0\": -0.5096089806024601, \"component 1\": 0.1394358917259449}, {\"index\": 747, \"component 0\": 0.19029234710208914, \"component 1\": -0.7772867011071964}, {\"index\": 748, \"component 0\": -0.9450392800941435, \"component 1\": 0.378076651024672}, {\"index\": 749, \"component 0\": -0.6468802398785466, \"component 1\": -0.633495701349032}, {\"index\": 750, \"component 0\": 1.7381255843856587, \"component 1\": -5.338718464749682}, {\"index\": 751, \"component 0\": -0.9457728746773008, \"component 1\": 0.366208229509775}, {\"index\": 752, \"component 0\": -0.8438272494599661, \"component 1\": -0.3683440014344514}, {\"index\": 753, \"component 0\": -0.893175039450645, \"component 1\": 0.3084221057598862}, {\"index\": 754, \"component 0\": -0.9081097188646369, \"component 1\": 0.33594696315098854}, {\"index\": 755, \"component 0\": -0.9081097188646369, \"component 1\": 0.33594696315098854}, {\"index\": 756, \"component 0\": -1.092949580835857, \"component 1\": 0.8591860678327682}, {\"index\": 757, \"component 0\": -0.5874151572298705, \"component 1\": -0.7461896845540774}, {\"index\": 758, \"component 0\": -0.9081097188646369, \"component 1\": 0.33594696315098854}, {\"index\": 759, \"component 0\": -1.0439882715488356, \"component 1\": 0.27180397098770176}, {\"index\": 760, \"component 0\": -0.9114603002566536, \"component 1\": 0.3442799752662817}, {\"index\": 761, \"component 0\": 0.7889185577722103, \"component 1\": 0.22806915616012746}, {\"index\": 762, \"component 0\": 0.5183166781202797, \"component 1\": 2.548126923631341}, {\"index\": 763, \"component 0\": 0.2439152312712332, \"component 1\": -0.9907893637541849}, {\"index\": 764, \"component 0\": 6.575034982316693, \"component 1\": -8.030497147751523}, {\"index\": 765, \"component 0\": 1.5580427793686522, \"component 1\": 2.1873809156484794}, {\"index\": 766, \"component 0\": 0.219285657286718, \"component 1\": -0.38369852646695063}, {\"index\": 767, \"component 0\": -1.0417850295017872, \"component 1\": 0.4719604057747135}, {\"index\": 768, \"component 0\": -0.8130981888385812, \"component 1\": -0.21679966553319552}, {\"index\": 769, \"component 0\": -0.9643046133259022, \"component 1\": 0.17109777703502893}, {\"index\": 770, \"component 0\": -0.6204847048246236, \"component 1\": -0.28990128491834327}, {\"index\": 771, \"component 0\": -1.0736031250015456, \"component 1\": 0.14787667033066776}, {\"index\": 772, \"component 0\": -0.8428776957993757, \"component 1\": 0.31844927422898023}, {\"index\": 773, \"component 0\": 7.2378267830982175, \"component 1\": 1.4998588557370933}, {\"index\": 774, \"component 0\": -0.26637301115608336, \"component 1\": -0.8624493860168987}, {\"index\": 775, \"component 0\": -0.9114603002566536, \"component 1\": 0.3442799752662817}, {\"index\": 776, \"component 0\": -0.8937973247145027, \"component 1\": 0.21523363082651725}, {\"index\": 777, \"component 0\": -1.394921414395582, \"component 1\": 0.97600755290001}, {\"index\": 778, \"component 0\": -0.3966047270539715, \"component 1\": -0.2533672017784679}, {\"index\": 779, \"component 0\": -0.8781496630193159, \"component 1\": 0.192902408709969}, {\"index\": 780, \"component 0\": 1.7864478672138553, \"component 1\": 0.1337686942961841}, {\"index\": 781, \"component 0\": -0.9627947018042111, \"component 1\": 0.3874060011164279}, {\"index\": 782, \"component 0\": -0.7773549222493427, \"component 1\": -0.17483500216781717}, {\"index\": 783, \"component 0\": -0.6604639598733119, \"component 1\": 0.056396932610108676}, {\"index\": 784, \"component 0\": -1.1948578638513392, \"component 1\": 1.7577045892162817}, {\"index\": 785, \"component 0\": -0.46782592227802894, \"component 1\": 0.2088445531551904}, {\"index\": 786, \"component 0\": 0.16115481196797649, \"component 1\": -0.154000817301725}, {\"index\": 787, \"component 0\": -1.4500836062837077, \"component 1\": 1.1045164062518158}, {\"index\": 788, \"component 0\": 0.5412374283388319, \"component 1\": -0.5917986360010021}, {\"index\": 789, \"component 0\": 3.4257474043694023, \"component 1\": -4.220545238164186}, {\"index\": 790, \"component 0\": -1.304726555355826, \"component 1\": 0.7173067153998528}, {\"index\": 791, \"component 0\": 3.507990476749496, \"component 1\": -4.532578182476543}, {\"index\": 792, \"component 0\": -0.9081097188646369, \"component 1\": 0.33594696315098854}, {\"index\": 793, \"component 0\": 3.015458159870012, \"component 1\": -0.8344963885703734}, {\"index\": 794, \"component 0\": -0.2756211651171659, \"component 1\": 0.8392753507505784}, {\"index\": 795, \"component 0\": -0.9068889850551515, \"component 1\": 0.33531550788968273}, {\"index\": 796, \"component 0\": -0.9081097188646369, \"component 1\": 0.33594696315098854}, {\"index\": 797, \"component 0\": -0.960851132642561, \"component 1\": 0.2828469191122978}, {\"index\": 798, \"component 0\": -0.7017476428048353, \"component 1\": 0.5148337751712427}, {\"index\": 799, \"component 0\": -1.0267853003595717, \"component 1\": 0.44344533672041025}, {\"index\": 800, \"component 0\": -0.9483150222982236, \"component 1\": 0.36783167739579287}, {\"index\": 801, \"component 0\": 0.571563911634454, \"component 1\": -2.0137632026494567}, {\"index\": 802, \"component 0\": -1.0184386562892427, \"component 1\": 0.2105667679374413}, {\"index\": 803, \"component 0\": 2.0995265276224475, \"component 1\": -3.0950981856543778}, {\"index\": 804, \"component 0\": -0.08340832441960912, \"component 1\": -0.665252061532569}, {\"index\": 805, \"component 0\": -0.2818304126914409, \"component 1\": 0.38632862909738047}, {\"index\": 806, \"component 0\": 3.2623380420049366, \"component 1\": -2.3837713243731757}, {\"index\": 807, \"component 0\": -1.0282858181288714, \"component 1\": 0.35856974417496473}, {\"index\": 808, \"component 0\": 1.8430737576234264, \"component 1\": -2.5392619360512536}, {\"index\": 809, \"component 0\": 6.572211479307904, \"component 1\": -4.122110927473617}, {\"index\": 810, \"component 0\": -0.8650102196198637, \"component 1\": 0.45278585253642595}, {\"index\": 811, \"component 0\": -1.3317756547620487, \"component 1\": 0.9221683401666189}, {\"index\": 812, \"component 0\": -0.67429575390456, \"component 1\": -0.08326553786862338}, {\"index\": 813, \"component 0\": 1.7236584293375405, \"component 1\": 4.957089297257046}, {\"index\": 814, \"component 0\": 0.16147655110026582, \"component 1\": -0.12104613027393973}, {\"index\": 815, \"component 0\": -0.5299981293380867, \"component 1\": 1.1335158617661418}, {\"index\": 816, \"component 0\": 1.0342564316148086, \"component 1\": 0.9869424066245799}, {\"index\": 817, \"component 0\": -0.41593562017000213, \"component 1\": -0.6234994539016953}, {\"index\": 818, \"component 0\": 6.149486371251256, \"component 1\": -6.378851086267924}, {\"index\": 819, \"component 0\": -0.814871780823003, \"component 1\": -0.31254903692763875}, {\"index\": 820, \"component 0\": -0.8827209782208179, \"component 1\": 0.2018668760865679}, {\"index\": 821, \"component 0\": 0.5268785434154034, \"component 1\": -2.077427625107242}, {\"index\": 822, \"component 0\": -0.3205901043052681, \"component 1\": 0.034564950727133906}, {\"index\": 823, \"component 0\": -0.5618334219472338, \"component 1\": -1.0012977700514345}, {\"index\": 824, \"component 0\": -0.5363646574383908, \"component 1\": -0.6402292955470485}, {\"index\": 825, \"component 0\": -0.5309358338624282, \"component 1\": -1.298651903468782}, {\"index\": 826, \"component 0\": -0.9081097188646369, \"component 1\": 0.33594696315098854}, {\"index\": 827, \"component 0\": 0.027634724892907667, \"component 1\": -0.9539943704307456}, {\"index\": 828, \"component 0\": 0.42790529658562176, \"component 1\": 0.576984560157315}, {\"index\": 829, \"component 0\": -0.8431617890201709, \"component 1\": -0.09243853844831887}, {\"index\": 830, \"component 0\": -0.5764868600478075, \"component 1\": -0.602655016411416}, {\"index\": 831, \"component 0\": -1.0384344481097705, \"component 1\": 0.46362739365942046}, {\"index\": 832, \"component 0\": 1.7396823067172815, \"component 1\": -1.6752108556444998}, {\"index\": 833, \"component 0\": 0.09830533703582407, \"component 1\": -0.843418921790828}, {\"index\": 834, \"component 0\": 0.17909130224284636, \"component 1\": -1.886502093328702}, {\"index\": 835, \"component 0\": -0.9081097188646369, \"component 1\": 0.33594696315098854}, {\"index\": 836, \"component 0\": -0.8855372270228284, \"component 1\": -0.08532219790899877}, {\"index\": 837, \"component 0\": 3.4948279137473848, \"component 1\": 0.7037055229201137}, {\"index\": 838, \"component 0\": -0.4521881167813531, \"component 1\": -1.1210237651189945}, {\"index\": 839, \"component 0\": -0.982995505876862, \"component 1\": 0.22096953272956327}, {\"index\": 840, \"component 0\": -0.9068889850551515, \"component 1\": 0.33531550788968273}, {\"index\": 841, \"component 0\": -0.599203110361466, \"component 1\": 0.6849886892136181}, {\"index\": 842, \"component 0\": -1.1357615461888004, \"component 1\": 0.707876581589026}, {\"index\": 843, \"component 0\": -0.16796112489895879, \"component 1\": 0.37006149072938027}, {\"index\": 844, \"component 0\": -1.2092876770015895, \"component 1\": 0.8806379252676146}, {\"index\": 845, \"component 0\": 7.897472494652988, \"component 1\": 0.48542687785010824}, {\"index\": 846, \"component 0\": -1.0350838667177538, \"component 1\": 0.4552943815441273}, {\"index\": 847, \"component 0\": -1.1175465687766566, \"component 1\": 0.3839773276013844}, {\"index\": 848, \"component 0\": -0.6557898831670561, \"component 1\": 0.22400437814643875}, {\"index\": 849, \"component 0\": 0.9688987234012568, \"component 1\": -0.6225833354009294}, {\"index\": 850, \"component 0\": -0.9972514500495101, \"component 1\": 0.5441008678844962}, {\"index\": 851, \"component 0\": 1.509888907256511, \"component 1\": -3.689746256209718}, {\"index\": 852, \"component 0\": -1.0350838667177538, \"component 1\": 0.4552943815441273}, {\"index\": 853, \"component 0\": 0.21833328617803016, \"component 1\": 1.1081867395307885}, {\"index\": 854, \"component 0\": -0.883150446683999, \"component 1\": 0.028872357146663336}, {\"index\": 855, \"component 0\": -1.0384344481097705, \"component 1\": 0.46362739365942046}, {\"index\": 856, \"component 0\": 0.6880379728892757, \"component 1\": -1.644037761746475}, {\"index\": 857, \"component 0\": -0.7730946585451658, \"component 1\": -0.16334769063870264}, {\"index\": 858, \"component 0\": 0.8457185489718687, \"component 1\": -1.8213241785850813}, {\"index\": 859, \"component 0\": 2.2884820459885677, \"component 1\": -0.35108597533513314}, {\"index\": 860, \"component 0\": 5.2215235547043095, \"component 1\": 1.2260750972368533}, {\"index\": 861, \"component 0\": -0.7457370027747181, \"component 1\": -0.5314030015552803}, {\"index\": 862, \"component 0\": -0.8103872005921738, \"component 1\": -0.07849908655342752}, {\"index\": 863, \"component 0\": 1.546837281268409, \"component 1\": -2.0340303315697157}, {\"index\": 864, \"component 0\": 5.439574483830217, \"component 1\": 3.381612088254446}, {\"index\": 865, \"component 0\": -0.9081097188646369, \"component 1\": 0.33594696315098854}, {\"index\": 866, \"component 0\": -1.177414321022971, \"component 1\": 0.8118520338966821}, {\"index\": 867, \"component 0\": -0.6046722018411207, \"component 1\": 0.5689063384956441}, {\"index\": 868, \"component 0\": -0.9114603002566536, \"component 1\": 0.3442799752662817}, {\"index\": 869, \"component 0\": -0.37000069695139187, \"component 1\": 0.1816478572497613}, {\"index\": 870, \"component 0\": -0.7341299575687193, \"component 1\": 0.8522314751439953}, {\"index\": 871, \"component 0\": 4.480084889745233, \"component 1\": 2.218217183188781}, {\"index\": 872, \"component 0\": -1.1433169403506531, \"component 1\": 0.46414894086857766}, {\"index\": 873, \"component 0\": -1.0607764859009479, \"component 1\": 0.39267795552498147}, {\"index\": 874, \"component 0\": -0.128121794107002, \"component 1\": -0.19394829181549722}, {\"index\": 875, \"component 0\": -1.1838071224468765, \"component 1\": 0.6873435941907055}, {\"index\": 876, \"component 0\": -1.0671603677404502, \"component 1\": 0.4651484140669217}, {\"index\": 877, \"component 0\": -0.14135153522751398, \"component 1\": -1.53972095205831}, {\"index\": 878, \"component 0\": -1.0325167343416564, \"component 1\": 0.32002811851206253}, {\"index\": 879, \"component 0\": -0.8943957732601304, \"component 1\": 0.3090535610211919}, {\"index\": 880, \"component 0\": 0.5275494647359127, \"component 1\": -1.332623703099501}, {\"index\": 881, \"component 0\": -0.05081718920886138, \"component 1\": -1.3517499798249077}, {\"index\": 882, \"component 0\": 0.6894476892508855, \"component 1\": -0.816652165926683}, {\"index\": 883, \"component 0\": -0.9081097188646369, \"component 1\": 0.33594696315098854}, {\"index\": 884, \"component 0\": 2.4514314925860887, \"component 1\": -1.6341110182654166}, {\"index\": 885, \"component 0\": -0.5288030458415298, \"component 1\": -0.3088373714457519}, {\"index\": 886, \"component 0\": 1.642413202465737, \"component 1\": -4.373536024324591}, {\"index\": 887, \"component 0\": -1.0350838667177538, \"component 1\": 0.4552943815441273}, {\"index\": 888, \"component 0\": -1.0350838667177538, \"component 1\": 0.4552943815441273}, {\"index\": 889, \"component 0\": -0.7089426586128695, \"component 1\": -0.8861523000077374}, {\"index\": 890, \"component 0\": -0.8454060355548251, \"component 1\": -0.46629583237297517}, {\"index\": 891, \"component 0\": -0.43737644522255387, \"component 1\": -1.874470436387656}, {\"index\": 892, \"component 0\": -0.3962998889913089, \"component 1\": -0.8555899517639736}, {\"index\": 893, \"component 0\": -0.9264501405794003, \"component 1\": 0.49689422543187806}, {\"index\": 894, \"component 0\": -0.40833821234045603, \"component 1\": -0.7324546437570987}, {\"index\": 895, \"component 0\": -0.8919207779015688, \"component 1\": 0.6016585541694502}, {\"index\": 896, \"component 0\": 1.1881732540253003, \"component 1\": -3.0835434302486244}, {\"index\": 897, \"component 0\": 11.956232163338937, \"component 1\": 4.2723663361513236}, {\"index\": 898, \"component 0\": -0.4934246816829663, \"component 1\": -0.67320298415379}, {\"index\": 899, \"component 0\": -0.6458734454684422, \"component 1\": -0.15582119785392246}, {\"index\": 900, \"component 0\": -0.9081097188646369, \"component 1\": 0.33594696315098854}, {\"index\": 901, \"component 0\": -0.6461291043506054, \"component 1\": -0.4492872871841069}, {\"index\": 902, \"component 0\": -0.012334075200461798, \"component 1\": -1.6735716886995133}, {\"index\": 903, \"component 0\": 0.8890185603097159, \"component 1\": -4.602337084170013}, {\"index\": 904, \"component 0\": 0.352764270701373, \"component 1\": -2.6916457642326495}, {\"index\": 905, \"component 0\": -0.560330670977075, \"component 1\": -0.12207855938652448}, {\"index\": 906, \"component 0\": -1.0350838667177538, \"component 1\": 0.4552943815441273}, {\"index\": 907, \"component 0\": -0.8499383954844637, \"component 1\": -0.02615622829386883}, {\"index\": 908, \"component 0\": -0.3996724714967769, \"component 1\": -0.7279958889949404}, {\"index\": 909, \"component 0\": -1.1434590008471823, \"component 1\": 0.5119272828011677}, {\"index\": 910, \"component 0\": -0.9943718786104151, \"component 1\": -0.18330954727839088}, {\"index\": 911, \"component 0\": -0.9081097188646369, \"component 1\": 0.33594696315098854}, {\"index\": 912, \"component 0\": -1.0257639912502956, \"component 1\": 0.7674981728592283}, {\"index\": 913, \"component 0\": 0.7106933246333065, \"component 1\": -0.891809935767099}, {\"index\": 914, \"component 0\": -0.9081097188646369, \"component 1\": 0.33594696315098854}, {\"index\": 915, \"component 0\": -0.5849419406366272, \"component 1\": -0.6053351069930102}, {\"index\": 916, \"component 0\": -0.8614171228290469, \"component 1\": -0.06620246506587962}, {\"index\": 917, \"component 0\": -1.2640991614962895, \"component 1\": 0.9421539346524599}, {\"index\": 918, \"component 0\": 2.2778286437441375, \"component 1\": -2.955720129691144}, {\"index\": 919, \"component 0\": -0.8927904656520438, \"component 1\": 0.23900383080938734}, {\"index\": 920, \"component 0\": -0.003207974208994126, \"component 1\": -0.8562568144130112}, {\"index\": 921, \"component 0\": -1.0229385637081054, \"component 1\": 0.47101994102699957}, {\"index\": 922, \"component 0\": 0.1185767289924995, \"component 1\": -1.8196102887880086}, {\"index\": 923, \"component 0\": -0.9144186217820193, \"component 1\": 0.2137525164550348}, {\"index\": 924, \"component 0\": 0.5881539866871505, \"component 1\": 1.2897936631500375}, {\"index\": 925, \"component 0\": -0.3929667267770825, \"component 1\": -0.6898362337731321}, {\"index\": 926, \"component 0\": -0.8319434969331801, \"component 1\": -0.06629329804227346}, {\"index\": 927, \"component 0\": -0.8543928057246607, \"component 1\": -0.3811485798646396}, {\"index\": 928, \"component 0\": -0.9037531378947253, \"component 1\": 0.24048523630443744}, {\"index\": 929, \"component 0\": 0.7866494461898612, \"component 1\": 0.680126285276466}, {\"index\": 930, \"component 0\": -1.0057465694364294, \"component 1\": 0.3644165237181915}, {\"index\": 931, \"component 0\": -0.9114603002566536, \"component 1\": 0.3442799752662817}, {\"index\": 932, \"component 0\": 2.2333415785812853, \"component 1\": 0.14114716376667125}, {\"index\": 933, \"component 0\": -0.8943957732601304, \"component 1\": 0.3090535610211919}, {\"index\": 934, \"component 0\": 0.047403952202859825, \"component 1\": -0.5073559212329628}, {\"index\": 935, \"component 0\": -0.8827209782208179, \"component 1\": 0.2018668760865679}, {\"index\": 936, \"component 0\": -0.9347743613873564, \"component 1\": -0.03099006242940292}, {\"index\": 937, \"component 0\": 1.7424044136851462, \"component 1\": -1.344275277135822}, {\"index\": 938, \"component 0\": -0.9437437070967215, \"component 1\": 0.358867210019194}, {\"index\": 939, \"component 0\": -0.7881013064727306, \"component 1\": -0.165690863048991}, {\"index\": 940, \"component 0\": -1.2134554886735462, \"component 1\": 0.7671939874717022}, {\"index\": 941, \"component 0\": -0.8809527783462606, \"component 1\": -0.38141605792659933}, {\"index\": 942, \"component 0\": -0.4987909865585019, \"component 1\": 0.01939459890142599}, {\"index\": 943, \"component 0\": -0.27838335670920594, \"component 1\": 0.6393176564760616}, {\"index\": 944, \"component 0\": -0.9253377953505947, \"component 1\": 0.29146800637844544}, {\"index\": 945, \"component 0\": -0.8573322375769991, \"component 1\": 0.06778678902214713}, {\"index\": 946, \"component 0\": -1.0384344481097705, \"component 1\": 0.46362739365942046}, {\"index\": 947, \"component 0\": -0.8658081428586634, \"component 1\": -0.005808082486700469}, {\"index\": 948, \"component 0\": 3.6102846862030775, \"component 1\": -5.760499821358226}, {\"index\": 949, \"component 0\": -0.7411773579817141, \"component 1\": -0.45576436776609713}, {\"index\": 950, \"component 0\": -1.0480451698465036, \"component 1\": 0.26584417665971594}, {\"index\": 951, \"component 0\": 0.47471715708896256, \"component 1\": -0.11376975168259218}, {\"index\": 952, \"component 0\": -0.8898244580586283, \"component 1\": 0.3000890936445931}, {\"index\": 953, \"component 0\": -0.8779006809026321, \"component 1\": -0.030933820472118477}, {\"index\": 954, \"component 0\": -0.8833651809155896, \"component 1\": -0.057624902323288894}, {\"index\": 955, \"component 0\": 1.543909111244062, \"component 1\": 2.074558087890332}, {\"index\": 956, \"component 0\": -0.7161236855900189, \"component 1\": 0.16145882600147127}, {\"index\": 957, \"component 0\": 0.45932901577379587, \"component 1\": -0.9060458299641687}, {\"index\": 958, \"component 0\": -0.056035718704485295, \"component 1\": -0.1974152035522888}, {\"index\": 959, \"component 0\": -1.1293710421867156, \"component 1\": 0.6799043283973476}, {\"index\": 960, \"component 0\": -0.9087539215594086, \"component 1\": 0.07645518474113178}, {\"index\": 961, \"component 0\": 1.2229786582588384, \"component 1\": -2.810611236157298}, {\"index\": 962, \"component 0\": -1.0325471075668853, \"component 1\": 0.6472702159171744}, {\"index\": 963, \"component 0\": -0.968728675462908, \"component 1\": 0.48364798862885655}, {\"index\": 964, \"component 0\": 6.20770738336656, \"component 1\": -5.250127047159034}, {\"index\": 965, \"component 0\": 0.06966318853634833, \"component 1\": -1.4220771054218049}, {\"index\": 966, \"component 0\": -0.05378592043266996, \"component 1\": -1.0716274001724508}, {\"index\": 967, \"component 0\": 0.11400941258436147, \"component 1\": -1.1047559557669195}, {\"index\": 968, \"component 0\": -0.9366534249380263, \"component 1\": 0.26167063777571115}, {\"index\": 969, \"component 0\": -1.1771978376936718, \"component 1\": 0.8760668603344082}, {\"index\": 970, \"component 0\": -1.0392933850361328, \"component 1\": 0.11763835577961135}, {\"index\": 971, \"component 0\": 6.300658012728038, \"component 1\": -3.779387531704184}, {\"index\": 972, \"component 0\": -0.8183644024380484, \"component 1\": 0.2895780302972118}, {\"index\": 973, \"component 0\": -0.9579679014502398, \"component 1\": 0.6467865963120787}, {\"index\": 974, \"component 0\": -0.9905724209235397, \"component 1\": 0.26462990920824564}, {\"index\": 975, \"component 0\": -0.9102395664471682, \"component 1\": 0.34364852000497587}, {\"index\": 976, \"component 0\": -0.7010080513970733, \"component 1\": 0.2721054265424904}, {\"index\": 977, \"component 0\": -0.908539187327818, \"component 1\": 0.162952444211084}, {\"index\": 978, \"component 0\": 0.48421783163199517, \"component 1\": -0.8900730151527023}, {\"index\": 979, \"component 0\": 2.612224833661088, \"component 1\": -3.313137225079683}, {\"index\": 980, \"component 0\": 1.2110978719854884, \"component 1\": -1.1333989015439767}, {\"index\": 981, \"component 0\": -1.0350838667177538, \"component 1\": 0.4552943815441273}, {\"index\": 982, \"component 0\": -0.9087539215594086, \"component 1\": 0.07645518474113178}, {\"index\": 983, \"component 0\": -0.1188407155084297, \"component 1\": 0.5713230787800343}, {\"index\": 984, \"component 0\": -0.47449708361022086, \"component 1\": 1.5268708639034179}, {\"index\": 985, \"component 0\": -0.8650102196198637, \"component 1\": 0.45278585253642595}, {\"index\": 986, \"component 0\": -0.9035384036631348, \"component 1\": 0.3269824957743897}, {\"index\": 987, \"component 0\": -1.0891234510297116, \"component 1\": 0.5972417274887102}, {\"index\": 988, \"component 0\": -0.9919843674729809, \"component 1\": 0.5721332709295651}, {\"index\": 989, \"component 0\": -1.1167953644247, \"component 1\": 0.6641510084188142}, {\"index\": 990, \"component 0\": 2.9208854877855606, \"component 1\": 6.128088524345508}, {\"index\": 991, \"component 0\": -0.4886844039610007, \"component 1\": 0.6770545629609106}, {\"index\": 992, \"component 0\": -0.9081097188646369, \"component 1\": 0.33594696315098854}, {\"index\": 993, \"component 0\": -0.9081097188646369, \"component 1\": 0.33594696315098854}, {\"index\": 994, \"component 0\": -0.9081097188646369, \"component 1\": 0.33594696315098854}, {\"index\": 995, \"component 0\": -1.2183795030321232, \"component 1\": 0.9137317795238333}, {\"index\": 996, \"component 0\": 0.17147618851322283, \"component 1\": -1.5802679735037535}, {\"index\": 997, \"component 0\": -1.1310662457675411, \"component 1\": 0.5894268946724246}, {\"index\": 998, \"component 0\": -0.9081097188646369, \"component 1\": 0.33594696315098854}, {\"index\": 999, \"component 0\": -0.9915560747750712, \"component 1\": 0.2051770490089409}, {\"index\": 1000, \"component 0\": 0.47842139903527686, \"component 1\": -3.232624825808875}, {\"index\": 1001, \"component 0\": -0.20466506125219755, \"component 1\": -1.3002407273297174}, {\"index\": 1002, \"component 0\": 0.07623847852463224, \"component 1\": -1.5829458709543796}, {\"index\": 1003, \"component 0\": 1.8002867445320614, \"component 1\": -3.451396590128766}, {\"index\": 1004, \"component 0\": 1.6752264462139408, \"component 1\": -2.086306756348677}, {\"index\": 1005, \"component 0\": 0.42994131204086106, \"component 1\": -2.0088841367521315}, {\"index\": 1006, \"component 0\": -1.0350838667177538, \"component 1\": 0.4552943815441273}, {\"index\": 1007, \"component 0\": -0.9112641703233281, \"component 1\": 0.2748497398030117}, {\"index\": 1008, \"component 0\": -0.5624547786717515, \"component 1\": 0.2601195564455621}, {\"index\": 1009, \"component 0\": -0.6449422264794905, \"component 1\": -0.11475767369917614}, {\"index\": 1010, \"component 0\": -1.0384344481097705, \"component 1\": 0.46362739365942046}, {\"index\": 1011, \"component 0\": -1.019587982316089, \"component 1\": 0.4626869289117063}, {\"index\": 1012, \"component 0\": 0.3712098749517167, \"component 1\": -1.9244546890200958}, {\"index\": 1013, \"component 0\": -1.1105485477823795, \"component 1\": 0.40881061561121473}, {\"index\": 1014, \"component 0\": 4.672799275209744, \"component 1\": 9.27957157124687}, {\"index\": 1015, \"component 0\": 0.03617110718006188, \"component 1\": -1.6140519492603744}, {\"index\": 1016, \"component 0\": -0.8813578412931755, \"component 1\": -0.23603210356876453}, {\"index\": 1017, \"component 0\": 24.09814264525817, \"component 1\": 11.973802306631555}, {\"index\": 1018, \"component 0\": 26.898615042013912, \"component 1\": 29.220792464298505}, {\"index\": 1019, \"component 0\": -0.6604639598733119, \"component 1\": 0.056396932610108676}, {\"index\": 1020, \"component 0\": -0.43120575988932935, \"component 1\": 0.39222836460148264}, {\"index\": 1021, \"component 0\": 0.5399148550337283, \"component 1\": -0.8961185092942219}, {\"index\": 1022, \"component 0\": 0.021620557473982203, \"component 1\": 1.5538706350751115}, {\"index\": 1023, \"component 0\": -0.825925715744653, \"component 1\": 0.48207631548702706}, {\"index\": 1024, \"component 0\": 13.504680646013453, \"component 1\": -0.12473444424884941}, {\"index\": 1025, \"component 0\": -0.45659450053314826, \"component 1\": 0.5263084516659038}, {\"index\": 1026, \"component 0\": -0.9915560747750712, \"component 1\": 0.2051770490089409}, {\"index\": 1027, \"component 0\": 2.2284298616972267, \"component 1\": 0.6076294406158307}, {\"index\": 1028, \"component 0\": -0.5242652356970806, \"component 1\": -0.49616775710414135}, {\"index\": 1029, \"component 0\": -0.8319434969331801, \"component 1\": -0.06629329804227346}, {\"index\": 1030, \"component 0\": -0.10921413131199224, \"component 1\": 1.535573600259427}, {\"index\": 1031, \"component 0\": -0.691365798567075, \"component 1\": -0.5021852237104137}, {\"index\": 1032, \"component 0\": -0.8120072388965771, \"component 1\": 0.009576232265158227}, {\"index\": 1033, \"component 0\": -0.4913172926109373, \"component 1\": 1.9495154303545146}, {\"index\": 1034, \"component 0\": 0.1558256986033657, \"component 1\": -0.2148731648278665}, {\"index\": 1035, \"component 0\": -0.6604639598733119, \"component 1\": 0.056396932610108676}, {\"index\": 1036, \"component 0\": -0.23707687724375537, \"component 1\": -1.1538192776389138}, {\"index\": 1037, \"component 0\": -0.09611530242686103, \"component 1\": -0.4237445107363343}, {\"index\": 1038, \"component 0\": 2.6752267719323246, \"component 1\": -0.6088179361900258}, {\"index\": 1039, \"component 0\": 0.6894942914078905, \"component 1\": -1.567809035111423}, {\"index\": 1040, \"component 0\": -1.0574259045089311, \"component 1\": 0.38434494340968833}, {\"index\": 1041, \"component 0\": -0.7907886891184464, \"component 1\": 0.18407736311854045}, {\"index\": 1042, \"component 0\": -0.9396640556665233, \"component 1\": -0.11982752452492396}, {\"index\": 1043, \"component 0\": -0.8636411404943815, \"component 1\": -0.054407657673806516}, {\"index\": 1044, \"component 0\": -0.4658317765198215, \"component 1\": -0.07414569350018918}, {\"index\": 1045, \"component 0\": -0.9668386717816034, \"component 1\": 0.3425621616287278}, {\"index\": 1046, \"component 0\": 1.8532015368924157, \"component 1\": -0.9271632103258491}, {\"index\": 1047, \"component 0\": -0.9083244530962274, \"component 1\": 0.24944970368103633}, {\"index\": 1048, \"component 0\": -0.896221051390832, \"component 1\": 0.48178242992587045}, {\"index\": 1049, \"component 0\": -0.8943957732601304, \"component 1\": 0.3090535610211919}, {\"index\": 1050, \"component 0\": -0.0954842055682432, \"component 1\": -1.0479920642060494}, {\"index\": 1051, \"component 0\": 2.4866604894129902, \"component 1\": 0.9181804201644324}, {\"index\": 1052, \"component 0\": -0.908539187327818, \"component 1\": 0.162952444211084}, {\"index\": 1053, \"component 0\": -0.35512402832915474, \"component 1\": -1.3470131829694425}, {\"index\": 1054, \"component 0\": 1.7236584293375405, \"component 1\": 4.957089297257046}, {\"index\": 1055, \"component 0\": 0.07963824088276987, \"component 1\": -1.5517983503275783}, {\"index\": 1056, \"component 0\": 4.594262684651767, \"component 1\": 0.16004027330746556}, {\"index\": 1057, \"component 0\": -0.8827209782208179, \"component 1\": 0.2018668760865679}, {\"index\": 1058, \"component 0\": -0.791954839269352, \"component 1\": -0.18760419363725578}, {\"index\": 1059, \"component 0\": -0.6604639598733119, \"component 1\": 0.056396932610108676}, {\"index\": 1060, \"component 0\": 1.755232736982403, \"component 1\": 0.35037964213766354}, {\"index\": 1061, \"component 0\": -1.169348670099233, \"component 1\": 0.818541859123082}, {\"index\": 1062, \"component 0\": -0.9081097188646369, \"component 1\": 0.33594696315098854}, {\"index\": 1063, \"component 0\": -0.9114603002566536, \"component 1\": 0.3442799752662817}, {\"index\": 1064, \"component 0\": -0.6978205302981049, \"component 1\": 0.24637752938478705}, {\"index\": 1065, \"component 0\": -1.02977710052436, \"component 1\": 0.45835449516681975}, {\"index\": 1066, \"component 0\": -0.599203110361466, \"component 1\": 0.6849886892136181}, {\"index\": 1067, \"component 0\": 6.910922330088022, \"component 1\": 1.6192345891098854}, {\"index\": 1068, \"component 0\": -0.915544443539059, \"component 1\": 0.5899144802678107}, {\"index\": 1069, \"component 0\": -0.8540467370087619, \"component 1\": 0.4276165120509304}, {\"index\": 1070, \"component 0\": -0.5524221825137914, \"component 1\": -1.119971154269507}, {\"index\": 1071, \"component 0\": -0.9211022147898045, \"component 1\": 0.40801882061302835}, {\"index\": 1072, \"component 0\": -0.9081097188646369, \"component 1\": 0.33594696315098854}, {\"index\": 1073, \"component 0\": 1.8255914037083212, \"component 1\": 1.8874779339411312}, {\"index\": 1074, \"component 0\": -0.7137631537212344, \"component 1\": -0.10458831737778009}, {\"index\": 1075, \"component 0\": -0.5648259491035952, \"component 1\": -0.3206141782335063}, {\"index\": 1076, \"component 0\": -1.0350838667177538, \"component 1\": 0.4552943815441273}, {\"index\": 1077, \"component 0\": -0.36405102509687254, \"component 1\": -1.0344718592457751}, {\"index\": 1078, \"component 0\": 4.687781736393913, \"component 1\": 2.4417544776709357}, {\"index\": 1079, \"component 0\": -1.0350838667177538, \"component 1\": 0.4552943815441273}, {\"index\": 1080, \"component 0\": -0.025357876301376554, \"component 1\": -1.9377896967442432}, {\"index\": 1081, \"component 0\": -1.0350838667177538, \"component 1\": 0.4552943815441273}, {\"index\": 1082, \"component 0\": -0.9081097188646369, \"component 1\": 0.33594696315098854}, {\"index\": 1083, \"component 0\": -0.11240228886917383, \"component 1\": -1.1969241938311799}, {\"index\": 1084, \"component 0\": -0.9114603002566536, \"component 1\": 0.3442799752662817}, {\"index\": 1085, \"component 0\": -0.9081097188646369, \"component 1\": 0.33594696315098854}, {\"index\": 1086, \"component 0\": -0.8379139752203859, \"component 1\": 0.19905295864247602}, {\"index\": 1087, \"component 0\": -0.9081097188646369, \"component 1\": 0.33594696315098854}, {\"index\": 1088, \"component 0\": -0.9956456165606845, \"component 1\": 0.3827014269594147}], \"data-1beac18e5e775cf76f2c052c7d1808cf\": [{\"variable\": \"excel\", \"component 0\": -0.007008064470290342, \"component 1\": 0.012843853049975242}, {\"variable\": \"r\", \"component 0\": 0.011472316498343963, \"component 1\": -0.016578675905840917}, {\"variable\": \"python\", \"component 0\": 0.051155094657621886, \"component 1\": -0.19907990067173403}, {\"variable\": \"logiciels\", \"component 0\": 0.375991577706951, \"component 1\": -0.3127678929907161}, {\"variable\": \"matlab\", \"component 0\": -0.0003466000104964182, \"component 1\": -0.10288333542133932}, {\"variable\": \"word\", \"component 0\": -0.11613602907646339, \"component 1\": 0.08044148761740758}, {\"variable\": \"donn\\u00e9es\", \"component 0\": 0.6513649484932685, \"component 1\": -0.1783715689610649}, {\"variable\": \"-\", \"component 0\": 0.02758378283193374, \"component 1\": -0.12863189775462816}, {\"variable\": \"qgis\", \"component 0\": -0.04923923486167128, \"component 1\": 0.06933761848472275}, {\"variable\": \"outils\", \"component 0\": 0.2535339296716966, \"component 1\": -0.3503637203570241}, {\"variable\": \"pour\", \"component 0\": 0.39821269273555765, \"component 1\": -0.20319465040812115}, {\"variable\": \"logiciel\", \"component 0\": 0.26693902626950855, \"component 1\": -0.18511220555554295}, {\"variable\": \"office\", \"component 0\": -0.08528481382975557, \"component 1\": 0.07145135924259366}, {\"variable\": \"par\", \"component 0\": 0.3753852849025738, \"component 1\": -0.11887170886187383}, {\"variable\": \"spss\", \"component 0\": -0.02486096328726081, \"component 1\": -0.018444906788143554}, {\"variable\": \";\", \"component 0\": 0.02145012050358278, \"component 1\": -0.09331203293108484}, {\"variable\": \"pas\", \"component 0\": 0.5332611128446788, \"component 1\": 0.6268108094147358}, {\"variable\": \"imagej\", \"component 0\": -0.008569945545222613, \"component 1\": 0.0027730104047060107}, {\"variable\": \"sas\", \"component 0\": -0.053918371823447525, \"component 1\": 0.018349725032303917}, {\"variable\": \"\\u00e0\", \"component 0\": 0.5835301385423682, \"component 1\": -0.10852192631283798}, {\"variable\": \"scripts\", \"component 0\": 0.07242369541054432, \"component 1\": -0.17961330013659535}, {\"variable\": \"/\", \"component 0\": 0.06400275807184039, \"component 1\": -0.0751714708455753}, {\"variable\": \"stata\", \"component 0\": -0.034070365364793825, \"component 1\": 0.019910922158271418}, {\"variable\": \"origin\", \"component 0\": 0.15771875919968653, \"component 1\": 0.08849051688429749}, {\"variable\": \"adobe\", \"component 0\": -0.03630299753993495, \"component 1\": 0.09385698679336625}, {\"variable\": \"j\", \"component 0\": 0.40884094845542446, \"component 1\": -0.06450095181931942}, {\"variable\": \"ne\", \"component 0\": 0.511665381017954, \"component 1\": 0.572454886009165}, {\"variable\": \"traitement\", \"component 0\": 0.15662810410924835, \"component 1\": -0.284546763123312}, {\"variable\": \"mes\", \"component 0\": 0.15915127374932966, \"component 1\": -0.12945271713176373}, {\"variable\": \"suite\", \"component 0\": -0.05566961276209998, \"component 1\": 0.08502212895727211}, {\"variable\": \"rstudio\", \"component 0\": 0.011006903122748143, \"component 1\": -0.01910429123277977}, {\"variable\": \"gnuplot\", \"component 0\": 0.08691445340415926, \"component 1\": -0.17051589307369544}, {\"variable\": \"l\", \"component 0\": 0.563892134581989, \"component 1\": 0.10179351038800157}, {\"variable\": \"etc\", \"component 0\": 0.09593562837051026, \"component 1\": -0.15802372424337313}, {\"variable\": \"avec\", \"component 0\": 0.4374615140864219, \"component 1\": -0.15400294776657147}, {\"variable\": \"analyse\", \"component 0\": 0.38618836166067827, \"component 1\": -0.3951719148589973}, {\"variable\": \"dans\", \"component 0\": 0.4264036957367521, \"component 1\": 0.2388667272270414}, {\"variable\": \"libreoffice\", \"component 0\": 0.011736245762859811, \"component 1\": 0.016254652781801007}, {\"variable\": \"nvivo\", \"component 0\": 0.024957277606424532, \"component 1\": 0.04985719076214448}, {\"variable\": \"microsoft\", \"component 0\": -0.04732171777802875, \"component 1\": 0.0814290555741944}, {\"variable\": \"maison\", \"component 0\": 0.07292034120001355, \"component 1\": -0.20374252568759496}, {\"variable\": \"question\", \"component 0\": 0.4660938635152658, \"component 1\": 0.3448803285099392}, {\"variable\": \"sig\", \"component 0\": 0.08506014174123955, \"component 1\": -0.020702236913039965}, {\"variable\": \"d\\u00e9velopp\\u00e9s\", \"component 0\": 0.12434683316713556, \"component 1\": -0.2144785477486143}, {\"variable\": \"iramuteq\", \"component 0\": 0.009550693096624286, \"component 1\": -0.05083240722920008}, {\"variable\": \"sur\", \"component 0\": 0.25797469308068405, \"component 1\": -0.09416692424231032}, {\"variable\": \"arcgis\", \"component 0\": -0.06573103942913623, \"component 1\": 0.046886356736445166}, {\"variable\": \"que\", \"component 0\": 0.37311088345113763, \"component 1\": -0.05680855933852232}, {\"variable\": \"aucun\", \"component 0\": 0.12967617210763133, \"component 1\": 0.107975625610689}, {\"variable\": \"illustrator\", \"component 0\": -0.022154443263049634, \"component 1\": 0.043206470772865616}, {\"variable\": \"propres\", \"component 0\": 0.07647403548205021, \"component 1\": -0.15633063870087435}, {\"variable\": \"un\", \"component 0\": 0.4049039408476006, \"component 1\": -0.03577687977676195}, {\"variable\": \"prism\", \"component 0\": 0.005144820418131684, \"component 1\": 0.03600888496650641}, {\"variable\": \"excell\", \"component 0\": -0.030110831816653028, \"component 1\": 0.05406462630745554}, {\"variable\": \"latex\", \"component 0\": -0.03619901345281546, \"component 1\": -0.04180349532145101}, {\"variable\": \"photoshop\", \"component 0\": -0.03942410637939604, \"component 1\": 0.029170805696006698}, {\"variable\": \")\", \"component 0\": 0.15015940075531806, \"component 1\": -0.3200907044112702}, {\"variable\": \"interne\", \"component 0\": 0.12429328136337574, \"component 1\": -0.14287866668860985}, {\"variable\": \"statistiques\", \"component 0\": 0.09973239701481305, \"component 1\": -0.09008441291104491}, {\"variable\": \"codes\", \"component 0\": 0.06690912489454202, \"component 1\": -0.16114409941639035}, {\"variable\": \"programmes\", \"component 0\": 0.045356796148181895, \"component 1\": -0.13303398024802648}, {\"variable\": \"gephi\", \"component 0\": -0.006832409741607394, \"component 1\": -0.00723516983438317}, {\"variable\": \"image\", \"component 0\": 0.185612776290685, \"component 1\": -0.19426833449902137}, {\"variable\": \"sphinx\", \"component 0\": -0.021665270238879868, \"component 1\": 0.018213508090152597}, {\"variable\": \"mathematica\", \"component 0\": -0.001792147818893034, \"component 1\": -0.025579193743103495}, {\"variable\": \"paraview\", \"component 0\": 0.02801879341377266, \"component 1\": -0.08065712785373702}, {\"variable\": \"sont\", \"component 0\": 0.5330110943278021, \"component 1\": 0.08698830251170653}, {\"variable\": \"powerpoint\", \"component 0\": -0.035491996479923335, \"component 1\": 0.06543577378054874}, {\"variable\": \"du\", \"component 0\": 0.3862720984063494, \"component 1\": -0.2631136869870165}, {\"variable\": \"texte\", \"component 0\": 0.05265285539936921, \"component 1\": -0.1434868256773231}, {\"variable\": \"openrefine\", \"component 0\": 0.02691099998461097, \"component 1\": -0.038673981332424966}, {\"variable\": \"graphpad\", \"component 0\": 0.09983452418491623, \"component 1\": -0.05545930151003672}, {\"variable\": \"open\", \"component 0\": -0.033764011529066364, \"component 1\": -0.007395471584097783}, {\"variable\": \"access\", \"component 0\": -0.001995225591842732, \"component 1\": 0.03799708813122749}, {\"variable\": \"visualisation\", \"component 0\": 0.2627452077546957, \"component 1\": -0.37254959898979007}, {\"variable\": \"est\", \"component 0\": 0.6825157223909813, \"component 1\": 0.3420061107949687}, {\"variable\": \"octave\", \"component 0\": 0.04398385544234273, \"component 1\": -0.10791437383704944}, {\"variable\": \"programmation\", \"component 0\": 0.03248452653024384, \"component 1\": -0.09215088143518653}, {\"variable\": \"studio\", \"component 0\": -0.006954021230482338, \"component 1\": -0.005746030176653383}, {\"variable\": \"sp\\u00e9cifiques\", \"component 0\": 0.11529885111245583, \"component 1\": -0.2362402602134257}, {\"variable\": \"filemaker\", \"component 0\": -0.05215099637151771, \"component 1\": 0.04350866553933015}, {\"variable\": \"limesurvey\", \"component 0\": -0.029639977386765198, \"component 1\": -0.024703415282863128}, {\"variable\": \"code\", \"component 0\": 0.060219288825592555, \"component 1\": -0.06186788747850002}, {\"variable\": \"matplotlib\", \"component 0\": 0.04380591812101834, \"component 1\": -0.14365218960473242}, {\"variable\": \"plus\", \"component 0\": 0.2348071871228125, \"component 1\": -0.07494475115557708}, {\"variable\": \"qui\", \"component 0\": 0.49923342200973586, \"component 1\": 0.38370797579434796}, {\"variable\": \"utilise\", \"component 0\": 0.308884743597579, \"component 1\": 0.025268025127250713}, {\"variable\": \"data\", \"component 0\": 0.02817663141181038, \"component 1\": -0.11114720560218523}, {\"variable\": \"tableur\", \"component 0\": 0.12309191421788111, \"component 1\": -0.10904949771440414}, {\"variable\": \"sonal\", \"component 0\": -0.03146869299207075, \"component 1\": 0.028743730019510232}, {\"variable\": \"n\", \"component 0\": 0.31592033013671716, \"component 1\": 0.17984386623275}, {\"variable\": \"une\", \"component 0\": 0.5661337750399804, \"component 1\": -0.2057741849530267}, {\"variable\": \"statistica\", \"component 0\": 0.09178237173631865, \"component 1\": -0.12673742414775346}, {\"variable\": \"outil\", \"component 0\": 0.20141670149602675, \"component 1\": -0.12410590966800332}, {\"variable\": \"calc\", \"component 0\": 0.04806964247265488, \"component 1\": -0.0013370862993079982}, {\"variable\": \"comprends\", \"component 0\": 0.11611580108161641, \"component 1\": 0.3655712291621048}, {\"variable\": \"alceste\", \"component 0\": -0.021629346353480947, \"component 1\": -0.01811333001781995}, {\"variable\": \"c\", \"component 0\": 0.33172644138251145, \"component 1\": 0.3780297131834812}, {\"variable\": \"sous\", \"component 0\": 0.17997580959035603, \"component 1\": -0.05833653405996459}, {\"variable\": \"software\", \"component 0\": -0.018163207019212414, \"component 1\": 0.010391361123321017}]}}, {\"mode\": \"vega-lite\"});\n",
       "</script>"
      ],
      "text/plain": [
       "alt.LayerChart(...)"
      ]
     },
     "execution_count": 84,
     "metadata": {},
     "output_type": "execute_result"
    }
   ],
   "source": [
    "acp.plot(matrice)"
   ]
  }
 ],
 "metadata": {
  "kernelspec": {
   "display_name": "Python 3 (ipykernel)",
   "language": "python",
   "name": "python3"
  },
  "language_info": {
   "codemirror_mode": {
    "name": "ipython",
    "version": 3
   },
   "file_extension": ".py",
   "mimetype": "text/x-python",
   "name": "python",
   "nbconvert_exporter": "python",
   "pygments_lexer": "ipython3",
   "version": "3.10.8"
  }
 },
 "nbformat": 4,
 "nbformat_minor": 5
}
