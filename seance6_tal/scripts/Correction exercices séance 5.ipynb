{
 "cells": [
  {
   "cell_type": "markdown",
   "id": "c152a31e",
   "metadata": {},
   "source": [
    "# Correction exercices séance 5"
   ]
  },
  {
   "cell_type": "markdown",
   "id": "245c7060",
   "metadata": {},
   "source": [
    "On utilise le jeu de données vu dans la séance 5"
   ]
  },
  {
   "cell_type": "code",
   "execution_count": 3,
   "id": "af910455",
   "metadata": {},
   "outputs": [
    {
     "data": {
      "text/html": [
       "<div>\n",
       "<style scoped>\n",
       "    .dataframe tbody tr th:only-of-type {\n",
       "        vertical-align: middle;\n",
       "    }\n",
       "\n",
       "    .dataframe tbody tr th {\n",
       "        vertical-align: top;\n",
       "    }\n",
       "\n",
       "    .dataframe thead th {\n",
       "        text-align: right;\n",
       "    }\n",
       "</style>\n",
       "<table border=\"1\" class=\"dataframe\">\n",
       "  <thead>\n",
       "    <tr style=\"text-align: right;\">\n",
       "      <th></th>\n",
       "      <th>Id</th>\n",
       "      <th>contexte_travail</th>\n",
       "      <th>fonction_recherche</th>\n",
       "      <th>statut_professionnel</th>\n",
       "      <th>statut_professionnel_Autre</th>\n",
       "      <th>annee_premiere_publi</th>\n",
       "      <th>Systeme_exploitation</th>\n",
       "      <th>Usage_telephone_mobile</th>\n",
       "      <th>Outils_gestion_travail_av_confinement_visioconférence</th>\n",
       "      <th>Outils_gestion_travail_av_confinement_planification_RDV</th>\n",
       "      <th>...</th>\n",
       "      <th>Souhait_partage_donnees_produites_discipline</th>\n",
       "      <th>Souhait_partage_donnees_produites_pays_continent</th>\n",
       "      <th>Souhait_partage_donnees_produites_domaine_economique</th>\n",
       "      <th>Souhait_partage_donnees_produites_secteur_associatif</th>\n",
       "      <th>Souhait_partage_donnees_produites_sans_restriction</th>\n",
       "      <th>compatibilite_diffusion_partage</th>\n",
       "      <th>evolutions_pratiques_numeriques</th>\n",
       "      <th>sexe</th>\n",
       "      <th>disciplines_9niv</th>\n",
       "      <th>annee_de_naissance-recod10niv</th>\n",
       "    </tr>\n",
       "  </thead>\n",
       "  <tbody>\n",
       "    <tr>\n",
       "      <th>0</th>\n",
       "      <td>1</td>\n",
       "      <td>nous sommes entre 6 et 10 personnes</td>\n",
       "      <td>professeur / professeure des universités et as...</td>\n",
       "      <td>fonctionnaire ou assimilé</td>\n",
       "      <td>NaN</td>\n",
       "      <td>1995</td>\n",
       "      <td>Windows</td>\n",
       "      <td>rarement</td>\n",
       "      <td>parfois</td>\n",
       "      <td>souvent</td>\n",
       "      <td>...</td>\n",
       "      <td>oui</td>\n",
       "      <td>oui</td>\n",
       "      <td>oui</td>\n",
       "      <td>oui</td>\n",
       "      <td>oui</td>\n",
       "      <td>oui</td>\n",
       "      <td>je ne sais pas</td>\n",
       "      <td>un homme</td>\n",
       "      <td>Sciences humaines</td>\n",
       "      <td>61 à 65 ans</td>\n",
       "    </tr>\n",
       "    <tr>\n",
       "      <th>1</th>\n",
       "      <td>2</td>\n",
       "      <td>nous sommes plus de 50 personnes</td>\n",
       "      <td>ingénieur / ingénieure de recherche</td>\n",
       "      <td>en CDI</td>\n",
       "      <td>NaN</td>\n",
       "      <td>2005</td>\n",
       "      <td>Windows</td>\n",
       "      <td>rarement</td>\n",
       "      <td>parfois</td>\n",
       "      <td>parfois</td>\n",
       "      <td>...</td>\n",
       "      <td>oui</td>\n",
       "      <td>oui</td>\n",
       "      <td>oui</td>\n",
       "      <td>oui</td>\n",
       "      <td>oui</td>\n",
       "      <td>NaN</td>\n",
       "      <td>NaN</td>\n",
       "      <td>un homme</td>\n",
       "      <td>Médecine</td>\n",
       "      <td>46 à 50 ans</td>\n",
       "    </tr>\n",
       "    <tr>\n",
       "      <th>2</th>\n",
       "      <td>3</td>\n",
       "      <td>nous sommes entre 2 et 5 personnes</td>\n",
       "      <td>maître / maîtresse de conférences et assimilés</td>\n",
       "      <td>fonctionnaire ou assimilé</td>\n",
       "      <td>NaN</td>\n",
       "      <td>2006</td>\n",
       "      <td>Windows</td>\n",
       "      <td>parfois</td>\n",
       "      <td>rarement</td>\n",
       "      <td>souvent</td>\n",
       "      <td>...</td>\n",
       "      <td>oui</td>\n",
       "      <td>oui</td>\n",
       "      <td>oui</td>\n",
       "      <td>oui</td>\n",
       "      <td>oui</td>\n",
       "      <td>oui, tout est dans la chronologie</td>\n",
       "      <td>non</td>\n",
       "      <td>un homme</td>\n",
       "      <td>Médecine</td>\n",
       "      <td>36 à 40 ans</td>\n",
       "    </tr>\n",
       "    <tr>\n",
       "      <th>3</th>\n",
       "      <td>4</td>\n",
       "      <td>nous sommes entre 2 et 5 personnes</td>\n",
       "      <td>directeur / directrice de recherche (CNRS, INS...</td>\n",
       "      <td>fonctionnaire ou assimilé</td>\n",
       "      <td>NaN</td>\n",
       "      <td>1989</td>\n",
       "      <td>Windows;autres OS (Android...)</td>\n",
       "      <td>souvent</td>\n",
       "      <td>rarement</td>\n",
       "      <td>souvent</td>\n",
       "      <td>...</td>\n",
       "      <td>oui</td>\n",
       "      <td>oui</td>\n",
       "      <td>non</td>\n",
       "      <td>non</td>\n",
       "      <td>non</td>\n",
       "      <td>Oui</td>\n",
       "      <td>Aucune idée</td>\n",
       "      <td>une femme</td>\n",
       "      <td>Médecine</td>\n",
       "      <td>56 à 60 ans</td>\n",
       "    </tr>\n",
       "    <tr>\n",
       "      <th>4</th>\n",
       "      <td>5</td>\n",
       "      <td>nous sommes entre 2 et 5 personnes</td>\n",
       "      <td>doctorant / doctorante (y compris CIFRE)</td>\n",
       "      <td>en CDD</td>\n",
       "      <td>NaN</td>\n",
       "      <td>2015</td>\n",
       "      <td>MacOS</td>\n",
       "      <td>souvent</td>\n",
       "      <td>rarement</td>\n",
       "      <td>parfois</td>\n",
       "      <td>...</td>\n",
       "      <td>oui</td>\n",
       "      <td>oui</td>\n",
       "      <td>oui</td>\n",
       "      <td>oui</td>\n",
       "      <td>oui</td>\n",
       "      <td>Oui</td>\n",
       "      <td>Oui</td>\n",
       "      <td>une femme</td>\n",
       "      <td>Médecine</td>\n",
       "      <td>31 à 35 ans</td>\n",
       "    </tr>\n",
       "  </tbody>\n",
       "</table>\n",
       "<p>5 rows × 131 columns</p>\n",
       "</div>"
      ],
      "text/plain": [
       "   Id                     contexte_travail  \\\n",
       "0   1  nous sommes entre 6 et 10 personnes   \n",
       "1   2     nous sommes plus de 50 personnes   \n",
       "2   3   nous sommes entre 2 et 5 personnes   \n",
       "3   4   nous sommes entre 2 et 5 personnes   \n",
       "4   5   nous sommes entre 2 et 5 personnes   \n",
       "\n",
       "                                  fonction_recherche  \\\n",
       "0  professeur / professeure des universités et as...   \n",
       "1                ingénieur / ingénieure de recherche   \n",
       "2     maître / maîtresse de conférences et assimilés   \n",
       "3  directeur / directrice de recherche (CNRS, INS...   \n",
       "4           doctorant / doctorante (y compris CIFRE)   \n",
       "\n",
       "        statut_professionnel statut_professionnel_Autre  annee_premiere_publi  \\\n",
       "0  fonctionnaire ou assimilé                        NaN                  1995   \n",
       "1                     en CDI                        NaN                  2005   \n",
       "2  fonctionnaire ou assimilé                        NaN                  2006   \n",
       "3  fonctionnaire ou assimilé                        NaN                  1989   \n",
       "4                     en CDD                        NaN                  2015   \n",
       "\n",
       "             Systeme_exploitation Usage_telephone_mobile  \\\n",
       "0                         Windows               rarement   \n",
       "1                         Windows               rarement   \n",
       "2                         Windows                parfois   \n",
       "3  Windows;autres OS (Android...)                souvent   \n",
       "4                           MacOS                souvent   \n",
       "\n",
       "  Outils_gestion_travail_av_confinement_visioconférence  \\\n",
       "0                                            parfois      \n",
       "1                                            parfois      \n",
       "2                                           rarement      \n",
       "3                                           rarement      \n",
       "4                                           rarement      \n",
       "\n",
       "  Outils_gestion_travail_av_confinement_planification_RDV  ...  \\\n",
       "0                                            souvent       ...   \n",
       "1                                            parfois       ...   \n",
       "2                                            souvent       ...   \n",
       "3                                            souvent       ...   \n",
       "4                                            parfois       ...   \n",
       "\n",
       "  Souhait_partage_donnees_produites_discipline  \\\n",
       "0                                          oui   \n",
       "1                                          oui   \n",
       "2                                          oui   \n",
       "3                                          oui   \n",
       "4                                          oui   \n",
       "\n",
       "  Souhait_partage_donnees_produites_pays_continent  \\\n",
       "0                                              oui   \n",
       "1                                              oui   \n",
       "2                                              oui   \n",
       "3                                              oui   \n",
       "4                                              oui   \n",
       "\n",
       "  Souhait_partage_donnees_produites_domaine_economique  \\\n",
       "0                                                oui     \n",
       "1                                                oui     \n",
       "2                                                oui     \n",
       "3                                                non     \n",
       "4                                                oui     \n",
       "\n",
       "  Souhait_partage_donnees_produites_secteur_associatif  \\\n",
       "0                                                oui     \n",
       "1                                                oui     \n",
       "2                                                oui     \n",
       "3                                                non     \n",
       "4                                                oui     \n",
       "\n",
       "  Souhait_partage_donnees_produites_sans_restriction  \\\n",
       "0                                                oui   \n",
       "1                                                oui   \n",
       "2                                                oui   \n",
       "3                                                non   \n",
       "4                                                oui   \n",
       "\n",
       "     compatibilite_diffusion_partage evolutions_pratiques_numeriques  \\\n",
       "0                                oui                  je ne sais pas   \n",
       "1                                NaN                             NaN   \n",
       "2  oui, tout est dans la chronologie                             non   \n",
       "3                                Oui                     Aucune idée   \n",
       "4                                Oui                             Oui   \n",
       "\n",
       "        sexe   disciplines_9niv annee_de_naissance-recod10niv  \n",
       "0   un homme  Sciences humaines                   61 à 65 ans  \n",
       "1   un homme           Médecine                   46 à 50 ans  \n",
       "2   un homme           Médecine                   36 à 40 ans  \n",
       "3  une femme           Médecine                   56 à 60 ans  \n",
       "4  une femme           Médecine                   31 à 35 ans  \n",
       "\n",
       "[5 rows x 131 columns]"
      ]
     },
     "execution_count": 3,
     "metadata": {},
     "output_type": "execute_result"
    }
   ],
   "source": [
    "import pandas as pd\n",
    "data = pd.read_csv(\"../../Séance 5/data/SOSP_Export_base de données diffusable.csv\")\n",
    "data.head()"
   ]
  },
  {
   "cell_type": "markdown",
   "id": "3c02fd3d",
   "metadata": {},
   "source": [
    "## Exercice 1 : manipulations\n",
    "\n",
    "Avec Pandas, faire quelques manipulations\n",
    "\n",
    "- combien de répondants ont publié leur premier article avant 1980 ?\n",
    "- regarder la distribution de genre (proportion homme/femme) pour les répondants qui appartiennent aux sciences sociales (variable `disciplines_9niv`)\n",
    "- faire un diagramme circulaire avec la variable `sexe`\n",
    "- faire un histogramme avec la variable `annee_premiere_publi`"
   ]
  },
  {
   "cell_type": "code",
   "execution_count": 6,
   "id": "9e2c3075",
   "metadata": {},
   "outputs": [
    {
     "data": {
      "text/plain": [
       "18"
      ]
     },
     "execution_count": 6,
     "metadata": {},
     "output_type": "execute_result"
    }
   ],
   "source": [
    "(data[\"annee_premiere_publi\"]<=1980).sum()"
   ]
  },
  {
   "cell_type": "code",
   "execution_count": 12,
   "id": "9d4fcc87",
   "metadata": {},
   "outputs": [
    {
     "data": {
      "text/plain": [
       "une femme                      78\n",
       "un homme                       75\n",
       "je ne souhaite pas répondre     8\n",
       "Name: sexe, dtype: int64"
      ]
     },
     "execution_count": 12,
     "metadata": {},
     "output_type": "execute_result"
    }
   ],
   "source": [
    "data[data[\"disciplines_9niv\"]==\"Sciences sociales\"][\"sexe\"].value_counts()"
   ]
  },
  {
   "cell_type": "code",
   "execution_count": 19,
   "id": "2383deab",
   "metadata": {},
   "outputs": [
    {
     "data": {
      "text/plain": [
       "<AxesSubplot:ylabel='sexe'>"
      ]
     },
     "execution_count": 19,
     "metadata": {},
     "output_type": "execute_result"
    },
    {
     "data": {
      "image/png": "[encoded data removed]",
      "text/plain": [
       "<Figure size 640x480 with 1 Axes>"
      ]
     },
     "metadata": {},
     "output_type": "display_data"
    }
   ],
   "source": [
    "data[\"sexe\"].value_counts().plot(kind=\"pie\")"
   ]
  },
  {
   "cell_type": "code",
   "execution_count": 23,
   "id": "11966e34",
   "metadata": {},
   "outputs": [
    {
     "data": {
      "text/plain": [
       "<AxesSubplot:ylabel='Frequency'>"
      ]
     },
     "execution_count": 23,
     "metadata": {},
     "output_type": "execute_result"
    },
    {
     "data": {
      "image/png": "[encoded data removed]",
      "text/plain": [
       "<Figure size 640x480 with 1 Axes>"
      ]
     },
     "metadata": {},
     "output_type": "display_data"
    }
   ],
   "source": [
    "data[\"annee_premiere_publi\"].plot(kind=\"hist\",bins=5)"
   ]
  },
  {
   "cell_type": "markdown",
   "id": "619b0647",
   "metadata": {},
   "source": [
    "## Exercice 2 : tableau croisé\n",
    "\n",
    "La méthode crosstab de Pandas permet de faire un tableau croisé\n",
    "\n",
    "- faite le tableau croisé entre la variable discipline et la variable genre\n",
    "- calculez les pourcentages par ligne\n",
    "- regarder la représentation produite par plot"
   ]
  },
  {
   "cell_type": "code",
   "execution_count": 29,
   "id": "a3b64cf0",
   "metadata": {},
   "outputs": [],
   "source": [
    "tableau = pd.crosstab(data[\"sexe\"],data[\"disciplines_9niv\"])"
   ]
  },
  {
   "cell_type": "code",
   "execution_count": 32,
   "id": "57ba3216",
   "metadata": {},
   "outputs": [],
   "source": [
    "tableau.columns = ['Chimie, Matériaux', 'Lettres et Arts', 'Mathématiques, Informatiques',\n",
    "       'Médecine', \"Physique\",\n",
    "       \"Science de l'ingénieur\", 'Sciences du vivant', 'Sciences humaines',\n",
    "       'Sciences sociales']"
   ]
  },
  {
   "cell_type": "code",
   "execution_count": 33,
   "id": "2792b7a7",
   "metadata": {},
   "outputs": [
    {
     "data": {
      "text/html": [
       "<div>\n",
       "<style scoped>\n",
       "    .dataframe tbody tr th:only-of-type {\n",
       "        vertical-align: middle;\n",
       "    }\n",
       "\n",
       "    .dataframe tbody tr th {\n",
       "        vertical-align: top;\n",
       "    }\n",
       "\n",
       "    .dataframe thead th {\n",
       "        text-align: right;\n",
       "    }\n",
       "</style>\n",
       "<table border=\"1\" class=\"dataframe\">\n",
       "  <thead>\n",
       "    <tr style=\"text-align: right;\">\n",
       "      <th></th>\n",
       "      <th>Chimie, Matériaux</th>\n",
       "      <th>Lettres et Arts</th>\n",
       "      <th>Mathématiques, Informatiques</th>\n",
       "      <th>Médecine</th>\n",
       "      <th>Physique</th>\n",
       "      <th>Science de l'ingénieur</th>\n",
       "      <th>Sciences du vivant</th>\n",
       "      <th>Sciences humaines</th>\n",
       "      <th>Sciences sociales</th>\n",
       "    </tr>\n",
       "    <tr>\n",
       "      <th>sexe</th>\n",
       "      <th></th>\n",
       "      <th></th>\n",
       "      <th></th>\n",
       "      <th></th>\n",
       "      <th></th>\n",
       "      <th></th>\n",
       "      <th></th>\n",
       "      <th></th>\n",
       "      <th></th>\n",
       "    </tr>\n",
       "  </thead>\n",
       "  <tbody>\n",
       "    <tr>\n",
       "      <th>je ne souhaite pas répondre</th>\n",
       "      <td>3</td>\n",
       "      <td>1</td>\n",
       "      <td>8</td>\n",
       "      <td>1</td>\n",
       "      <td>3</td>\n",
       "      <td>2</td>\n",
       "      <td>5</td>\n",
       "      <td>12</td>\n",
       "      <td>8</td>\n",
       "    </tr>\n",
       "    <tr>\n",
       "      <th>un homme</th>\n",
       "      <td>30</td>\n",
       "      <td>30</td>\n",
       "      <td>64</td>\n",
       "      <td>25</td>\n",
       "      <td>54</td>\n",
       "      <td>46</td>\n",
       "      <td>84</td>\n",
       "      <td>147</td>\n",
       "      <td>75</td>\n",
       "    </tr>\n",
       "    <tr>\n",
       "      <th>une femme</th>\n",
       "      <td>26</td>\n",
       "      <td>27</td>\n",
       "      <td>66</td>\n",
       "      <td>28</td>\n",
       "      <td>46</td>\n",
       "      <td>43</td>\n",
       "      <td>49</td>\n",
       "      <td>115</td>\n",
       "      <td>78</td>\n",
       "    </tr>\n",
       "  </tbody>\n",
       "</table>\n",
       "</div>"
      ],
      "text/plain": [
       "                             Chimie, Matériaux  Lettres et Arts  \\\n",
       "sexe                                                              \n",
       "je ne souhaite pas répondre                  3                1   \n",
       "un homme                                    30               30   \n",
       "une femme                                   26               27   \n",
       "\n",
       "                             Mathématiques, Informatiques  Médecine  Physique  \\\n",
       "sexe                                                                            \n",
       "je ne souhaite pas répondre                             8         1         3   \n",
       "un homme                                               64        25        54   \n",
       "une femme                                              66        28        46   \n",
       "\n",
       "                             Science de l'ingénieur  Sciences du vivant  \\\n",
       "sexe                                                                      \n",
       "je ne souhaite pas répondre                       2                   5   \n",
       "un homme                                         46                  84   \n",
       "une femme                                        43                  49   \n",
       "\n",
       "                             Sciences humaines  Sciences sociales  \n",
       "sexe                                                               \n",
       "je ne souhaite pas répondre                 12                  8  \n",
       "un homme                                   147                 75  \n",
       "une femme                                  115                 78  "
      ]
     },
     "execution_count": 33,
     "metadata": {},
     "output_type": "execute_result"
    }
   ],
   "source": [
    "tableau"
   ]
  },
  {
   "cell_type": "code",
   "execution_count": 37,
   "id": "beca75e0",
   "metadata": {},
   "outputs": [
    {
     "data": {
      "text/html": [
       "<div>\n",
       "<style scoped>\n",
       "    .dataframe tbody tr th:only-of-type {\n",
       "        vertical-align: middle;\n",
       "    }\n",
       "\n",
       "    .dataframe tbody tr th {\n",
       "        vertical-align: top;\n",
       "    }\n",
       "\n",
       "    .dataframe thead th {\n",
       "        text-align: right;\n",
       "    }\n",
       "</style>\n",
       "<table border=\"1\" class=\"dataframe\">\n",
       "  <thead>\n",
       "    <tr style=\"text-align: right;\">\n",
       "      <th>disciplines_9niv</th>\n",
       "      <th>Chimie, Matériaux</th>\n",
       "      <th>Lettres et Arts</th>\n",
       "      <th>Mathématiques, Informatiques</th>\n",
       "      <th>Médecine</th>\n",
       "      <th>Physique, Sciences de la terre et de l'Univers</th>\n",
       "      <th>Science de l'ingénieur</th>\n",
       "      <th>Sciences du vivant</th>\n",
       "      <th>Sciences humaines</th>\n",
       "      <th>Sciences sociales</th>\n",
       "    </tr>\n",
       "    <tr>\n",
       "      <th>sexe</th>\n",
       "      <th></th>\n",
       "      <th></th>\n",
       "      <th></th>\n",
       "      <th></th>\n",
       "      <th></th>\n",
       "      <th></th>\n",
       "      <th></th>\n",
       "      <th></th>\n",
       "      <th></th>\n",
       "    </tr>\n",
       "  </thead>\n",
       "  <tbody>\n",
       "    <tr>\n",
       "      <th>je ne souhaite pas répondre</th>\n",
       "      <td>6.98</td>\n",
       "      <td>2.33</td>\n",
       "      <td>18.60</td>\n",
       "      <td>2.33</td>\n",
       "      <td>6.98</td>\n",
       "      <td>4.65</td>\n",
       "      <td>11.63</td>\n",
       "      <td>27.91</td>\n",
       "      <td>18.60</td>\n",
       "    </tr>\n",
       "    <tr>\n",
       "      <th>un homme</th>\n",
       "      <td>5.41</td>\n",
       "      <td>5.41</td>\n",
       "      <td>11.53</td>\n",
       "      <td>4.50</td>\n",
       "      <td>9.73</td>\n",
       "      <td>8.29</td>\n",
       "      <td>15.14</td>\n",
       "      <td>26.49</td>\n",
       "      <td>13.51</td>\n",
       "    </tr>\n",
       "    <tr>\n",
       "      <th>une femme</th>\n",
       "      <td>5.44</td>\n",
       "      <td>5.65</td>\n",
       "      <td>13.81</td>\n",
       "      <td>5.86</td>\n",
       "      <td>9.62</td>\n",
       "      <td>9.00</td>\n",
       "      <td>10.25</td>\n",
       "      <td>24.06</td>\n",
       "      <td>16.32</td>\n",
       "    </tr>\n",
       "  </tbody>\n",
       "</table>\n",
       "</div>"
      ],
      "text/plain": [
       "disciplines_9niv             Chimie, Matériaux  Lettres et Arts  \\\n",
       "sexe                                                              \n",
       "je ne souhaite pas répondre               6.98             2.33   \n",
       "un homme                                  5.41             5.41   \n",
       "une femme                                 5.44             5.65   \n",
       "\n",
       "disciplines_9niv             Mathématiques, Informatiques  Médecine  \\\n",
       "sexe                                                                  \n",
       "je ne souhaite pas répondre                         18.60      2.33   \n",
       "un homme                                            11.53      4.50   \n",
       "une femme                                           13.81      5.86   \n",
       "\n",
       "disciplines_9niv             Physique, Sciences de la terre et de l'Univers  \\\n",
       "sexe                                                                          \n",
       "je ne souhaite pas répondre                                            6.98   \n",
       "un homme                                                               9.73   \n",
       "une femme                                                              9.62   \n",
       "\n",
       "disciplines_9niv             Science de l'ingénieur  Sciences du vivant  \\\n",
       "sexe                                                                      \n",
       "je ne souhaite pas répondre                    4.65               11.63   \n",
       "un homme                                       8.29               15.14   \n",
       "une femme                                      9.00               10.25   \n",
       "\n",
       "disciplines_9niv             Sciences humaines  Sciences sociales  \n",
       "sexe                                                               \n",
       "je ne souhaite pas répondre              27.91              18.60  \n",
       "un homme                                 26.49              13.51  \n",
       "une femme                                24.06              16.32  "
      ]
     },
     "execution_count": 37,
     "metadata": {},
     "output_type": "execute_result"
    }
   ],
   "source": [
    "round(100*pd.crosstab(data[\"sexe\"],data[\"disciplines_9niv\"],normalize=\"index\"),2)"
   ]
  },
  {
   "cell_type": "code",
   "execution_count": 40,
   "id": "53ad8790",
   "metadata": {},
   "outputs": [
    {
     "name": "stderr",
     "output_type": "stream",
     "text": [
      "/var/folders/0b/gc4xjfv921z5v__d9vs4ysp40000gn/T/ipykernel_83434/3192744509.py:1: FutureWarning: As the xlwt package is no longer maintained, the xlwt engine will be removed in a future version of pandas. This is the only engine in pandas that supports writing in the xls format. Install openpyxl and write to an xlsx file instead. You can set the option io.excel.xls.writer to 'xlwt' to silence this warning. While this option is deprecated and will also raise a warning, it can be globally set and the warning suppressed.\n",
      "  tableau.to_excel(\"mon_tableau.xls\")\n"
     ]
    }
   ],
   "source": [
    "tableau.to_excel(\"mon_tableau.xls\")"
   ]
  },
  {
   "cell_type": "code",
   "execution_count": 44,
   "id": "44185dc0",
   "metadata": {},
   "outputs": [
    {
     "data": {
      "text/plain": [
       "<AxesSubplot:>"
      ]
     },
     "execution_count": 44,
     "metadata": {},
     "output_type": "execute_result"
    },
    {
     "data": {
      "image/png": "[encoded data removed]",
      "text/plain": [
       "<Figure size 640x480 with 1 Axes>"
      ]
     },
     "metadata": {},
     "output_type": "display_data"
    }
   ],
   "source": [
    "tableau.T.plot(kind=\"bar\")"
   ]
  },
  {
   "cell_type": "markdown",
   "id": "d532a147",
   "metadata": {},
   "source": [
    "## Exercice 3 : recodage\n",
    "\n",
    "- recoder la variable quantitative `annee_premiere_publi` en variable qualitative de trois intervalles avec comme séparateur 1980 et 2010.\n",
    "- recoder la variable discipline pour créer une catégorie SHS qui regroupe les sciences humaines et les sciences sociales\n",
    "- recoder la variable `Systeme_exploitation` en trois variables vrai/faux pour chaque système d'exploitation"
   ]
  },
  {
   "cell_type": "markdown",
   "id": "e41d21e7",
   "metadata": {},
   "source": [
    "Avec Pandas (méthode dédiée)"
   ]
  },
  {
   "cell_type": "code",
   "execution_count": 49,
   "id": "9b07a201",
   "metadata": {},
   "outputs": [
    {
     "data": {
      "text/plain": [
       "0       1980-2010\n",
       "1       1980-2010\n",
       "2       1980-2010\n",
       "3       1980-2010\n",
       "4           >2010\n",
       "          ...    \n",
       "1084    1980-2010\n",
       "1085    1980-2010\n",
       "1086    1980-2010\n",
       "1087    1980-2010\n",
       "1088        >2010\n",
       "Name: annee_premiere_publi, Length: 1089, dtype: category\n",
       "Categories (3, object): ['<1980' < '1980-2010' < '>2010']"
      ]
     },
     "execution_count": 49,
     "metadata": {},
     "output_type": "execute_result"
    }
   ],
   "source": [
    "pd.cut(data[\"annee_premiere_publi\"],[1900,1980,2010,2023],labels = [\"<1980\",\"1980-2010\",\">2010\"])"
   ]
  },
  {
   "cell_type": "markdown",
   "id": "80e41b71",
   "metadata": {},
   "source": [
    "A la main"
   ]
  },
  {
   "cell_type": "code",
   "execution_count": 50,
   "id": "1e5a734d",
   "metadata": {},
   "outputs": [
    {
     "data": {
      "text/plain": [
       "0       1980-2010\n",
       "1       1980-2010\n",
       "2       1980-2010\n",
       "3       1980-2010\n",
       "4           >2010\n",
       "          ...    \n",
       "1084    1980-2010\n",
       "1085    1980-2010\n",
       "1086    1980-2010\n",
       "1087    1980-2010\n",
       "1088        >2010\n",
       "Name: annee_premiere_publi, Length: 1089, dtype: object"
      ]
     },
     "execution_count": 50,
     "metadata": {},
     "output_type": "execute_result"
    }
   ],
   "source": [
    "def recodage(cellule):\n",
    "    if cellule < 1980:\n",
    "        return \"<1980\"\n",
    "    if cellule < 2010:\n",
    "        return \"1980-2010\"\n",
    "    else:\n",
    "        return \">2010\"\n",
    "data[\"annee_premiere_publi\"].apply(recodage)"
   ]
  },
  {
   "cell_type": "markdown",
   "id": "0bad78fa",
   "metadata": {},
   "source": [
    "Recoder une variable catégorielle"
   ]
  },
  {
   "cell_type": "code",
   "execution_count": 51,
   "id": "724fa549",
   "metadata": {},
   "outputs": [
    {
     "data": {
      "text/plain": [
       "array(['Sciences humaines', 'Médecine', 'Mathématiques, Informatiques',\n",
       "       'Sciences du vivant', 'Sciences sociales', 'Lettres et Arts',\n",
       "       'Chimie, Matériaux', \"Science de l'ingénieur\",\n",
       "       \"Physique, Sciences de la terre et de l'Univers\", nan],\n",
       "      dtype=object)"
      ]
     },
     "execution_count": 51,
     "metadata": {},
     "output_type": "execute_result"
    }
   ],
   "source": [
    "data[\"disciplines_9niv\"].unique()"
   ]
  },
  {
   "cell_type": "code",
   "execution_count": 53,
   "id": "6ae01a8f",
   "metadata": {},
   "outputs": [],
   "source": [
    "dic_recodage = {'Sciences humaines':\"SHS\",'Sciences sociales':\"SHS\"}\n",
    "data[\"disciplines_9niv\"] = data[\"disciplines_9niv\"].replace(dic_recodage)"
   ]
  },
  {
   "cell_type": "code",
   "execution_count": 57,
   "id": "9bb86eb0",
   "metadata": {},
   "outputs": [],
   "source": [
    "data[\"utilise_windows\"] = data[\"Systeme_exploitation\"].str.contains(\"Windows\")\n",
    "data[\"utilise_linux\"] = data[\"Systeme_exploitation\"].str.contains(\"Linux|Unix\")\n",
    "data[\"utilise_mac\"] = data[\"Systeme_exploitation\"].str.contains(\"MacOS\")"
   ]
  },
  {
   "cell_type": "code",
   "execution_count": 61,
   "id": "d85efe92",
   "metadata": {},
   "outputs": [
    {
     "data": {
      "text/html": [
       "<div>\n",
       "<style scoped>\n",
       "    .dataframe tbody tr th:only-of-type {\n",
       "        vertical-align: middle;\n",
       "    }\n",
       "\n",
       "    .dataframe tbody tr th {\n",
       "        vertical-align: top;\n",
       "    }\n",
       "\n",
       "    .dataframe thead th {\n",
       "        text-align: right;\n",
       "    }\n",
       "</style>\n",
       "<table border=\"1\" class=\"dataframe\">\n",
       "  <thead>\n",
       "    <tr style=\"text-align: right;\">\n",
       "      <th>utilise_linux</th>\n",
       "      <th>False</th>\n",
       "      <th>True</th>\n",
       "    </tr>\n",
       "    <tr>\n",
       "      <th>sexe</th>\n",
       "      <th></th>\n",
       "      <th></th>\n",
       "    </tr>\n",
       "  </thead>\n",
       "  <tbody>\n",
       "    <tr>\n",
       "      <th>je ne souhaite pas répondre</th>\n",
       "      <td>0.727273</td>\n",
       "      <td>0.272727</td>\n",
       "    </tr>\n",
       "    <tr>\n",
       "      <th>un homme</th>\n",
       "      <td>0.711504</td>\n",
       "      <td>0.288496</td>\n",
       "    </tr>\n",
       "    <tr>\n",
       "      <th>une femme</th>\n",
       "      <td>0.683333</td>\n",
       "      <td>0.316667</td>\n",
       "    </tr>\n",
       "  </tbody>\n",
       "</table>\n",
       "</div>"
      ],
      "text/plain": [
       "utilise_linux                   False     True \n",
       "sexe                                           \n",
       "je ne souhaite pas répondre  0.727273  0.272727\n",
       "un homme                     0.711504  0.288496\n",
       "une femme                    0.683333  0.316667"
      ]
     },
     "execution_count": 61,
     "metadata": {},
     "output_type": "execute_result"
    }
   ],
   "source": [
    "pd.crosstab(data[\"sexe\"],data[\"utilise_linux\"],normalize=\"index\")"
   ]
  },
  {
   "cell_type": "markdown",
   "id": "1a299d59",
   "metadata": {},
   "source": [
    "## Exercice 4 : visualisation avancée\n",
    "\n",
    "Proposer une visualisation qui permet de regarder la distribution de l'âge de la première publi en fonction du système d'exploitation qu'ils utilisent"
   ]
  },
  {
   "cell_type": "markdown",
   "id": "9ac9d54d",
   "metadata": {},
   "source": [
    "Par exemple, on fait trois graphes les uns sous les autres"
   ]
  },
  {
   "cell_type": "code",
   "execution_count": 77,
   "id": "9ebfaea8",
   "metadata": {},
   "outputs": [
    {
     "data": {
      "image/png": "[encoded data removed]",
      "text/plain": [
       "<Figure size 800x300 with 3 Axes>"
      ]
     },
     "metadata": {},
     "output_type": "display_data"
    }
   ],
   "source": [
    "import matplotlib.pyplot as plt\n",
    "\n",
    "fig, ax = plt.subplots(3,1,figsize=(8,3),sharex=True)\n",
    "\n",
    "data[data[\"utilise_windows\"]][\"annee_premiere_publi\"].hist(ax=ax[0])\n",
    "data[data[\"utilise_linux\"]][\"annee_premiere_publi\"].hist(ax=ax[1])\n",
    "data[data[\"utilise_mac\"]][\"annee_premiere_publi\"].hist(ax=ax[2])\n",
    "plt.tight_layout()"
   ]
  },
  {
   "cell_type": "markdown",
   "id": "a5ee4756",
   "metadata": {},
   "source": [
    "## Exercice Bonus : la méthode groupby\n",
    "\n",
    "Regardez la documentation de la méthode groupby d'un tableau Pandas et utilisez là pour calculer l'âge moyen de première publication par discipline en une seule ligne de code."
   ]
  },
  {
   "cell_type": "code",
   "execution_count": null,
   "id": "90baa1d0",
   "metadata": {},
   "outputs": [],
   "source": [
    "data[\"annee_premiere_publi\"]"
   ]
  },
  {
   "cell_type": "code",
   "execution_count": 64,
   "id": "15d5918f",
   "metadata": {},
   "outputs": [
    {
     "data": {
      "text/plain": [
       "disciplines_9niv\n",
       "Chimie, Matériaux                                 2004.000000\n",
       "Lettres et Arts                                   2003.344828\n",
       "Mathématiques, Informatiques                      2003.434783\n",
       "Médecine                                          2005.259259\n",
       "Physique, Sciences de la terre et de l'Univers    1998.873786\n",
       "SHS                                               2006.027586\n",
       "Science de l'ingénieur                            2005.329670\n",
       "Sciences du vivant                                2001.586957\n",
       "Name: annee_premiere_publi, dtype: float64"
      ]
     },
     "execution_count": 64,
     "metadata": {},
     "output_type": "execute_result"
    }
   ],
   "source": [
    "data.groupby(\"disciplines_9niv\")[\"annee_premiere_publi\"].mean().to_csv(\"résultats.csv\")"
   ]
  },
  {
   "cell_type": "code",
   "execution_count": null,
   "id": "32e05f0f",
   "metadata": {},
   "outputs": [],
   "source": []
  },
  {
   "cell_type": "code",
   "execution_count": null,
   "id": "d37b2584",
   "metadata": {},
   "outputs": [],
   "source": []
  },
  {
   "cell_type": "code",
   "execution_count": null,
   "id": "d70569a5",
   "metadata": {},
   "outputs": [],
   "source": []
  }
 ],
 "metadata": {
  "kernelspec": {
   "display_name": "Python 3 (ipykernel)",
   "language": "python",
   "name": "python3"
  },
  "language_info": {
   "codemirror_mode": {
    "name": "ipython",
    "version": 3
   },
   "file_extension": ".py",
   "mimetype": "text/x-python",
   "name": "python",
   "nbconvert_exporter": "python",
   "pygments_lexer": "ipython3",
   "version": "3.10.8"
  }
 },
 "nbformat": 4,
 "nbformat_minor": 5
}
